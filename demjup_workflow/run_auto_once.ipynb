{
 "cells": [
  {
   "cell_type": "markdown",
   "metadata": {},
   "source": [
    "# Run demeter scripts from jupyter\n",
    "\n",
    "This notebook shows how the perl scripts can run using jupyter as the interface"
   ]
  },
  {
   "cell_type": "markdown",
   "metadata": {},
   "source": [
    "## Import required libraries"
   ]
  },
  {
   "cell_type": "code",
   "execution_count": 1,
   "metadata": {},
   "outputs": [],
   "source": [
    "# dem runner executes the perl scripts\n",
    "import lib.demeter_runner as dem_runner"
   ]
  },
  {
   "cell_type": "markdown",
   "metadata": {},
   "source": [
    "## Create Athena Project (XAS Workflow Task 1)\n",
    "\n",
    "The first task creates athena project and normalises data. This task  has three subtasks which are: import data, normalise and save athena project."
   ]
  },
  {
   "cell_type": "code",
   "execution_count": 2,
   "metadata": {},
   "outputs": [
    {
     "data": {
      "text/plain": [
       "True"
      ]
     },
     "execution_count": 2,
     "metadata": {},
     "output_type": "execute_result"
    }
   ],
   "source": [
    "# input parameters for task 1\n",
    "data_file = 'fes2_rt01_mar02.xmu'\n",
    "group_name = 'fes2_rt01_mar02_xmu'\n",
    "athena_file = 'fes2_demjup.prj'\n",
    "auto_flag = 'Y'\n",
    "\n",
    "# run automatically using the default parameters\n",
    "dem_runner.run_task_01(data_file, group_name, athena_file, auto_flag)"
   ]
  },
  {
   "cell_type": "markdown",
   "metadata": {},
   "source": [
    "## Curve fitting (XAS Workflow Task 2)\n",
    "\n",
    "The second task performs curve fitting and saves the results as an artemis project. \n"
   ]
  },
  {
   "cell_type": "code",
   "execution_count": 3,
   "metadata": {},
   "outputs": [
    {
     "data": {
      "text/plain": [
       "True"
      ]
     },
     "execution_count": 3,
     "metadata": {},
     "output_type": "execute_result"
    }
   ],
   "source": [
    "# input parameters for task 2\n",
    "# athena_file = 'fes2_demjup.prj' # this comes from the previous cell\n",
    "crystal_file = 'FeS2.inp' \n",
    "artemis_file = 'fes2_dmtrjup'\n",
    "auto_flag = 'Y'\n",
    "\n",
    "# run automatically using the default parameters\n",
    "dem_runner.run_task_02(athena_file, crystal_file, artemis_file, auto_flag)"
   ]
  },
  {
   "cell_type": "code",
   "execution_count": null,
   "metadata": {},
   "outputs": [],
   "source": []
  }
 ],
 "metadata": {
  "kernelspec": {
   "display_name": "Python 3",
   "language": "python",
   "name": "python3"
  },
  "language_info": {
   "codemirror_mode": {
    "name": "ipython",
    "version": 3
   },
   "file_extension": ".py",
   "mimetype": "text/x-python",
   "name": "python",
   "nbconvert_exporter": "python",
   "pygments_lexer": "ipython3",
   "version": "3.6.10"
  }
 },
 "nbformat": 4,
 "nbformat_minor": 4
}
