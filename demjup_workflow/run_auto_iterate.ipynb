{
 "cells": [
  {
   "cell_type": "markdown",
   "metadata": {},
   "source": [
    "# Run demeter scripts from jupyter\n",
    "\n",
    "This notebook shows how the perl scripts can run using jupyter as the interface"
   ]
  },
  {
   "cell_type": "markdown",
   "metadata": {},
   "source": [
    "## Import required libraries"
   ]
  },
  {
   "cell_type": "code",
   "execution_count": 1,
   "metadata": {},
   "outputs": [],
   "source": [
    "# dem runner executes the perl scripts\n",
    "import lib.demeter_runner as dem_runner"
   ]
  },
  {
   "cell_type": "markdown",
   "metadata": {},
   "source": [
    "## Create Athena Project (XAS Workflow Task 1)\n",
    "\n",
    "The first task creates athena project and normalises data. This task  has three subtasks which are: import data, normalise and save athena project.\n"
   ]
  },
  {
   "cell_type": "code",
   "execution_count": 2,
   "metadata": {},
   "outputs": [
    {
     "name": "stdout",
     "output_type": "stream",
     "text": [
      "rh4co ../nexusdata/rh4co_ox_53/37123_Rh_4_CO_Oxidation_45_7_ascii/ .dat 5\n",
      "Processing:  37123_Rh_4_CO_Oxidation_45_7_rh4co_ox_47_00000.dat\n",
      "Saved to:    rh4co\\rh4co000000.prj\n",
      "Processing:  37123_Rh_4_CO_Oxidation_45_7_rh4co_ox_47_00001.dat\n",
      "Saved to:    rh4co\\rh4co000001.prj\n",
      "Processing:  37123_Rh_4_CO_Oxidation_45_7_rh4co_ox_47_00002.dat\n",
      "Saved to:    rh4co\\rh4co000002.prj\n",
      "Processing:  37123_Rh_4_CO_Oxidation_45_7_rh4co_ox_47_00003.dat\n",
      "Saved to:    rh4co\\rh4co000003.prj\n",
      "Processing:  37123_Rh_4_CO_Oxidation_45_7_rh4co_ox_47_00004.dat\n",
      "Saved to:    rh4co\\rh4co000004.prj\n",
      "Processing:  37123_Rh_4_CO_Oxidation_45_7_rh4co_ox_47_00005.dat\n",
      "Saved to:    rh4co\\rh4co000005.prj\n"
     ]
    }
   ],
   "source": [
    "# input parameters for task 1\n",
    "# the first parameter is the prefix string for dir and project files\n",
    "# the second parameter is the path where the input files are stored\n",
    "# the third parameter is the number of files to process\n",
    "\n",
    "base_name = \"rh4co\"\n",
    "files_dir = \"../nexusdata/rh4co_ox_53/37123_Rh_4_CO_Oxidation_45_7_ascii/\"\n",
    "files_ext = \".dat\"\n",
    "top_count = 5\n",
    "\n",
    "# run on batch mode\n",
    "dem_runner.run_batch_01(base_name, files_dir, files_ext, top_count)"
   ]
  },
  {
   "cell_type": "markdown",
   "metadata": {},
   "source": [
    "## Curve fitting (XAS Workflow Task 2)\n",
    "\n",
    "The second task performs curve fitting and saves the results as an artemis project. \n"
   ]
  },
  {
   "cell_type": "code",
   "execution_count": 3,
   "metadata": {},
   "outputs": [
    {
     "name": "stdout",
     "output_type": "stream",
     "text": [
      "rh4co ..\\cif_files\\C12O12Rh4.cif 5\n",
      "Processing:  rh4co000000.prj\n",
      "Complete:    rh4co000000.prj\n",
      "Processing:  rh4co000001.prj\n",
      "Complete:    rh4co000001.prj\n",
      "Processing:  rh4co000002.prj\n",
      "Complete:    rh4co000002.prj\n",
      "Processing:  rh4co000003.prj\n",
      "Complete:    rh4co000003.prj\n",
      "Processing:  rh4co000004.prj\n",
      "Complete:    rh4co000004.prj\n",
      "Processing:  rh4co000005.prj\n",
      "Complete:    rh4co000005.prj\n"
     ]
    }
   ],
   "source": [
    "# input parameters for task 2\n",
    "# the first parameter is the prefix for dir and project files\n",
    "# the second parameter is the name of the crystal file to use\n",
    "# the third parameter is the number of files to process\n",
    "\n",
    "base_name = \"rh4co\"\n",
    "crystal_file = \"..\\\\cif_files\\\\C12O12Rh4.cif\"\n",
    "top_count= 5\n",
    "\n",
    "# run on batch mode\n",
    "dem_runner.run_batch_02(base_name, crystal_file, top_count)"
   ]
  },
  {
   "cell_type": "code",
   "execution_count": null,
   "metadata": {},
   "outputs": [],
   "source": []
  }
 ],
 "metadata": {
  "kernelspec": {
   "display_name": "Python 3",
   "language": "python",
   "name": "python3"
  },
  "language_info": {
   "codemirror_mode": {
    "name": "ipython",
    "version": 3
   },
   "file_extension": ".py",
   "mimetype": "text/x-python",
   "name": "python",
   "nbconvert_exporter": "python",
   "pygments_lexer": "ipython3",
   "version": "3.6.10"
  }
 },
 "nbformat": 4,
 "nbformat_minor": 4
}
