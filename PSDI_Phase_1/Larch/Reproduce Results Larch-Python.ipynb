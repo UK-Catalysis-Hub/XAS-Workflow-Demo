{
 "cells": [
  {
   "cell_type": "markdown",
   "id": "58581da5",
   "metadata": {},
   "source": [
    "# Reproduce Published Results\n",
    "This example shows how to use alternative software with the published data to reproduce published XAS results.\n",
    "\n",
    "The input files to be used are the same as those of the Demeter (perl) example.\n",
    "\n",
    "This example replicates one by one the same operations implementer in the Demeter example"
   ]
  },
  {
   "cell_type": "markdown",
   "id": "3c84f137",
   "metadata": {},
   "source": [
    "# Libraries \n",
    "The following cell includes the libraries imported for  reproduction of results."
   ]
  },
  {
   "cell_type": "code",
   "execution_count": 1,
   "id": "b8687359",
   "metadata": {},
   "outputs": [],
   "source": [
    "# Larch Libraries\n",
    "# library to read ascii files\n",
    "from larch.io import read_ascii, read_athena\n",
    "# libraries to handle data groups\n",
    "from larch.utils import group2dict, dict2group\n",
    "# library to normalise data\n",
    "from larch.xafs import pre_edge\n",
    "# import the larch.io libraries for managing athena files\n",
    "from larch.io import create_athena, read_athena, extract_athenagroup\n",
    "\n",
    "# File handling\n",
    "from pathlib import Path\n",
    "\n",
    "#plotting library\n",
    "%matplotlib inline\n",
    "import matplotlib.pyplot as plt\n",
    "\n",
    "#library for writing to log\n",
    "import logging\n",
    "\n",
    "# custom libraries\n",
    "# read/write csv data\n",
    "import lib.handle_csv as hcsv"
   ]
  },
  {
   "cell_type": "markdown",
   "id": "b8582f6c",
   "metadata": {},
   "source": [
    "# Functions\n",
    "The following cell includes the custom functions defined for enabling reproduction of results."
   ]
  },
  {
   "cell_type": "code",
   "execution_count": 2,
   "id": "4e8e4006",
   "metadata": {},
   "outputs": [],
   "source": [
    "# initialise log file\n",
    "def set_logger(log_file):\n",
    "    logger = logging.getLogger()\n",
    "    fhandler = logging.FileHandler(filename=log_file, mode='a')\n",
    "    formatter = logging.Formatter('%(asctime)s - %(name)s - %(levelname)s - %(message)s')\n",
    "    fhandler.setFormatter(formatter)\n",
    "    logger.addHandler(fhandler)\n",
    "    # prevent matplotlib font manager from writing to log\n",
    "    logging.getLogger('matplotlib.font_manager').disabled = True\n",
    "    logger.setLevel(logging.DEBUG)\n",
    "\n",
    "#reading all with the same extension files from a dir\n",
    "def get_files_list(source_dir, f_pattern):\n",
    "    i_counter = 0\n",
    "    files_list = []\n",
    "    for filepath in sorted(source_dir.glob(f_pattern)):\n",
    "        i_counter += 1\n",
    "        files_list.append(filepath)\n",
    "    return files_list\n",
    "\n",
    "# Rename columns \n",
    "def rename_cols(xafs_group):\n",
    "    # energy\n",
    "    engy = xafs_group.col1\n",
    "    # mu\n",
    "    mu_e = xafs_group.col2\n",
    "    # get a dictionary from te group\n",
    "    xafs_dict = group2dict(xafs_group)\n",
    "    # add mu and energy to the dictionary\n",
    "    xafs_dict['energy'] = engy\n",
    "    xafs_dict['mu'] = mu_e\n",
    "    xafs_group = dict2group(xafs_dict)\n",
    "    return xafs_group\n",
    "\n",
    "# show plot of normalised data\n",
    "def plot_normalised(xafs_group):\n",
    "        plt.plot(xafs_group.energy, xafs_group.pre_edge, 'g', label='pre-edge') # plot pre-edge in green\n",
    "        plt.plot(xafs_group.energy, xafs_group.post_edge, 'r', label='post-edge')# plot post-edge in red\n",
    "        plt.plot(xafs_group.energy, xafs_group.mu, 'b', label=xafs_group.filename) # plot mu in blue\n",
    "        plt.grid(color='r', linestyle=':', linewidth=1) #show and format grid\n",
    "        plt.xlabel('Energy (eV)') # label y graph\n",
    "        plt.ylabel('x$\\mu$(E)') # label y axis\n",
    "        plt.title(\"pre-edge and post_edge fitting to $\\mu$\")\n",
    "        plt.legend() # show legend\n",
    "\n",
    "def plot_norm_mu_energy(all_groups, plot_groups, plotparams, xminmax):\n",
    "    print(xminmax)\n",
    "    first_group = int(plot_groups[0])\n",
    "    #xmin=0, xmax=1\n",
    "    e_zero = all_groups[first_group].bkg_params.e0\n",
    "    xmin=e_zero + float(xminmax [2])\n",
    "    xmax=e_zero + float(xminmax [3])\n",
    "    plt.xlim(xmin,xmax)\n",
    "    plt.legend()\n",
    "    for idx in plot_groups:\n",
    "        plt.plot(all_groups[int(idx)].energy, all_groups[int(idx)].mu,\n",
    "                 label = all_groups[int(idx)].label) \n",
    "    plt.show()\n",
    "        \n",
    "        \n",
    "\n",
    "\n",
    "# Extract groups from Athena project and return it with \n",
    "# the specified name \n",
    "\n",
    "def get_athena_data(data_file, group_label, group_name):\n",
    "    athena_group = None\n",
    "    athena_project = read_athena(data_file)\n",
    "    group_keys=list(athena_project._athena_groups.keys())\n",
    "    for group_key in group_keys:\n",
    "        gr_0 = extract_athenagroup(athena_project._athena_groups[group_key])\n",
    "        if gr_0.label == group_label:\n",
    "            athena_group = gr_0\n",
    "            athena_group.label = group_name\n",
    "            break\n",
    "    return athena_group\n",
    "        \n",
    "        \n",
    "# use the list of athena groups to retrieve data from the athena projects\n",
    "def get_data(data_sources):\n",
    "    project_groups = []\n",
    "    for a_ds in data_sources:\n",
    "        data_file = a_ds[0]\n",
    "        read_as = a_ds[1]\n",
    "        group_name = a_ds[2]\n",
    "        if data_file[-4:] == \".prj\":\n",
    "            print (\"reading from athena file: \", data_file , \"\\n\")\n",
    "            project_groups.append(get_athena_data(data_file, read_as, group_name))\n",
    "        else:\n",
    "            print (\"reading from column file: \", data_file , \"\\n\")\n",
    "            project_groups.append(get_column_data(data_file, read_as, group_name))\n",
    "    return project_groups;\n"
   ]
  },
  {
   "cell_type": "markdown",
   "id": "b945d546",
   "metadata": {},
   "source": [
    "# Input parameters (variables)\n",
    "\n",
    "The variables in the next cell are the processing values that indicate where to get the data from, the pattern of the files to process and the number of files to process. These can be changed to process different datasets.\n"
   ]
  },
  {
   "cell_type": "code",
   "execution_count": 3,
   "id": "93f3ded8",
   "metadata": {},
   "outputs": [],
   "source": [
    "base_prefix = \"pub_037\"\n",
    "athena_groups_file = \"pub_037_athena.csv\"\n",
    "operations_list_file = \"pub_037_operations.csv\""
   ]
  },
  {
   "cell_type": "code",
   "execution_count": 4,
   "id": "733ca5ef",
   "metadata": {
    "scrolled": false
   },
   "outputs": [
    {
     "name": "stderr",
     "output_type": "stream",
     "text": [
      "[root] INFO : Started processing\n",
      "[root] INFO : Input variables:\n",
      "[root] INFO : prefix = pub_037\n",
      "[root] INFO : reading from athena file = pub_037_athena.csv\n",
      "[root] INFO : reading from operations file = pub_037_operations.csv\n",
      "[root] INFO : recovering data groups\n"
     ]
    },
    {
     "name": "stdout",
     "output_type": "stream",
     "text": [
      "pub_037\\process.log\n",
      "reading from athena file:  ..\\psdi_data\\pub_037\\XAFS_prj\\SnO2 0.9 2.6-13.5 gbkg.prj \n",
      "\n",
      "reading from athena file:  ..\\psdi_data\\pub_037\\XAFS_prj\\Sn K-edge\\PtSn_OCO.prj \n",
      "\n",
      "reading from athena file:  ..\\psdi_data\\pub_037\\XAFS_prj\\Sn K-edge\\PtSn_OCA.prj \n",
      "\n",
      "reading from athena file:  ..\\psdi_data\\pub_037\\XAFS_prj\\Sn K-edge\\PtSn_OCH.prj \n",
      "\n"
     ]
    },
    {
     "name": "stderr",
     "output_type": "stream",
     "text": [
      "[root] INFO : recovered 7 data groups\n",
      "[root] INFO : Show normalised E plot for first five groups\n",
      "[root] INFO : Ploting Mu\n",
      "[matplotlib.legend] WARNING : No handles with labels found to put in legend.\n"
     ]
    },
    {
     "name": "stdout",
     "output_type": "stream",
     "text": [
      "reading from athena file:  ..\\psdi_data\\pub_037\\XAFS_prj\\Sn foil.prj \n",
      "\n",
      "reading from athena file:  ..\\psdi_data\\pub_037\\XAFS_prj\\Sn K-edge\\PtSn_OC.prj \n",
      "\n",
      "reading from athena file:  ..\\psdi_data\\pub_037\\XAFS_prj\\Sn K-edge\\PtSn_OCH_H2.prj \n",
      "\n",
      "Show normalised E plot for first five groups \n",
      "\n",
      "['20', '60', '-20', '180']\n"
     ]
    },
    {
     "data": {
      "image/png": "[encoded data removed]",
      "text/plain": [
       "<Figure size 432x288 with 1 Axes>"
      ]
     },
     "metadata": {
      "needs_background": "light"
     },
     "output_type": "display_data"
    },
    {
     "name": "stdout",
     "output_type": "stream",
     "text": [
      "Press any key to continue\n",
      "\n",
      "1\n"
     ]
    },
    {
     "name": "stderr",
     "output_type": "stream",
     "text": [
      "[root] INFO : Plot first derivate for first five groups\n",
      "[root] INFO : Ploting Mu\n",
      "[matplotlib.legend] WARNING : No handles with labels found to put in legend.\n"
     ]
    },
    {
     "name": "stdout",
     "output_type": "stream",
     "text": [
      "1\n",
      "Plot first derivate for first five groups \n",
      "\n",
      "['20', '60', '-15', '7']\n"
     ]
    },
    {
     "data": {
      "image/png": "[encoded data removed]",
      "text/plain": [
       "<Figure size 432x288 with 1 Axes>"
      ]
     },
     "metadata": {
      "needs_background": "light"
     },
     "output_type": "display_data"
    },
    {
     "name": "stdout",
     "output_type": "stream",
     "text": [
      "Press any key to continue\n",
      "\n",
      "1\n"
     ]
    },
    {
     "name": "stderr",
     "output_type": "stream",
     "text": [
      "[root] INFO : Showing SnO2 and Sn foil LCF for H2\n",
      "[root] INFO : Lineal combination fitting\n"
     ]
    },
    {
     "name": "stdout",
     "output_type": "stream",
     "text": [
      "1\n",
      "Showing SnO2 and Sn foil LCF for H2 \n",
      "\n",
      "Press any key to continue\n",
      "\n",
      "1\n"
     ]
    },
    {
     "name": "stderr",
     "output_type": "stream",
     "text": [
      "[root] INFO : Showing SnO2 and Sn foil LCF for Ar\n",
      "[root] INFO : Lineal combination fitting\n"
     ]
    },
    {
     "name": "stdout",
     "output_type": "stream",
     "text": [
      "1\n",
      "Showing SnO2 and Sn foil LCF for Ar \n",
      "\n",
      "Press any key to continue\n",
      "\n",
      "1\n"
     ]
    },
    {
     "name": "stderr",
     "output_type": "stream",
     "text": [
      "[root] INFO : Showing SnO2 and Sn foil LCF for air\n",
      "[root] INFO : Lineal combination fitting\n"
     ]
    },
    {
     "name": "stdout",
     "output_type": "stream",
     "text": [
      "1\n",
      "Showing SnO2 and Sn foil LCF for air \n",
      "\n",
      "Press any key to continue\n",
      "\n",
      "1\n"
     ]
    },
    {
     "name": "stderr",
     "output_type": "stream",
     "text": [
      "[root] INFO : Showing SnO2 and Sn H2-H2 LCF for H2\n",
      "[root] INFO : Lineal combination fitting\n"
     ]
    },
    {
     "name": "stdout",
     "output_type": "stream",
     "text": [
      "1\n",
      "Showing SnO2 and Sn H2-H2 LCF for H2 \n",
      "\n",
      "Press any key to continue\n",
      "\n",
      "1\n"
     ]
    },
    {
     "name": "stderr",
     "output_type": "stream",
     "text": [
      "[root] INFO : Showing SnO2 and Sn H2-H2 LCF for Ar\n",
      "[root] INFO : Lineal combination fitting\n"
     ]
    },
    {
     "name": "stdout",
     "output_type": "stream",
     "text": [
      "1\n",
      "Showing SnO2 and Sn H2-H2 LCF for Ar \n",
      "\n",
      "Press any key to continue\n",
      "\n",
      "1\n"
     ]
    },
    {
     "name": "stderr",
     "output_type": "stream",
     "text": [
      "[root] INFO : Showing SnO2 and Sn H2-H2 LCF for air\n",
      "[root] INFO : Lineal combination fitting\n"
     ]
    },
    {
     "name": "stdout",
     "output_type": "stream",
     "text": [
      "1\n",
      "Showing SnO2 and Sn H2-H2 LCF for air \n",
      "\n",
      "Press any key to continue\n",
      "\n",
      "1\n",
      "1\n"
     ]
    }
   ],
   "source": [
    "# create the path for storing results\n",
    "base_path = Path(\"./\" , base_prefix)\n",
    "Path(base_path).mkdir(parents=True, exist_ok=True)\n",
    "\n",
    "# create log file (store processing steps)\n",
    "log_file = Path(\"./\",base_path,\"process.log\")\n",
    "print(log_file)\n",
    "# set path for log\n",
    "set_logger(log_file)\n",
    "\n",
    "logging.info(\"Started processing\")\n",
    "logging.info(\"Input variables:\")\n",
    "logging.info(\"prefix = \" + base_prefix)\n",
    "\n",
    "\n",
    "# get the files list (from csv file), no ID, no headers\n",
    "logging.info(\"reading from athena file = \" + athena_groups_file)\n",
    "files_list, _ = hcsv.get_csv_data(athena_groups_file, \"\", False)\n",
    "files_list = list(files_list.values())\n",
    "\n",
    "# get the operations list (from csv file), no ID, no headers\n",
    "logging.info(\"reading from operations file = \" + operations_list_file )\n",
    "operations_list, _ = hcsv.get_csv_data(operations_list_file, \"\", False)\n",
    "operations_list = list(operations_list.values())\n",
    "\n",
    "# retrieve data\n",
    "logging.info(\"recovering data groups\")\n",
    "athena_groups = get_data(files_list)\n",
    "logging.info(\"recovered \" + str(len(athena_groups)) + \" data groups\")\n",
    "\n",
    "# perform operations\n",
    "\n",
    "for wf_operation in operations_list:\n",
    "    # operation id\n",
    "    op_id = int(wf_operation[0])\n",
    "    # groups used in the operation\n",
    "    op_gr = wf_operation[1].split('|')\n",
    "    # plotting parameters for the operation\n",
    "    op_ep = wf_operation[2].split('|')\n",
    "    # graph min-max\n",
    "    op_mm = wf_operation[4].split('|')\n",
    "    # result group name\n",
    "    op_rgn = wf_operation[5].split('|')\n",
    "    # y offsets for plotting\n",
    "    op_yofp = wf_operation[6].split('|')\n",
    "    # x offsets for plotting (do they exist?)\n",
    "    op_xofp = wf_operation[7].split('|')\n",
    "    # display text for the operation\n",
    "    op_msg = wf_operation[3];\n",
    "    print(op_msg, \"\\n\")\n",
    "    logging.info(op_msg)\n",
    "    if (op_id == 1 or op_id == 2):\n",
    "        # operations 1 and 2 are the same only the plotting parameters change\n",
    "        logging.info(\"Ploting Mu\")\n",
    "        plot_norm_mu_energy(athena_groups, op_gr, op_ep, op_mm)\n",
    "    elif (op_id == 3):\n",
    "        # operation 3 is the lineal combination fitting\n",
    "        logging.info(\"Lineal combination fitting\")\n",
    "        #do_lcf(athena_groups, op_gr, op_ep, op_mm)\n",
    "    elif (op_id == 4):\n",
    "        # operation 4 is merge\n",
    "        project_groups = do_merge(athena_groups, op_gr, op_rgn);\n",
    "    elif (op_id == 5):\n",
    "        # operation 5 is smoothing\n",
    "        project_groups = do_smooth(athena_groups, op_gr, op_rgn);\n",
    "    elif (op_id == 6):\n",
    "        # operation 6 is plotting k.\n",
    "        # reset plot after each operation\n",
    "        print(\"plot in k\")\n",
    "    print(\"Press any key to continue\\n\")\n",
    "    a = input()\n",
    "    print(a)\n",
    "\n"
   ]
  },
  {
   "cell_type": "code",
   "execution_count": 5,
   "id": "e70666ef",
   "metadata": {},
   "outputs": [
    {
     "data": {
      "text/plain": [
       "[['..\\\\psdi_data\\\\pub_037\\\\XAFS_prj\\\\SnO2 0.9 2.6-13.5 gbkg.prj',\n",
       "  'SnO2 0.9',\n",
       "  'SnO2'],\n",
       " ['..\\\\psdi_data\\\\pub_037\\\\XAFS_prj\\\\Sn K-edge\\\\PtSn_OCO.prj',\n",
       "  'PtSn_OCO rebinned',\n",
       "  'air'],\n",
       " ['..\\\\psdi_data\\\\pub_037\\\\XAFS_prj\\\\Sn K-edge\\\\PtSn_OCA.prj',\n",
       "  'PtSn_OCA rebinned',\n",
       "  'Ar'],\n",
       " ['..\\\\psdi_data\\\\pub_037\\\\XAFS_prj\\\\Sn K-edge\\\\PtSn_OCH.prj',\n",
       "  'PtSn_OCH rebinned',\n",
       "  'H2'],\n",
       " ['..\\\\psdi_data\\\\pub_037\\\\XAFS_prj\\\\Sn foil.prj', 'merge', 'Sn Foil'],\n",
       " ['..\\\\psdi_data\\\\pub_037\\\\XAFS_prj\\\\Sn K-edge\\\\PtSn_OC.prj',\n",
       "  'PtSn_OC_MERGE_CALIBRATE rebinned',\n",
       "  'PtSn'],\n",
       " ['..\\\\psdi_data\\\\pub_037\\\\XAFS_prj\\\\Sn K-edge\\\\PtSn_OCH_H2.prj',\n",
       "  'PtSn_OCH rebinned',\n",
       "  'H2-H2']]"
      ]
     },
     "execution_count": 5,
     "metadata": {},
     "output_type": "execute_result"
    }
   ],
   "source": [
    "files_list"
   ]
  },
  {
   "cell_type": "code",
   "execution_count": 6,
   "id": "7779bc3e",
   "metadata": {},
   "outputs": [
    {
     "data": {
      "text/plain": [
       "[['1',\n",
       "  '0|1|2|3|4',\n",
       "  '1|0|1|0|0|0|0|0|0',\n",
       "  'Show normalised E plot for first five groups',\n",
       "  '20|60|-20|180',\n",
       "  '',\n",
       "  '0',\n",
       "  '0'],\n",
       " ['2',\n",
       "  '0|1|2|3|4',\n",
       "  '1|0|1|1|0|0|0|0|0',\n",
       "  'Plot first derivate for first five groups',\n",
       "  '20|60|-15|7',\n",
       "  '',\n",
       "  '0',\n",
       "  '0'],\n",
       " ['3',\n",
       "  '3|0|4',\n",
       "  '0|0|0|1|0|0|0|0|0',\n",
       "  'Showing SnO2 and Sn foil LCF for H2',\n",
       "  '20|60|-20|60',\n",
       "  '',\n",
       "  '0',\n",
       "  '0'],\n",
       " ['3',\n",
       "  '2|0|4',\n",
       "  '0|0|0|1|0|0|0|0|0',\n",
       "  'Showing SnO2 and Sn foil LCF for Ar',\n",
       "  '20|60|-20|60',\n",
       "  '',\n",
       "  '0',\n",
       "  '0'],\n",
       " ['3',\n",
       "  '1|0|4',\n",
       "  '0|0|0|1|0|0|0|0|0',\n",
       "  'Showing SnO2 and Sn foil LCF for air',\n",
       "  '20|60|-20|60',\n",
       "  '',\n",
       "  '0',\n",
       "  '0'],\n",
       " ['3',\n",
       "  '3|0|6',\n",
       "  '0|0|0|1|0|0|0|0|0',\n",
       "  'Showing SnO2 and Sn H2-H2 LCF for H2',\n",
       "  '20|60|-20|60',\n",
       "  '',\n",
       "  '0',\n",
       "  '0'],\n",
       " ['3',\n",
       "  '2|0|6',\n",
       "  '0|0|0|1|0|0|0|0|0',\n",
       "  'Showing SnO2 and Sn H2-H2 LCF for Ar',\n",
       "  '20|60|-20|60',\n",
       "  '',\n",
       "  '0',\n",
       "  '0'],\n",
       " ['3',\n",
       "  '1|0|6',\n",
       "  '0|0|0|1|0|0|0|0|0',\n",
       "  'Showing SnO2 and Sn H2-H2 LCF for air',\n",
       "  '20|60|-20|60',\n",
       "  '',\n",
       "  '0',\n",
       "  '0']]"
      ]
     },
     "execution_count": 6,
     "metadata": {},
     "output_type": "execute_result"
    }
   ],
   "source": [
    "operations_list"
   ]
  },
  {
   "cell_type": "code",
   "execution_count": 7,
   "id": "8c27cc3f",
   "metadata": {},
   "outputs": [],
   "source": [
    "athena_project = read_athena('..\\\\psdi_data\\\\pub_037\\\\XAFS_prj\\\\SnO2 0.9 2.6-13.5 gbkg.prj')\n",
    "athena_group = athena_project._athena_groups['SnO2_0_9']"
   ]
  },
  {
   "cell_type": "code",
   "execution_count": 8,
   "id": "04c0051c",
   "metadata": {},
   "outputs": [],
   "source": [
    "athena_group.label = \"\""
   ]
  },
  {
   "cell_type": "code",
   "execution_count": 9,
   "id": "487b462a",
   "metadata": {},
   "outputs": [
    {
     "data": {
      "text/plain": [
       "odict_keys(['SnO2_0_9', 'SnO2_0_9_3_13', 'SnO2_0_9_3_13_5', 'SnO2_0_9_3_12_5', 'SnO2_0_9_3_14', 'SnO2_0_9_2_8_13_5', 'SnO2_0_9_2_6_13_5', 'SnO2_0_9_2_6_13_5_0_8', 'SnO2_0_9_2_6_13_5_0_8_1_0', 'SnO2_0_9_2_6_13_5_0_8_1_0_with_theory', 'SnO2_0_9_2_4_13_5', 'SnO2_0_9_2_2_13_5', 'd__Ref_SnO2_0_9', 'SnO2_0_9_2_6_13_5_0_8_1_0_k'])"
      ]
     },
     "execution_count": 9,
     "metadata": {},
     "output_type": "execute_result"
    }
   ],
   "source": [
    "athena_project._athena_groups.keys()"
   ]
  },
  {
   "cell_type": "code",
   "execution_count": 10,
   "id": "5743fcb2",
   "metadata": {
    "scrolled": false
   },
   "outputs": [
    {
     "data": {
      "text/plain": [
       "29201.28742"
      ]
     },
     "execution_count": 10,
     "metadata": {},
     "output_type": "execute_result"
    }
   ],
   "source": [
    "athena_groups[6].bkg_params.e0"
   ]
  },
  {
   "cell_type": "code",
   "execution_count": null,
   "id": "a375cea7",
   "metadata": {},
   "outputs": [],
   "source": []
  }
 ],
 "metadata": {
  "kernelspec": {
   "display_name": "Python 3 (ipykernel)",
   "language": "python",
   "name": "python3"
  },
  "language_info": {
   "codemirror_mode": {
    "name": "ipython",
    "version": 3
   },
   "file_extension": ".py",
   "mimetype": "text/x-python",
   "name": "python",
   "nbconvert_exporter": "python",
   "pygments_lexer": "ipython3",
   "version": "3.8.12"
  }
 },
 "nbformat": 4,
 "nbformat_minor": 5
}
