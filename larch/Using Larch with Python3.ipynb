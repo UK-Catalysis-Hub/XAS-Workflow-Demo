{
 "cells": [
  {
   "cell_type": "markdown",
   "metadata": {},
   "source": [
    "# XAFS using Larch from Python 3.6\n",
    "\n",
    "This is an example published originally by [TitanWolf](https://titanwolf.org/Network/Articles/Article?AID=f8639528-1e63-435c-bcd4-e67ed966719a#gsc.tab=0).\n",
    "\n",
    "Some adaptations were required to run the code are listed as follows.\n",
    "- Replacing the input file for FeS2.\n",
    "- using demeter generated file for input to feff6.\n",
    "- generating the FEFF paths using larch feff6. \n",
    "- used fp instead of temp as temp is not defined.\n",
    "- small sintax corrections for python 3.6 "
   ]
  },
  {
   "cell_type": "markdown",
   "metadata": {},
   "source": [
    "## Libraries\n",
    "\n",
    "The required libraries are shown below"
   ]
  },
  {
   "cell_type": "code",
   "execution_count": null,
   "metadata": {},
   "outputs": [],
   "source": [
    "from larch import Interpreter\n",
    "import larch_plugins as lp\n",
    "import numpy as np\n",
    "import matplotlib.pyplot as plt\n",
    "import matplotlib.cm as cm\n",
    "\n",
    "session = Interpreter()\n",
    "%matplotlib inline"
   ]
  },
  {
   "cell_type": "markdown",
   "metadata": {},
   "source": [
    "## Processing of Data\n",
    "The following code performs the following tasks\n",
    "- read the data\n",
    "- background removal\n",
    "- EXAFS derivation of extraction and radial structure function of vibration\n",
    "- plot data\n",
    "\n",
    "**Note** instead of the Cu file used in the example, we are using the Fe files for the demeter example."
   ]
  },
  {
   "cell_type": "code",
   "execution_count": null,
   "metadata": {},
   "outputs": [],
   "source": [
    "# loading data\n",
    "Fe_expt = lp.io.read_ascii(\"fes2_rt01_mar02.xmu\", labels=\"energy mu\")#, larch=session)\n",
    "# calc exafs spectrum\n",
    "lp.xafs.autobk(Fe_expt, kmin=0.0, kmax=16.5, rbkg=1.0, group=Fe_expt, _larch=session)\n",
    "# fourier transformation\n",
    "lp.xafs.xftf(Fe_expt, kweight=2, kmin=3, kmax=15.0, window=\"hanning\", dk=1.0, group=Fe_expt, _larch=session)\n",
    "\n",
    "# Plot\n",
    "fig = plt.figure(figsize=(12, 4))\n",
    "ax1 = fig.add_subplot(121)\n",
    "ax1.plot(Fe_expt.k, Fe_expt.k**2 * Fe_expt.chi)\n",
    "ax1.set_xlim(0, Fe_expt.k.max())\n",
    "ax1.set_xlabel(\"Wavenumber of Photoelectron/$\\mathrm{\\AA}^{-1}$\")\n",
    "ax1.set_ylabel(\"$k^2 \\\\times$ EXAFS oscillation $\\chi (k)$/$\\mathrm{\\AA}^{-2}$\")\n",
    "ax2 = fig.add_subplot(122)\n",
    "ax2.plot(Fe_expt.r, Fe_expt.chir_mag)\n",
    "ax2.set_xlim(0, 6)\n",
    "ax2.set_xlabel(\"Radial distance/$\\mathrm{\\AA}$\")\n",
    "ax2.set_ylabel(\"Magnitude of Fourier Transform of $k^2 \\cdot \\chi$/$\\mathrm{\\AA}^{-3}$\")\n",
    "plt.show()\n",
    " "
   ]
  },
  {
   "cell_type": "markdown",
   "metadata": {},
   "source": [
    "## FEFF input file\n",
    "\n",
    " The feff input file fes2_feff.inp was generated from the FeS2.inp file using demeter.\n",
    " The generation of feff paths is not presented in the example"
   ]
  },
  {
   "cell_type": "code",
   "execution_count": null,
   "metadata": {
    "scrolled": true
   },
   "outputs": [],
   "source": [
    "# run feff and get the paths\n",
    "from larch.xafs.feffrunner import feff6l\n",
    "#feff6l(folder='.', feffinp='feff.inp', verbose=True)\n",
    "feff6l(folder = './fes2_feff',feffinp='fes2_feff.inp' )"
   ]
  },
  {
   "cell_type": "markdown",
   "metadata": {},
   "source": [
    "## Reading of the scattering path\n",
    "\n",
    "Load an scattering path calculated in FEFF (using lp.xafs.FeffPathGroup) to read one fo the feffNNNN.dat files. "
   ]
  },
  {
   "cell_type": "code",
   "execution_count": null,
   "metadata": {},
   "outputs": [],
   "source": [
    "fp = lp.xafs.FeffPathGroup(filename='./fes2_feff/feff0001.dat', _larch=session)"
   ]
  },
  {
   "cell_type": "markdown",
   "metadata": {},
   "source": [
    "## Calculating EXAFS vibration\n",
    "\n",
    "### Calculate chi of sigma square\n",
    "Use the \\_calc_chi to  calculate vibration. The argument of this method are the parameters of the FeffPathGroup attribute table. For now, calculate sigma2 only (0.005).\n",
    "\n",
    "k, chi, and chi_mag, value are the outputs of running \\_calc_chi. \n",
    "k represents the photoelectron wave numbers, because the chi is the EXAFS spectrum. It will plot of the EXAFS vibration of chi against k."
   ]
  },
  {
   "cell_type": "code",
   "execution_count": null,
   "metadata": {},
   "outputs": [],
   "source": [
    "temp = fp._calc_chi(sigma2=0.005)\n",
    "plt.plot(fp.k, fp.chi*fp.k**2)\n",
    "plt.xlabel(\"Wavenumber of Photoelectron/$\\mathrm{\\AA}^{-1}$\")\n",
    "plt.ylabel(\"$k^2 \\\\times$ EXAFS oscillation $\\chi (k)$/$\\mathrm{\\AA}^{-2}$\")\n",
    "plt.show()"
   ]
  },
  {
   "cell_type": "markdown",
   "metadata": {},
   "source": [
    "Next, calculate the radial structure function of this path. \n",
    "\n",
    "To do this, use the lp.xafs.xftf as well as the experimental results. However, lp.xafs.xftf outputs the calculation result to a Group instance, so you must create a Group instance to receive the results."
   ]
  },
  {
   "cell_type": "code",
   "execution_count": null,
   "metadata": {},
   "outputs": [],
   "source": [
    "# make Group instance for outputs\n",
    "from larch.symboltable import Group\n",
    "fp_group = Group()\n",
    "# calc EXAFS spectrum\n",
    "fp._calc_chi(sigma2=0.005)\n",
    "# fourier transform\n",
    "lp.xafs.xftf(fp.k, fp.chi, kweight=2, kmin=3, kmax=15, dk=1.0, window='hanning', group=fp_group, _larch=session)\n",
    "# plot\n",
    "plt.plot(fp_group.r, fp_group.chir_mag)\n",
    "plt.xlim(0, 6)\n",
    "plt.xlabel(\"Radial distance/$\\mathrm{\\AA}$\")\n",
    "plt.ylabel(\"Magnitude of Fourier Transform of $k^2 \\cdot \\chi$/$\\mathrm{\\AA}^{-3}$\")\n",
    "plt.show()"
   ]
  },
  {
   "cell_type": "markdown",
   "metadata": {},
   "source": [
    "The \\_calc_chi method is very convenient, for example, it can be used to verify how EXAFS vibration changes when changing the parameters (sigma2, deltar, s02). \n",
    "\n",
    "For instance, the following code tracks the changes in  EXAFS vibration and radial structure function when varying the value of sigma square.\n",
    "\n",
    "When the sigma square increases, EXAFS vibration is found to decay. Also, you can see that the attenuation as k is larger."
   ]
  },
  {
   "cell_type": "code",
   "execution_count": null,
   "metadata": {},
   "outputs": [],
   "source": [
    "sigma2 = np.arange(0.001, 0.005, 0.0005)\n",
    "\n",
    "fig = plt.figure(figsize=(12, 4))\n",
    "ax1 = fig.add_subplot(121)\n",
    "ax2 = fig.add_subplot(122)\n",
    "\n",
    "for i, s in enumerate(sigma2):\n",
    "    fp._calc_chi(deltar=0, s02=1, sigma2=s)\n",
    "    fp_group = Group()\n",
    "    lp.xafs.xftf(fp.k, fp.chi, kweight=2, kmin=3, kmax=15, dk=1.0, window='hanning', group=fp_group, _larch=session)\n",
    "    ax1.plot(fp.k, fp.chi*fp.k**2, color=cm.jet(float(i) / len(sigma2)))\n",
    "    ax1.set_xlabel(\"Wavenumber of Photoelectron/$\\mathrm{\\AA}^{-1}$\")\n",
    "    ax1.set_ylabel(\"$k^2 \\\\times$ EXAFS oscillation $\\chi (k)$/$\\mathrm{\\AA}^{-2}$\")\n",
    "    ax2.plot(fp_group.r, fp_group.chir_mag, color=cm.jet(float(i) / len(sigma2)))\n",
    "    ax2.set_xlim(0, 6)\n",
    "    ax2.set_xlabel(\"Radial distance/$\\mathrm{\\AA}$\")\n",
    "    ax2.set_ylabel(\"Magnitude of Fourier Transform of $k^2 \\cdot \\chi$/$\\mathrm{\\AA}^{-3}$\")\n",
    "plt.show()\n",
    " "
   ]
  },
  {
   "cell_type": "markdown",
   "metadata": {},
   "source": [
    "When deltar changes, you can see that the oscillation period is changed. The amplitude is also noticeable, the peak position of the radial structure function is the Fourier transform shifts."
   ]
  },
  {
   "cell_type": "code",
   "execution_count": null,
   "metadata": {},
   "outputs": [],
   "source": [
    "delr = np.arange(0.0, 0.1, 0.025)\n",
    "\n",
    "fig = plt.figure(figsize=(12, 4))\n",
    "ax1 = fig.add_subplot(121)\n",
    "ax2 = fig.add_subplot(122)\n",
    "\n",
    "\n",
    "for i, r in enumerate(delr):\n",
    "    fp._calc_chi(deltar=r, s02=1, sigma2=0.001)\n",
    "    fp_group = Group()\n",
    "    lp.xafs.xftf(fp.k, fp.chi, kweight=2, kmin=3, kmax=15, dk=1.0, window='hanning', group=fp_group, _larch=session)\n",
    "    ax1.plot(fp.k, fp.chi*fp.k**2, color=cm.jet(float(i) / len(delr)))\n",
    "    ax1.set_xlabel(\"Wavenumber of Photoelectron/$\\mathrm{\\AA}^{-1}$\")\n",
    "    ax1.set_ylabel(\"$k^2 \\\\times$ EXAFS oscillation $\\chi (k)$/$\\mathrm{\\AA}^{-2}$\")\n",
    "    ax2.plot(fp_group.r, fp_group.chir_mag, color=cm.jet(float(i) / len(delr)))\n",
    "    ax2.set_xlim(0, 6)\n",
    "    ax2.set_xlabel(\"Radial distance/$\\mathrm{\\AA}$\")\n",
    "    ax2.set_ylabel(\"Magnitude of Fourier Transform of $k^2 \\cdot \\chi$/$\\mathrm{\\AA}^{-3}$\")\n",
    "\n",
    "plt.show()"
   ]
  },
  {
   "cell_type": "markdown",
   "metadata": {},
   "source": [
    "The s02 parameter acts on the amplitude in a similar manner to sigma2. However, unlike sigma2, there is no k dependence on the way of decay."
   ]
  },
  {
   "cell_type": "code",
   "execution_count": null,
   "metadata": {},
   "outputs": [],
   "source": [
    "s02 = np.arange(0.5, 1.0, 0.05)\n",
    "\n",
    "fig = plt.figure(figsize=(12, 4))\n",
    "ax1 = fig.add_subplot(121)\n",
    "ax2 = fig.add_subplot(122)\n",
    "\n",
    "\n",
    "for i, s in enumerate(s02):\n",
    "    fp._calc_chi(deltar=0.0, s02=s, sigma2=0.001)\n",
    "    fp_group = Group()\n",
    "    lp.xafs.xftf(fp.k, fp.chi, kweight=2, kmin=3, kmax=15, dk=1.0, window='hanning', group=fp_group, _larch=session)\n",
    "    ax1.plot(fp.k, fp.chi*fp.k**2, color=cm.jet(float(i) / len(s02)))\n",
    "    ax1.set_xlabel(\"Wavenumber of Photoelectron/$\\mathrm{\\AA}^{-1}$\")\n",
    "    ax1.set_ylabel(\"$k^2 \\\\times$ EXAFS oscillation $\\chi (k)$/$\\mathrm{\\AA}^{-2}$\")\n",
    "    ax2.plot(fp_group.r, fp_group.chir_mag, color=cm.jet(float(i) / len(s02)))\n",
    "    ax2.set_xlim(0, 6)\n",
    "    ax2.set_xlabel(\"Radial distance/$\\mathrm{\\AA}$\")\n",
    "    ax2.set_ylabel(\"Magnitude of Fourier Transform of $k^2 \\cdot \\chi$/$\\mathrm{\\AA}^{-3}$\")\n",
    "\n",
    "plt.show()\n",
    " "
   ]
  },
  {
   "cell_type": "markdown",
   "metadata": {},
   "source": [
    "When e0 is varied, the vibration period in reasponds in a a similar way to delta R."
   ]
  },
  {
   "cell_type": "code",
   "execution_count": null,
   "metadata": {},
   "outputs": [],
   "source": [
    "e0 = np.arange(-10.0, 10.0, 2.5)\n",
    "\n",
    "fig = plt.figure(figsize=(12, 4))\n",
    "ax1 = fig.add_subplot(121)\n",
    "ax2 = fig.add_subplot(122)\n",
    "\n",
    "\n",
    "for i, e in enumerate(e0):\n",
    "    fp._calc_chi(deltar=0.0, s02=1.0, sigma2=0.001, e0=e)\n",
    "    fp_group = Group()\n",
    "    lp.xafs.xftf(fp.k, fp.chi, kweight=2, kmin=3, kmax=15, dk=1.0, window='hanning', group=fp_group, _larch=session)\n",
    "    ax1.plot(fp.k, fp.chi*fp.k**2, color=cm.jet(float(i) / len(e0)))\n",
    "    ax1.set_xlabel(\"Wavenumber of Photoelectron/$\\mathrm{\\AA}^{-1}$\")\n",
    "    ax1.set_ylabel(\"$k^2 \\\\times$ EXAFS oscillation $\\chi (k)$/$\\mathrm{\\AA}^{-2}$\")\n",
    "    ax2.plot(fp_group.r, fp_group.chir_mag, color=cm.jet(float(i) / len(e0)))\n",
    "    ax2.set_xlim(0, 6)\n",
    "    ax2.set_xlabel(\"Radial distance/$\\mathrm{\\AA}$\")\n",
    "    ax2.set_ylabel(\"Magnitude of Fourier Transform of $k^2 \\cdot \\chi$/$\\mathrm{\\AA}^{-3}$\")\n",
    " \n",
    "plt.show()"
   ]
  },
  {
   "cell_type": "markdown",
   "metadata": {},
   "source": [
    "## Synthesis of path\n",
    "In this example, the FEFF calculation produced 48 path, wich are stored as 48 feffNNNN.dat files. \n",
    "The paths can be read toguether for processing. \n",
    "The following code creates a list of paths."
   ]
  },
  {
   "cell_type": "code",
   "execution_count": null,
   "metadata": {},
   "outputs": [],
   "source": [
    "import glob\n",
    "dat_list = glob.glob('.\\\\fes2_feff\\\\feff*.dat')\n",
    "paths = []\n",
    "\n",
    "for i, f in enumerate(dat_list):\n",
    "    i = i + 1\n",
    "    #print(f)\n",
    "    num_string = str(i).zfill(4)\n",
    "    # this will create 48 new variables named path00NN where NN ranges from 01 to 48.\n",
    "    # Each is added to the list of paths\n",
    "    exec('path'+num_string+' = lp.xafs.FeffPathGroup(filename=f, _larch=session)')\n",
    "    exec('path'+num_string+'._calc_chi(sigma2=0.004)')\n",
    "    exec('paths.append(path'+num_string+')')\n",
    " "
   ]
  },
  {
   "cell_type": "code",
   "execution_count": null,
   "metadata": {},
   "outputs": [],
   "source": [
    "vars(paths[0])"
   ]
  },
  {
   "cell_type": "markdown",
   "metadata": {},
   "source": [
    "After this, it is possible to plot the sum of the scattered paths contained in the list."
   ]
  },
  {
   "cell_type": "code",
   "execution_count": null,
   "metadata": {},
   "outputs": [],
   "source": [
    "all_path_sum = np.zeros(paths[0].k.shape)\n",
    "k_calc = paths[0].k\n",
    "for p in paths:\n",
    "    all_path_sum += p.chi\n",
    "\n",
    "all_path_group = Group()\n",
    "\n",
    "lp.xafs.xftf(k_calc, all_path_sum, kweight=2, kmin=3, kmax=15, dk=1.0, window='hanning', group=all_path_group, _larch=session)\n",
    "\n",
    "fig = plt.figure(figsize=(12, 4))\n",
    "ax1 = fig.add_subplot(121)\n",
    "ax2 = fig.add_subplot(122)\n",
    "ax1.plot(k_calc+0.1, all_path_sum*fp.k**2, label='sim. (sum of all paths)') # used fp instead of temp\n",
    "ax1.plot(Fe_expt.k, Fe_expt.chi*Fe_expt.k**2, label='expt.')\n",
    "ax1.set_xlim(0, 16)\n",
    "ax1.set_xlabel(\"Wavenumber of Photoelectron/$\\mathrm{\\AA}^{-1}$\")\n",
    "ax1.set_ylabel(\"$k^2 \\\\times$ EXAFS oscillation $\\chi (k)$/$\\mathrm{\\AA}^{-2}$\")\n",
    "ax1.legend()\n",
    "ax2.plot(all_path_group.r, all_path_group.chir_mag, label='sim. (sum of all paths)')\n",
    "ax2.plot(Fe_expt.r, Fe_expt.chir_mag, label='expt.')\n",
    "ax2.set_xlim(0, 6)\n",
    "ax2.set_xlabel(\"Radial distance/$\\mathrm{\\AA}$\")\n",
    "ax2.set_ylabel(\"Magnitude of Fourier Transform of $k^2 \\cdot \\chi$/$\\mathrm{\\AA}^{-3}$\")\n",
    "ax2.legend()\n",
    "plt.show()\n",
    " "
   ]
  },
  {
   "cell_type": "code",
   "execution_count": null,
   "metadata": {},
   "outputs": [],
   "source": [
    "print (\"Direct print of path0001:\", path0001.nleg)\n",
    "print (\"Print of path0001 in the paths list:\", paths[0].nleg)"
   ]
  },
  {
   "cell_type": "markdown",
   "metadata": {},
   "source": [
    "Given that nleg is 2 for single scattering paths, thus the value of nleg can be used to select paths. \n",
    "\n",
    "The follwoing example adds up only single scattering paths."
   ]
  },
  {
   "cell_type": "code",
   "execution_count": null,
   "metadata": {},
   "outputs": [],
   "source": [
    "ss_path_sum = np.zeros(paths[0].k.shape)\n",
    "k_calc = paths[0].k\n",
    "\n",
    "for p in paths:\n",
    "    if p.nleg == 2:\n",
    "        ss_path_sum += p.chi\n",
    " "
   ]
  },
  {
   "cell_type": "markdown",
   "metadata": {},
   "source": [
    "Afther this, the sum of single scattering paths can be compared to the sum of all scattering paths and plotted."
   ]
  },
  {
   "cell_type": "code",
   "execution_count": null,
   "metadata": {},
   "outputs": [],
   "source": [
    "ss_path_group = Group()\n",
    "lp.xafs.xftf(k_calc, ss_path_sum, kweight=2, kmin=3, kmax=15, dk=1.0, window='hanning', group=ss_path_group, _larch=session)\n",
    "\n",
    "fig = plt.figure(figsize=(12, 4))\n",
    "ax1 = fig.add_subplot(121)\n",
    "ax2 = fig.add_subplot(122)\n",
    "ax1.plot(k_calc+0.1, all_path_sum*fp.k**2, label='sum of all paths') # used fp instead of temp\n",
    "ax1.plot(k_calc+0.1, ss_path_sum*fp.k**2, label='sum of single scattering paths') # used fp instead of temp\n",
    "ax1.set_xlim(0, 16)\n",
    "ax1.set_xlabel(\"Wavenumber of Photoelectron/$\\mathrm{\\AA}^{-1}$\")\n",
    "ax1.set_ylabel(\"$k^2 \\\\times$ EXAFS oscillation $\\chi (k)$/$\\mathrm{\\AA}^{-2}$\")\n",
    "ax1.legend()\n",
    "ax2.plot(all_path_group.r, all_path_group.chir_mag, label='sum of all paths')\n",
    "ax2.plot(ss_path_group.r, ss_path_group.chir_mag, label='sum of single scattering paths')\n",
    "ax2.set_xlim(0, 6)\n",
    "ax2.set_xlabel(\"Radial distance/$\\mathrm{\\AA}$\")\n",
    "ax2.set_ylabel(\"Magnitude of Fourier Transform of $k^2 \\cdot \\chi$/$\\mathrm{\\AA}^{-3}$\")\n",
    "ax2.legend(loc='upper right')\n",
    "plt.show()\n",
    " "
   ]
  },
  {
   "cell_type": "markdown",
   "metadata": {},
   "source": [
    "## Fitting of the EXAFS spectrum\n",
    "\n",
    "The Fitting pocess of the EXAFS spectrum using Larch is described as follows.\n",
    "\n",
    "- Create a group to define the fitting parameters.\n",
    "- Read an scattering path calculated in FEFF.\n",
    "- Create a lp.xafs.TransformGroup.\n",
    "- Create a lp.xafs.FeffitDataSet.\n",
    "- Carry out the fitting in lp.xafs.feffit."
   ]
  },
  {
   "cell_type": "markdown",
   "metadata": {},
   "source": [
    "The following code creates the parameters group.\n",
    "The code is changed to use lp.fitting.param_group and lp.fitting.param instead of importing  Group and Parameter (does not work)."
   ]
  },
  {
   "cell_type": "code",
   "execution_count": null,
   "metadata": {},
   "outputs": [],
   "source": [
    "pars = lp.fitting.param_group(amp    = lp.fitting.param(1.0, vary=True),\n",
    "                   del_e0 = lp.fitting.param(0.0, vary=True),\n",
    "                   sig2   = lp.fitting.param(0.0, vary=True),\n",
    "                   del_r  = lp.fitting.param(0.0, vary=True), _larch=session )"
   ]
  },
  {
   "cell_type": "markdown",
   "metadata": {},
   "source": [
    "The following code loads the scattering path and assigns the parameters defined previously to s02, e0, sigma2, and deltar (amp, del_e0, sig2, and del_r respectively)."
   ]
  },
  {
   "cell_type": "code",
   "execution_count": null,
   "metadata": {},
   "outputs": [],
   "source": [
    "path1 = lp.xafs.FeffPathGroup(filename = 'fes2_feff/feff0001.dat',\n",
    "                              s02      = 'amp',\n",
    "                              e0       = 'del_e0',\n",
    "                              sigma2   = 'sig2',\n",
    "                              deltar   = 'del_r',\n",
    "                              _larch=session)"
   ]
  },
  {
   "cell_type": "markdown",
   "metadata": {},
   "source": [
    "XAFS of fitting performs the following operations:\n",
    "- Fitting of the radial structure function (R space)\n",
    "- Fitting the inverse Fourier transform over a specific range of the radial structure function (Q space)\n",
    "- EXAFS is fitting the vibration (k-space)\n",
    "\n",
    "The measured data and simulation results (the Fourier transform, etc.) need to be transformed to make them comparable.\n",
    "The lp.xafs.TransformGroup is used to prepare the fitspace."
   ]
  },
  {
   "cell_type": "code",
   "execution_count": null,
   "metadata": {},
   "outputs": [],
   "source": [
    "trans = lp.xafs.TransformGroup(fitspace='r', kmin=3, kmax=14, kw=2, dk=1, window='hanning', rmin=1.4,\n",
    "                               rmax=3.0, _larch=session)"
   ]
  },
  {
   "cell_type": "markdown",
   "metadata": {},
   "source": [
    "Next a set object is created to hold the experimental results, the model and the above TransformGroup, an instance of  lp.xafs.FeffitDataSet. \n",
    "\n",
    "Spectra, etc. of the fitting results are also stored in this FeffitDataSet."
   ]
  },
  {
   "cell_type": "code",
   "execution_count": null,
   "metadata": {},
   "outputs": [],
   "source": [
    "dataset = lp.xafs.FeffitDataSet(data=Fe_expt, pathlist=[path1], transform=trans, _larch=session)"
   ]
  },
  {
   "cell_type": "markdown",
   "metadata": {},
   "source": [
    "Finally, run the fitting using the lp.xafs.feffit. The arguments for the firt are the parameters Group and the  FeffitDataSet.\n",
    "\n",
    "The fit result after executing (lp.xafs.feffit) is  in the variable named out. "
   ]
  },
  {
   "cell_type": "code",
   "execution_count": null,
   "metadata": {},
   "outputs": [],
   "source": [
    "out = lp.xafs.feffit(pars, dset, _larch=session)"
   ]
  },
  {
   "cell_type": "markdown",
   "metadata": {},
   "source": [
    "Additionally, EXAFS vibration and radial structure are stored in the FeffitDataSet instance specified at the time of execution of lp.xafs.feffit. these can be plotted."
   ]
  },
  {
   "cell_type": "code",
   "execution_count": null,
   "metadata": {},
   "outputs": [],
   "source": [
    "fig = plt.figure()\n",
    "plt.plot(dset.data.r, dset.data.chir_mag, color='b')\n",
    "plt.plot(dset.data.r, dset.data.chir_re, color='b', label='expt.')\n",
    "plt.plot(dset.model.r, dset.model.chir_mag, color='r')\n",
    "plt.plot(dset.model.r, dset.model.chir_re, color='r', label='fit')\n",
    "plt.ylabel(\"Magnitude of Fourier Transform of $k^2 \\cdot \\chi$/$\\mathrm{\\AA}^{-3}$\")\n",
    "plt.xlabel(\"Radial distance/$\\mathrm{\\AA}$\")\n",
    "plt.xlim(0, 5)\n",
    "plt.ylim(-8, 8)\n",
    "plt.fill([1.4, 1.4, 3.0, 3.0],[-8, 8, 8, -8], color='g',alpha=0.1)\n",
    "plt.text(2.35, -7.5, 'fit range')\n",
    "plt.legend()\n",
    "plt.show()"
   ]
  },
  {
   "cell_type": "markdown",
   "metadata": {},
   "source": [
    "The results of the fit can be printed using feffit_report."
   ]
  },
  {
   "cell_type": "code",
   "execution_count": null,
   "metadata": {},
   "outputs": [],
   "source": [
    "print(lp.xafs.feffit_report(out, _larch=session))"
   ]
  }
 ],
 "metadata": {
  "kernelspec": {
   "display_name": "Python 3",
   "language": "python",
   "name": "python3"
  },
  "language_info": {
   "codemirror_mode": {
    "name": "ipython",
    "version": 3
   },
   "file_extension": ".py",
   "mimetype": "text/x-python",
   "name": "python",
   "nbconvert_exporter": "python",
   "pygments_lexer": "ipython3",
   "version": "3.6.10"
  }
 },
 "nbformat": 4,
 "nbformat_minor": 4
}
