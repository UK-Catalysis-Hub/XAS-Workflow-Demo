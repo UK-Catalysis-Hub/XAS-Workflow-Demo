{
 "cells": [
  {
   "cell_type": "markdown",
   "id": "58581da5",
   "metadata": {},
   "source": [
    "# Reproduce Published Results\n",
    "This example shows how to use alternative software with the published data to reproduce published XAS results.\n",
    "\n",
    "The input files to be used are the same as those of the Demeter (perl) example.\n",
    "\n",
    "This example replicates one by one the same operations implementer in the Demeter example"
   ]
  },
  {
   "cell_type": "markdown",
   "id": "3c84f137",
   "metadata": {},
   "source": [
    "# Libraries \n",
    "The following cell includes the libraries imported for  reproduction of results."
   ]
  },
  {
   "cell_type": "code",
   "execution_count": 1,
   "id": "b8687359",
   "metadata": {},
   "outputs": [],
   "source": [
    "# Larch Libraries\n",
    "# library to read ascii files\n",
    "from larch.io import read_ascii\n",
    "# libraries to handle data groups\n",
    "from larch.utils import group2dict, dict2group\n",
    "# library to normalise data\n",
    "from larch.xafs import pre_edge\n",
    "# import the larch.io libraries for managing athena files\n",
    "from larch.io import create_athena, read_athena, extract_athenagroup\n",
    "\n",
    "# File handling\n",
    "from pathlib import Path\n",
    "\n",
    "#plotting library\n",
    "%matplotlib inline\n",
    "import matplotlib.pyplot as plt\n",
    "\n",
    "#library for writing to log\n",
    "import logging\n",
    "\n",
    "# custom libraries\n",
    "# read/write csv data\n",
    "import lib.handle_csv as hcsv"
   ]
  },
  {
   "cell_type": "markdown",
   "id": "b8582f6c",
   "metadata": {},
   "source": [
    "# Functions\n",
    "The following cell includes the custom functions defined for enabling reproduction of results."
   ]
  },
  {
   "cell_type": "code",
   "execution_count": 2,
   "id": "4e8e4006",
   "metadata": {},
   "outputs": [],
   "source": [
    "\n",
    "\n",
    "# initialise log file\n",
    "def set_logger(log_file):\n",
    "    logger = logging.getLogger()\n",
    "    fhandler = logging.FileHandler(filename=log_file, mode='a')\n",
    "    formatter = logging.Formatter('%(asctime)s - %(name)s - %(levelname)s - %(message)s')\n",
    "    fhandler.setFormatter(formatter)\n",
    "    logger.addHandler(fhandler)\n",
    "    # prevent matplotlib font manager from writing to log\n",
    "    logging.getLogger('matplotlib.font_manager').disabled = True\n",
    "    logger.setLevel(logging.DEBUG)\n",
    "\n",
    "#reading all with the same extension files from a dir\n",
    "def get_files_list(source_dir, f_pattern):\n",
    "    i_counter = 0\n",
    "    files_list = []\n",
    "    for filepath in sorted(source_dir.glob(f_pattern)):\n",
    "        i_counter += 1\n",
    "        files_list.append(filepath)\n",
    "    return files_list\n",
    "\n",
    "# Rename columns \n",
    "def rename_cols(xafs_group):\n",
    "    # energy\n",
    "    engy = xafs_group.col1\n",
    "    # mu\n",
    "    mu_e = xafs_group.col2\n",
    "    # get a dictionary from te group\n",
    "    xafs_dict = group2dict(xafs_group)\n",
    "    # add mu and energy to the dictionary\n",
    "    xafs_dict['energy'] = engy\n",
    "    xafs_dict['mu'] = mu_e\n",
    "    xafs_group = dict2group(xafs_dict)\n",
    "    return xafs_group\n",
    "\n",
    "# show plot of normalised data\n",
    "def plot_normalised(xafs_group):\n",
    "        plt.plot(xafs_group.energy, xafs_group.pre_edge, 'g', label='pre-edge') # plot pre-edge in green\n",
    "        plt.plot(xafs_group.energy, xafs_group.post_edge, 'r', label='post-edge')# plot post-edge in green\n",
    "        plt.plot(xafs_group.energy, xafs_group.mu, 'b', label=xafs_group.filename) # plot mu in blue\n",
    "        plt.grid(color='r', linestyle=':', linewidth=1) #show and format grid\n",
    "        plt.xlabel('Energy (eV)') # label y graph\n",
    "        plt.ylabel('x$\\mu$(E)') # label y axis\n",
    "        plt.title(\"pre-edge and post_edge fitting to $\\mu$\")\n",
    "        plt.legend() # show legend\n",
    "\n"
   ]
  },
  {
   "cell_type": "markdown",
   "id": "b945d546",
   "metadata": {},
   "source": [
    "# Input parameters (variables)\n",
    "\n",
    "The variables in the next cell are the processing values that indicate where to get the data from, the pattern of the files to process and the number of files to process. These can be changed to process different datasets.\n"
   ]
  },
  {
   "cell_type": "code",
   "execution_count": 3,
   "id": "93f3ded8",
   "metadata": {},
   "outputs": [],
   "source": [
    "base_prefix = \"pub_037\"\n",
    "athena_groups_file = \"pub_037_athena.csv\"\n",
    "operations_list_file = \"pub_037_operations.csv\""
   ]
  },
  {
   "cell_type": "code",
   "execution_count": 20,
   "id": "733ca5ef",
   "metadata": {},
   "outputs": [
    {
     "name": "stderr",
     "output_type": "stream",
     "text": [
      "[root] INFO : Started processing\n",
      "[root] INFO : Input variables:\n",
      "[root] INFO : \tprefis     = pub_037\n",
      "[root] INFO : \treading from athena file = pub_037_athena.csv\n",
      "[root] INFO : \treading from operations file = pub_037_operations.csv\n"
     ]
    },
    {
     "name": "stdout",
     "output_type": "stream",
     "text": [
      "pub_037\\process.log\n"
     ]
    }
   ],
   "source": [
    "# create the path for storing results\n",
    "base_path = Path(\"./\" , base_prefix)\n",
    "Path(base_path).mkdir(parents=True, exist_ok=True)\n",
    "\n",
    "# create log file (store processing steps)\n",
    "log_file = Path(\"./\",base_path,\"process.log\")\n",
    "print(log_file)\n",
    "# set path for log\n",
    "set_logger(log_file)\n",
    "\n",
    "logging.info(\"Started processing\")\n",
    "logging.info(\"Input variables:\")\n",
    "logging.info(\"\\tprefis     = \" + base_prefix)\n",
    "logging.info(\"\\treading from athena file = \" + athena_groups_file)\n",
    "logging.info(\"\\treading from operations file = \" + operations_list_file )\n",
    "\n",
    "\n",
    "# get the files list (from csv file), no ID, no headers\n",
    "files_list, _ = hcsv.get_csv_data(athena_groups_file, \"\", False)\n",
    "files_list = list(files_list.values())\n",
    "# get the operations list (from csv file), no ID, no headers\n",
    "operations_list, _ = hcsv.get_csv_data(operations_list_file, \"\", False)\n",
    "operations_list = list(operations_list.values())\n"
   ]
  },
  {
   "cell_type": "code",
   "execution_count": 21,
   "id": "e70666ef",
   "metadata": {},
   "outputs": [
    {
     "data": {
      "text/plain": [
       "[['..\\\\psdi_data\\\\pub_037\\\\XAFS_prj\\\\SnO2 0.9 2.6-13.5 gbkg.prj',\n",
       "  'SnO2 0.9',\n",
       "  'SnO2'],\n",
       " ['..\\\\psdi_data\\\\pub_037\\\\XAFS_prj\\\\Sn K-edge\\\\PtSn_OCO.prj',\n",
       "  'PtSn_OCO rebinned',\n",
       "  'air'],\n",
       " ['..\\\\psdi_data\\\\pub_037\\\\XAFS_prj\\\\Sn K-edge\\\\PtSn_OCA.prj',\n",
       "  'PtSn_OCA rebinned',\n",
       "  'Ar'],\n",
       " ['..\\\\psdi_data\\\\pub_037\\\\XAFS_prj\\\\Sn K-edge\\\\PtSn_OCH.prj',\n",
       "  'PtSn_OCH rebinned',\n",
       "  'H2'],\n",
       " ['..\\\\psdi_data\\\\pub_037\\\\XAFS_prj\\\\Sn foil.prj', 'merge', 'Sn Foil'],\n",
       " ['..\\\\psdi_data\\\\pub_037\\\\XAFS_prj\\\\Sn K-edge\\\\PtSn_OC.prj',\n",
       "  'PtSn_OC_MERGE_CALIBRATE rebinned',\n",
       "  'PtSn'],\n",
       " ['..\\\\psdi_data\\\\pub_037\\\\XAFS_prj\\\\Sn K-edge\\\\PtSn_OCH_H2.prj',\n",
       "  'PtSn_OCH rebinned',\n",
       "  'H2-H2']]"
      ]
     },
     "execution_count": 21,
     "metadata": {},
     "output_type": "execute_result"
    }
   ],
   "source": [
    "files_list"
   ]
  },
  {
   "cell_type": "code",
   "execution_count": 22,
   "id": "7779bc3e",
   "metadata": {},
   "outputs": [
    {
     "data": {
      "text/plain": [
       "[['1',\n",
       "  '0|1|2|3|4',\n",
       "  '1|0|1|0|0|0|0|0|0',\n",
       "  'Show normalised E plot for first five groups',\n",
       "  '20|60|-20|180',\n",
       "  '',\n",
       "  '0',\n",
       "  '0'],\n",
       " ['2',\n",
       "  '0|1|2|3|4',\n",
       "  '1|0|1|1|0|0|0|0|0',\n",
       "  'Plot first derivate for first five groups',\n",
       "  '20|60|-15|7',\n",
       "  '',\n",
       "  '0',\n",
       "  '0'],\n",
       " ['3',\n",
       "  '3|0|4',\n",
       "  '0|0|0|1|0|0|0|0|0',\n",
       "  'Showing SnO2 and Sn foil LCF for H2',\n",
       "  '20|60|-20|60',\n",
       "  '',\n",
       "  '0',\n",
       "  '0'],\n",
       " ['3',\n",
       "  '2|0|4',\n",
       "  '0|0|0|1|0|0|0|0|0',\n",
       "  'Showing SnO2 and Sn foil LCF for Ar',\n",
       "  '20|60|-20|60',\n",
       "  '',\n",
       "  '0',\n",
       "  '0'],\n",
       " ['3',\n",
       "  '1|0|4',\n",
       "  '0|0|0|1|0|0|0|0|0',\n",
       "  'Showing SnO2 and Sn foil LCF for air',\n",
       "  '20|60|-20|60',\n",
       "  '',\n",
       "  '0',\n",
       "  '0'],\n",
       " ['3',\n",
       "  '3|0|6',\n",
       "  '0|0|0|1|0|0|0|0|0',\n",
       "  'Showing SnO2 and Sn H2-H2 LCF for H2',\n",
       "  '20|60|-20|60',\n",
       "  '',\n",
       "  '0',\n",
       "  '0'],\n",
       " ['3',\n",
       "  '2|0|6',\n",
       "  '0|0|0|1|0|0|0|0|0',\n",
       "  'Showing SnO2 and Sn H2-H2 LCF for Ar',\n",
       "  '20|60|-20|60',\n",
       "  '',\n",
       "  '0',\n",
       "  '0'],\n",
       " ['3',\n",
       "  '1|0|6',\n",
       "  '0|0|0|1|0|0|0|0|0',\n",
       "  'Showing SnO2 and Sn H2-H2 LCF for air',\n",
       "  '20|60|-20|60',\n",
       "  '',\n",
       "  '0',\n",
       "  '0']]"
      ]
     },
     "execution_count": 22,
     "metadata": {},
     "output_type": "execute_result"
    }
   ],
   "source": [
    "operations_list"
   ]
  },
  {
   "cell_type": "code",
   "execution_count": null,
   "id": "4a740aeb",
   "metadata": {},
   "outputs": [],
   "source": []
  }
 ],
 "metadata": {
  "kernelspec": {
   "display_name": "Python 3 (ipykernel)",
   "language": "python",
   "name": "python3"
  },
  "language_info": {
   "codemirror_mode": {
    "name": "ipython",
    "version": 3
   },
   "file_extension": ".py",
   "mimetype": "text/x-python",
   "name": "python",
   "nbconvert_exporter": "python",
   "pygments_lexer": "ipython3",
   "version": "3.8.12"
  }
 },
 "nbformat": 4,
 "nbformat_minor": 5
}
