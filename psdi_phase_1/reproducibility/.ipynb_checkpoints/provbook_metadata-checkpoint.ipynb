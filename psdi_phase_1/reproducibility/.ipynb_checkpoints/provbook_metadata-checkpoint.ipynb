{
 "cells": [
  {
   "cell_type": "code",
   "execution_count": 5,
   "id": "3bb92dde",
   "metadata": {},
   "outputs": [
    {
     "name": "stdout",
     "output_type": "stream",
     "text": [
      "@prefix foaf: <http://xmlns.com/foaf/0.1/> .\n",
      "@prefix xsd: <http://www.w3.org/2001/XMLSchema#> .\n",
      "\n",
      "<https://michiganpython.org/pokedex/pikachu> a <https://michiganpython.org/pokedex/Pokemon> ;\n",
      "    foaf:age 24 ;\n",
      "    foaf:knows [ a <https://michiganpython.org/pokedex/Pokemon> ;\n",
      "            foaf:age 1 ;\n",
      "            foaf:name \"Catezar\" ] ;\n",
      "    foaf:name \"Pikachu\" .\n",
      "\n",
      "\n"
     ]
    }
   ],
   "source": [
    "from rdflib import Graph, Literal, BNode, Namespace\n",
    "from rdflib.namespace import FOAF, RDF\n",
    "\n",
    "# load a small rdf file in n-triples format\n",
    "from pprint import pprint\n",
    "\n",
    "#pip install pyvis\n",
    "from pathlib import Path\n",
    "g = Graph()\n",
    "# friend of a friend (FOAF) is an ontology describing people\n",
    "g.bind(\"foaf\", FOAF)  # bind an RDFLib-provided namespace to a prefix\n",
    "\n",
    "pokedex = Namespace(\"https://michiganpython.org/pokedex/\")\n",
    "pikachu = pokedex.pikachu\n",
    "catezar = BNode() # a GUID is generated\n",
    "\n",
    "name = Literal(\"Pikachu\")\n",
    "age = Literal(24)\n",
    "\n",
    "g.add((pikachu, RDF.type, pokedex.Pokemon)) # add a triple for pikachu\n",
    "g.add((pikachu, FOAF.name, name)) # add name triple for pikachu\n",
    "g.add((pikachu, FOAF.age, age)) # add age triple for pikachu\n",
    "g.add((pikachu, FOAF.knows, catezar)) # add triple to link to catezar and pikachu\n",
    "g.add((catezar, RDF.type, pokedex.Pokemon))\n",
    "g.add((catezar, FOAF.name, Literal(\"Catezar\")))\n",
    "g.add((catezar, FOAF.age, Literal(1)))\n",
    "\n",
    "print(g.serialize())\n"
   ]
  },
  {
   "cell_type": "code",
   "execution_count": 6,
   "id": "aab66613",
   "metadata": {
    "scrolled": false
   },
   "outputs": [],
   "source": [
    "g_nbs = Graph()\n",
    "\n",
    "\n",
    "files_path = \".\"\n",
    "os_path = Path(files_path)\n",
    "for a_file in os_path.glob('*.ttl'):\n",
    "    print(a_file)\n",
    "    #a_graph = Graph()\n",
    "    g_nbs.parse(a_file, format=\"ttl\")\n",
    "    #for statement in a_graph:\n",
    "    #    pprint(statement)\n",
    "    "
   ]
  },
  {
   "cell_type": "code",
   "execution_count": 7,
   "id": "bec76736",
   "metadata": {},
   "outputs": [
    {
     "name": "stdout",
     "output_type": "stream",
     "text": [
      "rdflib Graph loaded successfully with 0 triples\n"
     ]
    }
   ],
   "source": [
    "print (f\"rdflib Graph loaded successfully with {len(g_nbs)} triples\")"
   ]
  },
  {
   "cell_type": "code",
   "execution_count": null,
   "id": "bf16017b",
   "metadata": {
    "scrolled": true
   },
   "outputs": [],
   "source": [
    "print (f\"rdflib Graph loaded successfully with {len(g_nbs)} triples\")\n",
    "#for statement in g_nbs:\n",
    "#   pprint(statement)\n",
    "\n",
    "sub_graph = Graph()\n",
    "triple_object = URIRef(\"https://w3id.org/reproduceme#Notebook\")\n",
    "\n",
    "triple_subject = URIRef(\"https://w3id.org/reproduceme#Cell0\")\n",
    "\n",
    "#p-plan: <http://purl.org/net/p-plan/#> .\n",
    "#rdf: <http://www.w3.org/1999/02/22-rdf-syntax-ns#> .\n",
    "#repr: <https://w3id.org/reproduceme#> .\n",
    "#xsd: <http://www.w3.org/2001/XMLSchema#> .\n",
    "# something a repr:Notebook\n",
    "sub_graph += g_nbs.triples((None, None, triple_object))\n",
    "for idx, (s,p,o) in enumerate(g_nbs.triples((None, None, triple_object))):\n",
    "    print(f\"{idx} S: {s} P:{p} O: {o}\")\n",
    "    #sub_graph += g_nbs.triples((None, None, s))\n",
    "    for idx2, (s1,p1,o1) in enumerate(g_nbs.triples((None, None, s))):\n",
    "        print(f\"\\t {idx2} S: {s1} P: {p1} O: {o1}\")\n",
    "        sub_graph.add((s1, p1, o1))\n",
    "        #for s2,p2,o2 in g_nbs.triples((s1,None, None)):\n",
    "        #    print(f\"S: {s2} P: {p2} O: {o2}\")\n"
   ]
  },
  {
   "cell_type": "code",
   "execution_count": null,
   "id": "3f18cb0d",
   "metadata": {},
   "outputs": [],
   "source": [
    "from rdflib.extras.external_graph_libs import rdflib_to_networkx_graph\n",
    "\n",
    "nx_graph = rdflib_to_networkx_graph(sub_graph)\n",
    "print(f\"Newtworkx {nx_graph} loaded successfully\")"
   ]
  },
  {
   "cell_type": "code",
   "execution_count": null,
   "id": "b51427e9",
   "metadata": {
    "scrolled": false
   },
   "outputs": [],
   "source": [
    "nt = Network(\"800px\", \"100%\", notebook=\"True\")\n",
    "nt.from_nx(nx_graph)\n",
    "nt.show_buttons(filter_=[\"physics\"])\n",
    "nt.show(\"nx.html\")"
   ]
  },
  {
   "cell_type": "code",
   "execution_count": null,
   "id": "11e82b44",
   "metadata": {},
   "outputs": [],
   "source": [
    "name = Literal(\"Midwinter heat\")\n",
    "for s,p,o in g.triples((None, None, name)):\n",
    "    print(f\"5 S: {s} P: {p} O: {o}\")"
   ]
  },
  {
   "cell_type": "code",
   "execution_count": null,
   "id": "aa64ec84",
   "metadata": {
    "scrolled": true
   },
   "outputs": [],
   "source": [
    "#p-plan: <http://purl.org/net/p-plan/#> .\n",
    "#rdf: <http://www.w3.org/1999/02/22-rdf-syntax-ns#> .\n",
    "#repr: <https://w3id.org/reproduceme#> .\n",
    "#xsd: <http://www.w3.org/2001/XMLSchema#> .\n",
    "# something a repr:Notebook\n",
    "repr_prefix = \"https://w3id.org/reproduceme#\"\n",
    "sub_graph = Graph()\n",
    "sub_graph += g_nbs.triples((None, None, triple_object))\n",
    "for idx, (s,p,o) in enumerate(g_nbs.triples((None, None, triple_object))):\n",
    "    book_id = s.removeprefix(repr_prefix)\n",
    "    #print(f\"{idx} S: {s} P:{p} O: {o}\")\n",
    "    #sub_graph += g_nbs.triples((None, None, s))\n",
    "    for idx2, (s1,p1,o1) in enumerate(g_nbs.triples((None, None, s))):\n",
    "        cell_id = s1.removeprefix(repr_prefix)\n",
    "        #print(cell_id)\n",
    "        new_s1 = URIRef(repr_prefix+book_id+\"_\"+cell_id)\n",
    "        #print(f\"\\t {idx2} S: {new_s1} P: {p1} O: {o1}\")\n",
    "        sub_graph.add((new_s1, p1, o1))\n",
    " "
   ]
  },
  {
   "cell_type": "code",
   "execution_count": null,
   "id": "74a8bc46",
   "metadata": {
    "scrolled": false
   },
   "outputs": [],
   "source": [
    "nx_graph = rdflib_to_networkx_graph(sub_graph)\n",
    "print(f\"Newtworkx {nx_graph} loaded successfully\")\n",
    "\n",
    "nt = Network(\"800px\", \"100%\", notebook=\"True\")\n",
    "nt.from_nx(nx_graph)\n",
    "nt.show_buttons(filter_=[\"physics\"])\n",
    "nt.show(\"nx.html\")"
   ]
  },
  {
   "cell_type": "code",
   "execution_count": null,
   "id": "420f1329",
   "metadata": {},
   "outputs": [],
   "source": [
    "prefix = \"https://w3id.org/reproduceme#\"\n",
    "book_id = s.removeprefix(prefix)\n",
    "\n",
    "print(s)\n",
    "\n",
    "print(book_id)\n",
    "\n",
    "cell_id = s1.removeprefix(prefix)\n",
    "print(s1)\n",
    "print(cell_id)\n",
    "\n",
    "new_s1 = URIRef(prefix+book_id+\"_\"+cell_id)\n",
    "print (new_s1)"
   ]
  },
  {
   "cell_type": "code",
   "execution_count": null,
   "id": "f9dc091e",
   "metadata": {},
   "outputs": [],
   "source": [
    "#p-plan: <http://purl.org/net/p-plan/#> .\n",
    "#rdf: <http://www.w3.org/1999/02/22-rdf-syntax-ns#> .\n",
    "#repr: <https://w3id.org/reproduceme#> .\n",
    "#xsd: <http://www.w3.org/2001/XMLSchema#> .\n",
    "# something a repr:Notebook\n",
    "repr_prefix = \"https://w3id.org/reproduceme#\"\n",
    "type_pred = URIRef('http://www.w3.org/1999/02/22-rdf-syntax-ns#type')\n",
    "\n",
    "sub_graph = Graph()\n",
    "sub_graph += g_nbs.triples((None, None, triple_object))\n",
    "for idx, (s,p,o) in enumerate(g_nbs.triples((None, None, triple_object))):\n",
    "    book_id = s.removeprefix(repr_prefix)\n",
    "    #print(f\"{idx} S: {s} P:{p} O: {o}\")\n",
    "    #sub_graph += g_nbs.triples((None, None, s))\n",
    "    for idx2, (s1,p1,o1) in enumerate(g_nbs.triples((None, None, s))):\n",
    "        cell_id = s1.removeprefix(repr_prefix)\n",
    "        #print(cell_id)\n",
    "        new_s1 = URIRef(repr_prefix+book_id+\"_\"+cell_id)\n",
    "        #print(f\"\\t {idx2} S: {new_s1} P: {p1} O: {o1}\")\n",
    "        sub_graph.add((new_s1, p1, o1))\n",
    "        for idx2, (_,p2,o2) in enumerate(g_nbs.triples((s1, type_pred, None))):\n",
    "            sub_graph.add((new_s1,p2,o2))"
   ]
  },
  {
   "cell_type": "code",
   "execution_count": null,
   "id": "7c54dc0b",
   "metadata": {},
   "outputs": [],
   "source": [
    "nx_graph = rdflib_to_networkx_graph(sub_graph)\n",
    "print(f\"Newtworkx {nx_graph} loaded successfully\")\n",
    "\n",
    "nt = Network(\"800px\", \"100%\", notebook=\"True\")\n",
    "nt.from_nx(nx_graph)\n",
    "nt.show_buttons(filter_=[\"physics\"])\n",
    "nt.show(\"nx.html\")"
   ]
  },
  {
   "cell_type": "code",
   "execution_count": null,
   "id": "f9417933",
   "metadata": {},
   "outputs": [],
   "source": [
    "#p-plan: <http://purl.org/net/p-plan/#> .\n",
    "#rdf: <http://www.w3.org/1999/02/22-rdf-syntax-ns#> .\n",
    "#repr: <https://w3id.org/reproduceme#> .\n",
    "#xsd: <http://www.w3.org/2001/XMLSchema#> .\n",
    "# something a repr:Notebook\n",
    "repr_prefix = \"https://w3id.org/reproduceme#\"\n",
    "type_pred = URIRef('http://www.w3.org/1999/02/22-rdf-syntax-ns#type')\n",
    "cell_type_pred = URIRef(\"https://w3id.org/reproduceme#hasCellType\")\n",
    "sub_graph = Graph()\n",
    "sub_graph += g_nbs.triples((None, None, triple_object))\n",
    "for idx, (s,p,o) in enumerate(g_nbs.triples((None, None, triple_object))):\n",
    "    book_id = s.removeprefix(repr_prefix)\n",
    "    #print(f\"{idx} S: {s} P:{p} O: {o}\")\n",
    "    #sub_graph += g_nbs.triples((None, None, s))\n",
    "    for idx2, (s1,p1,o1) in enumerate(g_nbs.triples((None, None, s))):\n",
    "        cell_id = s1.removeprefix(repr_prefix)\n",
    "        #print(cell_id)\n",
    "        new_s1 = URIRef(repr_prefix+book_id+\"_\"+cell_id)\n",
    "        #print(f\"\\t {idx2} S: {new_s1} P: {p1} O: {o1}\")\n",
    "        sub_graph.add((new_s1, p1, o1))\n",
    "        for idx2, (_,p2,o2) in enumerate(g_nbs.triples((s1, type_pred, None))):\n",
    "            sub_graph.add((new_s1,p2,o2))\n",
    "        for idx2, (_,p2,o2) in enumerate(g_nbs.triples((s1, cell_type_pred, None))):\n",
    "            sub_graph.add((new_s1,p2,o2))"
   ]
  },
  {
   "cell_type": "code",
   "execution_count": null,
   "id": "b690fe07",
   "metadata": {},
   "outputs": [],
   "source": [
    "nx_graph = rdflib_to_networkx_graph(sub_graph)\n",
    "print(f\"Newtworkx {nx_graph} loaded successfully\")\n",
    "\n",
    "nt = Network(\"800px\", \"100%\", notebook=\"True\")\n",
    "nt.from_nx(nx_graph)\n",
    "nt.show_buttons(filter_=[\"physics\"])\n",
    "nt.show(\"nx.html\")"
   ]
  },
  {
   "cell_type": "code",
   "execution_count": null,
   "id": "44d90541",
   "metadata": {},
   "outputs": [],
   "source": []
  }
 ],
 "metadata": {
  "kernelspec": {
   "display_name": "Python 3 (ipykernel)",
   "language": "python",
   "name": "python3"
  },
  "language_info": {
   "codemirror_mode": {
    "name": "ipython",
    "version": 3
   },
   "file_extension": ".py",
   "mimetype": "text/x-python",
   "name": "python",
   "nbconvert_exporter": "python",
   "pygments_lexer": "ipython3",
   "version": "3.9.2rc1"
  }
 },
 "nbformat": 4,
 "nbformat_minor": 5
}
