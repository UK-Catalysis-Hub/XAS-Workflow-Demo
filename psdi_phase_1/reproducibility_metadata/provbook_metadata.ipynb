{
 "cells": [
  {
   "cell_type": "markdown",
   "id": "fed90ec1",
   "metadata": {},
   "source": [
    "# Testing provbook\n",
    "\n",
    "This notebook explores the metadata produced from [provbook](https://github.com/Sheeba-Samuel/ProvBook), using notebook_rdf from command line on the notebooks reproducing published results."
   ]
  },
  {
   "cell_type": "code",
   "execution_count": 11,
   "id": "3bb92dde",
   "metadata": {},
   "outputs": [
    {
     "name": "stdout",
     "output_type": "stream",
     "text": [
      "@prefix foaf: <http://xmlns.com/foaf/0.1/> .\n",
      "@prefix xsd: <http://www.w3.org/2001/XMLSchema#> .\n",
      "\n",
      "<https://michiganpython.org/pokedex/pikachu> a <https://michiganpython.org/pokedex/Pokemon> ;\n",
      "    foaf:age 24 ;\n",
      "    foaf:knows [ a <https://michiganpython.org/pokedex/Pokemon> ;\n",
      "            foaf:age 1 ;\n",
      "            foaf:name \"Catezar\" ] ;\n",
      "    foaf:name \"Pikachu\" .\n",
      "\n",
      "\n"
     ]
    }
   ],
   "source": [
    "from rdflib import Graph, Literal, BNode, Namespace, URIRef\n",
    "from rdflib.namespace import FOAF, RDF\n",
    "\n",
    "# library to support visualisation of graphs\n",
    "from rdflib.extras.external_graph_libs import rdflib_to_networkx_graph\n",
    "\n",
    "# load a small rdf file in n-triples format\n",
    "from pprint import pprint\n",
    "\n",
    "#pip install pyvis\n",
    "from pathlib import Path\n",
    "\n",
    "# pyvis used to display the graphs\n",
    "from pyvis.network import Network\n",
    "\n",
    "g = Graph()\n",
    "# friend of a friend (FOAF) is an ontology describing people\n",
    "g.bind(\"foaf\", FOAF)  # bind an RDFLib-provided namespace to a prefix\n",
    "\n",
    "pokedex = Namespace(\"https://michiganpython.org/pokedex/\")\n",
    "pikachu = pokedex.pikachu\n",
    "catezar = BNode() # a GUID is generated\n",
    "\n",
    "name = Literal(\"Pikachu\")\n",
    "age = Literal(24)\n",
    "\n",
    "# addin triples to a graph\n",
    "g.add((pikachu, RDF.type, pokedex.Pokemon)) # add a triple for pikachu\n",
    "g.add((pikachu, FOAF.name, name)) # add name triple for pikachu\n",
    "g.add((pikachu, FOAF.age, age)) # add age triple for pikachu\n",
    "g.add((pikachu, FOAF.knows, catezar)) # add triple to link to catezar and pikachu\n",
    "g.add((catezar, RDF.type, pokedex.Pokemon))\n",
    "g.add((catezar, FOAF.name, Literal(\"Catezar\")))\n",
    "g.add((catezar, FOAF.age, Literal(1)))\n",
    "\n",
    "# printing the graph\n",
    "print(g.serialize())\n"
   ]
  },
  {
   "cell_type": "markdown",
   "id": "20413895",
   "metadata": {},
   "source": [
    "## Reading RDF\n",
    "The individaul rdf documents generated with notebook_rdf in a single graph \"g_nbs\"."
   ]
  },
  {
   "cell_type": "code",
   "execution_count": 27,
   "id": "aab66613",
   "metadata": {
    "scrolled": false
   },
   "outputs": [
    {
     "name": "stdout",
     "output_type": "stream",
     "text": [
      "Paper 01 Reproduce XAS.ttl\n",
      "Paper 02 Reproduce XAS.ttl\n",
      "Paper 03 Reproduce XAS.ttl\n",
      "Paper 04 Reproduce XAS.ttl\n",
      "Paper 05 Reproduce XAS.ttl\n",
      "Paper 06 Reproduce XAS.ttl\n",
      "Paper 07 Reproduce XAS.ttl\n",
      "Paper 08 Reproduce XAS.ttl\n",
      "Paper 09 Reproduce XAS.ttl\n",
      "Reproduce Results Larch-Python.ttl\n",
      "Vary fit parameters.ttl\n",
      "\n",
      "rdflib Graph loaded successfully with 1580 triples\n"
     ]
    }
   ],
   "source": [
    "g_nbs = Graph()\n",
    "\n",
    "files_path = \".\"\n",
    "os_path = Path(files_path)\n",
    "for a_file in os_path.glob('*.ttl'):\n",
    "    print(a_file)\n",
    "    #a_graph = Graph()\n",
    "    g_nbs.parse(a_file, format=\"ttl\")\n",
    "    #for statement in a_graph:\n",
    "    #    pprint(statement)\n",
    "    \n",
    "print (f\"\\nrdflib Graph loaded successfully with {len(g_nbs)} triples\")   "
   ]
  },
  {
   "cell_type": "markdown",
   "id": "8980ce14",
   "metadata": {},
   "source": [
    "## Create a subgraph\n",
    "\n",
    "A subgraph is created to show part of the information in the graph. \n"
   ]
  },
  {
   "cell_type": "code",
   "execution_count": 14,
   "id": "bf16017b",
   "metadata": {
    "scrolled": true
   },
   "outputs": [
    {
     "name": "stdout",
     "output_type": "stream",
     "text": [
      "rdflib Graph loaded successfully with 1580 triples\n",
      "0 S: https://w3id.org/reproduceme#Paper01ReproduceXAS P:http://www.w3.org/1999/02/22-rdf-syntax-ns#type O: https://w3id.org/reproduceme#Notebook\n",
      "\t 0 S: https://w3id.org/reproduceme#Cell0 P: http://purl.org/net/p-plan/#isStepOfPlan O: https://w3id.org/reproduceme#Paper01ReproduceXAS\n",
      "\t 1 S: https://w3id.org/reproduceme#Cell1 P: http://purl.org/net/p-plan/#isStepOfPlan O: https://w3id.org/reproduceme#Paper01ReproduceXAS\n",
      "\t 2 S: https://w3id.org/reproduceme#Cell10 P: http://purl.org/net/p-plan/#isStepOfPlan O: https://w3id.org/reproduceme#Paper01ReproduceXAS\n",
      "\t 3 S: https://w3id.org/reproduceme#Cell11 P: http://purl.org/net/p-plan/#isStepOfPlan O: https://w3id.org/reproduceme#Paper01ReproduceXAS\n",
      "\t 4 S: https://w3id.org/reproduceme#Cell12 P: http://purl.org/net/p-plan/#isStepOfPlan O: https://w3id.org/reproduceme#Paper01ReproduceXAS\n",
      "\t 5 S: https://w3id.org/reproduceme#Cell13 P: http://purl.org/net/p-plan/#isStepOfPlan O: https://w3id.org/reproduceme#Paper01ReproduceXAS\n",
      "\t 6 S: https://w3id.org/reproduceme#Cell14 P: http://purl.org/net/p-plan/#isStepOfPlan O: https://w3id.org/reproduceme#Paper01ReproduceXAS\n",
      "\t 7 S: https://w3id.org/reproduceme#Cell15 P: http://purl.org/net/p-plan/#isStepOfPlan O: https://w3id.org/reproduceme#Paper01ReproduceXAS\n",
      "\t 8 S: https://w3id.org/reproduceme#Cell16 P: http://purl.org/net/p-plan/#isStepOfPlan O: https://w3id.org/reproduceme#Paper01ReproduceXAS\n",
      "\t 9 S: https://w3id.org/reproduceme#Cell17 P: http://purl.org/net/p-plan/#isStepOfPlan O: https://w3id.org/reproduceme#Paper01ReproduceXAS\n",
      "\t 10 S: https://w3id.org/reproduceme#Cell18 P: http://purl.org/net/p-plan/#isStepOfPlan O: https://w3id.org/reproduceme#Paper01ReproduceXAS\n",
      "\t 11 S: https://w3id.org/reproduceme#Cell19 P: http://purl.org/net/p-plan/#isStepOfPlan O: https://w3id.org/reproduceme#Paper01ReproduceXAS\n",
      "\t 12 S: https://w3id.org/reproduceme#Cell2 P: http://purl.org/net/p-plan/#isStepOfPlan O: https://w3id.org/reproduceme#Paper01ReproduceXAS\n",
      "\t 13 S: https://w3id.org/reproduceme#Cell20 P: http://purl.org/net/p-plan/#isStepOfPlan O: https://w3id.org/reproduceme#Paper01ReproduceXAS\n",
      "\t 14 S: https://w3id.org/reproduceme#Cell21 P: http://purl.org/net/p-plan/#isStepOfPlan O: https://w3id.org/reproduceme#Paper01ReproduceXAS\n",
      "\t 15 S: https://w3id.org/reproduceme#Cell22 P: http://purl.org/net/p-plan/#isStepOfPlan O: https://w3id.org/reproduceme#Paper01ReproduceXAS\n",
      "\t 16 S: https://w3id.org/reproduceme#Cell23 P: http://purl.org/net/p-plan/#isStepOfPlan O: https://w3id.org/reproduceme#Paper01ReproduceXAS\n",
      "\t 17 S: https://w3id.org/reproduceme#Cell24 P: http://purl.org/net/p-plan/#isStepOfPlan O: https://w3id.org/reproduceme#Paper01ReproduceXAS\n",
      "\t 18 S: https://w3id.org/reproduceme#Cell25 P: http://purl.org/net/p-plan/#isStepOfPlan O: https://w3id.org/reproduceme#Paper01ReproduceXAS\n",
      "\t 19 S: https://w3id.org/reproduceme#Cell26 P: http://purl.org/net/p-plan/#isStepOfPlan O: https://w3id.org/reproduceme#Paper01ReproduceXAS\n",
      "\t 20 S: https://w3id.org/reproduceme#Cell27 P: http://purl.org/net/p-plan/#isStepOfPlan O: https://w3id.org/reproduceme#Paper01ReproduceXAS\n",
      "\t 21 S: https://w3id.org/reproduceme#Cell28 P: http://purl.org/net/p-plan/#isStepOfPlan O: https://w3id.org/reproduceme#Paper01ReproduceXAS\n",
      "\t 22 S: https://w3id.org/reproduceme#Cell29 P: http://purl.org/net/p-plan/#isStepOfPlan O: https://w3id.org/reproduceme#Paper01ReproduceXAS\n",
      "\t 23 S: https://w3id.org/reproduceme#Cell3 P: http://purl.org/net/p-plan/#isStepOfPlan O: https://w3id.org/reproduceme#Paper01ReproduceXAS\n",
      "\t 24 S: https://w3id.org/reproduceme#Cell30 P: http://purl.org/net/p-plan/#isStepOfPlan O: https://w3id.org/reproduceme#Paper01ReproduceXAS\n",
      "\t 25 S: https://w3id.org/reproduceme#Cell31 P: http://purl.org/net/p-plan/#isStepOfPlan O: https://w3id.org/reproduceme#Paper01ReproduceXAS\n",
      "\t 26 S: https://w3id.org/reproduceme#Cell32 P: http://purl.org/net/p-plan/#isStepOfPlan O: https://w3id.org/reproduceme#Paper01ReproduceXAS\n",
      "\t 27 S: https://w3id.org/reproduceme#Cell33 P: http://purl.org/net/p-plan/#isStepOfPlan O: https://w3id.org/reproduceme#Paper01ReproduceXAS\n",
      "\t 28 S: https://w3id.org/reproduceme#Cell34 P: http://purl.org/net/p-plan/#isStepOfPlan O: https://w3id.org/reproduceme#Paper01ReproduceXAS\n",
      "\t 29 S: https://w3id.org/reproduceme#Cell35 P: http://purl.org/net/p-plan/#isStepOfPlan O: https://w3id.org/reproduceme#Paper01ReproduceXAS\n",
      "\t 30 S: https://w3id.org/reproduceme#Cell4 P: http://purl.org/net/p-plan/#isStepOfPlan O: https://w3id.org/reproduceme#Paper01ReproduceXAS\n",
      "\t 31 S: https://w3id.org/reproduceme#Cell5 P: http://purl.org/net/p-plan/#isStepOfPlan O: https://w3id.org/reproduceme#Paper01ReproduceXAS\n",
      "\t 32 S: https://w3id.org/reproduceme#Cell6 P: http://purl.org/net/p-plan/#isStepOfPlan O: https://w3id.org/reproduceme#Paper01ReproduceXAS\n",
      "\t 33 S: https://w3id.org/reproduceme#Cell7 P: http://purl.org/net/p-plan/#isStepOfPlan O: https://w3id.org/reproduceme#Paper01ReproduceXAS\n",
      "\t 34 S: https://w3id.org/reproduceme#Cell8 P: http://purl.org/net/p-plan/#isStepOfPlan O: https://w3id.org/reproduceme#Paper01ReproduceXAS\n",
      "\t 35 S: https://w3id.org/reproduceme#Cell9 P: http://purl.org/net/p-plan/#isStepOfPlan O: https://w3id.org/reproduceme#Paper01ReproduceXAS\n",
      "1 S: https://w3id.org/reproduceme#Paper02ReproduceXAS P:http://www.w3.org/1999/02/22-rdf-syntax-ns#type O: https://w3id.org/reproduceme#Notebook\n",
      "\t 0 S: https://w3id.org/reproduceme#Cell0 P: http://purl.org/net/p-plan/#isStepOfPlan O: https://w3id.org/reproduceme#Paper02ReproduceXAS\n",
      "\t 1 S: https://w3id.org/reproduceme#Cell1 P: http://purl.org/net/p-plan/#isStepOfPlan O: https://w3id.org/reproduceme#Paper02ReproduceXAS\n",
      "\t 2 S: https://w3id.org/reproduceme#Cell10 P: http://purl.org/net/p-plan/#isStepOfPlan O: https://w3id.org/reproduceme#Paper02ReproduceXAS\n",
      "\t 3 S: https://w3id.org/reproduceme#Cell11 P: http://purl.org/net/p-plan/#isStepOfPlan O: https://w3id.org/reproduceme#Paper02ReproduceXAS\n",
      "\t 4 S: https://w3id.org/reproduceme#Cell12 P: http://purl.org/net/p-plan/#isStepOfPlan O: https://w3id.org/reproduceme#Paper02ReproduceXAS\n",
      "\t 5 S: https://w3id.org/reproduceme#Cell13 P: http://purl.org/net/p-plan/#isStepOfPlan O: https://w3id.org/reproduceme#Paper02ReproduceXAS\n",
      "\t 6 S: https://w3id.org/reproduceme#Cell14 P: http://purl.org/net/p-plan/#isStepOfPlan O: https://w3id.org/reproduceme#Paper02ReproduceXAS\n",
      "\t 7 S: https://w3id.org/reproduceme#Cell15 P: http://purl.org/net/p-plan/#isStepOfPlan O: https://w3id.org/reproduceme#Paper02ReproduceXAS\n",
      "\t 8 S: https://w3id.org/reproduceme#Cell16 P: http://purl.org/net/p-plan/#isStepOfPlan O: https://w3id.org/reproduceme#Paper02ReproduceXAS\n",
      "\t 9 S: https://w3id.org/reproduceme#Cell17 P: http://purl.org/net/p-plan/#isStepOfPlan O: https://w3id.org/reproduceme#Paper02ReproduceXAS\n",
      "\t 10 S: https://w3id.org/reproduceme#Cell18 P: http://purl.org/net/p-plan/#isStepOfPlan O: https://w3id.org/reproduceme#Paper02ReproduceXAS\n",
      "\t 11 S: https://w3id.org/reproduceme#Cell19 P: http://purl.org/net/p-plan/#isStepOfPlan O: https://w3id.org/reproduceme#Paper02ReproduceXAS\n",
      "\t 12 S: https://w3id.org/reproduceme#Cell2 P: http://purl.org/net/p-plan/#isStepOfPlan O: https://w3id.org/reproduceme#Paper02ReproduceXAS\n",
      "\t 13 S: https://w3id.org/reproduceme#Cell3 P: http://purl.org/net/p-plan/#isStepOfPlan O: https://w3id.org/reproduceme#Paper02ReproduceXAS\n",
      "\t 14 S: https://w3id.org/reproduceme#Cell4 P: http://purl.org/net/p-plan/#isStepOfPlan O: https://w3id.org/reproduceme#Paper02ReproduceXAS\n",
      "\t 15 S: https://w3id.org/reproduceme#Cell5 P: http://purl.org/net/p-plan/#isStepOfPlan O: https://w3id.org/reproduceme#Paper02ReproduceXAS\n",
      "\t 16 S: https://w3id.org/reproduceme#Cell6 P: http://purl.org/net/p-plan/#isStepOfPlan O: https://w3id.org/reproduceme#Paper02ReproduceXAS\n",
      "\t 17 S: https://w3id.org/reproduceme#Cell7 P: http://purl.org/net/p-plan/#isStepOfPlan O: https://w3id.org/reproduceme#Paper02ReproduceXAS\n",
      "\t 18 S: https://w3id.org/reproduceme#Cell8 P: http://purl.org/net/p-plan/#isStepOfPlan O: https://w3id.org/reproduceme#Paper02ReproduceXAS\n",
      "\t 19 S: https://w3id.org/reproduceme#Cell9 P: http://purl.org/net/p-plan/#isStepOfPlan O: https://w3id.org/reproduceme#Paper02ReproduceXAS\n",
      "2 S: https://w3id.org/reproduceme#Paper03ReproduceXAS P:http://www.w3.org/1999/02/22-rdf-syntax-ns#type O: https://w3id.org/reproduceme#Notebook\n",
      "\t 0 S: https://w3id.org/reproduceme#Cell0 P: http://purl.org/net/p-plan/#isStepOfPlan O: https://w3id.org/reproduceme#Paper03ReproduceXAS\n",
      "\t 1 S: https://w3id.org/reproduceme#Cell1 P: http://purl.org/net/p-plan/#isStepOfPlan O: https://w3id.org/reproduceme#Paper03ReproduceXAS\n",
      "\t 2 S: https://w3id.org/reproduceme#Cell10 P: http://purl.org/net/p-plan/#isStepOfPlan O: https://w3id.org/reproduceme#Paper03ReproduceXAS\n",
      "\t 3 S: https://w3id.org/reproduceme#Cell11 P: http://purl.org/net/p-plan/#isStepOfPlan O: https://w3id.org/reproduceme#Paper03ReproduceXAS\n",
      "\t 4 S: https://w3id.org/reproduceme#Cell12 P: http://purl.org/net/p-plan/#isStepOfPlan O: https://w3id.org/reproduceme#Paper03ReproduceXAS\n",
      "\t 5 S: https://w3id.org/reproduceme#Cell13 P: http://purl.org/net/p-plan/#isStepOfPlan O: https://w3id.org/reproduceme#Paper03ReproduceXAS\n",
      "\t 6 S: https://w3id.org/reproduceme#Cell14 P: http://purl.org/net/p-plan/#isStepOfPlan O: https://w3id.org/reproduceme#Paper03ReproduceXAS\n",
      "\t 7 S: https://w3id.org/reproduceme#Cell15 P: http://purl.org/net/p-plan/#isStepOfPlan O: https://w3id.org/reproduceme#Paper03ReproduceXAS\n",
      "\t 8 S: https://w3id.org/reproduceme#Cell2 P: http://purl.org/net/p-plan/#isStepOfPlan O: https://w3id.org/reproduceme#Paper03ReproduceXAS\n",
      "\t 9 S: https://w3id.org/reproduceme#Cell3 P: http://purl.org/net/p-plan/#isStepOfPlan O: https://w3id.org/reproduceme#Paper03ReproduceXAS\n",
      "\t 10 S: https://w3id.org/reproduceme#Cell4 P: http://purl.org/net/p-plan/#isStepOfPlan O: https://w3id.org/reproduceme#Paper03ReproduceXAS\n",
      "\t 11 S: https://w3id.org/reproduceme#Cell5 P: http://purl.org/net/p-plan/#isStepOfPlan O: https://w3id.org/reproduceme#Paper03ReproduceXAS\n",
      "\t 12 S: https://w3id.org/reproduceme#Cell6 P: http://purl.org/net/p-plan/#isStepOfPlan O: https://w3id.org/reproduceme#Paper03ReproduceXAS\n",
      "\t 13 S: https://w3id.org/reproduceme#Cell7 P: http://purl.org/net/p-plan/#isStepOfPlan O: https://w3id.org/reproduceme#Paper03ReproduceXAS\n",
      "\t 14 S: https://w3id.org/reproduceme#Cell8 P: http://purl.org/net/p-plan/#isStepOfPlan O: https://w3id.org/reproduceme#Paper03ReproduceXAS\n",
      "\t 15 S: https://w3id.org/reproduceme#Cell9 P: http://purl.org/net/p-plan/#isStepOfPlan O: https://w3id.org/reproduceme#Paper03ReproduceXAS\n",
      "3 S: https://w3id.org/reproduceme#Paper04ReproduceXAS P:http://www.w3.org/1999/02/22-rdf-syntax-ns#type O: https://w3id.org/reproduceme#Notebook\n",
      "\t 0 S: https://w3id.org/reproduceme#Cell0 P: http://purl.org/net/p-plan/#isStepOfPlan O: https://w3id.org/reproduceme#Paper04ReproduceXAS\n",
      "\t 1 S: https://w3id.org/reproduceme#Cell1 P: http://purl.org/net/p-plan/#isStepOfPlan O: https://w3id.org/reproduceme#Paper04ReproduceXAS\n",
      "\t 2 S: https://w3id.org/reproduceme#Cell2 P: http://purl.org/net/p-plan/#isStepOfPlan O: https://w3id.org/reproduceme#Paper04ReproduceXAS\n",
      "\t 3 S: https://w3id.org/reproduceme#Cell3 P: http://purl.org/net/p-plan/#isStepOfPlan O: https://w3id.org/reproduceme#Paper04ReproduceXAS\n",
      "\t 4 S: https://w3id.org/reproduceme#Cell4 P: http://purl.org/net/p-plan/#isStepOfPlan O: https://w3id.org/reproduceme#Paper04ReproduceXAS\n",
      "\t 5 S: https://w3id.org/reproduceme#Cell5 P: http://purl.org/net/p-plan/#isStepOfPlan O: https://w3id.org/reproduceme#Paper04ReproduceXAS\n",
      "\t 6 S: https://w3id.org/reproduceme#Cell6 P: http://purl.org/net/p-plan/#isStepOfPlan O: https://w3id.org/reproduceme#Paper04ReproduceXAS\n",
      "\t 7 S: https://w3id.org/reproduceme#Cell7 P: http://purl.org/net/p-plan/#isStepOfPlan O: https://w3id.org/reproduceme#Paper04ReproduceXAS\n",
      "\t 8 S: https://w3id.org/reproduceme#Cell8 P: http://purl.org/net/p-plan/#isStepOfPlan O: https://w3id.org/reproduceme#Paper04ReproduceXAS\n",
      "\t 9 S: https://w3id.org/reproduceme#Cell9 P: http://purl.org/net/p-plan/#isStepOfPlan O: https://w3id.org/reproduceme#Paper04ReproduceXAS\n",
      "4 S: https://w3id.org/reproduceme#Paper05ReproduceXAS P:http://www.w3.org/1999/02/22-rdf-syntax-ns#type O: https://w3id.org/reproduceme#Notebook\n",
      "\t 0 S: https://w3id.org/reproduceme#Cell0 P: http://purl.org/net/p-plan/#isStepOfPlan O: https://w3id.org/reproduceme#Paper05ReproduceXAS\n",
      "\t 1 S: https://w3id.org/reproduceme#Cell1 P: http://purl.org/net/p-plan/#isStepOfPlan O: https://w3id.org/reproduceme#Paper05ReproduceXAS\n",
      "\t 2 S: https://w3id.org/reproduceme#Cell10 P: http://purl.org/net/p-plan/#isStepOfPlan O: https://w3id.org/reproduceme#Paper05ReproduceXAS\n",
      "\t 3 S: https://w3id.org/reproduceme#Cell11 P: http://purl.org/net/p-plan/#isStepOfPlan O: https://w3id.org/reproduceme#Paper05ReproduceXAS\n",
      "\t 4 S: https://w3id.org/reproduceme#Cell12 P: http://purl.org/net/p-plan/#isStepOfPlan O: https://w3id.org/reproduceme#Paper05ReproduceXAS\n",
      "\t 5 S: https://w3id.org/reproduceme#Cell13 P: http://purl.org/net/p-plan/#isStepOfPlan O: https://w3id.org/reproduceme#Paper05ReproduceXAS\n",
      "\t 6 S: https://w3id.org/reproduceme#Cell14 P: http://purl.org/net/p-plan/#isStepOfPlan O: https://w3id.org/reproduceme#Paper05ReproduceXAS\n",
      "\t 7 S: https://w3id.org/reproduceme#Cell15 P: http://purl.org/net/p-plan/#isStepOfPlan O: https://w3id.org/reproduceme#Paper05ReproduceXAS\n",
      "\t 8 S: https://w3id.org/reproduceme#Cell16 P: http://purl.org/net/p-plan/#isStepOfPlan O: https://w3id.org/reproduceme#Paper05ReproduceXAS\n",
      "\t 9 S: https://w3id.org/reproduceme#Cell17 P: http://purl.org/net/p-plan/#isStepOfPlan O: https://w3id.org/reproduceme#Paper05ReproduceXAS\n",
      "\t 10 S: https://w3id.org/reproduceme#Cell18 P: http://purl.org/net/p-plan/#isStepOfPlan O: https://w3id.org/reproduceme#Paper05ReproduceXAS\n",
      "\t 11 S: https://w3id.org/reproduceme#Cell19 P: http://purl.org/net/p-plan/#isStepOfPlan O: https://w3id.org/reproduceme#Paper05ReproduceXAS\n",
      "\t 12 S: https://w3id.org/reproduceme#Cell2 P: http://purl.org/net/p-plan/#isStepOfPlan O: https://w3id.org/reproduceme#Paper05ReproduceXAS\n",
      "\t 13 S: https://w3id.org/reproduceme#Cell20 P: http://purl.org/net/p-plan/#isStepOfPlan O: https://w3id.org/reproduceme#Paper05ReproduceXAS\n",
      "\t 14 S: https://w3id.org/reproduceme#Cell21 P: http://purl.org/net/p-plan/#isStepOfPlan O: https://w3id.org/reproduceme#Paper05ReproduceXAS\n",
      "\t 15 S: https://w3id.org/reproduceme#Cell22 P: http://purl.org/net/p-plan/#isStepOfPlan O: https://w3id.org/reproduceme#Paper05ReproduceXAS\n",
      "\t 16 S: https://w3id.org/reproduceme#Cell23 P: http://purl.org/net/p-plan/#isStepOfPlan O: https://w3id.org/reproduceme#Paper05ReproduceXAS\n",
      "\t 17 S: https://w3id.org/reproduceme#Cell24 P: http://purl.org/net/p-plan/#isStepOfPlan O: https://w3id.org/reproduceme#Paper05ReproduceXAS\n",
      "\t 18 S: https://w3id.org/reproduceme#Cell25 P: http://purl.org/net/p-plan/#isStepOfPlan O: https://w3id.org/reproduceme#Paper05ReproduceXAS\n",
      "\t 19 S: https://w3id.org/reproduceme#Cell26 P: http://purl.org/net/p-plan/#isStepOfPlan O: https://w3id.org/reproduceme#Paper05ReproduceXAS\n",
      "\t 20 S: https://w3id.org/reproduceme#Cell27 P: http://purl.org/net/p-plan/#isStepOfPlan O: https://w3id.org/reproduceme#Paper05ReproduceXAS\n",
      "\t 21 S: https://w3id.org/reproduceme#Cell28 P: http://purl.org/net/p-plan/#isStepOfPlan O: https://w3id.org/reproduceme#Paper05ReproduceXAS\n",
      "\t 22 S: https://w3id.org/reproduceme#Cell29 P: http://purl.org/net/p-plan/#isStepOfPlan O: https://w3id.org/reproduceme#Paper05ReproduceXAS\n",
      "\t 23 S: https://w3id.org/reproduceme#Cell3 P: http://purl.org/net/p-plan/#isStepOfPlan O: https://w3id.org/reproduceme#Paper05ReproduceXAS\n",
      "\t 24 S: https://w3id.org/reproduceme#Cell30 P: http://purl.org/net/p-plan/#isStepOfPlan O: https://w3id.org/reproduceme#Paper05ReproduceXAS\n",
      "\t 25 S: https://w3id.org/reproduceme#Cell31 P: http://purl.org/net/p-plan/#isStepOfPlan O: https://w3id.org/reproduceme#Paper05ReproduceXAS\n",
      "\t 26 S: https://w3id.org/reproduceme#Cell32 P: http://purl.org/net/p-plan/#isStepOfPlan O: https://w3id.org/reproduceme#Paper05ReproduceXAS\n",
      "\t 27 S: https://w3id.org/reproduceme#Cell33 P: http://purl.org/net/p-plan/#isStepOfPlan O: https://w3id.org/reproduceme#Paper05ReproduceXAS\n",
      "\t 28 S: https://w3id.org/reproduceme#Cell34 P: http://purl.org/net/p-plan/#isStepOfPlan O: https://w3id.org/reproduceme#Paper05ReproduceXAS\n",
      "\t 29 S: https://w3id.org/reproduceme#Cell35 P: http://purl.org/net/p-plan/#isStepOfPlan O: https://w3id.org/reproduceme#Paper05ReproduceXAS\n",
      "\t 30 S: https://w3id.org/reproduceme#Cell36 P: http://purl.org/net/p-plan/#isStepOfPlan O: https://w3id.org/reproduceme#Paper05ReproduceXAS\n",
      "\t 31 S: https://w3id.org/reproduceme#Cell37 P: http://purl.org/net/p-plan/#isStepOfPlan O: https://w3id.org/reproduceme#Paper05ReproduceXAS\n",
      "\t 32 S: https://w3id.org/reproduceme#Cell38 P: http://purl.org/net/p-plan/#isStepOfPlan O: https://w3id.org/reproduceme#Paper05ReproduceXAS\n",
      "\t 33 S: https://w3id.org/reproduceme#Cell39 P: http://purl.org/net/p-plan/#isStepOfPlan O: https://w3id.org/reproduceme#Paper05ReproduceXAS\n",
      "\t 34 S: https://w3id.org/reproduceme#Cell4 P: http://purl.org/net/p-plan/#isStepOfPlan O: https://w3id.org/reproduceme#Paper05ReproduceXAS\n",
      "\t 35 S: https://w3id.org/reproduceme#Cell40 P: http://purl.org/net/p-plan/#isStepOfPlan O: https://w3id.org/reproduceme#Paper05ReproduceXAS\n",
      "\t 36 S: https://w3id.org/reproduceme#Cell41 P: http://purl.org/net/p-plan/#isStepOfPlan O: https://w3id.org/reproduceme#Paper05ReproduceXAS\n",
      "\t 37 S: https://w3id.org/reproduceme#Cell42 P: http://purl.org/net/p-plan/#isStepOfPlan O: https://w3id.org/reproduceme#Paper05ReproduceXAS\n",
      "\t 38 S: https://w3id.org/reproduceme#Cell43 P: http://purl.org/net/p-plan/#isStepOfPlan O: https://w3id.org/reproduceme#Paper05ReproduceXAS\n",
      "\t 39 S: https://w3id.org/reproduceme#Cell5 P: http://purl.org/net/p-plan/#isStepOfPlan O: https://w3id.org/reproduceme#Paper05ReproduceXAS\n",
      "\t 40 S: https://w3id.org/reproduceme#Cell6 P: http://purl.org/net/p-plan/#isStepOfPlan O: https://w3id.org/reproduceme#Paper05ReproduceXAS\n",
      "\t 41 S: https://w3id.org/reproduceme#Cell7 P: http://purl.org/net/p-plan/#isStepOfPlan O: https://w3id.org/reproduceme#Paper05ReproduceXAS\n",
      "\t 42 S: https://w3id.org/reproduceme#Cell8 P: http://purl.org/net/p-plan/#isStepOfPlan O: https://w3id.org/reproduceme#Paper05ReproduceXAS\n",
      "\t 43 S: https://w3id.org/reproduceme#Cell9 P: http://purl.org/net/p-plan/#isStepOfPlan O: https://w3id.org/reproduceme#Paper05ReproduceXAS\n",
      "5 S: https://w3id.org/reproduceme#Paper06ReproduceXAS P:http://www.w3.org/1999/02/22-rdf-syntax-ns#type O: https://w3id.org/reproduceme#Notebook\n",
      "\t 0 S: https://w3id.org/reproduceme#Cell0 P: http://purl.org/net/p-plan/#isStepOfPlan O: https://w3id.org/reproduceme#Paper06ReproduceXAS\n",
      "\t 1 S: https://w3id.org/reproduceme#Cell1 P: http://purl.org/net/p-plan/#isStepOfPlan O: https://w3id.org/reproduceme#Paper06ReproduceXAS\n",
      "\t 2 S: https://w3id.org/reproduceme#Cell10 P: http://purl.org/net/p-plan/#isStepOfPlan O: https://w3id.org/reproduceme#Paper06ReproduceXAS\n",
      "\t 3 S: https://w3id.org/reproduceme#Cell11 P: http://purl.org/net/p-plan/#isStepOfPlan O: https://w3id.org/reproduceme#Paper06ReproduceXAS\n",
      "\t 4 S: https://w3id.org/reproduceme#Cell12 P: http://purl.org/net/p-plan/#isStepOfPlan O: https://w3id.org/reproduceme#Paper06ReproduceXAS\n",
      "\t 5 S: https://w3id.org/reproduceme#Cell13 P: http://purl.org/net/p-plan/#isStepOfPlan O: https://w3id.org/reproduceme#Paper06ReproduceXAS\n",
      "\t 6 S: https://w3id.org/reproduceme#Cell14 P: http://purl.org/net/p-plan/#isStepOfPlan O: https://w3id.org/reproduceme#Paper06ReproduceXAS\n",
      "\t 7 S: https://w3id.org/reproduceme#Cell15 P: http://purl.org/net/p-plan/#isStepOfPlan O: https://w3id.org/reproduceme#Paper06ReproduceXAS\n",
      "\t 8 S: https://w3id.org/reproduceme#Cell16 P: http://purl.org/net/p-plan/#isStepOfPlan O: https://w3id.org/reproduceme#Paper06ReproduceXAS\n",
      "\t 9 S: https://w3id.org/reproduceme#Cell17 P: http://purl.org/net/p-plan/#isStepOfPlan O: https://w3id.org/reproduceme#Paper06ReproduceXAS\n",
      "\t 10 S: https://w3id.org/reproduceme#Cell18 P: http://purl.org/net/p-plan/#isStepOfPlan O: https://w3id.org/reproduceme#Paper06ReproduceXAS\n",
      "\t 11 S: https://w3id.org/reproduceme#Cell19 P: http://purl.org/net/p-plan/#isStepOfPlan O: https://w3id.org/reproduceme#Paper06ReproduceXAS\n",
      "\t 12 S: https://w3id.org/reproduceme#Cell2 P: http://purl.org/net/p-plan/#isStepOfPlan O: https://w3id.org/reproduceme#Paper06ReproduceXAS\n",
      "\t 13 S: https://w3id.org/reproduceme#Cell20 P: http://purl.org/net/p-plan/#isStepOfPlan O: https://w3id.org/reproduceme#Paper06ReproduceXAS\n",
      "\t 14 S: https://w3id.org/reproduceme#Cell21 P: http://purl.org/net/p-plan/#isStepOfPlan O: https://w3id.org/reproduceme#Paper06ReproduceXAS\n",
      "\t 15 S: https://w3id.org/reproduceme#Cell22 P: http://purl.org/net/p-plan/#isStepOfPlan O: https://w3id.org/reproduceme#Paper06ReproduceXAS\n",
      "\t 16 S: https://w3id.org/reproduceme#Cell23 P: http://purl.org/net/p-plan/#isStepOfPlan O: https://w3id.org/reproduceme#Paper06ReproduceXAS\n",
      "\t 17 S: https://w3id.org/reproduceme#Cell24 P: http://purl.org/net/p-plan/#isStepOfPlan O: https://w3id.org/reproduceme#Paper06ReproduceXAS\n",
      "\t 18 S: https://w3id.org/reproduceme#Cell25 P: http://purl.org/net/p-plan/#isStepOfPlan O: https://w3id.org/reproduceme#Paper06ReproduceXAS\n",
      "\t 19 S: https://w3id.org/reproduceme#Cell26 P: http://purl.org/net/p-plan/#isStepOfPlan O: https://w3id.org/reproduceme#Paper06ReproduceXAS\n",
      "\t 20 S: https://w3id.org/reproduceme#Cell27 P: http://purl.org/net/p-plan/#isStepOfPlan O: https://w3id.org/reproduceme#Paper06ReproduceXAS\n",
      "\t 21 S: https://w3id.org/reproduceme#Cell28 P: http://purl.org/net/p-plan/#isStepOfPlan O: https://w3id.org/reproduceme#Paper06ReproduceXAS\n",
      "\t 22 S: https://w3id.org/reproduceme#Cell29 P: http://purl.org/net/p-plan/#isStepOfPlan O: https://w3id.org/reproduceme#Paper06ReproduceXAS\n",
      "\t 23 S: https://w3id.org/reproduceme#Cell3 P: http://purl.org/net/p-plan/#isStepOfPlan O: https://w3id.org/reproduceme#Paper06ReproduceXAS\n",
      "\t 24 S: https://w3id.org/reproduceme#Cell30 P: http://purl.org/net/p-plan/#isStepOfPlan O: https://w3id.org/reproduceme#Paper06ReproduceXAS\n",
      "\t 25 S: https://w3id.org/reproduceme#Cell4 P: http://purl.org/net/p-plan/#isStepOfPlan O: https://w3id.org/reproduceme#Paper06ReproduceXAS\n",
      "\t 26 S: https://w3id.org/reproduceme#Cell5 P: http://purl.org/net/p-plan/#isStepOfPlan O: https://w3id.org/reproduceme#Paper06ReproduceXAS\n",
      "\t 27 S: https://w3id.org/reproduceme#Cell6 P: http://purl.org/net/p-plan/#isStepOfPlan O: https://w3id.org/reproduceme#Paper06ReproduceXAS\n",
      "\t 28 S: https://w3id.org/reproduceme#Cell7 P: http://purl.org/net/p-plan/#isStepOfPlan O: https://w3id.org/reproduceme#Paper06ReproduceXAS\n",
      "\t 29 S: https://w3id.org/reproduceme#Cell8 P: http://purl.org/net/p-plan/#isStepOfPlan O: https://w3id.org/reproduceme#Paper06ReproduceXAS\n",
      "\t 30 S: https://w3id.org/reproduceme#Cell9 P: http://purl.org/net/p-plan/#isStepOfPlan O: https://w3id.org/reproduceme#Paper06ReproduceXAS\n",
      "6 S: https://w3id.org/reproduceme#Paper07ReproduceXAS P:http://www.w3.org/1999/02/22-rdf-syntax-ns#type O: https://w3id.org/reproduceme#Notebook\n",
      "\t 0 S: https://w3id.org/reproduceme#Cell0 P: http://purl.org/net/p-plan/#isStepOfPlan O: https://w3id.org/reproduceme#Paper07ReproduceXAS\n",
      "\t 1 S: https://w3id.org/reproduceme#Cell1 P: http://purl.org/net/p-plan/#isStepOfPlan O: https://w3id.org/reproduceme#Paper07ReproduceXAS\n",
      "\t 2 S: https://w3id.org/reproduceme#Cell10 P: http://purl.org/net/p-plan/#isStepOfPlan O: https://w3id.org/reproduceme#Paper07ReproduceXAS\n",
      "\t 3 S: https://w3id.org/reproduceme#Cell2 P: http://purl.org/net/p-plan/#isStepOfPlan O: https://w3id.org/reproduceme#Paper07ReproduceXAS\n",
      "\t 4 S: https://w3id.org/reproduceme#Cell3 P: http://purl.org/net/p-plan/#isStepOfPlan O: https://w3id.org/reproduceme#Paper07ReproduceXAS\n",
      "\t 5 S: https://w3id.org/reproduceme#Cell4 P: http://purl.org/net/p-plan/#isStepOfPlan O: https://w3id.org/reproduceme#Paper07ReproduceXAS\n",
      "\t 6 S: https://w3id.org/reproduceme#Cell5 P: http://purl.org/net/p-plan/#isStepOfPlan O: https://w3id.org/reproduceme#Paper07ReproduceXAS\n",
      "\t 7 S: https://w3id.org/reproduceme#Cell6 P: http://purl.org/net/p-plan/#isStepOfPlan O: https://w3id.org/reproduceme#Paper07ReproduceXAS\n",
      "\t 8 S: https://w3id.org/reproduceme#Cell7 P: http://purl.org/net/p-plan/#isStepOfPlan O: https://w3id.org/reproduceme#Paper07ReproduceXAS\n",
      "\t 9 S: https://w3id.org/reproduceme#Cell8 P: http://purl.org/net/p-plan/#isStepOfPlan O: https://w3id.org/reproduceme#Paper07ReproduceXAS\n",
      "\t 10 S: https://w3id.org/reproduceme#Cell9 P: http://purl.org/net/p-plan/#isStepOfPlan O: https://w3id.org/reproduceme#Paper07ReproduceXAS\n",
      "7 S: https://w3id.org/reproduceme#Paper08ReproduceXAS P:http://www.w3.org/1999/02/22-rdf-syntax-ns#type O: https://w3id.org/reproduceme#Notebook\n",
      "\t 0 S: https://w3id.org/reproduceme#Cell0 P: http://purl.org/net/p-plan/#isStepOfPlan O: https://w3id.org/reproduceme#Paper08ReproduceXAS\n",
      "\t 1 S: https://w3id.org/reproduceme#Cell1 P: http://purl.org/net/p-plan/#isStepOfPlan O: https://w3id.org/reproduceme#Paper08ReproduceXAS\n",
      "\t 2 S: https://w3id.org/reproduceme#Cell10 P: http://purl.org/net/p-plan/#isStepOfPlan O: https://w3id.org/reproduceme#Paper08ReproduceXAS\n",
      "\t 3 S: https://w3id.org/reproduceme#Cell11 P: http://purl.org/net/p-plan/#isStepOfPlan O: https://w3id.org/reproduceme#Paper08ReproduceXAS\n",
      "\t 4 S: https://w3id.org/reproduceme#Cell12 P: http://purl.org/net/p-plan/#isStepOfPlan O: https://w3id.org/reproduceme#Paper08ReproduceXAS\n",
      "\t 5 S: https://w3id.org/reproduceme#Cell13 P: http://purl.org/net/p-plan/#isStepOfPlan O: https://w3id.org/reproduceme#Paper08ReproduceXAS\n",
      "\t 6 S: https://w3id.org/reproduceme#Cell14 P: http://purl.org/net/p-plan/#isStepOfPlan O: https://w3id.org/reproduceme#Paper08ReproduceXAS\n",
      "\t 7 S: https://w3id.org/reproduceme#Cell15 P: http://purl.org/net/p-plan/#isStepOfPlan O: https://w3id.org/reproduceme#Paper08ReproduceXAS\n",
      "\t 8 S: https://w3id.org/reproduceme#Cell16 P: http://purl.org/net/p-plan/#isStepOfPlan O: https://w3id.org/reproduceme#Paper08ReproduceXAS\n",
      "\t 9 S: https://w3id.org/reproduceme#Cell17 P: http://purl.org/net/p-plan/#isStepOfPlan O: https://w3id.org/reproduceme#Paper08ReproduceXAS\n",
      "\t 10 S: https://w3id.org/reproduceme#Cell18 P: http://purl.org/net/p-plan/#isStepOfPlan O: https://w3id.org/reproduceme#Paper08ReproduceXAS\n",
      "\t 11 S: https://w3id.org/reproduceme#Cell19 P: http://purl.org/net/p-plan/#isStepOfPlan O: https://w3id.org/reproduceme#Paper08ReproduceXAS\n",
      "\t 12 S: https://w3id.org/reproduceme#Cell2 P: http://purl.org/net/p-plan/#isStepOfPlan O: https://w3id.org/reproduceme#Paper08ReproduceXAS\n",
      "\t 13 S: https://w3id.org/reproduceme#Cell20 P: http://purl.org/net/p-plan/#isStepOfPlan O: https://w3id.org/reproduceme#Paper08ReproduceXAS\n",
      "\t 14 S: https://w3id.org/reproduceme#Cell21 P: http://purl.org/net/p-plan/#isStepOfPlan O: https://w3id.org/reproduceme#Paper08ReproduceXAS\n",
      "\t 15 S: https://w3id.org/reproduceme#Cell22 P: http://purl.org/net/p-plan/#isStepOfPlan O: https://w3id.org/reproduceme#Paper08ReproduceXAS\n",
      "\t 16 S: https://w3id.org/reproduceme#Cell3 P: http://purl.org/net/p-plan/#isStepOfPlan O: https://w3id.org/reproduceme#Paper08ReproduceXAS\n",
      "\t 17 S: https://w3id.org/reproduceme#Cell4 P: http://purl.org/net/p-plan/#isStepOfPlan O: https://w3id.org/reproduceme#Paper08ReproduceXAS\n",
      "\t 18 S: https://w3id.org/reproduceme#Cell5 P: http://purl.org/net/p-plan/#isStepOfPlan O: https://w3id.org/reproduceme#Paper08ReproduceXAS\n",
      "\t 19 S: https://w3id.org/reproduceme#Cell6 P: http://purl.org/net/p-plan/#isStepOfPlan O: https://w3id.org/reproduceme#Paper08ReproduceXAS\n",
      "\t 20 S: https://w3id.org/reproduceme#Cell7 P: http://purl.org/net/p-plan/#isStepOfPlan O: https://w3id.org/reproduceme#Paper08ReproduceXAS\n",
      "\t 21 S: https://w3id.org/reproduceme#Cell8 P: http://purl.org/net/p-plan/#isStepOfPlan O: https://w3id.org/reproduceme#Paper08ReproduceXAS\n",
      "\t 22 S: https://w3id.org/reproduceme#Cell9 P: http://purl.org/net/p-plan/#isStepOfPlan O: https://w3id.org/reproduceme#Paper08ReproduceXAS\n",
      "8 S: https://w3id.org/reproduceme#Paper09ReproduceXAS P:http://www.w3.org/1999/02/22-rdf-syntax-ns#type O: https://w3id.org/reproduceme#Notebook\n",
      "\t 0 S: https://w3id.org/reproduceme#Cell0 P: http://purl.org/net/p-plan/#isStepOfPlan O: https://w3id.org/reproduceme#Paper09ReproduceXAS\n",
      "\t 1 S: https://w3id.org/reproduceme#Cell1 P: http://purl.org/net/p-plan/#isStepOfPlan O: https://w3id.org/reproduceme#Paper09ReproduceXAS\n",
      "\t 2 S: https://w3id.org/reproduceme#Cell10 P: http://purl.org/net/p-plan/#isStepOfPlan O: https://w3id.org/reproduceme#Paper09ReproduceXAS\n",
      "\t 3 S: https://w3id.org/reproduceme#Cell11 P: http://purl.org/net/p-plan/#isStepOfPlan O: https://w3id.org/reproduceme#Paper09ReproduceXAS\n",
      "\t 4 S: https://w3id.org/reproduceme#Cell12 P: http://purl.org/net/p-plan/#isStepOfPlan O: https://w3id.org/reproduceme#Paper09ReproduceXAS\n",
      "\t 5 S: https://w3id.org/reproduceme#Cell13 P: http://purl.org/net/p-plan/#isStepOfPlan O: https://w3id.org/reproduceme#Paper09ReproduceXAS\n",
      "\t 6 S: https://w3id.org/reproduceme#Cell14 P: http://purl.org/net/p-plan/#isStepOfPlan O: https://w3id.org/reproduceme#Paper09ReproduceXAS\n",
      "\t 7 S: https://w3id.org/reproduceme#Cell15 P: http://purl.org/net/p-plan/#isStepOfPlan O: https://w3id.org/reproduceme#Paper09ReproduceXAS\n",
      "\t 8 S: https://w3id.org/reproduceme#Cell16 P: http://purl.org/net/p-plan/#isStepOfPlan O: https://w3id.org/reproduceme#Paper09ReproduceXAS\n",
      "\t 9 S: https://w3id.org/reproduceme#Cell17 P: http://purl.org/net/p-plan/#isStepOfPlan O: https://w3id.org/reproduceme#Paper09ReproduceXAS\n",
      "\t 10 S: https://w3id.org/reproduceme#Cell18 P: http://purl.org/net/p-plan/#isStepOfPlan O: https://w3id.org/reproduceme#Paper09ReproduceXAS\n",
      "\t 11 S: https://w3id.org/reproduceme#Cell19 P: http://purl.org/net/p-plan/#isStepOfPlan O: https://w3id.org/reproduceme#Paper09ReproduceXAS\n",
      "\t 12 S: https://w3id.org/reproduceme#Cell2 P: http://purl.org/net/p-plan/#isStepOfPlan O: https://w3id.org/reproduceme#Paper09ReproduceXAS\n",
      "\t 13 S: https://w3id.org/reproduceme#Cell3 P: http://purl.org/net/p-plan/#isStepOfPlan O: https://w3id.org/reproduceme#Paper09ReproduceXAS\n",
      "\t 14 S: https://w3id.org/reproduceme#Cell4 P: http://purl.org/net/p-plan/#isStepOfPlan O: https://w3id.org/reproduceme#Paper09ReproduceXAS\n",
      "\t 15 S: https://w3id.org/reproduceme#Cell5 P: http://purl.org/net/p-plan/#isStepOfPlan O: https://w3id.org/reproduceme#Paper09ReproduceXAS\n",
      "\t 16 S: https://w3id.org/reproduceme#Cell6 P: http://purl.org/net/p-plan/#isStepOfPlan O: https://w3id.org/reproduceme#Paper09ReproduceXAS\n",
      "\t 17 S: https://w3id.org/reproduceme#Cell7 P: http://purl.org/net/p-plan/#isStepOfPlan O: https://w3id.org/reproduceme#Paper09ReproduceXAS\n",
      "\t 18 S: https://w3id.org/reproduceme#Cell8 P: http://purl.org/net/p-plan/#isStepOfPlan O: https://w3id.org/reproduceme#Paper09ReproduceXAS\n",
      "\t 19 S: https://w3id.org/reproduceme#Cell9 P: http://purl.org/net/p-plan/#isStepOfPlan O: https://w3id.org/reproduceme#Paper09ReproduceXAS\n",
      "9 S: https://w3id.org/reproduceme#ReproduceResultsLarchPython P:http://www.w3.org/1999/02/22-rdf-syntax-ns#type O: https://w3id.org/reproduceme#Notebook\n",
      "\t 0 S: https://w3id.org/reproduceme#Cell0 P: http://purl.org/net/p-plan/#isStepOfPlan O: https://w3id.org/reproduceme#ReproduceResultsLarchPython\n",
      "\t 1 S: https://w3id.org/reproduceme#Cell1 P: http://purl.org/net/p-plan/#isStepOfPlan O: https://w3id.org/reproduceme#ReproduceResultsLarchPython\n",
      "\t 2 S: https://w3id.org/reproduceme#Cell10 P: http://purl.org/net/p-plan/#isStepOfPlan O: https://w3id.org/reproduceme#ReproduceResultsLarchPython\n",
      "\t 3 S: https://w3id.org/reproduceme#Cell11 P: http://purl.org/net/p-plan/#isStepOfPlan O: https://w3id.org/reproduceme#ReproduceResultsLarchPython\n",
      "\t 4 S: https://w3id.org/reproduceme#Cell2 P: http://purl.org/net/p-plan/#isStepOfPlan O: https://w3id.org/reproduceme#ReproduceResultsLarchPython\n",
      "\t 5 S: https://w3id.org/reproduceme#Cell3 P: http://purl.org/net/p-plan/#isStepOfPlan O: https://w3id.org/reproduceme#ReproduceResultsLarchPython\n",
      "\t 6 S: https://w3id.org/reproduceme#Cell4 P: http://purl.org/net/p-plan/#isStepOfPlan O: https://w3id.org/reproduceme#ReproduceResultsLarchPython\n",
      "\t 7 S: https://w3id.org/reproduceme#Cell5 P: http://purl.org/net/p-plan/#isStepOfPlan O: https://w3id.org/reproduceme#ReproduceResultsLarchPython\n",
      "\t 8 S: https://w3id.org/reproduceme#Cell6 P: http://purl.org/net/p-plan/#isStepOfPlan O: https://w3id.org/reproduceme#ReproduceResultsLarchPython\n",
      "\t 9 S: https://w3id.org/reproduceme#Cell7 P: http://purl.org/net/p-plan/#isStepOfPlan O: https://w3id.org/reproduceme#ReproduceResultsLarchPython\n",
      "\t 10 S: https://w3id.org/reproduceme#Cell8 P: http://purl.org/net/p-plan/#isStepOfPlan O: https://w3id.org/reproduceme#ReproduceResultsLarchPython\n",
      "\t 11 S: https://w3id.org/reproduceme#Cell9 P: http://purl.org/net/p-plan/#isStepOfPlan O: https://w3id.org/reproduceme#ReproduceResultsLarchPython\n",
      "10 S: https://w3id.org/reproduceme#Varyfitparameters P:http://www.w3.org/1999/02/22-rdf-syntax-ns#type O: https://w3id.org/reproduceme#Notebook\n",
      "\t 0 S: https://w3id.org/reproduceme#Cell0 P: http://purl.org/net/p-plan/#isStepOfPlan O: https://w3id.org/reproduceme#Varyfitparameters\n",
      "\t 1 S: https://w3id.org/reproduceme#Cell1 P: http://purl.org/net/p-plan/#isStepOfPlan O: https://w3id.org/reproduceme#Varyfitparameters\n",
      "\t 2 S: https://w3id.org/reproduceme#Cell10 P: http://purl.org/net/p-plan/#isStepOfPlan O: https://w3id.org/reproduceme#Varyfitparameters\n",
      "\t 3 S: https://w3id.org/reproduceme#Cell11 P: http://purl.org/net/p-plan/#isStepOfPlan O: https://w3id.org/reproduceme#Varyfitparameters\n",
      "\t 4 S: https://w3id.org/reproduceme#Cell12 P: http://purl.org/net/p-plan/#isStepOfPlan O: https://w3id.org/reproduceme#Varyfitparameters\n",
      "\t 5 S: https://w3id.org/reproduceme#Cell13 P: http://purl.org/net/p-plan/#isStepOfPlan O: https://w3id.org/reproduceme#Varyfitparameters\n",
      "\t 6 S: https://w3id.org/reproduceme#Cell14 P: http://purl.org/net/p-plan/#isStepOfPlan O: https://w3id.org/reproduceme#Varyfitparameters\n",
      "\t 7 S: https://w3id.org/reproduceme#Cell15 P: http://purl.org/net/p-plan/#isStepOfPlan O: https://w3id.org/reproduceme#Varyfitparameters\n",
      "\t 8 S: https://w3id.org/reproduceme#Cell16 P: http://purl.org/net/p-plan/#isStepOfPlan O: https://w3id.org/reproduceme#Varyfitparameters\n",
      "\t 9 S: https://w3id.org/reproduceme#Cell17 P: http://purl.org/net/p-plan/#isStepOfPlan O: https://w3id.org/reproduceme#Varyfitparameters\n",
      "\t 10 S: https://w3id.org/reproduceme#Cell18 P: http://purl.org/net/p-plan/#isStepOfPlan O: https://w3id.org/reproduceme#Varyfitparameters\n",
      "\t 11 S: https://w3id.org/reproduceme#Cell19 P: http://purl.org/net/p-plan/#isStepOfPlan O: https://w3id.org/reproduceme#Varyfitparameters\n",
      "\t 12 S: https://w3id.org/reproduceme#Cell2 P: http://purl.org/net/p-plan/#isStepOfPlan O: https://w3id.org/reproduceme#Varyfitparameters\n",
      "\t 13 S: https://w3id.org/reproduceme#Cell20 P: http://purl.org/net/p-plan/#isStepOfPlan O: https://w3id.org/reproduceme#Varyfitparameters\n",
      "\t 14 S: https://w3id.org/reproduceme#Cell21 P: http://purl.org/net/p-plan/#isStepOfPlan O: https://w3id.org/reproduceme#Varyfitparameters\n",
      "\t 15 S: https://w3id.org/reproduceme#Cell22 P: http://purl.org/net/p-plan/#isStepOfPlan O: https://w3id.org/reproduceme#Varyfitparameters\n",
      "\t 16 S: https://w3id.org/reproduceme#Cell3 P: http://purl.org/net/p-plan/#isStepOfPlan O: https://w3id.org/reproduceme#Varyfitparameters\n",
      "\t 17 S: https://w3id.org/reproduceme#Cell4 P: http://purl.org/net/p-plan/#isStepOfPlan O: https://w3id.org/reproduceme#Varyfitparameters\n",
      "\t 18 S: https://w3id.org/reproduceme#Cell5 P: http://purl.org/net/p-plan/#isStepOfPlan O: https://w3id.org/reproduceme#Varyfitparameters\n",
      "\t 19 S: https://w3id.org/reproduceme#Cell6 P: http://purl.org/net/p-plan/#isStepOfPlan O: https://w3id.org/reproduceme#Varyfitparameters\n",
      "\t 20 S: https://w3id.org/reproduceme#Cell7 P: http://purl.org/net/p-plan/#isStepOfPlan O: https://w3id.org/reproduceme#Varyfitparameters\n",
      "\t 21 S: https://w3id.org/reproduceme#Cell8 P: http://purl.org/net/p-plan/#isStepOfPlan O: https://w3id.org/reproduceme#Varyfitparameters\n",
      "\t 22 S: https://w3id.org/reproduceme#Cell9 P: http://purl.org/net/p-plan/#isStepOfPlan O: https://w3id.org/reproduceme#Varyfitparameters\n"
     ]
    }
   ],
   "source": [
    "print (f\"rdflib Graph loaded successfully with {len(g_nbs)} triples\")\n",
    "#for statement in g_nbs:\n",
    "#   pprint(statement)\n",
    "\n",
    "sub_graph = Graph()\n",
    "triple_object = URIRef(\"https://w3id.org/reproduceme#Notebook\")\n",
    "\n",
    "triple_subject = URIRef(\"https://w3id.org/reproduceme#Cell0\")\n",
    "\n",
    "#p-plan: <http://purl.org/net/p-plan/#> .\n",
    "#rdf: <http://www.w3.org/1999/02/22-rdf-syntax-ns#> .\n",
    "#repr: <https://w3id.org/reproduceme#> .\n",
    "#xsd: <http://www.w3.org/2001/XMLSchema#> .\n",
    "# something a repr:Notebook\n",
    "sub_graph += g_nbs.triples((None, None, triple_object))\n",
    "for idx, (s,p,o) in enumerate(g_nbs.triples((None, None, triple_object))):\n",
    "    print(f\"{idx} S: {s} P:{p} O: {o}\")\n",
    "    #sub_graph += g_nbs.triples((None, None, s))\n",
    "    for idx2, (s1,p1,o1) in enumerate(g_nbs.triples((None, None, s))):\n",
    "        print(f\"\\t {idx2} S: {s1} P: {p1} O: {o1}\")\n",
    "        sub_graph.add((s1, p1, o1))\n",
    "        #for s2,p2,o2 in g_nbs.triples((s1,None, None)):\n",
    "        #    print(f\"S: {s2} P: {p2} O: {o2}\")\n"
   ]
  },
  {
   "cell_type": "markdown",
   "id": "a8f6c4e1",
   "metadata": {},
   "source": [
    "# Display subgraph\n",
    "\n",
    "Loading the data as it is causes some clashes because the names of cells (Cell0, Cell1, ... Celln) are used as ID in different notebooks. Need to check if this is OK"
   ]
  },
  {
   "cell_type": "code",
   "execution_count": 28,
   "id": "3f18cb0d",
   "metadata": {},
   "outputs": [
    {
     "name": "stdout",
     "output_type": "stream",
     "text": [
      "Newtworkx Graph with 261 nodes and 936 edges loaded successfully\n",
      "nx.html\n"
     ]
    },
    {
     "data": {
      "text/html": [
       "\n",
       "        <iframe\n",
       "            width=\"100%\"\n",
       "            height=\"800px\"\n",
       "            src=\"nx.html\"\n",
       "            frameborder=\"0\"\n",
       "            allowfullscreen\n",
       "            \n",
       "        ></iframe>\n",
       "        "
      ],
      "text/plain": [
       "<IPython.lib.display.IFrame at 0x28be56d0c10>"
      ]
     },
     "execution_count": 28,
     "metadata": {},
     "output_type": "execute_result"
    }
   ],
   "source": [
    "nx_graph = rdflib_to_networkx_graph(sub_graph)\n",
    "print(f\"Newtworkx {nx_graph} loaded successfully\")\n",
    "\n",
    "nt = Network(\"800px\", \"100%\", notebook=\"True\")\n",
    "nt.from_nx(nx_graph)\n",
    "nt.show_buttons(filter_=[\"physics\"])\n",
    "nt.show(\"nx.html\")"
   ]
  },
  {
   "cell_type": "markdown",
   "id": "5c89ca6c",
   "metadata": {},
   "source": [
    "## Rename cells\n",
    "\n",
    "Renaming the cells fixes some of the issues. However, the renaming needs to be done at the time of reading as loading more data into the graph further down causes new clashes. "
   ]
  },
  {
   "cell_type": "code",
   "execution_count": 29,
   "id": "aa64ec84",
   "metadata": {
    "scrolled": true
   },
   "outputs": [],
   "source": [
    "#p-plan: <http://purl.org/net/p-plan/#> .\n",
    "#rdf: <http://www.w3.org/1999/02/22-rdf-syntax-ns#> .\n",
    "#repr: <https://w3id.org/reproduceme#> .\n",
    "#xsd: <http://www.w3.org/2001/XMLSchema#> .\n",
    "# something a repr:Notebook\n",
    "repr_prefix = \"https://w3id.org/reproduceme#\"\n",
    "sub_graph = Graph()\n",
    "sub_graph += g_nbs.triples((None, None, triple_object))\n",
    "for idx, (s,p,o) in enumerate(g_nbs.triples((None, None, triple_object))):\n",
    "    book_id = s.removeprefix(repr_prefix)\n",
    "    #print(f\"{idx} S: {s} P:{p} O: {o}\")\n",
    "    #sub_graph += g_nbs.triples((None, None, s))\n",
    "    for idx2, (s1,p1,o1) in enumerate(g_nbs.triples((None, None, s))):\n",
    "        cell_id = s1.removeprefix(repr_prefix)\n",
    "        #print(cell_id)\n",
    "        new_s1 = URIRef(repr_prefix+book_id+\"_\"+cell_id)\n",
    "        #print(f\"\\t {idx2} S: {new_s1} P: {p1} O: {o1}\")\n",
    "        sub_graph.add((new_s1, p1, o1))\n",
    " "
   ]
  },
  {
   "cell_type": "code",
   "execution_count": 30,
   "id": "74a8bc46",
   "metadata": {
    "scrolled": false
   },
   "outputs": [
    {
     "name": "stdout",
     "output_type": "stream",
     "text": [
      "Newtworkx Graph with 258 nodes and 257 edges loaded successfully\n",
      "nx.html\n"
     ]
    },
    {
     "data": {
      "text/html": [
       "\n",
       "        <iframe\n",
       "            width=\"100%\"\n",
       "            height=\"800px\"\n",
       "            src=\"nx.html\"\n",
       "            frameborder=\"0\"\n",
       "            allowfullscreen\n",
       "            \n",
       "        ></iframe>\n",
       "        "
      ],
      "text/plain": [
       "<IPython.lib.display.IFrame at 0x28be5a76b20>"
      ]
     },
     "execution_count": 30,
     "metadata": {},
     "output_type": "execute_result"
    }
   ],
   "source": [
    "nx_graph = rdflib_to_networkx_graph(sub_graph)\n",
    "print(f\"Newtworkx {nx_graph} loaded successfully\")\n",
    "\n",
    "nt = Network(\"800px\", \"100%\", notebook=\"True\")\n",
    "nt.from_nx(nx_graph)\n",
    "nt.show_buttons(filter_=[\"physics\"])\n",
    "nt.show(\"nx.html\")"
   ]
  },
  {
   "cell_type": "code",
   "execution_count": 31,
   "id": "420f1329",
   "metadata": {},
   "outputs": [
    {
     "name": "stdout",
     "output_type": "stream",
     "text": [
      "https://w3id.org/reproduceme#Varyfitparameters\n",
      "Varyfitparameters\n",
      "https://w3id.org/reproduceme#Cell9\n",
      "Cell9\n",
      "https://w3id.org/reproduceme#Varyfitparameters_Cell9\n"
     ]
    }
   ],
   "source": [
    "prefix = \"https://w3id.org/reproduceme#\"\n",
    "book_id = s.removeprefix(prefix)\n",
    "\n",
    "print(s)\n",
    "\n",
    "print(book_id)\n",
    "\n",
    "cell_id = s1.removeprefix(prefix)\n",
    "print(s1)\n",
    "print(cell_id)\n",
    "\n",
    "new_s1 = URIRef(prefix+book_id+\"_\"+cell_id)\n",
    "print (new_s1)"
   ]
  },
  {
   "cell_type": "code",
   "execution_count": 32,
   "id": "f9dc091e",
   "metadata": {},
   "outputs": [],
   "source": [
    "#p-plan: <http://purl.org/net/p-plan/#> .\n",
    "#rdf: <http://www.w3.org/1999/02/22-rdf-syntax-ns#> .\n",
    "#repr: <https://w3id.org/reproduceme#> .\n",
    "#xsd: <http://www.w3.org/2001/XMLSchema#> .\n",
    "# something a repr:Notebook\n",
    "repr_prefix = \"https://w3id.org/reproduceme#\"\n",
    "type_pred = URIRef('http://www.w3.org/1999/02/22-rdf-syntax-ns#type')\n",
    "\n",
    "sub_graph = Graph()\n",
    "sub_graph += g_nbs.triples((None, None, triple_object))\n",
    "for idx, (s,p,o) in enumerate(g_nbs.triples((None, None, triple_object))):\n",
    "    book_id = s.removeprefix(repr_prefix)\n",
    "    #print(f\"{idx} S: {s} P:{p} O: {o}\")\n",
    "    #sub_graph += g_nbs.triples((None, None, s))\n",
    "    for idx2, (s1,p1,o1) in enumerate(g_nbs.triples((None, None, s))):\n",
    "        cell_id = s1.removeprefix(repr_prefix)\n",
    "        #print(cell_id)\n",
    "        new_s1 = URIRef(repr_prefix+book_id+\"_\"+cell_id)\n",
    "        #print(f\"\\t {idx2} S: {new_s1} P: {p1} O: {o1}\")\n",
    "        sub_graph.add((new_s1, p1, o1))\n",
    "        for idx2, (_,p2,o2) in enumerate(g_nbs.triples((s1, type_pred, None))):\n",
    "            sub_graph.add((new_s1,p2,o2))"
   ]
  },
  {
   "cell_type": "code",
   "execution_count": 33,
   "id": "7c54dc0b",
   "metadata": {},
   "outputs": [
    {
     "name": "stdout",
     "output_type": "stream",
     "text": [
      "Newtworkx Graph with 259 nodes and 503 edges loaded successfully\n",
      "nx.html\n"
     ]
    },
    {
     "data": {
      "text/html": [
       "\n",
       "        <iframe\n",
       "            width=\"100%\"\n",
       "            height=\"800px\"\n",
       "            src=\"nx.html\"\n",
       "            frameborder=\"0\"\n",
       "            allowfullscreen\n",
       "            \n",
       "        ></iframe>\n",
       "        "
      ],
      "text/plain": [
       "<IPython.lib.display.IFrame at 0x28be4afb730>"
      ]
     },
     "execution_count": 33,
     "metadata": {},
     "output_type": "execute_result"
    }
   ],
   "source": [
    "nx_graph = rdflib_to_networkx_graph(sub_graph)\n",
    "print(f\"Newtworkx {nx_graph} loaded successfully\")\n",
    "\n",
    "nt = Network(\"800px\", \"100%\", notebook=\"True\")\n",
    "nt.from_nx(nx_graph)\n",
    "nt.show_buttons(filter_=[\"physics\"])\n",
    "nt.show(\"nx.html\")"
   ]
  },
  {
   "cell_type": "code",
   "execution_count": 34,
   "id": "f9417933",
   "metadata": {},
   "outputs": [],
   "source": [
    "#p-plan: <http://purl.org/net/p-plan/#> .\n",
    "#rdf: <http://www.w3.org/1999/02/22-rdf-syntax-ns#> .\n",
    "#repr: <https://w3id.org/reproduceme#> .\n",
    "#xsd: <http://www.w3.org/2001/XMLSchema#> .\n",
    "# something a repr:Notebook\n",
    "repr_prefix = \"https://w3id.org/reproduceme#\"\n",
    "type_pred = URIRef('http://www.w3.org/1999/02/22-rdf-syntax-ns#type')\n",
    "cell_type_pred = URIRef(\"https://w3id.org/reproduceme#hasCellType\")\n",
    "sub_graph = Graph()\n",
    "sub_graph += g_nbs.triples((None, None, triple_object))\n",
    "for idx, (s,p,o) in enumerate(g_nbs.triples((None, None, triple_object))):\n",
    "    book_id = s.removeprefix(repr_prefix)\n",
    "    #print(f\"{idx} S: {s} P:{p} O: {o}\")\n",
    "    #sub_graph += g_nbs.triples((None, None, s))\n",
    "    for idx2, (s1,p1,o1) in enumerate(g_nbs.triples((None, None, s))):\n",
    "        cell_id = s1.removeprefix(repr_prefix)\n",
    "        #print(cell_id)\n",
    "        new_s1 = URIRef(repr_prefix+book_id+\"_\"+cell_id)\n",
    "        #print(f\"\\t {idx2} S: {new_s1} P: {p1} O: {o1}\")\n",
    "        sub_graph.add((new_s1, p1, o1))\n",
    "        for idx2, (_,p2,o2) in enumerate(g_nbs.triples((s1, type_pred, None))):\n",
    "            sub_graph.add((new_s1,p2,o2))\n",
    "        for idx2, (_,p2,o2) in enumerate(g_nbs.triples((s1, cell_type_pred, None))):\n",
    "            sub_graph.add((new_s1,p2,o2))"
   ]
  },
  {
   "cell_type": "code",
   "execution_count": 35,
   "id": "b690fe07",
   "metadata": {},
   "outputs": [
    {
     "name": "stdout",
     "output_type": "stream",
     "text": [
      "Newtworkx Graph with 261 nodes and 936 edges loaded successfully\n",
      "nx.html\n"
     ]
    },
    {
     "data": {
      "text/html": [
       "\n",
       "        <iframe\n",
       "            width=\"100%\"\n",
       "            height=\"800px\"\n",
       "            src=\"nx.html\"\n",
       "            frameborder=\"0\"\n",
       "            allowfullscreen\n",
       "            \n",
       "        ></iframe>\n",
       "        "
      ],
      "text/plain": [
       "<IPython.lib.display.IFrame at 0x28be191de20>"
      ]
     },
     "execution_count": 35,
     "metadata": {},
     "output_type": "execute_result"
    }
   ],
   "source": [
    "nx_graph = rdflib_to_networkx_graph(sub_graph)\n",
    "print(f\"Newtworkx {nx_graph} loaded successfully\")\n",
    "\n",
    "nt = Network(\"800px\", \"100%\", notebook=\"True\")\n",
    "nt.from_nx(nx_graph)\n",
    "nt.show_buttons(filter_=[\"physics\"])\n",
    "nt.show(\"nx.html\")"
   ]
  },
  {
   "cell_type": "markdown",
   "id": "735f4ca7",
   "metadata": {},
   "source": [
    "## Review\n",
    "Similar problems are expected to occur with similar elements of the metadata which are named using a keyword and a consecutive index such as \"Source\", \"Output\" and  \"SubOutput\". Need to verify if this can/should be corrected at read time or at generation time."
   ]
  },
  {
   "cell_type": "code",
   "execution_count": null,
   "id": "bd878a0a",
   "metadata": {},
   "outputs": [],
   "source": []
  }
 ],
 "metadata": {
  "kernelspec": {
   "display_name": "Python 3 (ipykernel)",
   "language": "python",
   "name": "python3"
  },
  "language_info": {
   "codemirror_mode": {
    "name": "ipython",
    "version": 3
   },
   "file_extension": ".py",
   "mimetype": "text/x-python",
   "name": "python",
   "nbconvert_exporter": "python",
   "pygments_lexer": "ipython3",
   "version": "3.9.2rc1"
  }
 },
 "nbformat": 4,
 "nbformat_minor": 5
}
