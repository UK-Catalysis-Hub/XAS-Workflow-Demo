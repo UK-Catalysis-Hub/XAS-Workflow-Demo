{
 "cells": [
  {
   "cell_type": "code",
   "execution_count": 1,
   "metadata": {},
   "outputs": [
    {
     "data": {
      "application/vnd.jupyter.widget-view+json": {
       "model_id": "831c84430a184d8c88335bdcad4e99df",
       "version_major": 2,
       "version_minor": 0
      },
      "text/plain": [
       "Sheet(columns=5, layout=Layout(height='auto', width='auto'), rows=5)"
      ]
     },
     "metadata": {},
     "output_type": "display_data"
    }
   ],
   "source": [
    "import ipysheet\n",
    "sheet = ipysheet.sheet()\n",
    "display(sheet)"
   ]
  },
  {
   "cell_type": "code",
   "execution_count": 2,
   "metadata": {},
   "outputs": [
    {
     "data": {
      "application/vnd.jupyter.widget-view+json": {
       "model_id": "e57afb1d39af4575b46229b2acebfa3d",
       "version_major": 2,
       "version_minor": 0
      },
      "text/plain": [
       "Sheet(columns=5, layout=Layout(height='auto', width='auto'), rows=5)"
      ]
     },
     "metadata": {},
     "output_type": "display_data"
    }
   ],
   "source": [
    "import ipysheet\n",
    "sheet = ipysheet.sheet()\n",
    "display(sheet)"
   ]
  },
  {
   "cell_type": "code",
   "execution_count": 3,
   "metadata": {},
   "outputs": [
    {
     "data": {
      "application/vnd.jupyter.widget-view+json": {
       "model_id": "999ead9728b84033a4e53219e7ef8a9c",
       "version_major": 2,
       "version_minor": 0
      },
      "text/plain": [
       "Sheet(columns=5, layout=Layout(height='auto', width='auto'), rows=5)"
      ]
     },
     "metadata": {},
     "output_type": "display_data"
    }
   ],
   "source": [
    "import ipysheet\n",
    "sheet = ipysheet.sheet()\n",
    "display(sheet)"
   ]
  },
  {
   "cell_type": "code",
   "execution_count": 4,
   "metadata": {},
   "outputs": [],
   "source": [
    "import re\n",
    "# File handling\n",
    "from pathlib import Path\n",
    "#library for writing to log\n",
    "import logging\n",
    "\n",
    "def select_paths(var = \"FeS2.inp\"):\n",
    "    crystal_f = Path(var)\n",
    "    feff_dir = crystal_f.name[:-4]+\"_feff\"\n",
    "    feff_inp = crystal_f.name[:-4]+\"_feff.inp\"\n",
    "    feff_files = \"files.dat\"\n",
    "    input_file = Path(feff_dir, feff_files)\n",
    "    #check if feff dir exists\n",
    "    if input_file.parent.exists() and input_file.exists():\n",
    "        logging.info(str(input_file.parent) + \" path and \"+ str(input_file)+ \" found\")\n",
    "    else:\n",
    "        logging.info(str(input_file.parent) + \" path not found, run feff before running select paths\")\n",
    "        return False\n",
    "    count = 0\n",
    "    # the .dat data is stored in fixed width strings \n",
    "    field_widths = [[0,13],[14,21],[22,31],[32,41],[42,48],[49,61]]\n",
    "    is_meta = True\n",
    "    data_headers = []\n",
    "    path_count = 0\n",
    "    paths_data = {}\n",
    "    logging.info(\"Reading from: \"+ str(input_file))\n",
    "    with open(input_file) as datfile:\n",
    "        dat_lines = datfile.readlines()\n",
    "        for a_line in dat_lines:\n",
    "            count += 1\n",
    "            if re.match('-*', a_line.strip()).group(0)!= '':\n",
    "                is_meta = False\n",
    "                logging.info(\"{}: {}\".format(count, a_line.strip()))\n",
    "            elif is_meta:\n",
    "                logging.info(\"{}: {}\".format(count, a_line.strip()))\n",
    "            elif data_headers == []:\n",
    "                data_headers = [a_line[s:e].strip().replace(' ','_') for s,e in field_widths]\n",
    "                logging.info(\"headers:\"+ str(data_headers))\n",
    "                print(path_count, a_line.strip())\n",
    "            else:\n",
    "                path_count += 1\n",
    "                data_values = [a_line[s:e].strip() for s,e in field_widths]\n",
    "                data_line = {}\n",
    "                for data_idx in range(0,len(data_headers)):\n",
    "                   data_line[data_headers[data_idx]] = data_values[data_idx]\n",
    "                print(path_count, a_line.strip())\n",
    "                paths_data[path_count] = data_line\n",
    "                \n",
    "select_paths('FeS2.inp')\n",
    "\n",
    "line_str = '    file        sig2   amp ratio    deg    nlegs  r effective '\n",
    "line_str = \" feff0001.dat 0.00000   100.000     6.000     2   2.2566\"\n"
   ]
  },
  {
   "cell_type": "code",
   "execution_count": null,
   "metadata": {},
   "outputs": [],
   "source": []
  }
 ],
 "metadata": {
  "kernelspec": {
   "display_name": "Python 3",
   "language": "python",
   "name": "python3"
  },
  "language_info": {
   "codemirror_mode": {
    "name": "ipython",
    "version": 3
   },
   "file_extension": ".py",
   "mimetype": "text/x-python",
   "name": "python",
   "nbconvert_exporter": "python",
   "pygments_lexer": "ipython3",
   "version": "3.6.10"
  }
 },
 "nbformat": 4,
 "nbformat_minor": 4
}
