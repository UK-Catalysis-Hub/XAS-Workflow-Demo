{
 "cells": [
  {
   "cell_type": "markdown",
   "id": "aedfece6",
   "metadata": {},
   "source": [
    "# Reproduce S. K. Matam, et. al, Catalysts 2020, 10(12), 1370\n",
    "\n",
    "This notebook demonstrates reproducing the XAS results of the paper with [Larch](https://xraypy.github.io/xraylarch/xafs/) using the corresponding published dataset (raw data). \n",
    "\n",
    "S. K. Matam, C. Moffat, P. Hellier, M. Bowker, I. P. Silverwood, C. R. A. .Catlow, S. D. Jackson, J. Craswell, P. P. Wells, S. F. Parker, E. K. Gibson (2021). **Investigation of MoOx/Al2O3 under Cyclic Operation for Oxidative and Non-Oxidative Dehydrogenation of Propane** DOI: [10.3390/catal10121370](https://doi.org/10.3390/catal10121370).\n",
    "\n",
    "- **Corresponding authors**:  Emma K. Gibson\n",
    "- **E-mails**: \n",
    "\n",
    "The data used for reproducing the results was published in the Enlighten Research Data Repository of the University of Glasgow [doi:10.5525/gla.researchdata.1092](http://dx.doi.org/10.5525/gla.researchdata.1092)\n",
    "\n",
    "For more details about Larch, see [Larch Website](https://xraypy.github.io/xraylarch/xafs/)"
   ]
  },
  {
   "cell_type": "markdown",
   "id": "f0e8e1a5",
   "metadata": {},
   "source": [
    "## Reproducing XAS analysis\n",
    "\n",
    "The XAS results of the paper are in [Figure 2](https://www.mdpi.com/2073-4344/10/12/1370), and [Table 1](https://www.mdpi.com/2073-4344/10/12/1370). \n",
    "\n",
    "The captions and metadata for each can be used for reproducing the results presented.\n",
    "\n",
    "#### Figure Captions\n",
    ">Figure 2. In situ X-ray Absorption Near Edge Structure (XANES) spectra of MoOx/Al2O3 at 500 °C during oxidative and non-oxidative dehydrogenation of propane cycle (A) and the change in the position of the edge energy of the XANES during on stream of the reaction cycle (B). XANES spectra and edge energies of the reference compounds MoO3, Fe2(MoO4)3 and MoO2 are also included. \n",
    ">\n",
    ">Table 1. Extended X-ray Absorption Fine Structure (EXAFS) fitting parameters 1 for the spectra collected at the end of step of the reaction cycle. \n",
    "\n",
    "#### Metadata (ReadMe_1092.docx)\n",
    ">XAFS data\n",
    ">The XAFS raw data files are numbered according to the list below and can be found in the zip file ‘MoOx_Al2O3 XAFS >data’. These files were imported into Athena, where they were aligned to the Mo foil reference also included in these >raw data files. Origin was then used to produce the figures in the paper.\n",
    ">\n",
    ">|Starting file number |Experimental conditions|\n",
    "|:--------------------|:----------------------|\n",
    "|172091               |500C Helium  |\n",
    "|172097               |1st ODP step |\n",
    "|172137               |O2/He        |\n",
    "|172179               |Propane dehydrogenation|\n",
    "|172231               |2nd OPD step|\n",
    "\n"
   ]
  },
  {
   "cell_type": "code",
   "execution_count": 1,
   "id": "dc601822",
   "metadata": {},
   "outputs": [],
   "source": [
    "# Library with the functions that replicate athena:\n",
    "# normalisation, merging, re-binning, \n",
    "# and visualisation (plotting)\n",
    "import lib.manage_athena as athenamgr  \n",
    "\n",
    "# File handling\n",
    "from pathlib import Path\n",
    "\n",
    "#plotting library\n",
    "import matplotlib.pyplot as plt\n",
    "# inline: shows plot in notebook\n",
    "# tk: shows plot in popup\n",
    "%matplotlib inline \n",
    "\n",
    "# custom plotting functions\n",
    "import paper03_plots as c_plot3 # paper 3 has some similar plots\n",
    "\n",
    "# custom plotting functions\n",
    "import paper05_plots as c_plot "
   ]
  },
  {
   "cell_type": "code",
   "execution_count": 40,
   "id": "1e4ed3c4",
   "metadata": {},
   "outputs": [],
   "source": [
    "def normal_plot(athena_group, xlim=[],ylim=[], s_legend = True, x_off = 10.0, y_off= 0.1 ):\n",
    "    plt.plot(athena_group.energy+x_off,\n",
    "                  athena_group.norm+y_off, \n",
    "                  label=athena_group.filename,\n",
    "                  #color = include_group[0],\n",
    "                  #linestyle = include_groups[a_group][1]\n",
    "                 )                 \n",
    "    if s_legend:\n",
    "        plt.legend() # show legend\n",
    "        plt.ylabel(\"Normalized Absorption (a.u.)\")\n",
    "        plt.xlabel(\"Energy (eV)\")\n",
    "    plt.xlim(xlim)\n",
    "    plt.ylim(ylim)\n",
    "    plt.tick_params(axis='both', which='major', labelsize=9)\n",
    "    return plt"
   ]
  },
  {
   "cell_type": "code",
   "execution_count": 25,
   "id": "ecf2e784",
   "metadata": {
    "scrolled": false
   },
   "outputs": [],
   "source": [
    "data_path = Path(\"C:\\harwell\\PSDI_test\\wf_data\\pub_665\\DS0463\\MoOx_Al2O3_XAFS_data\")\n",
    "\n",
    "# define mappings:\n",
    "data_mappings={'500C Helium': '172091*.dat',\n",
    "               'Fe2(MoO4)3': '172092*.dat',\n",
    "               'Dried MoOx': '172093*.dat',\n",
    "               'Emd 1stODH': '172094*.dat',\n",
    "               'Reactovatopm': '172095*.dat',\n",
    "               '1st ODP step (4 min)': '172097*.dat',\n",
    "               '8 min Propane': '172098*.dat',\n",
    "               '10 min Propane': '172099*.dat',\n",
    "               '22 min Propane': '172102*.dat',\n",
    "               '34 min Propane': '172103*.dat',\n",
    "               '50 min Propane': '172104*.dat',\n",
    "               '58 min End Propane': '172105*.dat',\n",
    "               'O2/He': '172137*.dat',\n",
    "               'Propane dehydrogenation': '172179*.dat',\n",
    "               '2nd OPD step': '172231*.dat',\n",
    "               '6 min 2nd ODP': '172235*.dat',\n",
    "               '8 min 2nd ODP': '172236*.dat',\n",
    "               '10 min 2nd ODP': '172237*.dat',\n",
    "               '14 min 2nd ODP': '172238*.dat',\n",
    "               '19 min 2nd ODP': '172239*.dat',\n",
    "               'MoO2': '172246*.dat',\n",
    "              }\n",
    "# Output prefix\n",
    "f_prefix = \"MoOx_Al\"\n",
    "\n",
    "# Labels for data in .dat files\n",
    "               #\"0             1    2  3  4    5      6       \n",
    "               #\"qexafs_energy time I0 It Iref lnI0It lnItIref\n",
    "               #\"0      1    2  3  4    5  6\"\n",
    "column_labels = \"energy time I0 It Iref mu muref\"\n",
    "files_list =[]\n",
    "sample_list = []\n",
    "for i_count, a_file  in enumerate(data_mappings):\n",
    "    files_list += athenamgr.get_files_list(data_path, data_mappings[a_file])\n",
    "    #data_prj = athenamgr.read_project(a_file)\n",
    "    #for a_group_name in data_prj._athena_groups.keys():\n",
    "    #    print(a_group_name)\n",
    "    \n",
    "for i_count, a_file  in enumerate(files_list):\n",
    "    file_name = a_file.name\n",
    "    f_suffix = str(i_count).zfill(4) \n",
    "    p_name = f_prefix+f_suffix\n",
    "    #p_path = Path(out_path , p_name + \".prj\")\n",
    "    a_group = athenamgr.read_text(a_file, column_labels)\n",
    "    a_group.label = list(data_mappings.keys())[i_count]\n",
    "    a_group.filename = list(data_mappings.keys())[i_count]\n",
    "    sample_list.append(a_group)\n",
    "    \n",
    "athenamgr.save_groups(sample_list, \"read_results.prj\")"
   ]
  },
  {
   "cell_type": "code",
   "execution_count": 26,
   "id": "c0c80d4a",
   "metadata": {},
   "outputs": [
    {
     "data": {
      "text/plain": [
       "[<Group ascii_file C:\\harwell\\PSDI_test\\wf_data\\pub_665\\DS0463\\MoOx_Al2O3_XAFS_data\\172091_MoOx_Al2O3_1.dat>,\n",
       " <Group ascii_file C:\\harwell\\PSDI_test\\wf_data\\pub_665\\DS0463\\MoOx_Al2O3_XAFS_data\\172092_MoOx_Al2O3_2.dat>,\n",
       " <Group ascii_file C:\\harwell\\PSDI_test\\wf_data\\pub_665\\DS0463\\MoOx_Al2O3_XAFS_data\\172093_MoOx_Al2O3_3.dat>,\n",
       " <Group ascii_file C:\\harwell\\PSDI_test\\wf_data\\pub_665\\DS0463\\MoOx_Al2O3_XAFS_data\\172094_MoOx_Al2O3_4.dat>,\n",
       " <Group ascii_file C:\\harwell\\PSDI_test\\wf_data\\pub_665\\DS0463\\MoOx_Al2O3_XAFS_data\\172095_MoOx_Al2O3_5.dat>,\n",
       " <Group ascii_file C:\\harwell\\PSDI_test\\wf_data\\pub_665\\DS0463\\MoOx_Al2O3_XAFS_data\\172097_MoOx_Al2O3_actif_2.dat>,\n",
       " <Group ascii_file C:\\harwell\\PSDI_test\\wf_data\\pub_665\\DS0463\\MoOx_Al2O3_XAFS_data\\172098_MoOx_Al2O3_actif_3.dat>,\n",
       " <Group ascii_file C:\\harwell\\PSDI_test\\wf_data\\pub_665\\DS0463\\MoOx_Al2O3_XAFS_data\\172099_MoOx_Al2O3_actif_4.dat>,\n",
       " <Group ascii_file C:\\harwell\\PSDI_test\\wf_data\\pub_665\\DS0463\\MoOx_Al2O3_XAFS_data\\172102_MoOx_Al2O3_actif_7.dat>,\n",
       " <Group ascii_file C:\\harwell\\PSDI_test\\wf_data\\pub_665\\DS0463\\MoOx_Al2O3_XAFS_data\\172103_MoOx_Al2O3_actif_8.dat>,\n",
       " <Group ascii_file C:\\harwell\\PSDI_test\\wf_data\\pub_665\\DS0463\\MoOx_Al2O3_XAFS_data\\172104_MoOx_Al2O3_actif_9.dat>,\n",
       " <Group ascii_file C:\\harwell\\PSDI_test\\wf_data\\pub_665\\DS0463\\MoOx_Al2O3_XAFS_data\\172105_MoOx_Al2O3_actif_10.dat>,\n",
       " <Group ascii_file C:\\harwell\\PSDI_test\\wf_data\\pub_665\\DS0463\\MoOx_Al2O3_XAFS_data\\172137_MoOx_Al2O3_actif_42.dat>,\n",
       " <Group ascii_file C:\\harwell\\PSDI_test\\wf_data\\pub_665\\DS0463\\MoOx_Al2O3_XAFS_data\\172179_MoOx_Al2O3_actif_84.dat>,\n",
       " <Group ascii_file C:\\harwell\\PSDI_test\\wf_data\\pub_665\\DS0463\\MoOx_Al2O3_XAFS_data\\172231_MoOx_Al2O3_actif_136.dat>,\n",
       " <Group ascii_file C:\\harwell\\PSDI_test\\wf_data\\pub_665\\DS0463\\MoOx_Al2O3_XAFS_data\\172235_MoOx_Al2O3_actif_140.dat>,\n",
       " <Group ascii_file C:\\harwell\\PSDI_test\\wf_data\\pub_665\\DS0463\\MoOx_Al2O3_XAFS_data\\172236_MoOx_Al2O3_actif_141.dat>,\n",
       " <Group ascii_file C:\\harwell\\PSDI_test\\wf_data\\pub_665\\DS0463\\MoOx_Al2O3_XAFS_data\\172237_MoOx_Al2O3_actif_142.dat>,\n",
       " <Group ascii_file C:\\harwell\\PSDI_test\\wf_data\\pub_665\\DS0463\\MoOx_Al2O3_XAFS_data\\172238_MoOx_Al2O3_actif_143.dat>,\n",
       " <Group ascii_file C:\\harwell\\PSDI_test\\wf_data\\pub_665\\DS0463\\MoOx_Al2O3_XAFS_data\\172239_MoOx_Al2O3_actif_144.dat>,\n",
       " <Group ascii_file C:\\harwell\\PSDI_test\\wf_data\\pub_665\\DS0463\\MoOx_Al2O3_XAFS_data\\172246_MoOx_Al2O3_actif_1.dat>]"
      ]
     },
     "execution_count": 26,
     "metadata": {},
     "output_type": "execute_result"
    }
   ],
   "source": [
    "sample_list"
   ]
  },
  {
   "cell_type": "code",
   "execution_count": 47,
   "id": "01640ff7",
   "metadata": {
    "scrolled": false
   },
   "outputs": [
    {
     "name": "stdout",
     "output_type": "stream",
     "text": [
      "['I0', 'Iref', 'It', 'args', 'array_labels', 'atsym', 'attrs', 'callargs', 'd2mude', 'data', 'dmude', 'e0', 'edge', 'edge_step', 'edge_step_poly', 'energy', 'filename', 'flat', 'header', 'i0', 'journal', 'label', 'mu', 'muref', 'norm', 'norm_poly', 'path', 'post_edge', 'pre_edge', 'pre_edge_details', 'sel', 'signal', 'time', 'x', 'y']\n"
     ]
    },
    {
     "data": {
      "image/png": "[encoded data removed]",
      "text/plain": [
       "<Figure size 640x480 with 1 Axes>"
      ]
     },
     "metadata": {},
     "output_type": "display_data"
    }
   ],
   "source": [
    "data_prj = athenamgr.read_project(\"read_results.prj\")\n",
    "for mult, a_group in enumerate(data_prj.groups):\n",
    "    a_group=athenamgr.get_group(data_prj, a_group)\n",
    "\n",
    "    #print(a_group.e0)\n",
    "    plt = normal_plot(a_group, [19810,20450+mult*20],[-.01-mult*0.2 ,1.2],False, mult*20, -mult*0.2)\n",
    "print (dir(sample_list[0]))"
   ]
  },
  {
   "cell_type": "code",
   "execution_count": null,
   "id": "4aa338be",
   "metadata": {},
   "outputs": [],
   "source": [
    " dir(data_prj.groups)"
   ]
  },
  {
   "cell_type": "markdown",
   "id": "745e98f4",
   "metadata": {},
   "source": [
    "### Figure 1 XANES spectra of Pd/Al2O3\n"
   ]
  },
  {
   "cell_type": "code",
   "execution_count": null,
   "id": "59b38f95",
   "metadata": {
    "scrolled": false
   },
   "outputs": [],
   "source": [
    "data_path = Path(\"C:/harwell/PSDI_test/wf_data/pub_661/DS0462\")\n",
    "\n",
    "xanes_01 = {\"project_file\": \"100C.prj\",\n",
    "            \"mappings\":{\"Reduced Sample\": \"Pos_0_5_100C_After_Reduction\",\n",
    "                        \"PdO\": \"PdO_standard\",\n",
    "                        \"Pd Foil\":\"Pd_Foil\"}}\n",
    "\n",
    "data_file = Path(data_path, xanes_01['project_file'])\n",
    "xanes_01_groups = c_plot.get_groups(data_file,xanes_01[\"mappings\"])\n",
    "\n",
    "\n",
    "#define dict to set colours and line stiles\n",
    "plot_groups = {\"Reduced Sample\":[\"blue\", \"solid\"], \n",
    "               \"Pd Foil\":['red', \"dotted\"],\n",
    "               \"PdO\":[\"green\", \"dotted\"], \n",
    "               }\n",
    "\n",
    "# PDO may need to be aligned to same e0 as the other 2\n",
    "print(\"e0 Red. Sample:\", list(xanes_01_groups.values())[0].e0,\n",
    "      \"e0 Pd Foil:\", list(xanes_01_groups.values())[2].e0,\n",
    "      \"e0 PdO:\", list(xanes_01_groups.values())[1].e0)\n",
    "\n",
    "xanes_01_groups[\"PdO\"] = athenamgr.recalibrate_energy(xanes_01_groups[\"PdO\"], xanes_01_groups[\"Reduced Sample\"].e0)\n",
    "\n",
    "plt = c_plot3.plot_normalised(xanes_01_groups, plot_groups,(6.25,5),[24300, 24450],[0,1.2])\n",
    "plt.show()\n",
    "\n",
    "# deviation from metadata:\n",
    "#  - recalibration to e0\n",
    "#  - using Pos_0_5_100C_After_Reduction from 100C.prj instead of merge\n",
    "#    of signals from He_after_reduction.prj (equivalent result tested\n",
    "#    in atehena)"
   ]
  },
  {
   "cell_type": "markdown",
   "id": "1101e271",
   "metadata": {},
   "source": [
    "### Figure 2a XANES spectra of Pd/Al2O3 at 100 °C\n"
   ]
  },
  {
   "cell_type": "code",
   "execution_count": null,
   "id": "6c46e671",
   "metadata": {},
   "outputs": [],
   "source": [
    "# individaul normal plots\n",
    "def normal_subplot(a_subplt, athena_groups = {}, include_groups = {}, xlim=[],ylim=[], s_legend = True):\n",
    "    for g_indx, a_group in enumerate(include_groups):\n",
    "        a_subplt.plot(athena_groups[a_group].energy,\n",
    "                      athena_groups[a_group].norm, \n",
    "                      label=athena_groups[a_group].filename,\n",
    "                      color = include_groups[a_group][0],\n",
    "                      linestyle = include_groups[a_group][1]\n",
    "                     )                 \n",
    "    if s_legend:\n",
    "        a_subplt.legend() # show legend\n",
    "        a_subplt.set_ylabel(\"Normalized Absorption (a.u.)\")\n",
    "        a_subplt.set_xlabel(\"Energy (eV)\")\n",
    "    a_subplt.set_xlim(xlim)\n",
    "    a_subplt.set_ylim(ylim)\n",
    "    a_subplt.tick_params(axis='both', which='major', labelsize=9)\n",
    "    return a_subplt\n",
    "\n",
    "# normal plot with inset closeup\n",
    "def plot_normal_w_inset(main_groups = {}, main_include = {}, aspect=(6,8),\n",
    "                        lp_xlim=[], lp_ylim=[], \n",
    "                        inset_groups = {}, inset_include = {}, \n",
    "                        sp_xlim=[],  sp_ylim=[]\n",
    "                       ):\n",
    "    fig, ax1 = plt.subplots(figsize=aspect)\n",
    "    # These are in unitless percentages of the figure size. (0,0 is bottom left)\n",
    "    left, bottom, width, height = [0.48, 0.2, 0.4, 0.4]\n",
    "    ax2 = fig.add_axes([left, bottom, width, height])\n",
    "\n",
    "    ax1 = normal_subplot(ax1, main_groups, main_include, lp_xlim,lp_ylim)\n",
    "    ax2 = normal_subplot(ax2, inset_groups, inset_include, sp_xlim,sp_ylim, True)\n",
    "    return plt\n"
   ]
  },
  {
   "cell_type": "code",
   "execution_count": null,
   "id": "e1e37097",
   "metadata": {
    "scrolled": false
   },
   "outputs": [],
   "source": [
    "data_path = Path(\"C:/harwell/PSDI_test/wf_data/pub_661/DS0462\")\n",
    "\n",
    "xanes_02 = {\"project_file\": \"100C.prj\",\n",
    "            \"mappings\":{\"Pos 0\": \"Pos_0pt5\",\n",
    "                        \"Pos 1\": \"Pos_1pt5\",\n",
    "                        \"Pos 2\": \"Pos_2pt5\",\n",
    "                        \"Pos 3\": \"Pos_3pt5\",\n",
    "                        \"Pos 4\": \"Pos_4pt5\",\n",
    "                        \"Pos 5\": \"Pos_5pt5\",\n",
    "                        \"Pos 6\": \"Pos_6pt5\",\n",
    "                        \"Pos 7\": \"Pos_7pt5\",\n",
    "                        \"Pos 8\": \"Pos_8pt5\",\n",
    "                        \"Reduced Sample\": \"Pos_0_5_100C_After_Reduction\",\n",
    "                        \"PdO\": \"PdO_standard\",\n",
    "                        \"Pd Foil\":\"Pd_Foil\"}}\n",
    "\n",
    "data_file = Path(data_path, xanes_02['project_file'])\n",
    "\n",
    "xanes_02_groups = c_plot.get_groups(data_file,xanes_02[\"mappings\"])\n",
    "\n",
    "\n",
    "#define dict to set colours and line stiles\n",
    "main_groups = {\"Pos 0\": [\"black\", \"solid\"],\n",
    "               \"Pos 8\": [\"purple\", \"solid\"],\n",
    "               \"Reduced Sample\":[\"blue\", \"solid\"], \n",
    "               \"Pd Foil\":['red', \"dotted\"],\n",
    "               \"PdO\":[\"green\", \"dotted\"], \n",
    "               }\n",
    "\n",
    "inset_groups ={\"Pos 0\": [\"black\", \"solid\"],\n",
    "               \"Pos 1\": [\"blue\", \"solid\"],\n",
    "               \"Pos 2\": [\"red\", \"solid\"],\n",
    "               \"Pos 3\": [\"green\", \"solid\"],\n",
    "               \"Pos 4\": [\"yellow\", \"solid\"],\n",
    "               \"Pos 5\": [\"orange\", \"solid\"],\n",
    "               \"Pos 6\": [\"cyan\", \"solid\"],\n",
    "               \"Pos 7\": [\"lime\", \"solid\"],\n",
    "               \"Pos 8\": [\"pink\", \"solid\"],\n",
    "               }\n",
    "\n",
    "# PDO may need to be recalibrated to same e0 as the other 2\n",
    "print(\"e0 Red. Sample:\", list(xanes_01_groups.values())[0].e0,\n",
    "      \"e0 Pd Foil:\", list(xanes_01_groups.values())[2].e0,\n",
    "      \"e0 PdO:\", list(xanes_01_groups.values())[1].e0)\n",
    "\n",
    "xanes_02_groups[\"PdO\"] = athenamgr.recalibrate_energy(xanes_02_groups[\"PdO\"], xanes_02_groups[\"Pd Foil\"].e0)\n",
    "\n",
    "plt = plot_normal_w_inset(xanes_02_groups, main_groups, (8.5,8), [24300, 24450], [0,1.2], \n",
    "                          xanes_02_groups, inset_groups, [24340, 24400], [0,1.2])\n",
    "plt.show()\n",
    "\n",
    "# deviation from metadata:\n",
    "#  - recalibration to e0\n",
    "#  - the diagram on the paper is missing Pos 7, and\n",
    "#    100C.prj is missing Pos 9 and Pos 10 "
   ]
  },
  {
   "cell_type": "markdown",
   "id": "e8f0a31f",
   "metadata": {},
   "source": [
    "### Figure 2b intensity of XANES at the whiteline (24 368 eV) and at the PdNx peak (24 388 eV) "
   ]
  },
  {
   "cell_type": "code",
   "execution_count": null,
   "id": "318a1a69",
   "metadata": {
    "scrolled": false
   },
   "outputs": [],
   "source": [
    "import numpy as np\n",
    "\n",
    "e_values = [24368,24388]\n",
    "\n",
    "square = '$\\u25A0$'\n",
    "circle = '$\\u25CF$'\n",
    "\n",
    "markers={24368:[square,\"g\",\"g\",5],\n",
    "         24388:[circle,\"r\",\"r\",5]}\n",
    "\n",
    "positions ={}\n",
    "for e_value in e_values:\n",
    "    positions[e_value] = {}\n",
    "    for g_indx, a_group in enumerate(inset_groups):\n",
    "        # get the index of the energy value closer to e_value\n",
    "        e_idx = np.abs(xanes_02_groups[a_group].energy - e_value).argmin()\n",
    "        positions[e_value][g_indx] = xanes_02_groups[a_group].norm[e_idx]\n",
    "        \n",
    "for a_position in positions:\n",
    "    plt.plot(positions[a_position].keys(), positions[a_position].values(), marker=markers[a_position][0], \n",
    "             markerfacecolor=markers[a_position][1], markeredgecolor=markers[a_position][2],\n",
    "             markersize=markers[a_position][3], \n",
    "             linestyle='none', label=\"Signal at \" + str(a_position) + \"eV\" )\n",
    "    \n",
    "plt.ylabel(\"Signal Intensity (a.u.)\")\n",
    "plt.xlabel(\"Position along the bed (mm)\")\n",
    "plt.legend(loc='center')"
   ]
  },
  {
   "cell_type": "markdown",
   "id": "c2e00249",
   "metadata": {},
   "source": [
    "### Figure 2c Pd−Pd and Pd−N coordination number obtained from EXAFS fit.\n",
    "For this plot we need to do a fit o two paths to the all the position samples.\n",
    "Two crystal structures are required for fitting: AlPdO3 and NPd,. The crystal structures were obtained from materials project and CCDC. The name of the paths to select are those used in the figure caption (Pd-Pd and Pd-N). Additionally Pd-O was also used to obtain a better fit. \n",
    "\n",
    "The figure presents the results of 10 fittings but since all are fitted to the same crystal common variables are defined for: \n",
    "- set of GDS parameters\n",
    "- set of paths\n",
    "- set of fit variables\n",
    "\n",
    "The method for calculating the coordination numbers is described in the [Larch documentation](https://xraypy.github.io/xraylarch/xafs_feffit.html#example-4-measuring-coordination-number). \n",
    "\n",
    "Atoms and FEFF however can be shared for the four fittings so they are executed in the next cell"
   ]
  },
  {
   "cell_type": "code",
   "execution_count": null,
   "id": "6917938c",
   "metadata": {
    "scrolled": true
   },
   "outputs": [],
   "source": [
    "# Library with the functions that execute \n",
    "# Atoms and FEFF to generate scattering paths\n",
    "import lib.atoms_feff as feff_runner     \n",
    "\n",
    "# Set parameters          \n",
    "# library containign functions tho manage fit, at read, write \n",
    "# GDS parameters, and scattering paths. \n",
    "import lib.manage_fit as fit_manager  \n",
    "\n",
    "from larch import Interpreter\n",
    "session = Interpreter()\n",
    "\n",
    "\n",
    "# all crystals are added to a subfolder named additional\n",
    "crystal_files = [\"additional/mp-1178574_AlPdO3.cif\",\n",
    "                 \"additional/1694754.cif\",] \n",
    "\n",
    "for idx, a_file in enumerate(crystal_files):\n",
    "    crystal_files[idx] = data_path / a_file\n",
    "\n",
    "# Need to specify the absorbing atom and maximum radius\n",
    "absorbing_atoms = [\"Pd\",\"Pd\",]\n",
    "max_radius = 5.0\n",
    "\n",
    "# run feff and get a list of feff dirs\n",
    "feff_dirs = feff_runner.run_feff(crystal_files, absorbing_atoms, max_radius) \n",
    "\n",
    "# could prevent running if the files still exist and they are recent (<month old)"
   ]
  },
  {
   "cell_type": "code",
   "execution_count": null,
   "id": "e2aa3373",
   "metadata": {},
   "outputs": [],
   "source": [
    "gds_parms = \"pdo_gds.csv\"\n",
    "sel_paths = \"pdo_sp.csv\"\n",
    "\n",
    "# variables for fit\n",
    "fit_vars = {}\n",
    "fit_vars['fitspace']='k'\n",
    "fit_vars['kmin']=0 \n",
    "fit_vars['kmax']=10\n",
    "fit_vars['kw']=2 \n",
    "fit_vars['dk']=1\n",
    "fit_vars['window']='hanning'\n",
    "fit_vars['rmin']=0.0\n",
    "fit_vars['rmax']=5.0"
   ]
  },
  {
   "cell_type": "code",
   "execution_count": null,
   "id": "ef441d45",
   "metadata": {
    "scrolled": true
   },
   "outputs": [],
   "source": [
    "# read save parameters from input gds file\n",
    "gds = fit_manager.read_gds(gds_parms, session)\n",
    "# show gsd group parameters in a spreadsheet\n",
    "this_sheet = fit_manager.show_gds(gds)\n",
    "# save gsd group parameters in a csv file\n",
    "fit_manager.save_gds(gds, gds_parms)"
   ]
  },
  {
   "cell_type": "code",
   "execution_count": null,
   "id": "fe53d605",
   "metadata": {},
   "outputs": [],
   "source": [
    "# save gds data the csv file \n",
    "gds = fit_manager.spreadsheet_to_gds(this_sheet, session)\n",
    "# save gsd group parameters in a csv file\n",
    "fit_manager.save_gds(gds, gds_parms)"
   ]
  },
  {
   "cell_type": "code",
   "execution_count": null,
   "id": "3b53530c",
   "metadata": {
    "scrolled": true
   },
   "outputs": [],
   "source": [
    "# read saved selected paths from input file\n",
    "selected_paths = fit_manager.read_selected_paths_list(sel_paths, session)\n",
    "\n",
    "path_sheet = fit_manager.show_feff_paths(crystal_files,selected_paths)\n",
    "display(path_sheet)"
   ]
  },
  {
   "cell_type": "code",
   "execution_count": null,
   "id": "6853d503",
   "metadata": {},
   "outputs": [],
   "source": [
    "sp_sheet = fit_manager.show_selected_paths(path_sheet, selected_paths)\n"
   ]
  },
  {
   "cell_type": "code",
   "execution_count": null,
   "id": "5c0ad436",
   "metadata": {},
   "outputs": [],
   "source": [
    "fit_manager.save_selected_paths_list(sp_sheet, sel_paths)\n",
    "selected_paths = fit_manager.read_selected_paths_list(sel_paths, session)\n",
    "\n",
    "# hack set degen = 1 for all paths\n",
    "for a_path in selected_paths:\n",
    "    a_path.degen = 1\n"
   ]
  },
  {
   "cell_type": "code",
   "execution_count": null,
   "id": "87201eca",
   "metadata": {
    "scrolled": true
   },
   "outputs": [],
   "source": [
    "# list all the groups to be fitted\n",
    "fit_groups ={\"Pos 0\": [\"black\", \"solid\"],\n",
    "               \"Pos 1\": [\"blue\", \"solid\"],\n",
    "               \"Pos 2\": [\"red\", \"solid\"],\n",
    "               \"Pos 3\": [\"green\", \"solid\"],\n",
    "               \"Pos 4\": [\"yellow\", \"solid\"],\n",
    "               \"Pos 5\": [\"orange\", \"solid\"],\n",
    "               \"Pos 6\": [\"cyan\", \"solid\"],\n",
    "               \"Pos 7\": [\"lime\", \"solid\"],\n",
    "               \"Pos 8\": [\"pink\", \"solid\"],\n",
    "               }\n",
    "\n",
    "# run fit\n",
    "fit_list = {}\n",
    "for a_group in fit_groups:\n",
    "    trans, dset, out = fit_manager.run_fit(xanes_02_groups[a_group], gds, selected_paths, fit_vars, session)\n",
    "    fit_list[a_group]=[trans, dset, out]\n",
    "    \n",
    "\n",
    "# import custom plot functions (replicate plots in paper)\n",
    "import paper01_plots as c_plots\n",
    "for a_fit in fit_list:\n",
    "    chikr_p = c_plot.plot_dashed_fit(fit_list[a_fit][1], fit_vars['rmin'],\n",
    "                                     fit_vars['rmax'],fit_vars['kmin'] ,\n",
    "                                     fit_vars['kmax'], a_fit)\n",
    "chikr_p.show()"
   ]
  },
  {
   "cell_type": "code",
   "execution_count": null,
   "id": "2fa03943",
   "metadata": {
    "scrolled": true
   },
   "outputs": [],
   "source": [
    "for a_fit in fit_list:\n",
    "    print(\"R-factor %.2f\"%(fit_list[a_fit][2].rfactor*100)+\"%\")"
   ]
  },
  {
   "cell_type": "code",
   "execution_count": null,
   "id": "a574b9ea",
   "metadata": {},
   "outputs": [],
   "source": [
    "paths_w_cn =[\"PdPd\",\"PdN\"]\n",
    "\n",
    "markers={\"PdPd\":[square,\"g\",\"g\",5],\n",
    "         \"PdN\":[circle,\"r\",\"r\",5]}\n",
    "errors = {\"PdPd\":[], \"PdN\":[]}\n",
    "\n",
    "cn_positions ={\"PdPd\":{},\"PdN\":{}}\n",
    "\n",
    "for idx, a_fit in enumerate(fit_list):\n",
    "    cn_positions[\"PdPd\"][idx] = abs(fit_list[a_fit][2].params['n1_pdpd'].value)\n",
    "    err = str(fit_list[a_fit][2].params['n1_pdpd'])\n",
    "    errors[\"PdPd\"].append(float(err[err.find('+/-')+4:].split(\",\")[0]))\n",
    "    cn_positions[\"PdN\"][idx] = abs(fit_list[a_fit][2].params['n3_pdn'].value)\n",
    "    err = str(fit_list[a_fit][2].params['n3_pdn'])\n",
    "    errors[\"PdN\"].append(float(err[err.find('+/-')+4:].split(\",\")[0]))\n",
    "    \n",
    "\n",
    "for a_position in cn_positions:\n",
    "    plt.plot(cn_positions[a_position].keys(), cn_positions[a_position].values(), marker=markers[a_position][0], \n",
    "             markerfacecolor=markers[a_position][1], markeredgecolor=markers[a_position][2],\n",
    "             markersize=markers[a_position][3], \n",
    "             linestyle='none', label = str(a_position))\n",
    "    plt.errorbar(cn_positions[a_position].keys(), cn_positions[a_position].values(), yerr=errors[a_position],\n",
    "                 linestyle='none',capsize= 5)\n",
    "    \n",
    "plt.ylabel(\"Coordination Number\")\n",
    "plt.xlabel(\"Position along the bed (mm)\")\n",
    "plt.legend(loc='center')\n"
   ]
  },
  {
   "cell_type": "code",
   "execution_count": null,
   "id": "924c30a2",
   "metadata": {},
   "outputs": [],
   "source": [
    "import re\n",
    "cn_positions ={\"PdPd\":{},\"PdN\":{}}\n",
    "cn_errors = {\"PdPd\":[],\"PdN\":[]}\n",
    "\n",
    "path_keys = {\"  n1_pdpd   \":\"PdN\",  \"  n3_pdn   \" :\"PdPd\"}\n",
    "\n",
    "found_key = False\n",
    "this_key = \"\"\n",
    "for idx, a_fit in enumerate(fit_list):\n",
    "    fit_report = fit_manager.get_fit_report(fit_list[a_fit][2], session)\n",
    "    for a_line in fit_report.split(\"\\n\"):\n",
    "        for a_key in path_keys:\n",
    "            if a_key in a_line:\n",
    "                #print(a_line)\n",
    "                all_vals = re.findall(r\"[-+]?(?:\\d*\\.*\\d+)\", a_line) \n",
    "                #print (all_vals)\n",
    "                cn_positions[path_keys[a_key]][idx] = abs(float(all_vals[1]))\n",
    "                cn_errors[path_keys[a_key]].append(float(all_vals[2]))\n",
    "\n",
    "\n",
    "for a_position in cn_positions:\n",
    "    plt.plot(cn_positions[a_position].keys(), cn_positions[a_position].values(), marker=markers[a_position][0], \n",
    "             markerfacecolor=markers[a_position][1], markeredgecolor=markers[a_position][2],\n",
    "             markersize=markers[a_position][3], \n",
    "             linestyle='none', label = str(a_position))\n",
    "    plt.errorbar(cn_positions[a_position].keys(), cn_positions[a_position].values(), yerr=errors[a_position],\n",
    "                 linestyle='none',capsize= 5)\n",
    "    \n",
    "plt.ylabel(\"Coordination Number\")\n",
    "plt.xlabel(\"Position along the bed (mm)\")\n",
    "plt.legend(loc='center')\n"
   ]
  },
  {
   "cell_type": "markdown",
   "id": "14db8361",
   "metadata": {},
   "source": [
    "### Figure 2d Pd−Pd and Pd−N distances obtained from EXAFS fit.\n",
    "\n",
    "For this plot we use the same results from the fits above. In this case we take the r reported for each of the two paths of interest: Pd-Pd and Pd-N.\n",
    "\n",
    "The script below looks up the report for the path labels and then for the value of R. The values are stored in two arrays which are then plotted.\n"
   ]
  },
  {
   "cell_type": "code",
   "execution_count": null,
   "id": "347596d5",
   "metadata": {
    "scrolled": false
   },
   "outputs": [],
   "source": [
    "r_positions ={\"PdPd\":{},\"PdN\":{}}\n",
    "r_errors = {\"PdPd\":[],\"PdN\":[]}\n",
    "path_keys = {\"N.Pd.1\":\"PdN\",\"Pd.Pd.2\":\"PdPd\"}\n",
    "\n",
    "found_key = False\n",
    "this_key = \"\"\n",
    "for idx, a_fit in enumerate(fit_list):\n",
    "    fit_report = fit_manager.get_fit_report(fit_list[a_fit][2], session)\n",
    "    for a_line in fit_report.split(\"\\n\"):\n",
    "        for a_key in path_keys:\n",
    "            if a_key in a_line:\n",
    "                found_key = True\n",
    "                this_key = a_key\n",
    "        if found_key and '  r  ' in a_line:\n",
    "            all_vals = re.findall(r\"[-+]?(?:\\d*\\.*\\d+)\", a_line)\n",
    "            r_positions[path_keys[this_key]][idx] = float(all_vals[0])\n",
    "            r_errors[path_keys[this_key]].append(float(all_vals[1]))\n",
    "            found_key = False\n",
    "            this_key = \"\"\n",
    "       \n",
    "\n",
    "\n",
    "for a_position in r_positions:\n",
    "    plt.plot(r_positions[a_position].keys(), r_positions[a_position].values(), marker=markers[a_position][0], \n",
    "             markerfacecolor=markers[a_position][1], markeredgecolor=markers[a_position][2],\n",
    "             markersize=markers[a_position][3], \n",
    "             linestyle='none', label = str(a_position))\n",
    "    plt.errorbar(r_positions[a_position].keys(), r_positions[a_position].values(), yerr=r_errors[a_position],\n",
    "                 linestyle='none',capsize= 5)\n",
    "    \n",
    "plt.ylabel(\"Coordination Number\")\n",
    "plt.xlabel(\"Position along the bed (mm)\")\n",
    "plt.legend(loc='center')"
   ]
  },
  {
   "cell_type": "markdown",
   "id": "5497bc98",
   "metadata": {},
   "source": [
    "### Figure 4a XANES spectra of Pd/Al2O3 under reaction condition, 175 °C, for the front and the end of the bed, compared to Pd foil and PdO reference;\n"
   ]
  },
  {
   "cell_type": "code",
   "execution_count": null,
   "id": "5005b627",
   "metadata": {
    "scrolled": false
   },
   "outputs": [],
   "source": [
    "xanes_04 = {\"project_file\": \"175C.prj\",\n",
    "            \"mappings\":{\"Pos 0\": \"Pos_0pt5\",\n",
    "                        \"Pos 1\": \"Pos_1pt5\",\n",
    "                        \"Pos 2\": \"Pos_2pt5\",\n",
    "                        \"Pos 3\": \"Pos_3pt5\",\n",
    "                        \"Pos 4\": \"Pos_4pt5\",\n",
    "                        \"Pos 5\": \"Pos_5pt5\",\n",
    "                        \"Pos 6\": \"Pos_6pt5\",\n",
    "                        \"Pos 7\": \"Pos_7pt5\",\n",
    "                        \"Pos 8\": \"Pos_8pt5\",\n",
    "                        \"Reduced Sample\": \"d_0pt5_100_He_after_reduction\",\n",
    "                        \"PdO\": \"PdO_standard\",\n",
    "                        \"Pd Foil\":\"Pd_Foil\"}}\n",
    "\n",
    "data_file = Path(data_path, xanes_04['project_file'])\n",
    "\n",
    "xanes_04_groups = c_plot.get_groups(data_file,xanes_04[\"mappings\"])\n",
    "\n",
    "\n",
    "#define dict to set colours and line stiles\n",
    "main_groups = {\"Pos 0\": [\"black\", \"solid\"],\n",
    "               \"Pos 8\": [\"purple\", \"solid\"],\n",
    "               \"PdO\":[\"green\", \"dotted\"],\n",
    "               \"Pd Foil\":['red', \"dotted\"],\n",
    "               }\n",
    "\n",
    "inset_groups ={\"Pos 0\": [\"black\", \"solid\"],\n",
    "               \"Pos 1\": [\"blue\", \"solid\"],\n",
    "               \"Pos 2\": [\"red\", \"solid\"],\n",
    "               \"Pos 3\": [\"green\", \"solid\"],\n",
    "               \"Pos 4\": [\"yellow\", \"solid\"],\n",
    "               \"Pos 5\": [\"orange\", \"solid\"],\n",
    "               \"Pos 6\": [\"cyan\", \"solid\"],\n",
    "               \"Pos 7\": [\"lime\", \"solid\"],\n",
    "               \"Pos 8\": [\"pink\", \"solid\"],\n",
    "               }\n",
    "\n",
    "# PDO may need to be recalibrated to same e0 as the other 2\n",
    "print(\"e0 Red. Sample:\", list(xanes_04_groups.values())[0].e0,\n",
    "      \"e0 Pd Foil:\", list(xanes_04_groups.values())[2].e0,\n",
    "      \"e0 PdO:\", list(xanes_04_groups.values())[1].e0)\n",
    "\n",
    "align_e0 = xanes_04_groups[\"PdO\"].e0\n",
    "for a_group in xanes_04_groups:\n",
    "    xanes_04_groups[a_group] = athenamgr.recalibrate_energy(xanes_04_groups[a_group], align_e0)\n",
    "\n",
    "plt = plot_normal_w_inset(xanes_04_groups, main_groups, (8.5,8), [24300, 24450], [0,1.2], \n",
    "                          xanes_04_groups, inset_groups, [24340, 24400], [0,1.2])\n",
    "plt.show()\n",
    "\n",
    "# deviation from metadata:\n",
    "#  - recalibration to e0\n",
    "#  - the diagram on the paper is missing Pos 7, and\n",
    "#    100C.prj is missing Pos 9 and Pos 10 "
   ]
  },
  {
   "cell_type": "markdown",
   "id": "611487f0",
   "metadata": {},
   "source": [
    "### Figure 4a XANES spectra of Pd/Al2O3 under reaction condition, 175 °C, for the front and the end of the bed, compared to Pd foil and PdO reference;\n"
   ]
  },
  {
   "cell_type": "code",
   "execution_count": null,
   "id": "52ef4bfa",
   "metadata": {
    "scrolled": false
   },
   "outputs": [],
   "source": [
    "xanes_04 = {\"project_file\": \"175C.prj\",\n",
    "            \"mappings\":{\"Pos 0\": \"Pos_0pt5\",\n",
    "                        \"Pos 1\": \"Pos_1pt5\",\n",
    "                        \"Pos 2\": \"Pos_2pt5\",\n",
    "                        \"Pos 3\": \"Pos_3pt5\",\n",
    "                        \"Pos 4\": \"Pos_4pt5\",\n",
    "                        \"Pos 5\": \"Pos_5pt5\",\n",
    "                        \"Pos 6\": \"Pos_6pt5\",\n",
    "                        \"Pos 7\": \"Pos_7pt5\",\n",
    "                        \"Pos 8\": \"Pos_8pt5\",\n",
    "                        \"Reduced Sample\": \"d_0pt5_100_He_after_reduction\",\n",
    "                        \"PdO\": \"PdO_standard\",\n",
    "                        \"Pd Foil\":\"Pd_Foil\"}}\n",
    "\n",
    "data_file = Path(data_path, xanes_04['project_file'])\n",
    "\n",
    "xanes_04_groups = c_plot.get_groups(data_file,xanes_04[\"mappings\"])\n",
    "\n",
    "\n",
    "#define dict to set colours and line stiles\n",
    "main_groups = {\"Pos 0\": [\"black\", \"solid\"],\n",
    "               \"Pos 8\": [\"purple\", \"solid\"],\n",
    "               \"PdO\":[\"green\", \"dotted\"],\n",
    "               \"Pd Foil\":['red', \"dotted\"],\n",
    "               }\n",
    "\n",
    "inset_groups ={\"Pos 0\": [\"black\", \"solid\"],\n",
    "               \"Pos 1\": [\"blue\", \"solid\"],\n",
    "               \"Pos 2\": [\"red\", \"solid\"],\n",
    "               \"Pos 3\": [\"green\", \"solid\"],\n",
    "               \"Pos 4\": [\"yellow\", \"solid\"],\n",
    "               \"Pos 5\": [\"orange\", \"solid\"],\n",
    "               \"Pos 6\": [\"cyan\", \"solid\"],\n",
    "               \"Pos 7\": [\"lime\", \"solid\"],\n",
    "               \"Pos 8\": [\"pink\", \"solid\"],\n",
    "               }\n",
    "\n",
    "# PDO may need to be recalibrated to same e0 as the other 2\n",
    "print(\"e0 Red. Sample:\", list(xanes_04_groups.values())[0].e0,\n",
    "      \"e0 Pd Foil:\", list(xanes_04_groups.values())[2].e0,\n",
    "      \"e0 PdO:\", list(xanes_04_groups.values())[1].e0)\n",
    "\n",
    "align_e0 = xanes_04_groups[\"PdO\"].e0\n",
    "for a_group in xanes_04_groups:\n",
    "    xanes_04_groups[a_group] = athenamgr.recalibrate_energy(xanes_04_groups[a_group], align_e0)\n",
    "\n",
    "plt = plot_normal_w_inset(xanes_04_groups, main_groups, (8.5,8), [24300, 24450], [0,1.2], \n",
    "                          xanes_04_groups, inset_groups, [24340, 24400], [0,1.2])\n",
    "plt.show()\n",
    "\n",
    "# deviation from metadata:\n",
    "#  - recalibration to e0\n",
    "#  - the diagram on the paper is missing Pos 7, and\n",
    "#    100C.prj is missing Pos 9 and Pos 10 "
   ]
  },
  {
   "cell_type": "markdown",
   "id": "47c20c24",
   "metadata": {},
   "source": [
    "## Reproducibility of results\n",
    "\n",
    "All of the results can be reproduced. however there is a small issue regarding which crystal files to use. These are not included in the published dataset.\n",
    "\n",
    "Pending contactiong authors for validation of process.\n"
   ]
  },
  {
   "cell_type": "markdown",
   "id": "3fd04219",
   "metadata": {},
   "source": [
    "Issues:\n",
    "1. data sets for 100C, only 8 are included in prj, could they be mislabelled? what happened to sample at position 7?\n",
    "2. Method to calculate coordination numbers (is it correct?)\n",
    "3. Method to get R for each path from report?\n",
    "4. need to reaearch the method for MCR and see if it can be supported with Larch (4b,4c,4d,).\n"
   ]
  },
  {
   "cell_type": "code",
   "execution_count": null,
   "id": "286f6c7b",
   "metadata": {},
   "outputs": [],
   "source": []
  }
 ],
 "metadata": {
  "kernelspec": {
   "display_name": "Python 3 (ipykernel)",
   "language": "python",
   "name": "python3"
  },
  "language_info": {
   "codemirror_mode": {
    "name": "ipython",
    "version": 3
   },
   "file_extension": ".py",
   "mimetype": "text/x-python",
   "name": "python",
   "nbconvert_exporter": "python",
   "pygments_lexer": "ipython3",
   "version": "3.9.2rc1"
  }
 },
 "nbformat": 4,
 "nbformat_minor": 5
}
