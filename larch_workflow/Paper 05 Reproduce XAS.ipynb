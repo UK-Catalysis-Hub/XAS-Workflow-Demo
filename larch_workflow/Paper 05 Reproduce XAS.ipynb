{
 "cells": [
  {
   "cell_type": "markdown",
   "id": "aedfece6",
   "metadata": {},
   "source": [
    "# Reproduce R. H. Blackmore, et. al, Dalton Trans., 2020,49, 232-240 \n",
    "\n",
    "This notebook demonstrates reproducing the XAS results of the paper with [Larch](https://xraypy.github.io/xraylarch/xafs/) using the corresponding published dataset (raw data). \n",
    "\n",
    "R. H. Blackmore, M. E. Rivas, T. Eralp Erden, T. Dung Tran, H. R. Marchbank, D. Ozkaya, M. Briceno de Gutierrez, A. Wagland, P. Collier, P. P. Wells (2018). **Understanding the mechanochemical synthesis of the perovskite LaMnO3 and its catalytic behaviour ** DOI: [10.1039/C9DT03590G](http://dx.doi.org/10.1039/C9DT03590G).\n",
    "\n",
    "- **Corresponding authors**:  P. P. Wells\n",
    "- **E-mails**: \n",
    "\n",
    "The data used for reproducing the results was published in the University of Southampton Institutional Repository [doi:10.5258/SOTON/D1128](http://dx.doi.org/10.5258/SOTON/D1128)\n",
    "\n",
    "For more details about Larch, see [Larch Website](https://xraypy.github.io/xraylarch/xafs/)"
   ]
  },
  {
   "cell_type": "markdown",
   "id": "f0e8e1a5",
   "metadata": {},
   "source": [
    "## Reproducing XAS analysis\n",
    "\n",
    "The XAS results of the paper are in Figures: [2](https://pubs.rsc.org/image/article/2020/dt/c9dt03590g/c9dt03590g-f2_hi-res.gif), [3](https://pubs.rsc.org/image/article/2020/dt/c9dt03590g/c9dt03590g-f3_hi-res.gif), [4](https://pubs.rsc.org/image/article/2020/dt/c9dt03590g/c9dt03590g-f4_hi-res.gif), [5](https://pubs.rsc.org/image/article/2020/dt/c9dt03590g/c9dt03590g-f5_hi-res.gif), \n",
    "The captions and metadata for each figure can be used for reproducing the results presented.\n",
    "\n",
    "#### Figures and Captions\n",
    ">Fig. 2 XANES spectra at the (A) Mn K-edge for LaMnO3 prepared by sol–gel synthesis and ball milling after 1 and 4 hours compared to Mn2O3 precursor\n",
    "with highlighted pre-edge region and (B) La L3-edge for LaMnO3 prepared by sol–gel synthesis and ball milling after 1 and 4 hours compared\n",
    "to La(OH)3 precursor.\n",
    ">\n",
    ">Fig. 3 Non phase-corrected Fourier transform at the Mn K-edge for\n",
    "LaMnO3 synthesised by sol–gel and by ball milling from 1 h and 4 h\n",
    "compared to precursor Mn2O3.\n",
    ">\n",
    ">Fig. 4 Mn K-edge EXAFS data after (A) time 0 h of milling (Mn2O3) and after time (B) 1 h of milling (C) 4 h of milling compared to (D) sol–gel synthesized\n",
    "LaMnO3 showing the magnitude and imaginary components of the k2-weighted Fourier transform data and simulated fits.\n",
    ">\n",
    ">Fig. 5 Non phase-corrected Fourier transform at the La L3-edge for\n",
    "LaMnO3 synthesised by sol–gel and by ball milling from 1 h to 4 h compared\n",
    "to the precursor La(OH)3.\n",
    "\n",
    "#### Metadata (ReadMe_File2.txt)\n",
    ">Figure 2-5:XAS data at both the (A) Mn K-edge and (B) La L3-edge for LaMnO3 prepared by sol-gel synthesis and at 1 h time slices during ball milling compared to either Mn2O3 or La(OH)3 precursor.\n",
    ">\n",
    ">This is in .prj file format to be opened in Arthena and Artemis software package."
   ]
  },
  {
   "cell_type": "code",
   "execution_count": 1,
   "id": "dc601822",
   "metadata": {},
   "outputs": [],
   "source": [
    "# Library with the functions that replicate athena:\n",
    "# normalisation, merging, re-binning, \n",
    "# and visualisation (plotting)\n",
    "import lib.manage_athena as athenamgr  \n",
    "\n",
    "# File handling\n",
    "from pathlib import Path\n",
    "\n",
    "#plotting library\n",
    "import matplotlib.pyplot as plt\n",
    "# inline: shows plot in notebook\n",
    "# tk: shows plot in popup\n",
    "%matplotlib inline \n",
    "\n"
   ]
  },
  {
   "cell_type": "code",
   "execution_count": null,
   "id": "59b38f95",
   "metadata": {},
   "outputs": [],
   "source": []
  }
 ],
 "metadata": {
  "kernelspec": {
   "display_name": "Python 3 (ipykernel)",
   "language": "python",
   "name": "python3"
  },
  "language_info": {
   "codemirror_mode": {
    "name": "ipython",
    "version": 3
   },
   "file_extension": ".py",
   "mimetype": "text/x-python",
   "name": "python",
   "nbconvert_exporter": "python",
   "pygments_lexer": "ipython3",
   "version": "3.9.2rc1"
  }
 },
 "nbformat": 4,
 "nbformat_minor": 5
}
