{
 "cells": [
  {
   "cell_type": "markdown",
   "id": "cb342181",
   "metadata": {},
   "source": [
    "# Reproduce R. H. Blackmore, et. al, Dalton Trans., 2020,49, 232-240 \n",
    "\n",
    "This notebook demonstrates reproducing the XAS results of the paper with [Larch](https://xraypy.github.io/xraylarch/xafs/) using the corresponding published dataset (raw data). \n",
    "\n",
    "R. H. Blackmore, M. E. Rivas, T. Eralp Erden, T. Dung Tran, H. R. Marchbank, D. Ozkaya, M. Briceno de Gutierrez, A. Wagland, P. Collier, P. P. Wells (2018). **Understanding the mechanochemical synthesis of the perovskite LaMnO3 and its catalytic behaviour ** DOI: [10.1039/C9DT03590G](http://dx.doi.org/10.1039/C9DT03590G).\n",
    "\n",
    "- **Corresponding authors**:  Emma K. Gibson, Kevin Morgan\n",
    "- **E-mails**: \n",
    "\n",
    "The data used for reproducing the results was published in the University of Southampton Institutional Repository [doi:10.5258/SOTON/D1128](http://dx.doi.org/10.5258/SOTON/D1128)\n",
    "\n",
    "For more details about Larch, see [Larch Website](https://xraypy.github.io/xraylarch/xafs/)"
   ]
  },
  {
   "cell_type": "code",
   "execution_count": null,
   "id": "9ad08f91",
   "metadata": {},
   "outputs": [],
   "source": []
  }
 ],
 "metadata": {
  "kernelspec": {
   "display_name": "Python 3 (ipykernel)",
   "language": "python",
   "name": "python3"
  },
  "language_info": {
   "codemirror_mode": {
    "name": "ipython",
    "version": 3
   },
   "file_extension": ".py",
   "mimetype": "text/x-python",
   "name": "python",
   "nbconvert_exporter": "python",
   "pygments_lexer": "ipython3",
   "version": "3.9.2rc1"
  }
 },
 "nbformat": 4,
 "nbformat_minor": 5
}
