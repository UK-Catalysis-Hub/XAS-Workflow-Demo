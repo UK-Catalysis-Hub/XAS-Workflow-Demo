{
 "cells": [
  {
   "cell_type": "markdown",
   "id": "e346a05a",
   "metadata": {},
   "source": [
    "# Reproduce  A. M. Messinis, et. al, Nature Catalysis, 2019,  2,  123-133 \n",
    "\n",
    "This notebook demonstrates reproducing the results of the paper with [Larch](https://xraypy.github.io/xraylarch/xafs/) using the corresponding published dataset (raw data). \n",
    "\n",
    "\n",
    "\n",
    "Antonis M. Messinis, Stephen L. J. Luckham, Peter P. Wells, Diego Gianolio, Emma K. Gibson, Harry M. O’Brien, Hazel A. Sparkes, Sean A. Davis, June Callison, David Elorriaga, Oscar Hernandez-Fajardo & Robin B. Bedford (2019) **The highly surprising behaviour of diphosphine ligands in iron-catalysed Negishi cross-coupling** Nature Catalysis, 2019,  2,  123-133 DOI: [10.1038/s41929-018-0197-z](https://doi.org/10.1038/s41929-018-0197-z).\n",
    "\n",
    "The data used for reproducing the results was published in the University of Bristol Research Data Repository [10.5523/bris.1kp2f62x3klb02mfz2qymcmxmx](https://data.bris.ac.uk/data/dataset/1kp2f62x3klb02mfz2qymcmxmx).\n",
    "\n",
    "\n",
    "For more details about Larch, see [Larch Website](https://xraypy.github.io/xraylarch/xafs/)"
   ]
  },
  {
   "cell_type": "markdown",
   "id": "cedd167f",
   "metadata": {},
   "source": [
    "## Reproducing Results\n",
    "[Figure 5](https://www.nature.com/articles/s41929-018-0197-z/figures/5) contains the first XAS results presented in the paper.\n",
    "\n",
    ">Fig. 5 | Time-resolved XAFS spectroscopy studies. a, Formation of cross-coupled and homo-coupled products in the coupling of 1 and 2a at 22 °C. Time \n",
    "points A–D corresponding to the points when XAFS data were recorded using the flow reactor (A = 6 s, B = 166 s, C = 482 s, D = 817 s). The colours used for\n",
    "time-point indicators A– D correspond to the colours of the spectra recorded at these time point shown in c–f; the colours used for the chemical structures\n",
    "correspond to the colours of the plots in the graphs shown in a and b. b, Expansion of the first 30 s of the reaction, highlighting the catalytic ‘burst’ phase.\n",
    "**c, Magnitude k2 Fourier transform data** of the Fe foil and the reaction of 1 + 2/MgBr2 catalysed by FeBr2(dpbz)2] (7a) at time points A–D. The shaded\n",
    "areas are used to highlight the areas of scattering contribution from Fe–Fe (grey), Fe–C/O (orange) and Fe–Br (green).**d, Normalized XANES spectra** of\n",
    "the Fe foil, FeBr2 and positions A–D. **e, Normalized XANES data** showing a close-up of the edge position of complex 7a (FeBr2(dpbz)2) and positions A–D. **f, Normalized\n",
    "XANES derivative spectra** of the Fe foil, FeBr2 and positions A–D. The shaded areas are used to highlight the features associated with metallic Fe (grey) and\n",
    "bromidic Fe (green).\n",
    "\n",
    "All data is in the \"XAS Data\" folder of the zip file\n",
    "For reproduction we assume that:\n",
    "- A-D are in the \"\\XAS data\\SI77 and Figure 5\\Position A - \\XAS data\\SI77 and Figure 5\\Position D\" folders\n",
    "- Fe starndard is in \"\\XAS data\\SI70\" folder\n",
    "- FeBr is in is in \"\\XAS data\\SI80\" folder\n",
    "- FeBr2dpbz  is in \"\\XAS data\\SI81\" folder"
   ]
  },
  {
   "cell_type": "markdown",
   "id": "39af6026",
   "metadata": {},
   "source": [
    "### Data Processing\n",
    "Data needs merging (assuming all readings correspond to same time)"
   ]
  },
  {
   "cell_type": "code",
   "execution_count": null,
   "id": "08cd6bc9",
   "metadata": {},
   "outputs": [],
   "source": [
    "# Library with the functions that replicate athena:\n",
    "# normalisation, merging, re-binning, LCF\n",
    "# and visualisation (plotting)\n",
    "import lib.manage_athena as athenamgr  \n",
    "\n",
    "# File handling\n",
    "from pathlib import Path\n",
    "\n",
    "#plotting library\n",
    "import matplotlib.pyplot as plt\n",
    "# inline: shows plot in notebook\n",
    "# tk: shows plot in popup\n",
    "%matplotlib inline\n",
    "\n",
    "# define data location\n",
    "data_path =  \"C:/harwell/PSDI_test/wf_data/pub_047/XAS data\"\n",
    "\n",
    "# define mappings:\n",
    "data_mappings={\"Fe Metal\": \"SI70/*.dat\",\n",
    "               \"A\":        \"SI77 and Figure 5/Position A/*.dat\",\n",
    "               \"B\":        \"SI77 and Figure 5/Position B/*.dat\",\n",
    "               \"C\":        \"SI77 and Figure 5/Position C/*.dat\",\n",
    "               \"D\":        \"SI77 and Figure 5/Position D/*.dat\",\n",
    "               \"FeBr\":     \"SI80/*.dat\", \n",
    "               \"7a\":       \"SI81/*.dat\",}\n",
    "# Output prefix\n",
    "f_prefix = \"FeBr_bpbz\"\n",
    "\n",
    "# Labels for data in .dat files\n",
    "               #\"0             1    2  3  4    5      6        7\n",
    "               #\"qexafs_energy time I0 It Iref lnI0It lnItIref Element_0 Element_1 Element_2 Element_3 Element_4\tElement_5\tElement_6\tElement_7\tElement_8\tElement_9\tElement_10\tElement_11\tElement_12\tElement_13\tElement_14\tElement_15\tElement_16\tElement_17\tElement_18\tElement_19\tElement_20\tElement_21\tElement_22\tElement_23\tElement_24\tElement_25\tElement_26\tElement_27\tElement_28\tElement_29\tElement_30\tElement_31\tElement_32\tElement_33\tElement_34\tElement_35\t  FF\t QexafsFFI0\"\n",
    "               #\"0      1    2  3  4    5      6\"\n",
    "column_labels = \"energy time I0 It Iref lnI0It mu Element0 Element1 Element2 Element3 Element4 Element5 Element6 Element7 Element8 FF QexafsFFI0\"\n",
    "\n",
    "show_graph = True # False to prevent showing graphs"
   ]
  },
  {
   "cell_type": "code",
   "execution_count": null,
   "id": "82bbab84",
   "metadata": {},
   "outputs": [],
   "source": [
    "# start processing createa an output dir and sets the logger\n",
    "source_path, out_path = athenamgr.files_setup(f_prefix, data_path)\n",
    "\n",
    "merged_results={}\n",
    "# read all samples, merge and then normalise\n",
    "for a_sample in data_mappings:\n",
    "    files_list = athenamgr.get_files_list(source_path, data_mappings[a_sample])\n",
    "\n",
    "    # read the files for each sample\n",
    "\n",
    "    sample_list = []\n",
    "\n",
    "    for i_count, a_file  in enumerate(files_list):\n",
    "        file_name = a_file.name\n",
    "        f_suffix = str(i_count).zfill(4) \n",
    "        p_name = f_prefix+f_suffix\n",
    "        p_path = Path(out_path , p_name + \".prj\")\n",
    "        a_group = athenamgr.read_text(a_file, column_labels)\n",
    "        sample_list.append(a_group)\n",
    "        \n",
    "    # merge readings for sample\n",
    "    merged_xas = athenamgr.merge_readings(sample_list)\n",
    "\n",
    "    # rename group (same as the file name)\n",
    "    merged_xas.filename = a_sample\n",
    "    merged_results[a_sample] = merged_xas\n",
    "    \n",
    "merged_groups = Path(out_path,\"merge.prj\")\n",
    "# save merged results\n",
    "athenamgr.save_groups([merged_results[\"Fe Metal\"],merged_results[\"A\"],\n",
    "                          merged_results[\"B\"],merged_results[\"C\"],\n",
    "                          merged_results[\"D\"],merged_results[\"FeBr\"],\n",
    "                          merged_results[\"7a\"]], merged_groups)"
   ]
  },
  {
   "cell_type": "markdown",
   "id": "129fd2e9",
   "metadata": {},
   "source": [
    "### Reproducing 5c: Magnitude k2 Fourier transform data\n",
    "\n",
    "A-D indicate the time points at at wich Fe Foil XAS data was recorded and the black line corresponds to Fe Foil (Standard).\n",
    "A-D are in the "
   ]
  },
  {
   "cell_type": "code",
   "execution_count": null,
   "id": "93df58e6",
   "metadata": {},
   "outputs": [],
   "source": [
    "from matplotlib import pyplot as plt\n",
    "import matplotlib.cm as cm\n",
    "\n",
    "# read the input file \n",
    "athena_prj = athenamgr.read_project(merged_groups)\n",
    "\n",
    "athena_groups = athenamgr.get_groups(athena_prj)\n",
    "\n",
    "fig = plt.figure()#figsize=(10, 8))\n",
    "ax1 = fig.add_subplot(121)\n",
    "ax2 = fig.add_subplot(122)\n",
    "    \n",
    "offset = 0.5\n",
    "include_groups = [\"A\", \"B\", \"C\", \"D\"]\n",
    "for g_indx ,a_group in enumerate(athena_groups):\n",
    "    athenamgr.calc_with_defaults(a_group)\n",
    "    if a_group.filename in include_groups:\n",
    "        ax1.plot(a_group.energy, a_group.norm + (g_indx*offset) )\n",
    "        \n",
    "ax1.set_xlim([7100, 7160])\n",
    "\n",
    "for g_indx ,a_group in enumerate(athena_groups):\n",
    "    athenamgr.calc_with_defaults(a_group)\n",
    "    if a_group.filename in include_groups:\n",
    "        ax2.plot(a_group.energy, a_group.norm)\n",
    "        \n",
    "ax2.set_xlim([7110, 7128])"
   ]
  },
  {
   "cell_type": "code",
   "execution_count": null,
   "id": "fd8ed4e0",
   "metadata": {},
   "outputs": [],
   "source": [
    "# crop data\n",
    "\n",
    "import numpy as np\n",
    "len(athena_groups[0].energy)\n",
    "\n",
    "    \n",
    "\n",
    "lower = np.abs(athena_groups[0].energy -7100).argmin()\n",
    "upper = np.abs(athena_groups[0].energy -7160).argmin() \n",
    "print(lower,upper)\n",
    "new_energy = athena_groups[0].energy[lower:upper]\n",
    "new_norm = athena_groups[0].norm[lower:upper]\n",
    "plt.plot(new_energy, new_norm)\n",
    "\n"
   ]
  },
  {
   "cell_type": "code",
   "execution_count": null,
   "id": "9a5b0e2e",
   "metadata": {},
   "outputs": [],
   "source": [
    "# smooth data for plotting\n",
    "from larch.xafs import xas_deconvolve\n",
    "athena_groups[0]\n",
    "xas_deconvolve(athena_groups[0])\n",
    "\n",
    "plt.plot(athena_groups[0].energy, athena_groups[0].norm, label=athena_groups[0].filename)\n",
    "plt.text(athena_groups[0].energy[826-20]+.01, athena_groups[0].norm[826-20], str(athena_groups[0].filename))\n",
    "plt.plot(athena_groups[0].energy, athena_groups[0].deconv, label='deconvolved')\n",
    "plt.text(athena_groups[0].energy[826-20], athena_groups[0].norm[826-40], 'smooth')\n",
    "plt.xlim([7100, 7160])"
   ]
  },
  {
   "cell_type": "code",
   "execution_count": null,
   "id": "f5e318c2",
   "metadata": {},
   "outputs": [],
   "source": [
    "import matplotlib.pyplot as plt\n",
    "\n",
    "plt.plot(athena_groups[0].energy, athena_groups[0].norm)\n",
    "plt.text(athena_groups[0].energy[826-20], athena_groups[0].norm[826-20],  athena_groups[0].filename)\n",
    "plt.xlim([7100, 7160])"
   ]
  },
  {
   "cell_type": "markdown",
   "id": "de37e7a5",
   "metadata": {},
   "source": [
    "### Reproducing 5d: Normalized XANES spectra\n",
    "\n",
    "A-D indicate the time points at at wich Fe Foil XAS data was recorded, the black line corresponds to Fe Foil, and orange line at the bottom corresponds to FeBr<sub>2</sub>."
   ]
  },
  {
   "cell_type": "code",
   "execution_count": null,
   "id": "f4e0b6ca",
   "metadata": {},
   "outputs": [],
   "source": [
    "#plt.ylim([-10, 2])\n",
    "plt.show()\n",
    "\n",
    "for a_sample in merged_results:\n",
    "    if merged_results[a_sample].filename in include_groups:\n",
    "        plt = athenamgr.plot_derivative(merged_results[a_sample])\n",
    "plt.xlim([7112,7128])\n",
    "plt.show()"
   ]
  },
  {
   "cell_type": "markdown",
   "id": "eff74fb6",
   "metadata": {},
   "source": [
    "### Reproducing 5e: Normalized XANES spectra (close up)\n",
    "\n",
    "A-D indicate the time points at at wich Fe Foil XAS data was recorded, cyan line at the bottom corresponds to complex 7a."
   ]
  },
  {
   "cell_type": "markdown",
   "id": "b8abcf9c",
   "metadata": {},
   "source": [
    "### Reproducing 5f: Normalized XANES derivative spectra\n",
    "\n",
    "A-D indicate the time points at at wich Fe Foil XAS data was recorded, the black line corresponds to Fe Foil, and orange line at the bottom corresponds to FeBr<sub>2</sub>."
   ]
  },
  {
   "cell_type": "code",
   "execution_count": null,
   "id": "cf37cf3d",
   "metadata": {},
   "outputs": [],
   "source": [
    "xas_data"
   ]
  },
  {
   "cell_type": "code",
   "execution_count": null,
   "id": "40b6aca3",
   "metadata": {},
   "outputs": [],
   "source": [
    "merged_results[\"E\"].norm"
   ]
  },
  {
   "cell_type": "code",
   "execution_count": null,
   "id": "09646365",
   "metadata": {},
   "outputs": [],
   "source": []
  }
 ],
 "metadata": {
  "kernelspec": {
   "display_name": "Python 3 (ipykernel)",
   "language": "python",
   "name": "python3"
  },
  "language_info": {
   "codemirror_mode": {
    "name": "ipython",
    "version": 3
   },
   "file_extension": ".py",
   "mimetype": "text/x-python",
   "name": "python",
   "nbconvert_exporter": "python",
   "pygments_lexer": "ipython3",
   "version": "3.9.2rc1"
  }
 },
 "nbformat": 4,
 "nbformat_minor": 5
}
