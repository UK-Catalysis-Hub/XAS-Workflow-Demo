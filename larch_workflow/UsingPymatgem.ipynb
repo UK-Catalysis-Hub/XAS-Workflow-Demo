{
 "cells": [
  {
   "cell_type": "markdown",
   "id": "8966732b",
   "metadata": {},
   "source": [
    "# Use pymatgen\n"
   ]
  },
  {
   "cell_type": "code",
   "execution_count": 5,
   "id": "b2cdcd2c",
   "metadata": {},
   "outputs": [],
   "source": [
    "#read an write cif files\n",
    "from pymatgen.io.cif import CifParser, CifWriter\n",
    "cif_file = \"../cif_files/C12O12Rh4.cif\"\n",
    "cif_out = \"C12O12Rh4_test.cif\"\n",
    "parser = CifParser(cif_file)\n",
    "structure = parser.get_structures()\n",
    "cif_writer = CifWriter(parser.get_structures()[0])\n",
    "cif_writer.write_file(cif_out)\n",
    "parser2 = CifParser(cif_out)\n",
    "structure2 = parser2.get_structures()[0]"
   ]
  },
  {
   "cell_type": "code",
   "execution_count": 12,
   "id": "0db47c96",
   "metadata": {},
   "outputs": [],
   "source": [
    "from pymatgen.io.feff.inputs import Atoms, Potential, Header\n",
    "out_inp = \"C12O12Rh4.inp\"\n",
    "out_header = Header.from_cif_file(cif_file, source=cif_file, comment=parser.get_bibtex_string())\n",
    "out_atoms = Atoms(structure2,absorbing_atom=\"Rh\",radius=6)\n",
    "out_potential = Potential(structure2,absorbing_atom=\"Rh\")\n",
    "out_atoms.write_file(filename=out_inp)\n",
    "#out_header.write_file(filename=out_inp)\n",
    "#out_potential.write_file(filename=out_inp)"
   ]
  },
  {
   "cell_type": "code",
   "execution_count": 16,
   "id": "98601f0c",
   "metadata": {},
   "outputs": [
    {
     "name": "stdout",
     "output_type": "stream",
     "text": [
      " : ======== running Feff module C:\\Users\\scman1\\AppData\\Local\\Programs\\Python\\Python39\\lib\\site-packages\\larch\\bin\\win64\\feff6l.exe ========\n",
      " : Feff 6L.02\n",
      " : \n",
      " : Calculating potentials and phases...\n",
      " : free atom potential and density for atom type    0\n",
      " : free atom potential and density for atom type    1\n",
      " : free atom potential and density for atom type    2\n",
      " : free atom potential and density for atom type    3\n",
      " : overlapped potential and density for unique potential    0\n",
      " : overlapped potential and density for unique potential    1\n",
      " : overlapped potential and density for unique potential    2\n",
      " : overlapped potential and density for unique potential    3\n",
      " : muffin tin radii and interstitial parameters\n",
      " : phase shifts for unique potential    0\n",
      " : phase shifts for unique potential    1\n",
      " : phase shifts for unique potential    2\n",
      " : phase shifts for unique potential    3\n",
      " : Preparing plane wave scattering amplitudes...\n",
      " : nncrit in prcrit       9\n",
      " : Searching for paths...\n",
      " : Rmax  5.0000  keep and heap limits   0.0000000   0.0000000\n",
      " : Preparing neighbor table\n",
      " : nfound  nheap  nheapx  nsc    r\n",
      " : Paths found      403   (nheapx, nbx      98   8)\n",
      " : Eliminating path degeneracies...\n",
      " : Plane wave chi amplitude filter   2.50%\n",
      " : Unique paths    115,  total paths     177\n",
      " : Calculating EXAFS parameters...\n",
      " : Curved wave chi amplitude ratio   4.00%\n",
      " : Discard feff.dat for paths with cw ratio <   2.67%\n",
      " : path  cw ratio     deg    nleg  reff\n",
      " : 1   100.000     1.000     2   1.9149\n",
      " : 2    91.295     1.000     2   1.9854\n",
      " : 3    83.638     1.000     2   2.0550\n",
      " : 4    79.930     1.000     2   2.0917\n",
      " : 5    89.783     1.000     2   2.7050\n",
      " : 6    87.345     1.000     2   2.7337\n",
      " : 7    82.349     1.000     2   2.7957\n",
      " : 8    37.227     1.000     2   3.0163\n",
      " : 9   100.000     2.000     3   3.0167\n",
      " : 10    76.066     1.000     4   3.0170\n",
      " : 11    32.616     1.000     2   3.0220\n",
      " : 12    29.195     1.000     2   3.1366\n",
      " : 13    25.900     2.000     3   3.1653\n",
      " : 14    27.965     1.000     2   3.1819\n",
      " : 15    58.921     2.000     3   3.2132\n",
      " : 16    32.899     1.000     4   3.2445\n",
      " : 17    21.881     2.000     3   3.2875\n",
      " : 18     7.702     1.000     4   3.3087\n",
      " : 19     5.666     2.000     3   3.3214\n",
      " : 20     5.766     2.000     3   3.3260\n",
      " : 21     6.210     1.000     4   3.4384\n",
      " : 22     2.412     2.000     3   3.4558 neglected\n",
      " : 23    16.209     1.000     2   3.5372\n",
      " : 24     3.718     2.000     3   3.5425\n",
      " : 25    15.797     1.000     2   3.5671\n",
      " : 26     3.303     2.000     3   3.5939\n",
      " : 27     4.209     2.000     3   3.6181\n",
      " : 28     2.565     2.000     3   3.6489 neglected\n",
      " : 29    14.206     1.000     2   3.6920\n",
      " : 30    11.463     2.000     3   3.8220\n",
      " : 31     4.440     1.000     4   3.8297\n",
      " : 32    12.073     1.000     2   3.8888\n",
      " : 33    15.192     2.000     4   3.9003\n",
      " : 34    14.188     1.000     2   3.9535\n",
      " : 35     3.671     1.000     4   3.9708\n",
      " : 36    10.185     1.000     4   3.9783\n",
      " : 37    31.831     2.000     5   3.9787\n",
      " : 38    24.982     1.000     6   3.9790\n",
      " : 39    11.107     1.000     2   3.9920\n",
      " : 40    13.719     1.000     2   3.9945\n",
      " : 41     8.326     2.000     3   4.0838\n",
      " : 42     3.053     2.000     3   4.0890\n",
      " : 43     3.264     2.000     3   4.1013\n",
      " : 44     3.062     1.000     4   4.1100\n",
      " : 45     7.909     2.000     3   4.1209\n",
      " : 46     3.210     2.000     3   4.1223\n",
      " : 47     2.789     1.000     4   4.1834\n",
      " : 48     7.873     2.000     3   4.1912\n",
      " : 49     1.414     2.000     3   4.2145 neglected\n",
      " : 50     8.935     1.000     2   4.2696\n",
      " : 51    10.750     1.000     2   4.3002\n",
      " : 52    10.716     1.000     2   4.3043\n",
      " : 53    10.623     1.000     2   4.3155\n",
      " : 54     7.184     2.000     3   4.3251\n",
      " : 55     5.210     1.000     4   4.3347\n",
      " : 56     1.561     2.000     3   4.3415 neglected\n",
      " : 57     3.543     1.000     4   4.3452\n",
      " : 58     8.336     1.000     2   4.3603\n",
      " : 59    12.438     2.000     5   4.3660\n",
      " : 60    16.269     2.000     3   4.3787\n",
      " : 61     1.864     2.000     3   4.3964 neglected\n",
      " : 62     7.586     1.000     6   4.3972\n",
      " : 63     6.645     2.000     3   4.4001\n",
      " : 64    13.330     2.000     3   4.4055\n",
      " : 65     2.176     2.000     4   4.4289 neglected\n",
      " : 66     5.927     2.000     3   4.4541\n",
      " : 67     1.926     2.000     4   4.4805 neglected\n",
      " : 68     9.337     1.000     2   4.4832\n",
      " : 69     7.205     1.000     4   4.4878\n",
      " : 70     4.622     2.000     5   4.4886\n",
      " : 71    12.727     2.000     3   4.4927\n",
      " : 72     5.913     1.000     4   4.4955\n",
      " : 73     2.537     2.000     5   4.5045 neglected\n",
      " : 74     2.226     2.000     4   4.5397 neglected\n",
      " : 75     2.252     2.000     5   4.5559 neglected\n",
      " : 76     1.886     2.000     3   4.5571 neglected\n",
      " : 77     1.542     2.000     3   4.5599 neglected\n",
      " : 78     3.275     2.000     3   4.5615\n",
      " : 79     2.887     2.000     3   4.5732\n",
      " : 80     3.433     2.000     3   4.6064\n",
      " : 81     4.641     1.000     4   4.6251\n",
      " : 82     6.848     2.000     3   4.6311\n",
      " : 83     6.716     1.000     2   4.6507\n",
      " : 84     8.205     1.000     2   4.6551\n",
      " : 85     2.767     2.000     3   4.6567\n",
      " : 86     2.344     1.000     4   4.6601 neglected\n",
      " : 87     3.261     2.000     3   4.6645\n",
      " : 88     6.608     1.000     2   4.6730\n",
      " : 89     3.054     2.000     4   4.6823\n",
      " : 90     1.799     2.000     4   4.7108 neglected\n",
      " : 91    18.572     2.000     3   4.7211\n",
      " : 92    13.754     1.000     4   4.7692\n",
      " : 93     2.172     1.000     4   4.7791 neglected\n",
      " : 94     6.932     2.000     3   4.7831\n",
      " : 95     6.098     2.000     3   4.7842\n",
      " : 96     2.088     2.000     4   4.7887 neglected\n",
      " : 97     2.445     2.000     4   4.7891 neglected\n",
      " : 98    10.408     2.000     4   4.7967\n",
      " : 99     2.742     2.000     5   4.8110\n",
      " : 100     0.973     2.000     3   4.8201 neglected\n",
      " : 101     1.942     2.000     4   4.8507 neglected\n",
      " : 102     7.049     1.000     2   4.8622\n",
      " : 103     2.427     2.000     3   4.8868 neglected\n",
      " : 104     6.792     1.000     2   4.9136\n",
      " : 105     5.672     2.000     3   4.9161\n",
      " : 106     2.352     1.000     4   4.9155 neglected\n",
      " : 107    11.070     2.000     3   4.9167\n",
      " : 108    10.120     2.000     4   4.9368\n",
      " : 109     5.128     1.000     6   4.9403\n",
      " : 110    16.362     2.000     7   4.9407\n",
      " : 111    13.089     1.000     8   4.9410\n",
      " : 112     3.562     2.000     3   4.9549\n",
      " : 113     5.683     2.000     4   4.9593\n",
      " : 114     5.087     1.000     4   4.9712\n",
      " : 115     6.492     1.000     2   4.9766\n",
      " : 94 paths kept,  115 examined.\n",
      " : Feff done.  Have a nice day.\n"
     ]
    },
    {
     "data": {
      "text/html": [
       "Group Feff runner<table><tr><td><b>Attribute</b></td><td><b>Type</b></td></tr><tr><td>Feff8l_modules</td><td><i>tuple</i></td></tr><tr><td>run</td><td><i>method</i></td></tr><tr><td>folder</td><td><i>str</i></td></tr><tr><td>feffinp</td><td><i>str</i></td></tr><tr><td>verbose</td><td><i>bool</i></td></tr><tr><td>message_writer</td><td><i>NoneType</i></td></tr><tr><td>mpse</td><td><i>bool</i></td></tr><tr><td>resolved</td><td><i>NoneType</i></td></tr><tr><td>threshold</td><td><i>list</i></td></tr><tr><td>chargetransfer</td><td><i>list</i></td></tr></table>"
      ],
      "text/plain": [
       "<External Feff Group: ./temp_feff\\C12O12Rh4.inp>"
      ]
     },
     "execution_count": 16,
     "metadata": {},
     "output_type": "execute_result"
    }
   ],
   "source": [
    "from larch.xafs.feffrunner import feff6l\n",
    "feff_dir = \"./temp_feff\"\n",
    "feff6l(folder = feff_dir, feffinp=out_inp)"
   ]
  },
  {
   "cell_type": "code",
   "execution_count": 14,
   "id": "fc03d7e3",
   "metadata": {},
   "outputs": [
    {
     "data": {
      "text/plain": [
       "['__class__',\n",
       " '__delattr__',\n",
       " '__dict__',\n",
       " '__dir__',\n",
       " '__doc__',\n",
       " '__eq__',\n",
       " '__format__',\n",
       " '__ge__',\n",
       " '__getattribute__',\n",
       " '__gt__',\n",
       " '__hash__',\n",
       " '__init__',\n",
       " '__init_subclass__',\n",
       " '__le__',\n",
       " '__lt__',\n",
       " '__module__',\n",
       " '__ne__',\n",
       " '__new__',\n",
       " '__reduce__',\n",
       " '__reduce_ex__',\n",
       " '__repr__',\n",
       " '__setattr__',\n",
       " '__sizeof__',\n",
       " '__str__',\n",
       " '__subclasshook__',\n",
       " '__weakref__',\n",
       " '_cif',\n",
       " '_frac_tolerance',\n",
       " '_get_structure',\n",
       " '_occupancy_tolerance',\n",
       " '_parse_symbol',\n",
       " '_sanitize_data',\n",
       " '_site_tolerance',\n",
       " '_unique_coords',\n",
       " 'as_dict',\n",
       " 'feature_flags',\n",
       " 'from_string',\n",
       " 'get_bibtex_string',\n",
       " 'get_lattice',\n",
       " 'get_lattice_no_exception',\n",
       " 'get_magsymops',\n",
       " 'get_structures',\n",
       " 'get_symops',\n",
       " 'has_errors',\n",
       " 'parse_magmoms',\n",
       " 'parse_oxi_states',\n",
       " 'symmetry_operations',\n",
       " 'warnings']"
      ]
     },
     "execution_count": 14,
     "metadata": {},
     "output_type": "execute_result"
    }
   ],
   "source": [
    "dir(parser)"
   ]
  },
  {
   "cell_type": "code",
   "execution_count": null,
   "id": "d0602727",
   "metadata": {},
   "outputs": [],
   "source": [
    "parser.as_dict()"
   ]
  },
  {
   "cell_type": "code",
   "execution_count": null,
   "id": "ae892f78",
   "metadata": {},
   "outputs": [],
   "source": [
    "print(parser.get_bibtex_string())"
   ]
  },
  {
   "cell_type": "code",
   "execution_count": null,
   "id": "f82d7336",
   "metadata": {},
   "outputs": [],
   "source": [
    "dir(parser)"
   ]
  },
  {
   "cell_type": "code",
   "execution_count": null,
   "id": "4b5d2c7d",
   "metadata": {},
   "outputs": [],
   "source": [
    "parser.get_structures()"
   ]
  },
  {
   "cell_type": "code",
   "execution_count": null,
   "id": "beb832e3",
   "metadata": {},
   "outputs": [],
   "source": []
  }
 ],
 "metadata": {
  "kernelspec": {
   "display_name": "Python 3 (ipykernel)",
   "language": "python",
   "name": "python3"
  },
  "language_info": {
   "codemirror_mode": {
    "name": "ipython",
    "version": 3
   },
   "file_extension": ".py",
   "mimetype": "text/x-python",
   "name": "python",
   "nbconvert_exporter": "python",
   "pygments_lexer": "ipython3",
   "version": "3.9.2rc1"
  }
 },
 "nbformat": 4,
 "nbformat_minor": 5
}
