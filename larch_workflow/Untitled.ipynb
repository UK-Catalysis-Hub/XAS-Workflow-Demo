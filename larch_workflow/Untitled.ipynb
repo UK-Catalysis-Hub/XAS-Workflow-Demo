{
 "cells": [
  {
   "cell_type": "code",
   "execution_count": 2,
   "id": "4a257379",
   "metadata": {},
   "outputs": [
    {
     "data": {
      "text/plain": [
       "\"['.\\\\C12O12Rh4_dmtr.inp']\""
      ]
     },
     "execution_count": 2,
     "metadata": {},
     "output_type": "execute_result"
    }
   ],
   "source": [
    "crystal_files = \"['.\\\\C12O12Rh4_dmtr.inp']\"\n",
    "\n",
    "crystal_files"
   ]
  },
  {
   "cell_type": "code",
   "execution_count": 5,
   "id": "25f8e0e4",
   "metadata": {},
   "outputs": [],
   "source": [
    "import ast\n",
    "\n",
    "crystal_files = ast.literal_eval(crystal_files)\n"
   ]
  },
  {
   "cell_type": "code",
   "execution_count": 7,
   "id": "c147d001",
   "metadata": {},
   "outputs": [
    {
     "data": {
      "text/plain": [
       "'.\\\\C12O12Rh4_dmtr.inp'"
      ]
     },
     "execution_count": 7,
     "metadata": {},
     "output_type": "execute_result"
    }
   ],
   "source": [
    "crystal_files[0]"
   ]
  },
  {
   "cell_type": "code",
   "execution_count": null,
   "id": "803a5382",
   "metadata": {},
   "outputs": [],
   "source": []
  }
 ],
 "metadata": {
  "kernelspec": {
   "display_name": "Python 3",
   "language": "python",
   "name": "python3"
  },
  "language_info": {
   "codemirror_mode": {
    "name": "ipython",
    "version": 3
   },
   "file_extension": ".py",
   "mimetype": "text/x-python",
   "name": "python",
   "nbconvert_exporter": "python",
   "pygments_lexer": "ipython3",
   "version": "3.6.10"
  }
 },
 "nbformat": 4,
 "nbformat_minor": 5
}
