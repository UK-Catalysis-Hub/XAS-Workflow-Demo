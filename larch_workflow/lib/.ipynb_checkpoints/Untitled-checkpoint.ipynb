{
 "cells": [
  {
   "cell_type": "code",
   "execution_count": 1,
   "id": "cd96f574",
   "metadata": {},
   "outputs": [],
   "source": [
    "# Fitting input variables\n",
    "crystal_files = [\"C:/harwell/PSDI_test/wf_data/pub_037/additional/1692395a.cif\"] #Pt3Sn for Sn\n",
    "crystal_files = [\"C:/harwell/PSDI_test/wf_data/pub_037/additional/1690711.cif\"] #SnO2\n",
    "crystal_files = [\"C:/harwell/PSDI_test/wf_data/pub_037/additional/1680385.cif\"] #PtO2\n",
    "crystal_files = [\"C:/harwell/PSDI_test/wf_data/pub_037/additional/1692395b.cif\"] #Pt3Sn for Pt\n",
    "\n",
    "crystal_files = [\"C:/harwell/PSDI_test/wf_data/pub_037/additional/1692395a.cif\",\n",
    "                 \"C:/harwell/PSDI_test/wf_data/pub_037/additional/1690711.cif\",\n",
    "                 \"C:/harwell/PSDI_test/wf_data/pub_037/additional/1680385.cif\",\n",
    "                 \"C:/harwell/PSDI_test/wf_data/pub_037/additional/1692395b.cif\",] #\n",
    "\n",
    "gds_parms_f = \"SnK_edge_gds.csv\"\n",
    "sel_paths_f = \"SnK_edge_sp.csv\"\n",
    "\n",
    "show_graph = False # False to prevent showing graphs\n",
    "\n",
    "# variables for fit\n",
    "fit_vars = {}\n",
    "fit_vars['fitspace']='r'\n",
    "fit_vars['kmin']=0 \n",
    "fit_vars['kmax']=10\n",
    "fit_vars['kw']=2 \n",
    "fit_vars['dk']=1\n",
    "fit_vars['window']='hanning'\n",
    "fit_vars['rmin']=0.0\n",
    "fit_vars['rmax']=5.0\n",
    "\n",
    "# Need to specify the absorbing atom and maximum radius\n",
    "absorbing_atoms = [\"Pt\",\"Sn\",\"Pt\",\"Pt\"]\n",
    "max_radius = 8.0"
   ]
  },
  {
   "cell_type": "code",
   "execution_count": 2,
   "id": "d19cc966",
   "metadata": {},
   "outputs": [
    {
     "ename": "ModuleNotFoundError",
     "evalue": "No module named 'lib.atoms_feff'",
     "output_type": "error",
     "traceback": [
      "\u001b[1;31m---------------------------------------------------------------------------\u001b[0m",
      "\u001b[1;31mModuleNotFoundError\u001b[0m                       Traceback (most recent call last)",
      "Cell \u001b[1;32mIn[2], line 3\u001b[0m\n\u001b[0;32m      1\u001b[0m \u001b[38;5;66;03m# Library with the functions that execute \u001b[39;00m\n\u001b[0;32m      2\u001b[0m \u001b[38;5;66;03m# Atoms and FEFF to generate scattering paths\u001b[39;00m\n\u001b[1;32m----> 3\u001b[0m \u001b[38;5;28;01mimport\u001b[39;00m \u001b[38;5;21;01mlib\u001b[39;00m\u001b[38;5;21;01m.\u001b[39;00m\u001b[38;5;21;01matoms_feff\u001b[39;00m \u001b[38;5;28;01mas\u001b[39;00m \u001b[38;5;21;01mfeff_runner\u001b[39;00m     \n\u001b[0;32m      5\u001b[0m \u001b[38;5;66;03m# Set parameters          \u001b[39;00m\n\u001b[0;32m      6\u001b[0m \u001b[38;5;66;03m# library containign functions tho manage fit, at read, write \u001b[39;00m\n\u001b[0;32m      7\u001b[0m \u001b[38;5;66;03m# GDS parameters, and scattering paths. \u001b[39;00m\n\u001b[0;32m      8\u001b[0m \u001b[38;5;28;01mimport\u001b[39;00m \u001b[38;5;21;01mlib\u001b[39;00m\u001b[38;5;21;01m.\u001b[39;00m\u001b[38;5;21;01mmanage_fit\u001b[39;00m \u001b[38;5;28;01mas\u001b[39;00m \u001b[38;5;21;01mfit_manager\u001b[39;00m  \n",
      "\u001b[1;31mModuleNotFoundError\u001b[0m: No module named 'lib.atoms_feff'"
     ]
    }
   ],
   "source": [
    "# Library with the functions that execute \n",
    "# Atoms and FEFF to generate scattering paths\n",
    "import lib.atoms_feff as feff_runner     \n",
    "\n",
    "# Set parameters          \n",
    "# library containign functions tho manage fit, at read, write \n",
    "# GDS parameters, and scattering paths. \n",
    "import lib.manage_fit as fit_manager  \n",
    "\n",
    "# run feff and get a list of feff dirs\n",
    "feff_dirs = feff_runner.run_feff(crystal_files, absorbing_atoms, max_radius)"
   ]
  }
 ],
 "metadata": {
  "kernelspec": {
   "display_name": "Python 3 (ipykernel)",
   "language": "python",
   "name": "python3"
  },
  "language_info": {
   "codemirror_mode": {
    "name": "ipython",
    "version": 3
   },
   "file_extension": ".py",
   "mimetype": "text/x-python",
   "name": "python",
   "nbconvert_exporter": "python",
   "pygments_lexer": "ipython3",
   "version": "3.9.2rc1"
  }
 },
 "nbformat": 4,
 "nbformat_minor": 5
}
