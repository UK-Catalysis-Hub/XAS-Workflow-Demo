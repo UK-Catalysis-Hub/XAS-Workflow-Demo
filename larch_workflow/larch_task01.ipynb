{
 "cells": [
  {
   "cell_type": "markdown",
   "metadata": {},
   "source": [
    "# XAS Workflow Task 1\n",
    "\n",
    "This notebook contains the first task of the XAS processing workflow. \n",
    "\n",
    "The break up of the task consist of the following steps \n",
    "\n",
    "| Task                            | Input                                         | Output\n",
    "| -------------                   |-------------                                  | -----  \n",
    "| Create Athena project      |                                               | \n",
    "| 1. Import data                |File: fes2_rt01_mar02.xmu                      | \n",
    "| 2. Normalisation              |Parameters: Pre-edge range = -117.00 to 30.000 |\n",
    "| 3. Save Athena Project        |                                               |File: FeS2_01.prj\n",
    "\n",
    "For more details about larch, see https://xraypy.github.io/xraylarch/xafs/\n"
   ]
  },
  {
   "cell_type": "code",
   "execution_count": null,
   "metadata": {},
   "outputs": [],
   "source": [
    "from larch.io import read_ascii\n",
    "# From BR demo at: https://vimeo.com/340207346 07:01\n",
    "fe_xas = read_ascii('fes2_rt01_mar02.xmu')\n",
    "# using vars(fe_xas) we see that the object has the following properties: \n",
    "# path, filename, header, data, attrs, energy, xmu, i0\n",
    "# vars(fe_xas)"
   ]
  },
  {
   "cell_type": "code",
   "execution_count": null,
   "metadata": {},
   "outputs": [],
   "source": [
    "# the following show the contents of each\n",
    "print(\"path:\\t\\t\", fe_xas.path)\n",
    "print(\"filename:\\t\", fe_xas.filename)\n",
    "print(fe_xas.header)\n",
    "print(fe_xas.data)\n",
    "print(fe_xas.attrs)\n",
    "print('energy:', fe_xas.energy)\n",
    "print('i0:',fe_xas.i0)\n",
    "print('xmu:',fe_xas.xmu)\n",
    "print(fe_xas.array_labels)"
   ]
  },
  {
   "cell_type": "markdown",
   "metadata": {},
   "source": [
    "## Calculate and plot $\\mu$\n",
    "Knowing the elements of the input data set it is possible to start manipulating and visualising the XAFS data. \n",
    "\n",
    "In this case $\\mu$ is provided, so there is no need to calculate it, just rename it as mu (required by Larch for processing) and plot it agains the energy.\n"
   ]
  },
  {
   "cell_type": "code",
   "execution_count": null,
   "metadata": {},
   "outputs": [],
   "source": [
    "from numpy import log\n",
    "from larch.utils import group2dict, dict2group\n",
    "\n",
    "# Calculate mu \n",
    "def get_mu(xafs_group):\n",
    "    # calculate mu\n",
    "    mu_e = xafs_group.xmu\n",
    "    # get a dictionary from te group\n",
    "    xafs_dict = group2dict(xafs_group)\n",
    "    # add mu to the dictionary\n",
    "    xafs_dict['mu'] = mu_e\n",
    "    xafs_group = dict2group(xafs_dict)\n",
    "    return xafs_group\n",
    "\n",
    "fe_xas = get_mu(fe_xas)\n",
    "\n",
    "%matplotlib inline\n",
    "import matplotlib.pyplot as plt\n",
    "plt.plot(fe_xas.energy, fe_xas.mu, label='$\\mu$(x)')\n",
    "plt.xlabel('Energy')\n",
    "plt.ylabel('$\\mu$')\n",
    "plt.legend() # include the leyend in the plot\n",
    "plt.grid(color='r', linestyle=':', linewidth=1) #show and format grid"
   ]
  },
  {
   "cell_type": "code",
   "execution_count": null,
   "metadata": {},
   "outputs": [],
   "source": [
    "# https://vimeo.com/340207346 25:00\n",
    "from larch.xafs import pre_edge\n",
    "#calculate pre-edge and post edge and add them to group\n",
    "# as with the basic workflow we want to avoid the data below E0 - 117.00\n",
    "pre_edge(fe_xas, group=fe_xas, pre1=-117, pre2=-30)\n",
    "\n",
    "plt.plot(fe_xas.energy, fe_xas.pre_edge, 'g', label='pre-edge') # plot pre-edge in green\n",
    "plt.plot(fe_xas.energy, fe_xas.post_edge, 'r', label='post-edge')# plot post-edge in green\n",
    "plt.plot(fe_xas.energy, fe_xas.xmu, 'b', label=fe_xas.filename) # plot mu in blue\n",
    "plt.grid(color='r', linestyle=':', linewidth=1) #show and format grid\n",
    "plt.xlabel('Energy (eV)') # label y graph\n",
    "plt.ylabel('x$\\mu$(E)') # label y axis\n",
    "plt.title(\"pre-edge and post_edge fitting to $\\mu$\")\n",
    "plt.legend() # show legend"
   ]
  },
  {
   "cell_type": "code",
   "execution_count": null,
   "metadata": {},
   "outputs": [],
   "source": [
    "# https://vimeo.com/340207346 27:00\n",
    "plt.plot(fe_xas.energy, fe_xas.flat, label=fe_xas.filename) # plot flattened and normalised energy\n",
    "plt.grid(color='r', linestyle=':', linewidth=1) #show and format grid\n",
    "plt.xlabel('Energy (eV)') # label y graph\n",
    "plt.ylabel(r'normalised x$\\mu$(E)') # label y axis\n",
    "plt.legend() # show legend"
   ]
  },
  {
   "cell_type": "code",
   "execution_count": null,
   "metadata": {},
   "outputs": [],
   "source": [
    "# import the larch.io libraries for managing athena files\n",
    "from larch.io import create_athena, read_athena, extract_athenagroup\n",
    "\n",
    "# save as an athena project\n",
    "\n",
    "project_name = 'fes2_larch.prj'\n",
    "fe_project = create_athena(project_name)\n",
    "fe_project.add_group(fe_xas)\n",
    "fe_project.save()\n",
    "vars(fe_project)"
   ]
  },
  {
   "cell_type": "code",
   "execution_count": null,
   "metadata": {},
   "outputs": [],
   "source": []
  }
 ],
 "metadata": {
  "kernelspec": {
   "display_name": "Python 3 (ipykernel)",
   "language": "python",
   "name": "python3"
  },
  "language_info": {
   "codemirror_mode": {
    "name": "ipython",
    "version": 3
   },
   "file_extension": ".py",
   "mimetype": "text/x-python",
   "name": "python",
   "nbconvert_exporter": "python",
   "pygments_lexer": "ipython3",
   "version": "3.9.2rc1"
  }
 },
 "nbformat": 4,
 "nbformat_minor": 4
}
