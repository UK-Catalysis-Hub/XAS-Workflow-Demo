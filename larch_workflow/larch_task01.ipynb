{
 "cells": [
  {
   "cell_type": "markdown",
   "metadata": {},
   "source": [
    "# XAS Workflow Task 1\n",
    "\n",
    "This notebook contains the first task of the XAS processing workflow. \n",
    "\n",
    "The break up of the task consist of the following steps \n",
    "\n",
    "| Task                            | Input                                         | Output\n",
    "| -------------                   |-------------                                  | -----  \n",
    "| Create Athena project      |                                               | \n",
    "| 1. Import data                |File: fes2_rt01_mar02.xmu                      | \n",
    "| 2. Normalisation              |Parameters: Pre-edge range = -117.00 to 30.000 |\n",
    "| 3. Save Athena Project        |                                               |File: FeS2_01.prj\n",
    "\n",
    "For more details about larch, see https://xraypy.github.io/xraylarch/xafs/\n"
   ]
  },
  {
   "cell_type": "code",
   "execution_count": null,
   "metadata": {},
   "outputs": [],
   "source": [
    "from larch.io import read_ascii, merge_groups\n",
    "from pathlib import Path\n",
    "\n",
    "from larch.symboltable import Group\n",
    "\n",
    "#reading all with the same extension files from a dir\n",
    "def get_files_list(source_dir, f_pattern):\n",
    "    i_counter = 0\n",
    "    source_dir = Path(source_dir)\n",
    "    files_list = []\n",
    "    for filepath in sorted(source_dir.glob(f_pattern)):\n",
    "        i_counter += 1\n",
    "        files_list.append(filepath)\n",
    "    return files_list\n",
    "\n",
    "\n",
    "# From BR demo at: https://vimeo.com/340207346 07:01\n",
    "#file_path = \"D:/PSDI/PSDI_test/psdi_data/pub_037/XAFS_prj/Sn K-edge/ascii/\" # local\n",
    "#file_path = \"C:/harwell/PSDI_test/wf_data/pub_037/XAFS_prj/Sn K-edge/ascii/\" # pc\n",
    "\n",
    "file_path = \"./\"\n",
    "#file_name_pattern = \"26????_PtSn_OCH_Abu*\"\n",
    "#file_name_pattern = \"26????_PtSn_OCA_H2_Abu*\"\n",
    "\n",
    "file_name_pattern = \"*xmu\"\n",
    "\n",
    "file_names = get_files_list(file_path,file_name_pattern)\n",
    "\n",
    "#labels_sn_k = 'energy time i0 it iref mu lnitiref'\n",
    "labels_fes2 = \"energy mu i0\"\n",
    "\n",
    "use_labels = labels_fes2\n",
    "#file_names = ['fes2_rt01_mar02.xmu']\n",
    "\n",
    "groups_list=[]\n",
    "\n",
    "# read ascii files\n",
    "# labels tell the reader how to name the resulting columns\n",
    "# eneregy and mu are the most used labels\n",
    "\n",
    "# if merge read in group and then merge\n",
    "for a_file in file_names:\n",
    "    a_group = read_ascii(a_file, labels=use_labels)\n",
    "    groups_list.append(a_group)\n",
    "\n",
    "# merge files\n",
    "merged_xas = merge_groups (groups_list)\n",
    "\n",
    "# using vars(fe_xas) we see that the object has the following properties: \n",
    "# path, filename, header, data, attrs, energy, xmu, i0\n",
    "# vars(fe_xas)"
   ]
  },
  {
   "cell_type": "code",
   "execution_count": null,
   "metadata": {},
   "outputs": [],
   "source": [
    "get_files_list(Path(file_path),\"26????_PtSn_OCH_Abu*\")"
   ]
  },
  {
   "cell_type": "code",
   "execution_count": null,
   "metadata": {
    "scrolled": true
   },
   "outputs": [],
   "source": [
    "# the following show the contents of each\n",
    "for fe_xas in groups_list:\n",
    "    print(\"path:\\t\\t\", fe_xas.path)\n",
    "    print(\"filename:\\t\", fe_xas.filename)\n",
    "    print(fe_xas.header)\n",
    "    print(fe_xas.data)\n",
    "    print(fe_xas.attrs)\n",
    "    print(fe_xas.array_labels)\n",
    "    print('energy:', fe_xas.energy)\n",
    "    print('i0:',fe_xas.i0)\n",
    "    print('xmu:',fe_xas.mu)\n"
   ]
  },
  {
   "cell_type": "markdown",
   "metadata": {},
   "source": [
    "## Calculate and plot $\\mu$\n",
    "Knowing the elements of the input data set it is possible to start manipulating and visualising the XAFS data. \n",
    "\n",
    "In this case $\\mu$ is provided, so there is no need to calculate it, just rename it as mu (required by Larch for processing) and plot it agains the energy.\n"
   ]
  },
  {
   "cell_type": "code",
   "execution_count": null,
   "metadata": {},
   "outputs": [],
   "source": [
    "from numpy import log\n",
    "from larch.utils import group2dict, dict2group\n",
    "\n",
    "# Calculate mu \n",
    "def get_mu(xafs_group):\n",
    "    # calculate mu\n",
    "    mu_e = xafs_group.mu\n",
    "    # get a dictionary from te group\n",
    "    xafs_dict = group2dict(xafs_group)\n",
    "    # add mu to the dictionary\n",
    "    xafs_dict['mu'] = mu_e\n",
    "    xafs_group = dict2group(xafs_dict)\n",
    "    return xafs_group\n",
    "\n",
    "for fe_xas in groups_list:\n",
    "    fe_xas = get_mu(fe_xas)\n",
    "\n",
    "    %matplotlib inline\n",
    "    import matplotlib.pyplot as plt\n",
    "    plt.plot(fe_xas.energy, fe_xas.mu, label='$\\mu$(x)' + fe_xas.filename )\n",
    "    plt.xlabel('Energy')\n",
    "    plt.ylabel('$\\mu$')\n",
    "    plt.legend() # include the leyend in the plot\n",
    "    plt.grid(color='r', linestyle=':', linewidth=1) #show and format grid\n",
    "\n",
    "\n",
    "    "
   ]
  },
  {
   "cell_type": "code",
   "execution_count": null,
   "metadata": {},
   "outputs": [],
   "source": [
    "merged_xas = get_mu(merged_xas)\n",
    "plt.plot(merged_xas.energy, merged_xas.mu, label='$\\mu$(x)' + 'merge' )\n",
    "plt.xlabel('Energy')\n",
    "plt.ylabel('$\\mu$')\n",
    "plt.legend() # include the leyend in the plot\n",
    "plt.grid(color='r', linestyle=':', linewidth=1) #show and format grid"
   ]
  },
  {
   "cell_type": "code",
   "execution_count": null,
   "metadata": {},
   "outputs": [],
   "source": [
    "# https://vimeo.com/340207346 25:00\n",
    "from larch.xafs import pre_edge\n",
    "#calculate pre-edge and post edge and add them to group\n",
    "# as with the basic workflow we want to avoid the data below E0 - 117.00\n",
    "\n",
    "for fe_xas in groups_list:\n",
    "    pre_edge(fe_xas, group=fe_xas, pre1=-150, pre2=-60)\n",
    "\n",
    "    plt.plot(fe_xas.energy, fe_xas.pre_edge, 'g', label='pre-edge') # plot pre-edge in green\n",
    "    plt.plot(fe_xas.energy, fe_xas.post_edge, 'r', label='post-edge')# plot post-edge in green\n",
    "    plt.plot(fe_xas.energy, fe_xas.mu, 'b', label=fe_xas.filename) # plot mu in blue\n",
    "    plt.grid(color='r', linestyle=':', linewidth=1) #show and format grid\n",
    "    plt.xlabel('Energy (eV)') # label y graph\n",
    "    plt.ylabel('x$\\mu$(E)') # label y axis\n",
    "    plt.title(\"pre-edge and post_edge fitting to $\\mu$\")\n",
    "    plt.legend() # show legend"
   ]
  },
  {
   "cell_type": "code",
   "execution_count": null,
   "metadata": {},
   "outputs": [],
   "source": [
    "pre_edge(merged_xas, group=merged_xas, pre1=-150, pre2=-60)\n",
    "\n",
    "plt.plot(merged_xas.energy, merged_xas.pre_edge, 'g', label='pre-edge') # plot pre-edge in green\n",
    "plt.plot(merged_xas.energy, merged_xas.post_edge, 'r', label='post-edge')# plot post-edge in green\n",
    "plt.plot(merged_xas.energy, merged_xas.mu, 'b', label=\"merge\") # plot mu in blue\n",
    "plt.grid(color='r', linestyle=':', linewidth=1) #show and format grid\n",
    "plt.xlabel('Energy (eV)') # label y graph\n",
    "plt.ylabel('x$\\mu$(E)') # label y axis\n",
    "plt.title(\"pre-edge and post_edge fitting to $\\mu$\")\n",
    "plt.legend() # show legend"
   ]
  },
  {
   "cell_type": "code",
   "execution_count": null,
   "metadata": {},
   "outputs": [],
   "source": [
    "# https://vimeo.com/340207346 27:00\n",
    "for fe_xas in groups_list:\n",
    "    plt.plot(fe_xas.energy, fe_xas.flat, label=fe_xas.filename) # plot flattened and normalised energy\n",
    "    plt.grid(color='r', linestyle=':', linewidth=1) #show and format grid\n",
    "    plt.xlabel('Energy (eV)') # label y graph\n",
    "    plt.ylabel(r'normalised x$\\mu$(E)') # label y axis\n",
    "    plt.legend() # show legend\n"
   ]
  },
  {
   "cell_type": "code",
   "execution_count": null,
   "metadata": {},
   "outputs": [],
   "source": [
    "\n",
    "plt.plot(merged_xas.energy, merged_xas.flat, label='merge') # plot flattened and normalised energy\n",
    "plt.grid(color='r', linestyle=':', linewidth=1) #show and format grid\n",
    "plt.xlabel('Energy (eV)') # label y graph\n",
    "plt.ylabel(r'normalised x$\\mu$(E)') # label y axis\n",
    "plt.legend() # show legend\n"
   ]
  },
  {
   "cell_type": "code",
   "execution_count": null,
   "metadata": {},
   "outputs": [],
   "source": [
    "# import the larch.io libraries for managing athena files\n",
    "from larch.io import create_athena, read_athena, extract_athenagroup\n",
    "\n",
    "# save as an athena project\n",
    "\n",
    "project_name = 'PtSn_OCA_H2_Abu.prj'#'PtSn_OCH_Abu.prj' #'fes2_larch.prj'\n",
    "fe_project = create_athena(project_name)\n",
    "for fe_xas in groups_list:\n",
    "    fe_project.add_group(fe_xas)\n",
    "merged_xas.filename = \"new_name\"\n",
    "merged_xas.path = \"new_path\"\n",
    "fe_project.add_group(merged_xas)\n",
    "fe_project.group_names[4]=\"merged group\"\n",
    "fe_project.save()\n",
    "vars(fe_project)\n"
   ]
  },
  {
   "cell_type": "code",
   "execution_count": null,
   "metadata": {},
   "outputs": [],
   "source": [
    "dir(merged_xas)"
   ]
  },
  {
   "cell_type": "code",
   "execution_count": null,
   "metadata": {},
   "outputs": [],
   "source": []
  }
 ],
 "metadata": {
  "kernelspec": {
   "display_name": "Python 3 (ipykernel)",
   "language": "python",
   "name": "python3"
  },
  "language_info": {
   "codemirror_mode": {
    "name": "ipython",
    "version": 3
   },
   "file_extension": ".py",
   "mimetype": "text/x-python",
   "name": "python",
   "nbconvert_exporter": "python",
   "pygments_lexer": "ipython3",
   "version": "3.9.2rc1"
  }
 },
 "nbformat": 4,
 "nbformat_minor": 4
}
