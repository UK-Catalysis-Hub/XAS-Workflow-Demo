{
 "cells": [
  {
   "cell_type": "markdown",
   "id": "aedfece6",
   "metadata": {},
   "source": [
    "# Reproduce D. Decarolis, et. al, ACS Catal. 2021, 11, 4, 2141–2149\n",
    "\n",
    "This notebook demonstrates reproducing the XAS results of the paper with [Larch](https://xraypy.github.io/xraylarch/xafs/) using the corresponding published dataset (raw data). \n",
    "\n",
    " D. Decarolis, A. H. Clark, T. Pellegrinelli, M. Nachtegaal, E. W. Lynch, C. R. A. .Catlow, E. K. Gibson, A. Goguet, P. P. Wells (2021). **patial Profiling of a Pd/Al2O3 Catalyst during Selective Ammonia Oxidation** DOI: [10.1021/acscatal.0c05356](http://dx.doi.org/10.1021/acscatal.0c05356 ).\n",
    "\n",
    "- **Corresponding authors**:   D. Decarolis, A. Goguet, P. P. Wells\n",
    "- **E-mails**: \n",
    "\n",
    "The data used for reproducing the results was published in the University of Southampton Institutional Repository [doi:10.5258/SOTON/D1723](http://dx.doi.org/10.5258/SOTON/D1723)\n",
    "\n",
    "For more details about Larch, see [Larch Website](https://xraypy.github.io/xraylarch/xafs/)"
   ]
  },
  {
   "cell_type": "markdown",
   "id": "f0e8e1a5",
   "metadata": {},
   "source": [
    "## Reproducing XAS analysis\n",
    "\n",
    "The XAS results of the paper are in Figures: [1](https://pubs.acs.org/cms/10.1021/acscatal.0c05356/asset/images/medium/cs0c05356_0002.gif), [2a](https://pubs.acs.org/cms/10.1021/acscatal.0c05356/asset/images/medium/cs0c05356_0003.gif), [3a](https://pubs.acs.org/cms/10.1021/acscatal.0c05356/asset/images/medium/cs0c05356_0004.gif), [4a](https://pubs.acs.org/cms/10.1021/acscatal.0c05356/asset/images/medium/cs0c05356_0005.gif), and [5a](https://pubs.acs.org/cms/10.1021/acscatal.0c05356/asset/images/medium/cs0c05356_0006.gif). \n",
    "The captions and metadata for each figure can be used for reproducing the results presented.\n",
    "\n",
    "#### Figure Captions\n",
    ">Figure 1. XANES spectra of Pd/Al2O3, after reduction, at axial position 0 within the bed compared to Pd foil and PdO reference.\n",
    ">\n",
    ">Figure 2. Pd/Al2O3 at 100 °C under reaction conditions. (a) XANES spectra of Pd/Al2O3 under reaction condition, 100 °C, for the front and the end of the bed, compared to Pd foil and PdO reference; (b) intensity of XANES at the whiteline (24 368 eV) and at the PdNx peak (24 388 eV) along the catalyst bed; (c) Pd–Pd and Pd–N coordination number obtained from EXAFS fit; and (d) Pd–Pd and Pd–N/O distances obtained from EXAFS fit (the error is present but smaller than the symbol size). Mass spectrometry data can be found in Figure S2.\n",
    ">\n",
    ">Figure 3. (a) MCR of the identified spectral components: oxidic Pd, PdO (black), metallic Pd0 (red), and PdNx (blue). See Figure S4 for a comparison with reference spectra (b) spatial profile of the component percentage for Pd/Al2O3 under reaction conditions, 100 °C.\n",
    ">\n",
    ">Figure 4. Pd/Al2O3 at 175 °C. (a) XANES spectra of Pd/Al2O3 under reaction condition, 175 °C, for the front and the end of the bed, compared to Pd foil and PdO reference; (b) component percentage, obtained from MCR, for Pd/Al2O3 under reaction conditions, 175 °C, at various positions along the bed; (c) Pd–Pd, Pd–N, and Pd–N/O coordination number obtained from EXAFS fit; and (d) normalized mass spectrometry signal along the bed; the intensity of XANES at the whiteline (24 368 eV) and at the PdNx peak (24 388 eV) along the catalyst bed is shown in Figure S6.\n",
    ">\n",
    ">Figure 5. Spatial analysis of Pd/Al2O3 at 300 °C under reaction conditions. (a) XANES spectra; (b) component percentage, obtained from MCR, for Pd/Al2O3 under reaction conditions, 300 °C, at various positions along the bed. (c) Pd–Pd, Pd–N/O, Pd–O (in PdO), and Pd–PdO coordination number obtained from EXAFS fit; and (d) Pd–Pd normalized mass spectrometry signal along the bed; the intensity of XANES at the whiteline (24 368 eV) and at the PdNx peak (24 388 eV) along the catalyst bed is shown in Figure S9.\n",
    "\n",
    "\n",
    "#### Metadata (ReadMe_File2.txt)\n",
    ">The XAFS data used to obtain the fit and results are contained in the following files:\n",
    ">\n",
    ">Fig.1 XANES spectra of Pd/Al2O3 in file \"He after reduction.prj\"\n",
    ">\n",
    ">Fig.2 XANES and EXAFS data of Pd/Al2O3 at 100C under reaction conditions in file \"100C.prj\"\n",
    ">\n",
    ">Fig.4 XANES and EXAFS data of Pd/Al2O3 at 175C under reaction conditions in file \"175C.prj\"\n",
    ">\n",
    ">Fig.5 XANES and EXAFS data of Pd/Al2O3 at 300C under reaction conditions in file \"300C.prj\"\n",
    ">\n",
    ">Fig.S10 XANES and EXAFS data of Pd/Al2O3 at 400C under reaction conditions in file \"400C.prj\"\n"
   ]
  },
  {
   "cell_type": "code",
   "execution_count": 3,
   "id": "dc601822",
   "metadata": {},
   "outputs": [],
   "source": [
    "# Library with the functions that replicate athena:\n",
    "# normalisation, merging, re-binning, \n",
    "# and visualisation (plotting)\n",
    "import lib.manage_athena as athenamgr  \n",
    "\n",
    "# File handling\n",
    "from pathlib import Path\n",
    "\n",
    "#plotting library\n",
    "import matplotlib.pyplot as plt\n",
    "# inline: shows plot in notebook\n",
    "# tk: shows plot in popup\n",
    "%matplotlib inline \n",
    "\n",
    "# custom plotting functions\n",
    "import paper03_plots as c_plot3 # paper 3 has some similar plots\n",
    "\n",
    "# custom plotting functions\n",
    "import paper05_plots as c_plot "
   ]
  },
  {
   "cell_type": "code",
   "execution_count": 15,
   "id": "739606ce",
   "metadata": {},
   "outputs": [
    {
     "name": "stdout",
     "output_type": "stream",
     "text": [
      "################################################################################\n",
      "C:\\harwell\\PSDI_test\\wf_data\\pub_661\\DS0462\\100C.prj\n",
      " do not know what to do with key 'LCF' at ''\n",
      "Pos__3pt5\n",
      "Pos__2pt5\n",
      "Pos__1pt5\n",
      "Pos__0pt5\n",
      "Pos_0pt5\n",
      "Pos_1pt5\n",
      "Pos_2pt5\n",
      "Pos_3pt5\n",
      "Pos_4pt5\n",
      "Pos_5pt5\n",
      "Pos_6pt5\n",
      "Pos_7pt5\n",
      "Pos_8pt5\n",
      "Pos_0_5_100C_After_Reduction\n",
      "PdO_standard\n",
      "Pd_Foil\n",
      "################################################################################\n",
      "C:\\harwell\\PSDI_test\\wf_data\\pub_661\\DS0462\\175C.prj\n",
      " do not know what to do with key 'PCA' at ''\n",
      "Pos__3pt5\n",
      "Pos__2pt5\n",
      "Pos__1pt5\n",
      "Pos__0pt5\n",
      "Pos_0pt5\n",
      "Pos_1pt5\n",
      "Pos_2pt5\n",
      "Pos_3pt5\n",
      "Pos_4pt5\n",
      "Pos_5pt5\n",
      "Pos_6pt5\n",
      "Pos_7pt5\n",
      "Pos_8pt5\n",
      "d_0pt5_100_He_after_reduction\n",
      "PdO_standard\n",
      "Pd_Foil\n",
      "################################################################################\n",
      "C:\\harwell\\PSDI_test\\wf_data\\pub_661\\DS0462\\300C.prj\n",
      "Pos__3pt5\n",
      "Pos__2pt5\n",
      "Pos__1pt5\n",
      "Pos__0pt5\n",
      "Pos_0pt5\n",
      "Pos_1pt5\n",
      "Pos_2pt5\n",
      "Pos_3pt5\n",
      "Pos_4pt5_NH3OX_300C_n_600s_second_run_sam_matrix_Both_average_1198_dat\n",
      "Pos_5pt5_NH3OX_300C_n_600s_second_run_sam_matrix_Both_average_1198_dat\n",
      "Pos_6pt5_NH3OX_300C_n_600s_second_run_sam_matrix_Both_average_1198_dat\n",
      "Pos_7pt5_NH3OX_300C_n_600s_second_run_sam_matrix_Both_average_1198_dat\n",
      "Pos_8pt5_NH3OX_300C_n_600s_second_run_sam_matrix_Both_average_1198_dat\n",
      "ED001_He_map_0pt5_600s_ref_matrix_Both_average_1198_dat\n",
      "PdO_standard_sam_matrix_Both_average_404_dat\n",
      "Pd_Foil\n",
      "ED001_He_map_7pt5_600s_sam_matrix_Both_average_1198_dat\n",
      "Pos__3pt5_NH3OX_100C_nofoil_0pt5_down_600s_sam_matrix_Both_average_1198_dat\n",
      "################################################################################\n",
      "C:\\harwell\\PSDI_test\\wf_data\\pub_661\\DS0462\\400C.prj\n",
      "Pos__3pt5_NH3OX_400C_n_600s_sam_matrix_Both_average_1198_dat\n",
      "Pos__2pt5_NH3OX_400C_n_600s_sam_matrix_Both_average_1198_dat\n",
      "Pos__1pt5_NH3OX_400C_n_600s_sam_matrix_Both_average_1198_dat\n",
      "Pos__0pt5_NH3OX_400C_n_600s_sam_matrix_Both_average_1198_dat\n",
      "Pos_0pt5_NH3OX_400C_n_600s_sam_matrix_Both_average_1198_dat\n",
      "Pos_1pt5_NH3OX_400C_n_600s_sam_matrix_Both_average_1198_dat\n",
      "Pos_2pt5_NH3OX_400C_n_600s_sam_matrix_Both_average_1198_dat\n",
      "Pos_3pt5_NH3OX_400C_n_600s_repeat_sam_matrix_Both_average_1198_dat\n",
      "Pos_4pt5_NH3OX_400C_n_600s_repeat_sam_matrix_Both_average_1198_dat\n",
      "Pos_5pt5_NH3OX_400C_n_600s_secondrepeat_sam_matrix_Both_average_1198_dat\n",
      "Pos_6pt5_NH3OX_400C_n_600s_repeat_sam_matrix_Both_average_1198_dat\n",
      "Pos_7pt5_NH3OX_400C_n_600s_repeat_sam_matrix_Both_average_1198_dat\n",
      "Pos_8pt5_NH3OX_400C_n_600s_repeat_sam_matrix_Both_average_1198_dat\n",
      "Reference_Foil\n",
      "PdO_ref_matrix_Up_average_118_dat\n",
      "PdO_sam_matrix_Up_average_118_dat\n",
      "################################################################################\n",
      "C:\\harwell\\PSDI_test\\wf_data\\pub_661\\DS0462\\He_after_reduction.prj\n",
      "ED001_He_map_0pt5_600s_sam_matrix_Both_average_1198_dat\n",
      "ED001_He_map__0pt5_600s_sam_matrix_Both_average_1198_dat\n",
      "ED001_He_map_1pt5_600s_sam_matrix_Both_average_1198_dat\n",
      "ED001_He_map__1pt5_600s_sam_matrix_Both_average_1198_dat\n",
      "ED001_He_map_1pt5_600s_secondattempt_sam_matrix_Both_average_1198_dat\n",
      "ED001_He_map_2pt5_600s_sam_matrix_Both_average_1198_dat\n",
      "ED001_He_map__2pt5_600s_sam_matrix_Both_average_1198_dat\n",
      "ED001_He_map_3pt5_600s_sam_matrix_Both_average_1198_dat\n",
      "ED001_He_map__3pt5_600s_sam_matrix_Both_average_1198_dat\n",
      "ED001_He_map_4pt5_600s_sam_matrix_Both_average_1198_dat\n",
      "ED001_He_map_5pt5_600s_sam_matrix_Both_average_1198_dat\n",
      "ED001_He_map_6pt5_600s_sam_matrix_Both_average_1198_dat\n",
      "ED001_He_map_7pt5_600s_sam_matrix_Both_average_1198_dat\n",
      "ED001_He_map_8pt5_600s_sam_matrix_Both_average_1198_dat\n"
     ]
    }
   ],
   "source": [
    "data_path = Path(\"C:/harwell/PSDI_test/wf_data/pub_661/DS0462\")\n",
    "\n",
    "for a_file in data_path.glob('*prj'):\n",
    "    print(\"#\"*80)\n",
    "    print(a_file)\n",
    "    data_prj = athenamgr.read_project(a_file)\n",
    "    for a_group_name in data_prj._athena_groups.keys():\n",
    "        print(a_group_name)"
   ]
  },
  {
   "cell_type": "markdown",
   "id": "43cd4a22",
   "metadata": {},
   "source": [
    "### Figure 1 XANES spectra of Pd/Al2O3\n"
   ]
  },
  {
   "cell_type": "code",
   "execution_count": 46,
   "id": "59b38f95",
   "metadata": {
    "scrolled": false
   },
   "outputs": [
    {
     "name": "stdout",
     "output_type": "stream",
     "text": [
      " do not know what to do with key 'LCF' at ''\n"
     ]
    },
    {
     "data": {
      "image/png": "[encoded data removed]",
      "text/plain": [
       "<Figure size 625x500 with 1 Axes>"
      ]
     },
     "metadata": {},
     "output_type": "display_data"
    },
    {
     "name": "stdout",
     "output_type": "stream",
     "text": [
      "e0 Red. Sample: 24359.5 e0 Pd Foil: 24359.5 e0 PdO: 24359.5\n"
     ]
    }
   ],
   "source": [
    "data_path = Path(\"C:/harwell/PSDI_test/wf_data/pub_661/DS0462\")\n",
    "\n",
    "xanes_01 = {\"project_file\": \"100C.prj\",\n",
    "            \"mappings\":{\"Reduced Sample\": \"Pos_0_5_100C_After_Reduction\",\n",
    "                        \"PdO\": \"PdO_standard\",\n",
    "                        \"Pd Foil\":\"Pd_Foil\"}}\n",
    "\n",
    "data_file = Path(data_path, xanes_01['project_file'])\n",
    "xanes_01_groups = c_plot.get_groups(data_file,xanes_01[\"mappings\"])\n",
    "\n",
    "\n",
    "#define dict to set colours and line stiles\n",
    "plot_groups = {\"Reduced Sample\":[\"blue\", \"solid\"], \n",
    "               \"Pd Foil\":['red', \"dotted\"],\n",
    "               \"PdO\":[\"green\", \"dotted\"], \n",
    "               }\n",
    "\n",
    "# PDO may need to be aligned to same e0 as the other 2\n",
    "print(\"e0 Red. Sample:\", list(xanes_01_groups.values())[0].e0,\n",
    "      \"e0 Pd Foil:\", list(xanes_01_groups.values())[2].e0,\n",
    "      \"e0 PdO:\", list(xanes_01_groups.values())[1].e0)\n",
    "\n",
    "xanes_01_groups[\"PdO\"] = athenamgr.recalibrate_energy(xanes_01_groups[\"PdO\"], xanes_01_groups[\"Reduced Sample\"].e0)\n",
    "\n",
    "plt = c_plot3.plot_normalised(xanes_01_groups, plot_groups,(6.25,5),[24300, 24450],[0,1.2])\n",
    "plt.show()\n",
    "\n",
    "# deviation from metadata:\n",
    "#  - recalibration to e0\n",
    "#  - using Pos_0_5_100C_After_Reduction from 100C.prj instead of merge\n",
    "#    of signals from He_after_reduction.prj (equivalent result tested\n",
    "#    in atehena)"
   ]
  },
  {
   "cell_type": "markdown",
   "id": "e7943b0c",
   "metadata": {},
   "source": [
    "### Figure 2 XANES spectra of Pd/Al2O3 at 100 °C\n"
   ]
  },
  {
   "cell_type": "code",
   "execution_count": 72,
   "id": "838d913d",
   "metadata": {},
   "outputs": [],
   "source": [
    "# individaul normal plots\n",
    "def normal_subplot(a_subplt, athena_groups = {}, include_groups = {}, xlim=[],ylim=[], s_legend = True):\n",
    "    for g_indx, a_group in enumerate(include_groups):\n",
    "        a_subplt.plot(athena_groups[a_group].energy,\n",
    "                      athena_groups[a_group].norm, \n",
    "                      label=athena_groups[a_group].filename,\n",
    "                      color = include_groups[a_group][0],\n",
    "                      linestyle = include_groups[a_group][1]\n",
    "                     )                 \n",
    "    if s_legend:\n",
    "        a_subplt.legend() # show legend\n",
    "        a_subplt.set_ylabel(\"Normalized Absorption (a.u.)\")\n",
    "        a_subplt.set_xlabel(\"Energy (eV)\")\n",
    "    a_subplt.set_xlim(xlim)\n",
    "    a_subplt.set_ylim(ylim)\n",
    "    a_subplt.tick_params(axis='both', which='major', labelsize=9)\n",
    "    return a_subplt\n",
    "\n",
    "# normal plot with inset closeup\n",
    "def plot_normal_w_inset(main_groups = {}, main_include = {}, aspect=(6,8),\n",
    "                        lp_xlim=[], lp_ylim=[], \n",
    "                        inset_groups = {}, inset_include = {}, \n",
    "                        sp_xlim=[],  sp_ylim=[]\n",
    "                       ):\n",
    "    fig, ax1 = plt.subplots(figsize=aspect)\n",
    "    # These are in unitless percentages of the figure size. (0,0 is bottom left)\n",
    "    left, bottom, width, height = [0.45, 0.2, 0.4, 0.4]\n",
    "    ax2 = fig.add_axes([left, bottom, width, height])\n",
    "\n",
    "    ax1 = normal_subplot(ax1, main_groups, main_include, lp_xlim,lp_ylim)\n",
    "    ax2 = normal_subplot(ax2, inset_groups, inset_include, sp_xlim,sp_ylim, True)\n",
    "    return plt\n"
   ]
  },
  {
   "cell_type": "code",
   "execution_count": 73,
   "id": "07687053",
   "metadata": {
    "scrolled": false
   },
   "outputs": [
    {
     "name": "stdout",
     "output_type": "stream",
     "text": [
      " do not know what to do with key 'LCF' at ''\n",
      "e0 Red. Sample: 24358.0 e0 Pd Foil: 24359.0 e0 PdO: 24356.5\n"
     ]
    },
    {
     "data": {
      "image/png": "[encoded data removed]",
      "text/plain": [
       "<Figure size 850x800 with 2 Axes>"
      ]
     },
     "metadata": {},
     "output_type": "display_data"
    }
   ],
   "source": [
    "data_path = Path(\"C:/harwell/PSDI_test/wf_data/pub_661/DS0462\")\n",
    "\n",
    "xanes_01 = {\"project_file\": \"100C.prj\",\n",
    "            \"mappings\":{\"Pos 0\": \"Pos_0pt5\",\n",
    "                        \"Pos 1\": \"Pos_1pt5\",\n",
    "                        \"Pos 2\": \"Pos_2pt5\",\n",
    "                        \"Pos 3\": \"Pos_3pt5\",\n",
    "                        \"Pos 4\": \"Pos_4pt5\",\n",
    "                        \"Pos 5\": \"Pos_5pt5\",\n",
    "                        \"Pos 6\": \"Pos_6pt5\",\n",
    "                        \"Pos 7\": \"Pos_7pt5\",\n",
    "                        \"Pos 8\": \"Pos_8pt5\",\n",
    "                        \"Reduced Sample\": \"Pos_0_5_100C_After_Reduction\",\n",
    "                        \"PdO\": \"PdO_standard\",\n",
    "                        \"Pd Foil\":\"Pd_Foil\"}}\n",
    "\n",
    "data_file = Path(data_path, xanes_01['project_file'])\n",
    "xanes_02_groups = c_plot.get_groups(data_file,xanes_01[\"mappings\"])\n",
    "\n",
    "\n",
    "#define dict to set colours and line stiles\n",
    "main_groups = {\"Pos 0\": [\"black\", \"solid\"],\n",
    "               \"Pos 8\": [\"purple\", \"solid\"],\n",
    "               \"Reduced Sample\":[\"blue\", \"solid\"], \n",
    "               \"Pd Foil\":['red', \"dotted\"],\n",
    "               \"PdO\":[\"green\", \"dotted\"], \n",
    "               }\n",
    "\n",
    "inset_groups ={\"Pos 0\": [\"black\", \"solid\"],\n",
    "               \"Pos 1\": [\"blue\", \"solid\"],\n",
    "               \"Pos 2\": [\"red\", \"solid\"],\n",
    "               \"Pos 3\": [\"green\", \"solid\"],\n",
    "               \"Pos 4\": [\"yellow\", \"solid\"],\n",
    "               \"Pos 5\": [\"orange\", \"solid\"],\n",
    "               \"Pos 6\": [\"cyan\", \"solid\"],\n",
    "               \"Pos 7\": [\"lime\", \"solid\"],\n",
    "               \"Pos 8\": [\"pink\", \"solid\"],\n",
    "               \n",
    "               }\n",
    "\n",
    "# PDO may need to be aligned to same e0 as the other 2\n",
    "print(\"e0 Red. Sample:\", list(xanes_01_groups.values())[0].e0,\n",
    "      \"e0 Pd Foil:\", list(xanes_01_groups.values())[2].e0,\n",
    "      \"e0 PdO:\", list(xanes_01_groups.values())[1].e0)\n",
    "\n",
    "xanes_02_groups[\"PdO\"] = athenamgr.recalibrate_energy(xanes_02_groups[\"PdO\"], xanes_02_groups[\"Reduced Sample\"].e0)\n",
    "\n",
    "plt = plot_normal_w_inset(xanes_01_groups, main_groups, (8.5,8), [24300, 24450], [0,1.2], \n",
    "                          xanes_01_groups, inset_groups, [24340, 24400], [0,1.2])\n",
    "plt.show()\n",
    "\n",
    "# deviation from metadata:\n",
    "#  - recalibration to e0\n",
    "#  - the diagram on the paper is missing Pos 7, and\n",
    "#    100C.prj is missing Pos 9 and Pos 10 "
   ]
  },
  {
   "cell_type": "code",
   "execution_count": 43,
   "id": "a5af5de6",
   "metadata": {},
   "outputs": [
    {
     "data": {
      "text/plain": [
       "['green', 'dotted']"
      ]
     },
     "execution_count": 43,
     "metadata": {},
     "output_type": "execute_result"
    }
   ],
   "source": []
  },
  {
   "cell_type": "markdown",
   "id": "ecaa54b0",
   "metadata": {},
   "source": [
    "### Reproduce 2A XANES spectra Mn K"
   ]
  },
  {
   "cell_type": "code",
   "execution_count": null,
   "id": "fef96eeb",
   "metadata": {},
   "outputs": [],
   "source": [
    "plot_groups = {\"LaMnO3 Sol-gel\":[\"black\", \"solid\"], \"4 h\":[\"b\", \"solid\"], \n",
    "               \"1 h\":['g', \"solid\"], \"Mn2O3\":[\"r\", \"solid\"]}\n",
    "\n",
    "plt = c_plot3.plot_normal_w_inset(mn_k_groups, plot_groups, (8,6),[6535, 6580],[0,1.6], [6535, 6546], [0.0,0.3])\n",
    "plt.show()"
   ]
  },
  {
   "cell_type": "markdown",
   "id": "e668c081",
   "metadata": {},
   "source": [
    "### Reproduce 2B XANES spectra La L3"
   ]
  },
  {
   "cell_type": "code",
   "execution_count": null,
   "id": "583f18c9",
   "metadata": {},
   "outputs": [],
   "source": [
    "plot_groups = {\"La Sol-gel\":[\"black\", \"solid\"], \"4 h\":[\"b\", \"solid\"], \n",
    "               \"1 h\":['g', \"solid\"], \"La(OH)3\":[\"r\", \"solid\"]}\n",
    "\n",
    "plt = c_plot3.plot_normalised(la_l3_groups, plot_groups, (8,6),[5465, 5530],[0,4])\n",
    "plt.show()"
   ]
  },
  {
   "cell_type": "markdown",
   "id": "da1898c4",
   "metadata": {},
   "source": [
    "### Reproduce Figure 3 FT"
   ]
  },
  {
   "cell_type": "code",
   "execution_count": null,
   "id": "d0ce264d",
   "metadata": {
    "scrolled": false
   },
   "outputs": [],
   "source": [
    "ft_vs  =  {'kmin':3, \n",
    "           'kmax':9, \n",
    "           'window':'hanning', \n",
    "           'kweight':2, \n",
    "           'rmin':1,\n",
    "           'rmax':3, \n",
    "           'dk':1}\n",
    "\n",
    "for a_group in mn_k_groups:\n",
    "    c_plot.forward_ft(mn_k_groups[a_group],ft_vs)\n",
    "\n",
    "plot_groups = {'LaMnO3 Sol-gel':[\"black\",\"solid\"], '4 h':[\"tab:blue\",\"solid\"], \n",
    "               '3 h':[\"tab:grey\",\"solid\"], '2 h':[\"tab:green\",\"solid\"], \n",
    "               '1 h':[\"tab:orange\",\"solid\"], 'Mn2O3':[\"tab:purple\",\"solid\"]}\n",
    "v_offset = 1.5\n",
    "plot_dimensions = (6,8)\n",
    "line_label_x = 4.5\n",
    "radius_range = [0, 4.5]\n",
    "\n",
    "# define the highlights and labels for plotting   \n",
    "d_boxes = [[[0.5, 0.5, 2.0, 2.0,0.5],[2.5, -8, -8, 2.5,2.5], 'blue',0.3],\n",
    "         [[2.5, 2.5, 4.0, 4.0,2.5],[2.5, -4.9, -4.9, 2.5,2.5], 'orange', 0.3],\n",
    "         [[2.2, 2.2, 3.5, 3.5,2.2],[-5.0, -8, -8, -5.0,-5.0], 'purple', 0.3],\n",
    "        ]\n",
    "\n",
    "d_labels =[[1.0, 1.8, \"Mn-O\"],\n",
    "           [3.0, 1.8, \"Mn-La\"],\n",
    "           [2.6, -7.7, \"Mn-Mn\"]\n",
    "          ]\n",
    "\n",
    "plt = c_plot.plot_chir_magnitude(athena_groups = mn_k_groups, include_groups = plot_groups, \n",
    "                          offset = v_offset, aspect = plot_dimensions, \n",
    "                          legend_x = line_label_x, xlim=radius_range, kweight=ft_vs['kweight'], \n",
    "                          h_boxes = d_boxes, h_text = d_labels)\n",
    "plt.show()"
   ]
  },
  {
   "cell_type": "markdown",
   "id": "89bb1be0",
   "metadata": {},
   "source": [
    "### Reproduce Figure 5 FT"
   ]
  },
  {
   "cell_type": "code",
   "execution_count": null,
   "id": "1d298311",
   "metadata": {},
   "outputs": [],
   "source": [
    "ft_vs  =  {'kmin':3, \n",
    "           'kmax':9, \n",
    "           'window':'hanning', \n",
    "           'kweight':2, \n",
    "           'rmin':1,\n",
    "           'rmax':3, \n",
    "           'dk':1}\n",
    "\n",
    "for a_group in la_l3_groups:\n",
    "    c_plot.forward_ft(la_l3_groups[a_group],ft_vs)\n",
    "\n",
    "plot_groups = {'La Sol-gel':[\"black\",\"solid\"], '4 h':[\"tab:blue\",\"solid\"], \n",
    "               '3 h':[\"tab:grey\",\"solid\"], '2 h':[\"tab:green\",\"solid\"], \n",
    "               '1 h':[\"tab:orange\",\"solid\"], 'La(OH)3':[\"tab:purple\",\"solid\"]}\n",
    "v_offset = 0.5\n",
    "plot_dimensions = (8,6)\n",
    "line_label_x =6\n",
    "radius_range = [0, 6]\n",
    "\n",
    "# define the highlights and labels for plotting   \n",
    "d_boxes = [[[0.5, 0.5, 1.5, 1.5,0.5],[1.5, -3, -3, 1.5,1.5], 'blue',0.3],\n",
    "         [[1.7, 1.7, 3.5, 3.5,1.7],[1.5, -1.7, -1.7, 1.5,1.5], 'orange', 0.3],\n",
    "         [[1.7, 1.7, 4.4, 4.4,1.7],[-1.5, -3, -3, -1.5,-1.5], 'purple', 0.3],\n",
    "        ]\n",
    "\n",
    "d_labels =[[0.7, 1.2, \"La-O\"],\n",
    "           [2.5, 1.2, \"La-Mn\"],\n",
    "           [2.6, -2.7, \"La-La\"]]\n",
    "\n",
    "plt = c_plot.plot_chir_magnitude(athena_groups = la_l3_groups, include_groups = plot_groups, \n",
    "                          offset = v_offset, aspect = plot_dimensions, \n",
    "                          legend_x = line_label_x, xlim=radius_range, kweight=ft_vs['kweight'],\n",
    "                          h_boxes = d_boxes, h_text = d_labels\n",
    "                         )\n",
    "    \n",
    "plt.show()"
   ]
  },
  {
   "cell_type": "markdown",
   "id": "c2e00249",
   "metadata": {},
   "source": [
    "### Reproduce Fig 4 EXAFS fittings\n",
    "\n",
    "Two crystal structures are required for fitting, in addition to the data on the projects. The crystal structures were obtained from materials project. The name of the paths to select are contained in table S2 of the [supplementary material](https://www.rsc.org/suppdata/c9/dt/c9dt03590g/c9dt03590g1.pdf).\n",
    "\n",
    "|Plot|Group|Paths|\n",
    "|:---|:----|:----|\n",
    "| A|Mn-K 0 h|Mn-O1,Mn-O2,Mn-Mn1,Mn-Mn2|\n",
    "| B|Mn-K 1 h|Mn-O,Mn-Mn1,Mn-Mn2|\n",
    "| C|Mn-K 4 h|Mn-O,Mn-La1,Mn-La2|\n",
    "| D|LaMnO3 Sol-gel| Mn-O,Mn-La1,Mn-La2|\n",
    "\n",
    "The figure presents four fittings and for each it is necessary to define: \n",
    "- a set of GDS parameters\n",
    "- a set of paths\n",
    "- a set of fit variables\n",
    "\n",
    "Atoms and FEFF however can be shared for the four fittings so they are executed in the next cell"
   ]
  },
  {
   "cell_type": "code",
   "execution_count": null,
   "id": "6917938c",
   "metadata": {
    "scrolled": true
   },
   "outputs": [],
   "source": [
    "# Library with the functions that execute \n",
    "# Atoms and FEFF to generate scattering paths\n",
    "import lib.atoms_feff as feff_runner     \n",
    "\n",
    "# Set parameters          \n",
    "# library containign functions tho manage fit, at read, write \n",
    "# GDS parameters, and scattering paths. \n",
    "import lib.manage_fit as fit_manager  \n",
    "\n",
    "from larch import Interpreter\n",
    "session = Interpreter()\n",
    "\n",
    "\n",
    "crystal_files = [\"C:/harwell/PSDI_test/wf_data/pub_582/additional/1667441.cif\",\n",
    "                 \"C:/harwell/PSDI_test/wf_data/pub_582/additional/mp-565203_Mn2O3.cif\",] \n",
    "# Need to specify the absorbing atom and maximum radius\n",
    "absorbing_atoms = [4,0]\n",
    "max_radius = 5.0\n",
    "\n",
    "# run feff and get a list of feff dirs\n",
    "feff_dirs = feff_runner.run_feff(crystal_files, absorbing_atoms, max_radius) \n",
    "\n",
    "# could prevent running if the files still exist and they are recent (<month old)"
   ]
  },
  {
   "cell_type": "markdown",
   "id": "e3a4fb78",
   "metadata": {},
   "source": [
    "####  4A"
   ]
  },
  {
   "cell_type": "code",
   "execution_count": null,
   "id": "e2aa3373",
   "metadata": {},
   "outputs": [],
   "source": [
    "gds_parms_a = \"mn_k_0_gds.csv\"\n",
    "sel_paths_a = \"mn_k_0_edge_sp.csv\"\n",
    "\n",
    "# variables for fit\n",
    "fit_vars = {}\n",
    "fit_vars['fitspace']='r'\n",
    "fit_vars['kmin']=0 \n",
    "fit_vars['kmax']=10\n",
    "fit_vars['kw']=2 \n",
    "fit_vars['dk']=1\n",
    "fit_vars['window']='hanning'\n",
    "fit_vars['rmin']=0.0\n",
    "fit_vars['rmax']=5.0"
   ]
  },
  {
   "cell_type": "code",
   "execution_count": null,
   "id": "ef441d45",
   "metadata": {},
   "outputs": [],
   "source": [
    "# read save parameters from input gds file\n",
    "gds = fit_manager.read_gds(gds_parms_a, session)\n",
    "# show gsd group parameters in a spreadsheet\n",
    "this_sheet = fit_manager.show_gds(gds)\n",
    "# save gsd group parameters in a csv file\n",
    "fit_manager.save_gds(gds, gds_parms_a)"
   ]
  },
  {
   "cell_type": "code",
   "execution_count": null,
   "id": "fe53d605",
   "metadata": {},
   "outputs": [],
   "source": [
    "# save gds data the csv file \n",
    "gds = fit_manager.spreadsheet_to_gds(this_sheet, session)\n",
    "# save gsd group parameters in a csv file\n",
    "fit_manager.save_gds(gds, gds_parms_a)"
   ]
  },
  {
   "cell_type": "code",
   "execution_count": null,
   "id": "3b53530c",
   "metadata": {
    "scrolled": true
   },
   "outputs": [],
   "source": [
    "# read saved selected paths from input file\n",
    "selected_paths = fit_manager.read_selected_paths_list(sel_paths_a, session)\n",
    "\n",
    "path_sheet = fit_manager.show_feff_paths(crystal_files,selected_paths)\n",
    "display(path_sheet)"
   ]
  },
  {
   "cell_type": "code",
   "execution_count": null,
   "id": "6853d503",
   "metadata": {},
   "outputs": [],
   "source": [
    "sp_sheet = fit_manager.show_selected_paths(path_sheet, selected_paths)"
   ]
  },
  {
   "cell_type": "code",
   "execution_count": null,
   "id": "5c0ad436",
   "metadata": {},
   "outputs": [],
   "source": [
    "fit_manager.save_selected_paths_list(sp_sheet, sel_paths_a)\n",
    "selected_paths = fit_manager.read_selected_paths_list(sel_paths_a, session)"
   ]
  },
  {
   "cell_type": "code",
   "execution_count": null,
   "id": "87201eca",
   "metadata": {},
   "outputs": [],
   "source": [
    "# run fit\n",
    "trans, dset, out = fit_manager.run_fit(mn_k_groups['0 h'], gds, selected_paths, fit_vars, session)\n",
    "\n",
    "# import custom plot functions (replicate plots in paper)\n",
    "import paper01_plots as c_plots\n",
    "chikr_p = c_plot.plot_dashed_fit(dset,fit_vars['rmin'],fit_vars['rmax'],fit_vars['kmin'],fit_vars['kmax'], \"0 h\")\n",
    "chikr_p.show()"
   ]
  },
  {
   "cell_type": "markdown",
   "id": "03733f00",
   "metadata": {},
   "source": [
    "####  4B"
   ]
  },
  {
   "cell_type": "code",
   "execution_count": null,
   "id": "7ff8f5f1",
   "metadata": {
    "scrolled": true
   },
   "outputs": [],
   "source": [
    "gds_parms_b = \"mn_k_1_gds.csv\"\n",
    "sel_paths_b = \"mn_k_1_edge_sp.csv\"\n",
    "\n",
    "# fit vars do not change so leave as they are\n",
    "\n",
    "# read save parameters from input gds file\n",
    "gds = fit_manager.read_gds(gds_parms_b, session)\n",
    "# show gsd group parameters in a spreadsheet\n",
    "gds_b_sheet = fit_manager.show_gds(gds)\n",
    "# save gsd group parameters in a csv file\n",
    "fit_manager.save_gds(gds, gds_parms_b)"
   ]
  },
  {
   "cell_type": "code",
   "execution_count": null,
   "id": "c2b12062",
   "metadata": {},
   "outputs": [],
   "source": [
    "# save gds data the csv file \n",
    "gds = fit_manager.spreadsheet_to_gds(gds_b_sheet, session)\n",
    "# save gsd group parameters in a csv file\n",
    "fit_manager.save_gds(gds, gds_parms_b)"
   ]
  },
  {
   "cell_type": "code",
   "execution_count": null,
   "id": "484fe397",
   "metadata": {
    "scrolled": true
   },
   "outputs": [],
   "source": [
    "# read saved selected paths from input file\n",
    "selected_paths = fit_manager.read_selected_paths_list(sel_paths_b, session)\n",
    "\n",
    "path_sheet_b = fit_manager.show_feff_paths(crystal_files,selected_paths)\n",
    "display(path_sheet_b)"
   ]
  },
  {
   "cell_type": "code",
   "execution_count": null,
   "id": "64ca0731",
   "metadata": {},
   "outputs": [],
   "source": [
    "sp_sheet_b = fit_manager.show_selected_paths(path_sheet_b, selected_paths)"
   ]
  },
  {
   "cell_type": "code",
   "execution_count": null,
   "id": "4d54a367",
   "metadata": {},
   "outputs": [],
   "source": [
    "fit_manager.save_selected_paths_list(sp_sheet_b, sel_paths_b)\n",
    "selected_paths = fit_manager.read_selected_paths_list(sel_paths_b, session)"
   ]
  },
  {
   "cell_type": "code",
   "execution_count": null,
   "id": "b07805b7",
   "metadata": {},
   "outputs": [],
   "source": [
    "# run fit\n",
    "trans, dset, out = fit_manager.run_fit(mn_k_groups['1 h'], gds, selected_paths, fit_vars, session)\n",
    "\n",
    "\n",
    "chikr_p = c_plot.plot_dashed_fit(dset,fit_vars['rmin'],fit_vars['rmax'],fit_vars['kmin'],fit_vars['kmax'], \"1 h\")\n",
    "chikr_p.show()"
   ]
  },
  {
   "cell_type": "markdown",
   "id": "ab2a19e9",
   "metadata": {},
   "source": [
    "####  4C"
   ]
  },
  {
   "cell_type": "code",
   "execution_count": null,
   "id": "6513f184",
   "metadata": {
    "scrolled": true
   },
   "outputs": [],
   "source": [
    "gds_parms_c = \"mn_k_4_gds.csv\"\n",
    "sel_paths_c = \"mn_k_4_edge_sp.csv\"\n",
    "\n",
    "# fit vars do not change so leave as they are\n",
    "\n",
    "# read save parameters from input gds file\n",
    "gds = fit_manager.read_gds(gds_parms_c, session)\n",
    "# show gsd group parameters in a spreadsheet\n",
    "gds_c_sheet = fit_manager.show_gds(gds)\n",
    "# save gsd group parameters in a csv file\n",
    "fit_manager.save_gds(gds, gds_parms_c)\n"
   ]
  },
  {
   "cell_type": "code",
   "execution_count": null,
   "id": "4f70f677",
   "metadata": {},
   "outputs": [],
   "source": [
    "# save gds data the csv file \n",
    "gds = fit_manager.spreadsheet_to_gds(gds_c_sheet, session)\n",
    "# save gsd group parameters in a csv file\n",
    "fit_manager.save_gds(gds, gds_parms_c)"
   ]
  },
  {
   "cell_type": "code",
   "execution_count": null,
   "id": "e72e1c3e",
   "metadata": {
    "scrolled": true
   },
   "outputs": [],
   "source": [
    "# read saved selected paths from input file\n",
    "selected_paths = fit_manager.read_selected_paths_list(sel_paths_c, session)\n",
    "\n",
    "path_sheet_c = fit_manager.show_feff_paths(crystal_files,selected_paths)\n",
    "display(path_sheet_c)"
   ]
  },
  {
   "cell_type": "code",
   "execution_count": null,
   "id": "0d7eb978",
   "metadata": {},
   "outputs": [],
   "source": [
    "sp_sheet_c = fit_manager.show_selected_paths(path_sheet_c, selected_paths)"
   ]
  },
  {
   "cell_type": "code",
   "execution_count": null,
   "id": "caa5739d",
   "metadata": {},
   "outputs": [],
   "source": [
    "fit_manager.save_selected_paths_list(sp_sheet_c, sel_paths_c)\n",
    "selected_paths = fit_manager.read_selected_paths_list(sel_paths_c, session)"
   ]
  },
  {
   "cell_type": "code",
   "execution_count": null,
   "id": "b9032e37",
   "metadata": {},
   "outputs": [],
   "source": [
    "# run fit\n",
    "trans, dset, out = fit_manager.run_fit(mn_k_groups['4 h'], gds, selected_paths, fit_vars, session)\n",
    "\n",
    "\n",
    "chikr_p = c_plot.plot_dashed_fit(dset,fit_vars['rmin'],fit_vars['rmax'],fit_vars['kmin'],fit_vars['kmax'], \"4 h\")\n",
    "chikr_p.show()"
   ]
  },
  {
   "cell_type": "markdown",
   "id": "03591978",
   "metadata": {},
   "source": [
    "####  4D"
   ]
  },
  {
   "cell_type": "code",
   "execution_count": null,
   "id": "3b41c66f",
   "metadata": {
    "scrolled": true
   },
   "outputs": [],
   "source": [
    "gds_parms_d = \"solgel_gds.csv\"\n",
    "sel_paths_d = \"solgel_edge_sp.csv\"\n",
    "\n",
    "# fit vars do not change so leave as they are\n",
    "\n",
    "# read save parameters from input gds file\n",
    "gds = fit_manager.read_gds(gds_parms_d, session)\n",
    "# show gsd group parameters in a spreadsheet\n",
    "gds_d_sheet = fit_manager.show_gds(gds)\n",
    "# save gsd group parameters in a csv file\n",
    "fit_manager.save_gds(gds, gds_parms_d)\n"
   ]
  },
  {
   "cell_type": "code",
   "execution_count": null,
   "id": "627afc91",
   "metadata": {},
   "outputs": [],
   "source": [
    "# save gds data the csv file \n",
    "gds = fit_manager.spreadsheet_to_gds(gds_d_sheet, session)\n",
    "# save gsd group parameters in a csv file\n",
    "fit_manager.save_gds(gds, gds_parms_d)"
   ]
  },
  {
   "cell_type": "code",
   "execution_count": null,
   "id": "0fd4d41b",
   "metadata": {
    "scrolled": true
   },
   "outputs": [],
   "source": [
    "# read saved selected paths from input file\n",
    "selected_paths = fit_manager.read_selected_paths_list(sel_paths_d, session)\n",
    "\n",
    "path_sheet_d = fit_manager.show_feff_paths(crystal_files,selected_paths)\n",
    "display(path_sheet_d)"
   ]
  },
  {
   "cell_type": "code",
   "execution_count": null,
   "id": "a4c10c63",
   "metadata": {},
   "outputs": [],
   "source": [
    "sp_sheet_d = fit_manager.show_selected_paths(path_sheet_d, selected_paths)"
   ]
  },
  {
   "cell_type": "code",
   "execution_count": null,
   "id": "28187a2e",
   "metadata": {},
   "outputs": [],
   "source": [
    "fit_manager.save_selected_paths_list(sp_sheet_d, sel_paths_d)\n",
    "selected_paths = fit_manager.read_selected_paths_list(sel_paths_d, session)"
   ]
  },
  {
   "cell_type": "code",
   "execution_count": null,
   "id": "d46fad82",
   "metadata": {},
   "outputs": [],
   "source": [
    "# run fit\n",
    "trans, dset, out = fit_manager.run_fit(mn_k_groups['LaMnO3 Sol-gel'], gds, selected_paths, fit_vars, session)\n",
    "\n",
    "chikr_p = c_plot.plot_dashed_fit(dset,fit_vars['rmin'],fit_vars['rmax'],fit_vars['kmin'],fit_vars['kmax'], \"LaMnO3 Sol-gel\")\n",
    "chikr_p.show()"
   ]
  },
  {
   "cell_type": "markdown",
   "id": "47c20c24",
   "metadata": {},
   "source": [
    "## Reproducibility of results\n",
    "\n",
    "All of the results can be reproduced. however there is a small issue regarding which crystal files to use. These are not included in the published dataset.\n",
    "\n",
    "Pending contactiong authors for validation of process.\n"
   ]
  }
 ],
 "metadata": {
  "kernelspec": {
   "display_name": "Python 3 (ipykernel)",
   "language": "python",
   "name": "python3"
  },
  "language_info": {
   "codemirror_mode": {
    "name": "ipython",
    "version": 3
   },
   "file_extension": ".py",
   "mimetype": "text/x-python",
   "name": "python",
   "nbconvert_exporter": "python",
   "pygments_lexer": "ipython3",
   "version": "3.9.2rc1"
  }
 },
 "nbformat": 4,
 "nbformat_minor": 5
}
