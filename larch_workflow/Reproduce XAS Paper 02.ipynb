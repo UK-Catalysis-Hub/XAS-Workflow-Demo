{
 "cells": [
  {
   "cell_type": "markdown",
   "id": "e346a05a",
   "metadata": {},
   "source": [
    "# Reproduce  A. M. Messinis, et. al, Nature Catalysis, 2019,  2,  123-133 \n",
    "\n",
    "This notebook demonstrates reproducing the results of the paper with [Larch](https://xraypy.github.io/xraylarch/xafs/) using the corresponding published dataset (raw data). \n",
    "\n",
    "\n",
    "\n",
    "Antonis M. Messinis, Stephen L. J. Luckham, Peter P. Wells, Diego Gianolio, Emma K. Gibson, Harry M. O’Brien, Hazel A. Sparkes, Sean A. Davis, June Callison, David Elorriaga, Oscar Hernandez-Fajardo & Robin B. Bedford (2019) **The highly surprising behaviour of diphosphine ligands in iron-catalysed Negishi cross-coupling** Nature Catalysis, 2019,  2,  123-133 DOI: [10.1038/s41929-018-0197-z](https://doi.org/10.1038/s41929-018-0197-z).\n",
    "\n",
    "The data used for reproducing the results was published in the University of Bristol Research Data Repository [10.5523/bris.1kp2f62x3klb02mfz2qymcmxmx](https://data.bris.ac.uk/data/dataset/1kp2f62x3klb02mfz2qymcmxmx).\n",
    "\n",
    "\n",
    "For more details about Larch, see [Larch Website](https://xraypy.github.io/xraylarch/xafs/)"
   ]
  },
  {
   "cell_type": "code",
   "execution_count": null,
   "id": "5ac667f0",
   "metadata": {},
   "outputs": [],
   "source": []
  }
 ],
 "metadata": {
  "kernelspec": {
   "display_name": "Python 3 (ipykernel)",
   "language": "python",
   "name": "python3"
  },
  "language_info": {
   "codemirror_mode": {
    "name": "ipython",
    "version": 3
   },
   "file_extension": ".py",
   "mimetype": "text/x-python",
   "name": "python",
   "nbconvert_exporter": "python",
   "pygments_lexer": "ipython3",
   "version": "3.9.2rc1"
  }
 },
 "nbformat": 4,
 "nbformat_minor": 5
}
