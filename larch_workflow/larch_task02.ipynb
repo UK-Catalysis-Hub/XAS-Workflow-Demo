{
 "cells": [
  {
   "cell_type": "markdown",
   "metadata": {},
   "source": [
    "# XAS Workflow Task 2\n",
    "\n",
    "This notebook contains the second task of the XAS processing workflow. \n",
    "\n",
    "The break up of the task consist of the following steps \n",
    "\n",
    "|Task                            | Input                                         | Output\n",
    "|-------------                   |-------------                                  |-----  \n",
    "| Curve fitting||\n",
    "| 1. Import data                |File: FeS2_larch.prj                              |\n",
    "| 2. Import Crystal data        |File: FeS2.inp                                 |\n",
    "| 3. Calculate Paths(Atoms+FEFF)||\n",
    "| 4. Set path parameters        | Parameters:                                   |\n",
    "|                                 |    amp  = 1                                   |\n",
    "|                                 |    enot = 0                                   |\n",
    "|                                 |    delr = 0                                   |\n",
    "|                                 |    ss   = 0.003                               |\n",
    "| 5. Select paths                 |                                               |\n",
    "| 6. Run Fit                    |                                               |\n",
    "| 7. Save project               ||\n",
    "| 8. Verify fit results         ||\n",
    "| 8.1 If not OK revise parameners and refit (go to 2.4)||\n",
    "| 8.2 If OK Save project and outputs|                                           |File: FeS2_01.fpj\n",
    "\n",
    "For more details about larch, see https://xraypy.github.io/xraylarch/xafs/\n"
   ]
  },
  {
   "cell_type": "code",
   "execution_count": 1,
   "metadata": {},
   "outputs": [],
   "source": [
    "# managing athena files\n",
    "from larch.io import create_athena, read_athena, extract_athenagroup\n",
    "\n",
    "project_name = 'FeS2_larch.prj'\n",
    "\n",
    "fes2_prj = read_athena(project_name)\n",
    "\n",
    "group_keys = list(fes2_prj._athena_groups.keys())\n",
    "\n",
    "group_names = {}\n",
    "\n",
    "for group_key in group_keys:\n",
    "    group_names[group_key] = group_key"
   ]
  },
  {
   "cell_type": "code",
   "execution_count": 2,
   "metadata": {
    "scrolled": false
   },
   "outputs": [
    {
     "data": {
      "image/png": "[encoded data removed]",
      "text/plain": [
       "<Figure size 432x288 with 1 Axes>"
      ]
     },
     "metadata": {
      "needs_background": "light"
     },
     "output_type": "display_data"
    }
   ],
   "source": [
    "# required larch modules\n",
    "# calculate pre-edge and post edge for normalisation\n",
    "from larch.xafs import pre_edge\n",
    "# perform background removal\n",
    "from larch.xafs import autobk\n",
    "# calculate fourier transform\n",
    "from larch.xafs import xftf\n",
    "\n",
    "%matplotlib inline\n",
    "import matplotlib.pyplot as plt\n",
    "\n",
    " #######################################################\n",
    "# |         Athena recalculates everything so we      | #\n",
    "# |      need to create a function that calculates    | #\n",
    "# V               all for each new group              V #\n",
    " #######################################################\n",
    "\n",
    "def calc_with_defaults(xafs_group):\n",
    "    # calculate mu and normalise with background extraction\n",
    "    # should let the user specify the colums for i0, it, mu, iR. \n",
    "    if not hasattr(xafs_group, 'mu'):\n",
    "        xafs_group = get_mu(xafs_group)\n",
    "    # calculate pre-edge and post edge and add them to group\n",
    "    # need to read parameters for pre-edge before background calculation with  \n",
    "    # defaul values undo the work of previous step (setting pre-edge limits).\n",
    "    pre_edge(xafs_group, pre1=xafs_group.bkg_params.pre1, pre2=xafs_group.bkg_params.pre2)\n",
    "    #pre_edge(xafs_group)\n",
    "    # perform background removal\n",
    "    autobk(xafs_group) # using defaults so no additional parameters are passed\n",
    "    # calculate fourier transform\n",
    "    xftf(xafs_group)#, kweight=0.5, kmin=3.0, kmax=12.871, dk=1, kwindow='Hanning')\n",
    "    return xafs_group\n",
    "\n",
    "\n",
    " #######################################################\n",
    "# |       The code for plotting Nmu vs E repeats      | #\n",
    "# |   so it is useful to have a plotting function     | #\n",
    "# V            to reduce duplicated code              V #\n",
    " #######################################################\n",
    "# plot mu vs flat normalised mu for selected groups\n",
    "def plot_NxmuE_E_athena_prj(athena_project, group_keys, group_names,\n",
    "                            title = \"Normalised Mu vs E\", xlimits = None,\n",
    "                            ylimits = None):    \n",
    "    # plot mu vs flat normalised mu for selected groups\n",
    "    for group_key in group_keys:\n",
    "        gr_0 = extract_athenagroup(athena_project._athena_groups[group_key])\n",
    "        # recalculate normalisation\n",
    "        calc_with_defaults(gr_0)\n",
    "        plt.plot(gr_0.energy, gr_0.flat, label=group_names[group_key])\n",
    "\n",
    "    # set plot format\n",
    "    plt.xlabel(\"Energy\")\n",
    "    plt.ylabel(\"normalised xmuE\" )\n",
    "    plt.title(title)\n",
    "    plt.grid(linestyle=':', linewidth=1) #show and format grid\n",
    "    if xlimits != None:\n",
    "        plt.xlim(xlimits[0],xlimits[1])\n",
    "    if ylimits != None:\n",
    "        plt.ylim(ylimits[0],ylimits[1])\n",
    "    plt.legend()\n",
    "    return plt, gr_0\n",
    "\n",
    "# plot normalised mu on energy\n",
    "# plot mu vs flat normalised mu for selected groups\n",
    "plt, data_group = plot_NxmuE_E_athena_prj(fes2_prj, group_keys, group_names)\n",
    "plt.show()\n"
   ]
  },
  {
   "cell_type": "markdown",
   "metadata": {},
   "source": [
    "## Atoms and FEFF \n",
    "\n",
    "Larch does larch does not include a means for running atoms. Atoms is needed to get input for feff and calculate paths. Currently, the fastest option is to run Artemis to obtain the input (.inp) file for feff from a crystal file ('.cif' or '.inp')\n",
    "\n",
    "The code below shows how subprocess can be used to call perl, execute a small perl script that runs Artemis Atoms, and saves the output file ('inp') in a new directory.\n",
    "\n",
    "The file can then be used to run FEFF from Larch to calculate scattering paths."
   ]
  },
  {
   "cell_type": "code",
   "execution_count": 3,
   "metadata": {
    "scrolled": true
   },
   "outputs": [
    {
     "name": "stdout",
     "output_type": "stream",
     "text": [
      "Passed!\n",
      " : ======== running Feff module C:\\Users\\scman1\\Anaconda3\\envs\\python36\\lib\\site-packages\\larch\\bin\\win32\\feff6l.exe ========\n",
      " : Feff 6L.02\n",
      " : name:     Iron sulfide (pyrite)\n",
      " : formula:  FeS_2\n",
      " : refer1:   Elliot (1960) J.Chem. Phys. 33(3), 903.\n",
      " : Calculating potentials and phases...\n",
      " : free atom potential and density for atom type    0\n",
      " : free atom potential and density for atom type    1\n",
      " : free atom potential and density for atom type    2\n",
      " : overlapped potential and density for unique potential    0\n",
      " : overlapped potential and density for unique potential    1\n",
      " : overlapped potential and density for unique potential    2\n",
      " : muffin tin radii and interstitial parameters\n",
      " : phase shifts for unique potential    0\n",
      " : phase shifts for unique potential    1\n",
      " : phase shifts for unique potential    2\n",
      " : Preparing plane wave scattering amplitudes...\n",
      " : nncrit in prcrit       9\n",
      " : Searching for paths...\n",
      " : Rmax  6.0000  keep and heap limits   0.0000000   0.0000000\n",
      " : Preparing neighbor table\n",
      " : nfound  nheap  nheapx  nsc    r\n",
      " : 1000    353     410   5    5.6619\n",
      " : Paths found     1978   (nheapx, nbx     410   5)\n",
      " : Eliminating path degeneracies...\n",
      " : Plane wave chi amplitude filter   2.50%\n",
      " : Unique paths     63,  total paths     778\n",
      " : Calculating EXAFS parameters...\n",
      " : Curved wave chi amplitude ratio   4.00%\n",
      " : Discard feff.dat for paths with cw ratio <   2.67%\n",
      " : path  cw ratio     deg    nleg  reff\n",
      " : 1   100.000     6.000     2   2.2566\n",
      " : 2    34.004     6.000     2   3.4449\n",
      " : 3    10.152     2.000     2   3.5942\n",
      " : 4    55.217    12.000     2   3.8212\n",
      " : 5    13.922    12.000     3   3.9365\n",
      " : 6    29.341    24.000     3   4.1672\n",
      " : 7     4.320    12.000     3   4.3836\n",
      " : 8     3.785     6.000     4   4.4281\n",
      " : 9    17.345     6.000     2   4.4378\n",
      " : 10     4.564    12.000     3   4.4582\n",
      " : 11     3.287    12.000     3   4.5068\n",
      " : 12    10.009     6.000     3   4.5131\n",
      " : 13    11.378     6.000     4   4.5131\n",
      " : 14     4.293     6.000     4   4.5131\n",
      " : 15     7.912    12.000     4   4.5131\n",
      " : 16     4.031    24.000     3   4.7613\n",
      " : 17     6.903    24.000     3   4.7613\n",
      " : 18     3.626    12.000     3   4.8360\n",
      " : 19     7.595    12.000     3   4.8800\n",
      " : 20     5.450    12.000     3   5.0032\n",
      " : 21    11.486     6.000     2   5.1448\n",
      " : 22    21.733    12.000     2   5.2460\n",
      " : 23     2.703    12.000     3   5.2460\n",
      " : 24     7.163    24.000     3   5.2578\n",
      " : 25    26.479    12.000     3   5.2841\n",
      " : 26     2.154    12.000     4   5.3222 neglected\n",
      " : 27    16.901     6.000     4   5.3222\n",
      " : 28     3.264    12.000     3   5.3266\n",
      " : 29     2.126    24.000     3   5.3555 neglected\n",
      " : 30     8.407    12.000     3   5.3567\n",
      " : 31    11.212     6.000     2   5.4040\n",
      " : 32     9.856    12.000     3   5.4073\n",
      " : 33     2.107    12.000     3   5.4742 neglected\n",
      " : 34     3.203    12.000     3   5.5053\n",
      " : 35     5.637    12.000     3   5.5527\n",
      " : 36     9.096    12.000     3   5.5527\n",
      " : 37     9.453    12.000     3   5.5527\n",
      " : 38     2.023    12.000     4   5.5687 neglected\n",
      " : 39     2.870     6.000     4   5.5687\n",
      " : 40     1.798     6.000     4   5.5687 neglected\n",
      " : 41     2.366    12.000     3   5.6113 neglected\n",
      " : 42     4.102    24.000     3   5.6619\n",
      " : 43     5.025    24.000     3   5.6619\n",
      " : 44     3.248    12.000     4   5.7000\n",
      " : 45     1.880    12.000     4   5.7015 neglected\n",
      " : 46     0.649    12.000     4   5.7015 neglected\n",
      " : 47     2.754     6.000     4   5.7015\n",
      " : 48     1.829     6.000     4   5.7015 neglected\n",
      " : 49     1.361    12.000     4   5.7015 neglected\n",
      " : 50     1.179    12.000     4   5.7015 neglected\n",
      " : 51     8.397    12.000     4   5.7015\n",
      " : 52     3.144    48.000     3   5.7318\n",
      " : 53     2.757     2.000     2   5.7658\n",
      " : 54     8.856     4.000     3   5.7658\n",
      " : 55     7.847     2.000     4   5.7658\n",
      " : 56     2.531    12.000     3   5.8277 neglected\n",
      " : 57     0.686    12.000     4   5.8508 neglected\n",
      " : 58    15.808    12.000     2   5.8562\n",
      " : 59     2.304    12.000     3   5.8770 neglected\n",
      " : 60     2.795    12.000     3   5.8783\n",
      " : 61     2.237    12.000     3   5.9529 neglected\n",
      " : 62     8.219    24.000     3   5.9670\n",
      " : 63    10.657    24.000     3   5.9670\n",
      " : 48 paths kept,   63 examined.\n",
      " : Feff done.  Have a nice day.\n"
     ]
    },
    {
     "data": {
      "text/plain": [
       "<External Feff Group: ./fes2_feff\\fes2_feff.inp>"
      ]
     },
     "execution_count": 3,
     "metadata": {},
     "output_type": "execute_result"
    }
   ],
   "source": [
    "# larch does not include a means for running atoms\n",
    "# need to get input for feff and calculate paths\n",
    "\n",
    "# currently the fastest option is to run Artemis to\n",
    "# obtain the input (.inp) file for feff from a '.cif'\n",
    "# or '.inp' file\n",
    "\n",
    "# get subprocess to run perl script\n",
    "import subprocess\n",
    "\n",
    "# get the input file\n",
    "var = \"FeS2.inp\"\n",
    "\n",
    "retcode = subprocess.call([\"perl\", \"feff_inp.pl\", var])\n",
    "if retcode == 0:\n",
    "    print(\"Passed!\")\n",
    "else:\n",
    "    print(\"Failed!\")\n",
    "\n",
    "# run feff and get the paths\n",
    "from larch.xafs.feffrunner import feff6l\n",
    "#feff6l(folder='.', feffinp='feff.inp', verbose=True)\n",
    "feff6l(folder = './fes2_feff',feffinp='fes2_feff.inp' )"
   ]
  },
  {
   "cell_type": "markdown",
   "metadata": {},
   "source": [
    "## Set Parameters\n",
    "The following code creates the parameters group (GDS in Artemis). The codeuses lp.fitting.param_group and lp.fitting.param instead of importing Group and Parameter (does not work with Jupyter).\n",
    "\n",
    "The parameter values are the same used in [Bruce Ravel's example](https://github.com/bruceravel/demeter/tree/master/examples/recipes/FeS2)."
   ]
  },
  {
   "cell_type": "code",
   "execution_count": 5,
   "metadata": {},
   "outputs": [],
   "source": [
    "# set parameters \n",
    "# example Using Larch with python3\n",
    "from larch import Interpreter\n",
    "import larch_plugins as lp\n",
    "\n",
    "# library containign functions that read and write to csv files\n",
    "import lib.handle_csv as csvhandler\n",
    "\n",
    "session = Interpreter()\n",
    "\n",
    "\n",
    "# read parameters from csv file\n",
    "# each line contains a parameter defined as follows\n",
    "##############################\n",
    "# id,name,value,expr,vary\n",
    "# 1,alpha,1e-07,,True\n",
    "# 2,ss2,0.003,,True\n",
    "# 3,ss3,0.003,ss2,False\n",
    "# 4,ssfe,0.003,,True\n",
    "##############################\n",
    "def read_gds(gds_file):\n",
    "    dgs_group = lp.fitting.param_group(_larch=session)\n",
    "    gds_pars, _ = csvhandler.read_csv_data(gds_file)\n",
    "    for par_idx in gds_pars:\n",
    "        #gds file structure:\n",
    "        gds_name = gds_pars[par_idx]['name']\n",
    "        gds_val = 0.0\n",
    "        gds_expr = \"\"\n",
    "        try:\n",
    "            gds_val = float(gds_pars[par_idx]['value'])\n",
    "        except ValueError:\n",
    "            #print(\"Not a float value\")\n",
    "            gds_val = 0.00\n",
    "        gds_expr = gds_pars[par_idx]['expr']\n",
    "        gds_vary = True if gds_pars[par_idx]['vary']=='True' else False\n",
    "        one_par = None\n",
    "        if gds_vary:\n",
    "            # equivalent to a guess parameter in Demeter\n",
    "            one_par = lp.fitting.guess(name=gds_name ,value=gds_val, vary=gds_vary, expr=gds_expr)\n",
    "        else:\n",
    "            # equivalent to a defined parameter in Demeter\n",
    "            one_par = lp.fitting.param(name=gds_name ,value=gds_val, vary=gds_vary, expr=gds_expr)\n",
    "        if one_par != None:\n",
    "            dgs_group.__setattr__(gds_name,one_par)\n",
    "    return dgs_group\n",
    "\n",
    "# save parameters from csv file\n",
    "# each line contains a parameter defined as follows\n",
    "##############################\n",
    "# id,name,value,expr,vary\n",
    "# 1,alpha,1e-07,,True\n",
    "# 2,ss2,0.003,,True\n",
    "# 3,ss3,0.003,ss2,False\n",
    "# 4,ssfe,0.003,,True\n",
    "##############################\n",
    "def save_gds(dgs_group, gds_file):\n",
    "    gds_params = dgs_group.__params__\n",
    "    gds_count = 1\n",
    "    gds_list = {}\n",
    "    for par in gds_params:\n",
    "        gds_list[gds_count] = {'id': gds_count,\n",
    "                               'name':par,\n",
    "                               'value':gds_params[par].value,\n",
    "                               'expr':gds_params[par].expr,\n",
    "                               'vary':gds_params[par].vary\n",
    "                              }\n",
    "        gds_count += 1\n",
    "    csvhandler.write_csv_data(gds_list,gds_file)\n",
    "    \n",
    "gds = read_gds('FeS2_gds.csv')\n",
    "#save_gds(gds, \"FeS2_gds.csv\")"
   ]
  },
  {
   "cell_type": "markdown",
   "metadata": {},
   "source": [
    "## Select Paths\n",
    "The selection of scattering paths aims at obtaining a list of paths to be used for the fit. For Larch the list must contain specially built *FeffPathGroup* objects. The creation of the path list has been separated in three stages: \n",
    "1. **Show feff paths** and allow selecting the ones to be used\n",
    "2. Show selected paths **Assing parameters** and allow assigning parameters to them\n",
    "3. **Create selected paths list** contating *FeffPathGroup* objects from larch\n",
    "\n",
    "   The goal is to obtain a list of \n",
    "The first activity requires selecting paths from the FEFF directory. These paths are stored by feff in the files.dat\n",
    "\n",
    "Each scattering path is loaded while setting the amplitude, $\\Delta E_0$, $\\Delta R$ and $\\sigma^2$ parameters using the GDS parameters defined previously.\n",
    "\n",
    "The groups are then added to a list of paths to be used for the fit."
   ]
  },
  {
   "cell_type": "markdown",
   "metadata": {},
   "source": [
    "### 1 Show all FEFF paths \n",
    "\n",
    "To select a path change the value of the select column to 1 in the table displayed after running the cell below.\n"
   ]
  },
  {
   "cell_type": "code",
   "execution_count": 6,
   "metadata": {},
   "outputs": [
    {
     "name": "stderr",
     "output_type": "stream",
     "text": [
      "[root] INFO : FeS2_feff path and FeS2_feff\\files.dat found\n",
      "[root] INFO : Reading from: FeS2_feff\\files.dat\n",
      "[root] INFO : 1: name:     Iron sulfide (pyrite)                        Feff 6L.02  potph 4.12\n",
      "[root] INFO : 2: formula:  FeS_2\n",
      "[root] INFO : 3: refer1:   Elliot (1960) J.Chem. Phys. 33(3), 903.\n",
      "[root] INFO : 4: Abs   Z=26 Rmt= 1.116 Rnm= 1.361 K shell\n",
      "[root] INFO : 5: Pot 1 Z=26 Rmt= 1.121 Rnm= 1.372\n",
      "[root] INFO : 6: Pot 2 Z=16 Rmt= 1.120 Rnm= 1.390\n",
      "[root] INFO : 7: Gam_ch=1.325E+00 H-L exch\n",
      "[root] INFO : 8: Mu=-4.281E+00 kf=2.108E+00 Vint=-2.122E+01 Rs_int= 1.720\n",
      "[root] INFO : 9: -------------------------------------------------------------------------------\n",
      "[root] INFO : headers:['file', 'sig2', 'amp_rati', 'deg', 'nlegs', 'r_effective']\n"
     ]
    },
    {
     "data": {
      "application/vnd.jupyter.widget-view+json": {
       "model_id": "6cb0cf08095d4096a062f6d711f827bd",
       "version_major": 2,
       "version_minor": 0
      },
      "text/plain": [
       "Sheet(cells=(Cell(column_end=6, column_start=0, row_end=48, row_start=0, squeeze_column=False, squeeze_row=Fal…"
      ]
     },
     "metadata": {},
     "output_type": "display_data"
    }
   ],
   "source": [
    "# regular expression matching\n",
    "import re\n",
    "# display editable spreadsheet\n",
    "import ipysheet\n",
    "# File handling\n",
    "from pathlib import Path\n",
    "#library for writing to log\n",
    "import logging\n",
    "\n",
    "# show the paths stored in path files in the FEFF directory.\n",
    "# These paths are stored by feff in the files.dat file\n",
    "def show_feff_paths(var = \"FeS2.inp\"):\n",
    "    crystal_f = Path(var)\n",
    "    feff_dir = crystal_f.name[:-4]+\"_feff\"\n",
    "    feff_inp = crystal_f.name[:-4]+\"_feff.inp\"\n",
    "    feff_files = \"files.dat\"\n",
    "    input_file = Path(feff_dir, feff_files)\n",
    "    #check if feff dir exists\n",
    "    if input_file.parent.exists() and input_file.exists():\n",
    "        logging.info(str(input_file.parent) + \" path and \"+ str(input_file)+ \" found\")\n",
    "    else:\n",
    "        logging.info(str(input_file.parent) + \" path not found, run feff before running select paths\")\n",
    "        return False\n",
    "    count = 0\n",
    "    # the .dat data is stored in fixed width strings \n",
    "    field_widths = [[0,13],[14,21],[22,31],[32,41],[42,48],[49,61]]\n",
    "    is_meta = True\n",
    "    data_headers = []\n",
    "    path_count = 0\n",
    "    paths_data = []\n",
    "    logging.info(\"Reading from: \"+ str(input_file))\n",
    "    with open(input_file) as datfile:\n",
    "        dat_lines = datfile.readlines()\n",
    "        for a_line in dat_lines:\n",
    "            count += 1\n",
    "            if re.match('-*', a_line.strip()).group(0)!= '':\n",
    "                is_meta = False\n",
    "                logging.info(\"{}: {}\".format(count, a_line.strip()))\n",
    "            elif is_meta:\n",
    "                logging.info(\"{}: {}\".format(count, a_line.strip()))\n",
    "            elif data_headers == []:\n",
    "                data_headers = [a_line[s:e].strip().replace(' ','_') for s,e in field_widths]\n",
    "                logging.info(\"headers:\"+ str(data_headers))\n",
    "                data_headers.append('select')\n",
    "                paths_data.append(data_headers)\n",
    "            else:\n",
    "                path_count += 1\n",
    "                data_values = [a_line[s:e].strip() for s,e in field_widths]\n",
    "                data_values.append(0)\n",
    "                data_values[0] = feff_dir+\"/\"+data_values[0]\n",
    "                paths_data.append(data_values)\n",
    "    # use data to populate spreadsheet\n",
    "    \n",
    "    path_sheet = ipysheet.sheet(rows=path_count+1, columns=7)\n",
    "    ipysheet.cell_range(paths_data)\n",
    "    return path_sheet\n",
    "\n",
    "path_sheet = show_feff_paths('FeS2.inp')\n",
    "display(path_sheet)\n"
   ]
  },
  {
   "cell_type": "markdown",
   "metadata": {},
   "source": [
    "### 2 Assing parameters to paths\n",
    "To define the parameters enter values like those presented in the table below into the spreadsheet that appears after running the code in the following cell. The values should correspond to those defined as GDS parameters previously.\n",
    "\n",
    "|file                  |label | s02 |e0   |sigma2 |deltar      |\n",
    "|----------------------|------|-----|-----|-------|------------|\n",
    "|FeS2_feff/feff0001.dat|S1    |amp  |enot |ss     |alpha\\*reff |\n",
    "|FeS2_feff/feff0002.dat|S2    |amp  |enot |ss2    |alpha\\*reff |\n",
    "|FeS2_feff/feff0003.dat|S3    |amp  |enot |ss3    |alpha\\*reff |\n",
    "|FeS2_feff/feff0004.dat|Fe    |amp  |enot |ssfe   |alpha\\*reff |\n",
    "\n",
    "\n",
    "**Note:** Labelling is used for reference only using Artemis-FEFF given names. Larch's FEFF does not label paths."
   ]
  },
  {
   "cell_type": "code",
   "execution_count": 7,
   "metadata": {},
   "outputs": [
    {
     "data": {
      "application/vnd.jupyter.widget-view+json": {
       "model_id": "ea6c5ddbf7914098bff62b65c038ac29",
       "version_major": 2,
       "version_minor": 0
      },
      "text/plain": [
       "Sheet(cells=(Cell(column_end=5, column_start=0, row_end=4, row_start=0, squeeze_column=False, squeeze_row=Fals…"
      ]
     },
     "metadata": {},
     "output_type": "display_data"
    }
   ],
   "source": [
    "def show_selected_paths(pats_sheet):\n",
    "    df_sheet = ipysheet.to_dataframe(pats_sheet)\n",
    "    files = []\n",
    "    for f_name, selected in zip(df_sheet[\"A\"], df_sheet[\"G\"]):\n",
    "        if selected == '1':\n",
    "            files.append(f_name)    \n",
    "\n",
    "    sel_paths_data = [[0 for col in range(6)] for row in range(4)]\n",
    "    sel_paths_data[:0]=[['file','label','s02','e0','sigma2','deltar']]\n",
    "    ps_row = 1\n",
    "    for a_name in files:\n",
    "        sel_paths_data[ps_row][0] = a_name\n",
    "        ps_row += 1\n",
    "\n",
    "    sp_sheet = ipysheet.sheet(rows=len(files)+1, columns=6)\n",
    "    ipysheet.cell_range(sel_paths_data)\n",
    "    display(sp_sheet)\n",
    "    return sp_sheet\n",
    "sp_sheet = show_selected_paths(path_sheet)\n"
   ]
  },
  {
   "cell_type": "code",
   "execution_count": 8,
   "metadata": {},
   "outputs": [
    {
     "name": "stdout",
     "output_type": "stream",
     "text": [
      "{1: {'id': 1, 'filename': 'FeS2_feff/feff0001.dat', 'label': 'S1', 's02': 'amp', 'e0': 'enot', 'sigma2': 'ss', 'deltar': 'alpha*reff'}, 2: {'id': 2, 'filename': 'FeS2_feff/feff0002.dat', 'label': 'S2', 's02': 'amp', 'e0': 'enot', 'sigma2': 'ss2', 'deltar': 'alpha*reff'}, 3: {'id': 3, 'filename': 'FeS2_feff/feff0003.dat', 'label': 'S3', 's02': 'amp', 'e0': 'enot', 'sigma2': 'ss3', 'deltar': 'alpha*reff'}, 4: {'id': 4, 'filename': 'FeS2_feff/feff0004.dat', 'label': 'Fe', 's02': 'amp', 'e0': 'enot', 'sigma2': 'ssfe', 'deltar': 'alpha*reff'}}\n"
     ]
    }
   ],
   "source": [
    "# library containign functions that read and write to csv files\n",
    "import lib.handle_csv as csvhandler\n",
    "\n",
    "# use data frame to create selected paths list\n",
    "def build_selected_paths_list(sp_sheet):\n",
    "    df_sheet = ipysheet.to_dataframe(sp_sheet).transpose()\n",
    "    sp_list = []\n",
    "    for col in df_sheet:\n",
    "        if df_sheet[col][0] != 'file':\n",
    "            new_path = lp.xafs.FeffPathGroup(filename = df_sheet[col][0],\n",
    "                                             label    = df_sheet[col][1],\n",
    "                                             s02      = df_sheet[col][2],\n",
    "                                             e0       = df_sheet[col][3],\n",
    "                                             sigma2   = df_sheet[col][4],\n",
    "                                             deltar   = df_sheet[col][5],\n",
    "                                             _larch   = session)\n",
    "            sp_list.append(new_path)\n",
    "    return sp_list\n",
    "\n",
    "def save_selected_paths_list(sp_sheet, f_prefix = \"FeS2\"):\n",
    "    # it is easier to transpose as dataframes main objects are columns\n",
    "    df_sheet = ipysheet.to_dataframe(sp_sheet).transpose()\n",
    "    sp_list = {}\n",
    "    path_count = 1\n",
    "    for col in df_sheet:\n",
    "        if df_sheet[col][0] != 'file':\n",
    "            sp_list[path_count] = {'id': path_count,\n",
    "                                   'filename':df_sheet[col][0],\n",
    "                                   'label':df_sheet[col][1],\n",
    "                                   's02':df_sheet[col][2],\n",
    "                                   'e0':df_sheet[col][3],\n",
    "                                   'sigma2':df_sheet[col][4],\n",
    "                                   'deltar':df_sheet[col][5]}\n",
    "            path_count += 1\n",
    "    print(sp_list)\n",
    "    file_name = f_prefix+\"_sp.csv\"\n",
    "    csvhandler.write_csv_data(sp_list,file_name)\n",
    "    \n",
    "f_prefix = \"FeS2\"\n",
    "selected_paths = build_selected_paths_list(sp_sheet)\n",
    "save_selected_paths_list(sp_sheet)"
   ]
  },
  {
   "cell_type": "code",
   "execution_count": 10,
   "metadata": {},
   "outputs": [
    {
     "data": {
      "text/plain": [
       "[<FeffPath Group FeS2_feff/feff0001.dat>,\n",
       " <FeffPath Group FeS2_feff/feff0002.dat>,\n",
       " <FeffPath Group FeS2_feff/feff0003.dat>,\n",
       " <FeffPath Group FeS2_feff/feff0004.dat>]"
      ]
     },
     "execution_count": 10,
     "metadata": {},
     "output_type": "execute_result"
    }
   ],
   "source": [
    "selected_paths"
   ]
  },
  {
   "cell_type": "markdown",
   "metadata": {},
   "source": [
    "## Run Fit\n",
    "\n",
    "XAS fitting is performed in three steps:\n",
    "1. Create a Transform group to holds the set of Fourier transform parameters, fitting ranges, and space in which the data and sum of paths are to be compared (R space)\n",
    "2. Create a Dataset group,consistaining of the three components required for fitting(data, paths, and transform group)\n",
    "3. FEFFIT is run with the list of parameters (gds) for the fit, and the dataset or list of datasets groups.\n"
   ]
  },
  {
   "cell_type": "code",
   "execution_count": 11,
   "metadata": {},
   "outputs": [],
   "source": [
    "# run fit\n",
    "# create the transform grup (prepare the fit space).\n",
    "trans = lp.xafs.TransformGroup(fitspace='r', kmin=3, kmax=14, kw=2, dk=1, window='hanning', rmin=1.4,\n",
    "                               rmax=3.0, _larch=session)\n",
    "\n",
    "dset = lp.xafs.FeffitDataSet(data=data_group, pathlist=selected_paths, transform=trans, _larch=session)\n",
    "\n",
    "out = lp.xafs.feffit(gds, dset, _larch=session)"
   ]
  },
  {
   "cell_type": "markdown",
   "metadata": {},
   "source": [
    "## Review fit results\n",
    "The results of the fit are stored in the dataset. These can be plotted and printed as follows."
   ]
  },
  {
   "cell_type": "code",
   "execution_count": 12,
   "metadata": {
    "scrolled": true
   },
   "outputs": [
    {
     "data": {
      "image/png": "[encoded data removed]",
      "text/plain": [
       "<Figure size 432x288 with 1 Axes>"
      ]
     },
     "metadata": {
      "needs_background": "light"
     },
     "output_type": "display_data"
    }
   ],
   "source": [
    "fig = plt.figure()\n",
    "plt.plot(dset.data.r, dset.data.chir_mag, color='b')\n",
    "plt.plot(dset.data.r, dset.data.chir_re, color='b', label='expt.')\n",
    "plt.plot(dset.model.r, dset.model.chir_mag, color='r')\n",
    "plt.plot(dset.model.r, dset.model.chir_re, color='r', label='fit')\n",
    "plt.ylabel(\"Magnitude of Fourier Transform of $k^2 \\cdot \\chi$/$\\mathrm{\\AA}^{-3}$\")\n",
    "plt.xlabel(\"Radial distance/$\\mathrm{\\AA}$\")\n",
    "plt.xlim(0, 5)\n",
    "\n",
    "plt.fill([1.4, 1.4, 3.0, 3.0],[-3, 3, 3, -3], color='g',alpha=0.1)\n",
    "plt.text(2.35, -2.5, 'fit range')\n",
    "plt.legend()\n",
    "plt.show()"
   ]
  },
  {
   "cell_type": "code",
   "execution_count": 13,
   "metadata": {},
   "outputs": [
    {
     "data": {
      "image/png": "[encoded data removed]",
      "text/plain": [
       "<Figure size 1152x288 with 2 Axes>"
      ]
     },
     "metadata": {
      "needs_background": "light"
     },
     "output_type": "display_data"
    }
   ],
   "source": [
    "fig = plt.figure(figsize=(16, 4))\n",
    "ax1 = fig.add_subplot(121)\n",
    "ax2 = fig.add_subplot(122)\n",
    "# Creating the chifit plot from scratch\n",
    "#from larch.wxlib.xafsplots import plot_chifit\n",
    "#plot_chifit(dset, _larch=session)\n",
    "ax1.plot(dset.data.k, dset.data.chi*dset.data.k**2, color='b', label='expt.')\n",
    "ax1.plot(dset.model.k, dset.model.chi*dset.data.k**2 , color='r', label='fit')\n",
    "ax1.set_xlim(0, 15)\n",
    "ax1.set_xlabel(\"$k (\\mathrm{\\AA})^{-1}$\")\n",
    "ax1.set_ylabel(\"$k^2$ $\\chi (k)(\\mathrm{\\AA})^{-2}$\")\n",
    "ax1.fill([3.0, 3.0, 14.0, 14.0],[-3, 3, 3, -3], color='g',alpha=0.1)\n",
    "ax1.text(12.35, -2.5, 'fit range')\n",
    "ax1.legend()\n",
    "\n",
    "ax2.plot(dset.data.r, dset.data.chir_mag, color='b', label='expt.')\n",
    "ax2.plot(dset.model.r, dset.model.chir_mag, color='r', label='fit')\n",
    "ax2.set_xlim(0, 5)\n",
    "ax2.set_xlabel(\"$R(\\mathrm{\\AA})$\")\n",
    "ax2.set_ylabel(\"$|\\chi(R)|(\\mathrm{\\AA}^{-3})$\")\n",
    "ax2.legend(loc='upper right')\n",
    "ax2.fill([1.4, 1.4, 3.0, 3.0],[0, 3, 3, 0], color='g',alpha=0.1)\n",
    "ax2.text(2.35, 2.75, 'fit range')\n",
    "plt.show()\n",
    " "
   ]
  },
  {
   "cell_type": "code",
   "execution_count": 14,
   "metadata": {},
   "outputs": [
    {
     "name": "stdout",
     "output_type": "stream",
     "text": [
      "=================== FEFFIT RESULTS ====================\n",
      "[[Statistics]]\n",
      "   nvarys, npts       =  6, 104\n",
      "   n_independent      =  12.205\n",
      "   chi_square         =  371.295644\n",
      "   reduced chi_square =  59.8428826\n",
      "   r-factor           =  0.00290187\n",
      "   Akaike info crit   =  53.6807532\n",
      "   Bayesian info crit =  56.6915855\n",
      " \n",
      "[[Data]]\n",
      "   fit space          = 'r'\n",
      "   r-range            = 1.400, 3.000\n",
      "   k-range            = 3.000, 14.000\n",
      "   k window, dk       = 'hanning', 1.000\n",
      "   paths used in fit  = ['FeS2_feff/feff0001.dat', 'FeS2_feff/feff0002.dat', 'FeS2_feff/feff0003.dat', 'FeS2_feff/feff0004.dat']\n",
      "   k-weight           = 2\n",
      "   epsilon_k          = Array(mean=5.0753e-04, std=4.5904e-04)\n",
      "   epsilon_r          = 0.01049725\n",
      "   n_independent      = 12.205\n",
      " \n",
      "[[Variables]]\n",
      "   alpha          = -1.3926e-04 +/- 0.00139805   (init=  1.0000e-07)\n",
      "   amp            =  0.74646922 +/- 0.03128915   (init=  1.00000000)\n",
      "   enot           =  2.53728893 +/- 0.53436366   (init=  1.0000e-07)\n",
      "   ss             =  0.00318572 +/- 3.6097e-04   (init=  0.00300000)\n",
      "   ss2            =  0.00704834 +/- 0.00197888   (init=  0.00300000)\n",
      "   ss3            =  0.00704834 +/- 0.00197888  = 'ss2'\n",
      "   ssfe           =  0.00326331 +/- 0.00203773   (init=  0.00300000)\n",
      " \n",
      "[[Correlations]]    (unreported correlations are <  0.100)\n",
      "   alpha, enot          =  0.868\n",
      "   amp, ss              =  0.845\n",
      "   amp, ss2             =  0.423\n",
      "   ss, ss2              =  0.373\n",
      "   enot, ss2            = -0.269\n",
      "   ss2, ssfe            = -0.241\n",
      "   alpha, ss2           = -0.219\n",
      "   ss, ssfe             = -0.144\n",
      "   amp, enot            = -0.123\n",
      " \n",
      "[[Paths]]\n",
      "   Path S1, Feff.dat file = FeS2_feff/feff0001.dat\n",
      "     atom      x        y        z       ipot\n",
      "      Fe       0.0000,  0.0000,  0.0000  0 (absorber)\n",
      "       S      -0.6269,  0.6269,  2.0751  2\n",
      "     reff   =  2.25660000\n",
      "     degen  =  6.00000000\n",
      "     n*s02  =  0.74646922 +/- 0.03128915  'amp'\n",
      "     e0     =  2.53728893 +/- 0.53436366  'enot'\n",
      "     r      =  2.25628576 +/- 0.00534222  'reff + alpha*reff'\n",
      "     deltar = -3.1424e-04 +/- 0.00534222  'alpha*reff'\n",
      "     sigma2 =  0.00318572 +/- 3.6097e-04  'ss'\n",
      "\n",
      "   Path S2, Feff.dat file = FeS2_feff/feff0002.dat\n",
      "     atom      x        y        z       ipot\n",
      "      Fe       0.0000,  0.0000,  0.0000  0 (absorber)\n",
      "       S       0.6269,  3.3289,  0.6269  2\n",
      "     reff   =  3.44490000\n",
      "     degen  =  6.00000000\n",
      "     n*s02  =  0.74646922 +/- 0.03128915  'amp'\n",
      "     e0     =  2.53728893 +/- 0.53436366  'enot'\n",
      "     r      =  3.44442028 +/- 0.00534222  'reff + alpha*reff'\n",
      "     deltar = -4.7972e-04 +/- 0.00534222  'alpha*reff'\n",
      "     sigma2 =  0.00704834 +/- 0.00197888  'ss2'\n",
      "\n",
      "   Path S3, Feff.dat file = FeS2_feff/feff0003.dat\n",
      "     atom      x        y        z       ipot\n",
      "      Fe       0.0000,  0.0000,  0.0000  0 (absorber)\n",
      "       S      -2.0751, -2.0751,  2.0751  2\n",
      "     reff   =  3.59420000\n",
      "     degen  =  2.00000000\n",
      "     n*s02  =  0.74646922 +/- 0.03128915  'amp'\n",
      "     e0     =  2.53728893 +/- 0.53436366  'enot'\n",
      "     r      =  3.59369949 +/- 0.00534222  'reff + alpha*reff'\n",
      "     deltar = -5.0051e-04 +/- 0.00534222  'alpha*reff'\n",
      "     sigma2 =  0.00704834  'ss3'\n",
      "\n",
      "   Path Fe, Feff.dat file = FeS2_feff/feff0004.dat\n",
      "     atom      x        y        z       ipot\n",
      "      Fe       0.0000,  0.0000,  0.0000  0 (absorber)\n",
      "      Fe       0.0000, -2.7020, -2.7020  1\n",
      "     reff   =  3.82120000\n",
      "     degen  =  12.0000000\n",
      "     n*s02  =  0.74646922 +/- 0.03128915  'amp'\n",
      "     e0     =  2.53728893 +/- 0.53436366  'enot'\n",
      "     r      =  3.82066788 +/- 0.00534222  'reff + alpha*reff'\n",
      "     deltar = -5.3212e-04 +/- 0.00534222  'alpha*reff'\n",
      "     sigma2 =  0.00326331 +/- 0.00203773  'ssfe'\n",
      "\n",
      "=======================================================\n"
     ]
    }
   ],
   "source": [
    "print(lp.xafs.feffit_report(out, _larch=session))"
   ]
  },
  {
   "cell_type": "code",
   "execution_count": null,
   "metadata": {},
   "outputs": [],
   "source": []
  }
 ],
 "metadata": {
  "kernelspec": {
   "display_name": "Python 3",
   "language": "python",
   "name": "python3"
  },
  "language_info": {
   "codemirror_mode": {
    "name": "ipython",
    "version": 3
   },
   "file_extension": ".py",
   "mimetype": "text/x-python",
   "name": "python",
   "nbconvert_exporter": "python",
   "pygments_lexer": "ipython3",
   "version": "3.6.10"
  }
 },
 "nbformat": 4,
 "nbformat_minor": 4
}
