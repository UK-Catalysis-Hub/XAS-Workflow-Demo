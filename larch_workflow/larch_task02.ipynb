{
 "cells": [
  {
   "cell_type": "markdown",
   "metadata": {},
   "source": [
    "# XAS Workflow Task 2\n",
    "\n",
    "This notebook contains the second task of the XAS processing workflow. \n",
    "\n",
    "The break up of the task consist of the following steps \n",
    "\n",
    "|Task                            | Input                                         | Output\n",
    "|-------------                   |-------------                                  |-----  \n",
    "| Curve fitting||\n",
    "| 1. Import data                |File: FeS2_larch.prj                              |\n",
    "| 2. Import Crystal data        |File: FeS2.inp                                 |\n",
    "| 3. Calculate Paths(Atoms+FEFF)||\n",
    "| 4. Set path parameters        | Parameters:                                   |\n",
    "|                                 |    amp  = 1                                   |\n",
    "|                                 |    enot = 0                                   |\n",
    "|                                 |    delr = 0                                   |\n",
    "|                                 |    ss   = 0.003                               |\n",
    "| 5. Select paths                 |                                               |\n",
    "| 6. Run Fit                    |                                               |\n",
    "| 7. Save project               ||\n",
    "| 8. Verify fit results         ||\n",
    "| 8.1 If not OK revise parameners and refit (go to 2.4)||\n",
    "| 8.2 If OK Save project and outputs|                                           |File: FeS2_01.fpj\n",
    "\n",
    "For more details about larch, see https://xraypy.github.io/xraylarch/xafs/\n"
   ]
  },
  {
   "cell_type": "markdown",
   "metadata": {},
   "source": [
    "## Workflow Setup\n",
    "The workflow setuo requires specifying the libraries containing the functions to be used and defining the inputs to use\n",
    "### Libraries\n",
    "The first step requires importing the required libraries to perform the workflow tasks\n",
    "- Manage Athena Files\n",
    "- Run Atoms and FEFF\n",
    "- Fit preparation and execution"
   ]
  },
  {
   "cell_type": "code",
   "execution_count": null,
   "metadata": {},
   "outputs": [],
   "source": [
    "# Library with the functions that handle athena files\n",
    "import lib.manage_athena as athenamgr  \n",
    "\n",
    "# Library with the functions that execute \n",
    "# Atoms and FEFF to generate scattering paths\n",
    "import lib.atoms_feff as feff_runner     \n",
    "\n",
    "# Set parameters          \n",
    "# library containign functions tho manage fit, at read, write \n",
    "# GDS parameters, and scattering paths. \n",
    "import lib.manage_fit as fit_manager  \n",
    "\n",
    "from larch import Interpreter\n",
    "\n",
    "session = Interpreter()\n",
    "\n",
    "# Additional setup\n",
    "# direct plotting to the results after running the cells\n",
    "%matplotlib inline"
   ]
  },
  {
   "cell_type": "markdown",
   "metadata": {},
   "source": [
    "### Inputs\n",
    "The second step requires defining the input data to be used. in this case the athena and cif files to be used. The variables can be changed to process different datasets."
   ]
  },
  {
   "cell_type": "code",
   "execution_count": null,
   "metadata": {},
   "outputs": [],
   "source": [
    "# variables that can be changed to process different datasets\n",
    "# define the name of the input file\n",
    "athena_file = 'FeS2_larch.prj'#\"rh4co40/rh4co40000000.prj\" #\n",
    "\n",
    "# provide the input files as a list so more than one \n",
    "# crystal file can be used in fitting\n",
    "crystal_files = [\"FeS2.inp\"]# [\"..\\\\cif_files\\\\C12O12Rh4.cif\"]## or [\"FeS2.inp\",\"FeS.inp\"]\n",
    "\n",
    "show_graph = True # False to prevent showing graphs\n",
    "\n",
    "# GSD parameters and scattering paths are saved to csv files.\n",
    "# provide the name of the gds file\n",
    "gds_file = 'FeS2_gds.csv'\n",
    "spl_file = 'FeS2_sp.csv'\n",
    "# variables for fit\n",
    "fit_vars = {}\n",
    "fit_vars['fitspace']='r'\n",
    "fit_vars['kmin']=3 \n",
    "fit_vars['kmax']=14\n",
    "fit_vars['kw']=2 \n",
    "fit_vars['dk']=1\n",
    "fit_vars['window']='hanning'\n",
    "fit_vars['rmin']=1.4\n",
    "fit_vars['rmax']=3.0"
   ]
  },
  {
   "cell_type": "code",
   "execution_count": null,
   "metadata": {
    "scrolled": false
   },
   "outputs": [],
   "source": [
    "# read the input file \n",
    "athena_prj = athenamgr.read_project(athena_file)\n",
    "\n",
    "athena_groups = athenamgr.get_groups(athena_prj)\n",
    "\n",
    "group_names = []\n",
    "for a_group in athena_groups:\n",
    "    group_names.append(a_group.label)\n",
    "    \n",
    "group_names\n",
    "\n",
    "# recalculate norm, background removal and fourier transform \n",
    "# with defaults\n",
    "data_group = athenamgr.calc_with_defaults(athena_groups[0])"
   ]
  },
  {
   "cell_type": "code",
   "execution_count": null,
   "metadata": {
    "scrolled": false
   },
   "outputs": [],
   "source": [
    "# plot normalised mu on energy\n",
    "# plot mu vs flat normalised mu for selected groups\n",
    "for a_group in athena_groups:\n",
    "    athenamgr.plot_normalised(a_group)\n"
   ]
  },
  {
   "cell_type": "markdown",
   "metadata": {},
   "source": [
    "## Atoms and FEFF \n",
    "\n",
    "Larch does larch does not include a means for running atoms. Atoms is needed to get input for feff and calculate paths. Currently, the fastest option is to run Artemis to obtain the input (.inp) file for feff from a crystal file ('.cif' or '.inp')\n",
    "\n",
    "The code below shows how subprocess can be used to call perl, execute a small perl script that runs Artemis Atoms, and saves the output file ('inp') in a new directory.\n",
    "\n",
    "The file can then be used to run FEFF from Larch to calculate scattering paths."
   ]
  },
  {
   "cell_type": "code",
   "execution_count": null,
   "metadata": {
    "scrolled": true
   },
   "outputs": [],
   "source": [
    "# run feff and get a list of feff dirs\n",
    "feff_dirs = feff_runner.run_feff(crystal_files)"
   ]
  },
  {
   "cell_type": "markdown",
   "metadata": {},
   "source": [
    "## Set Parameters\n",
    "The code for managing the parameters group (GDS in Artemis) is stored in lib/manage_gds.py. \n",
    "\n",
    "The following two cells show how the functions of manage_gds.py are used to read GDS parameters from a file, display the parameters and save them after they have been modified\n",
    "\n",
    "The parameter values are the same used in [Bruce Ravel's example](https://github.com/bruceravel/demeter/tree/master/examples/recipes/FeS2)."
   ]
  },
  {
   "cell_type": "code",
   "execution_count": null,
   "metadata": {},
   "outputs": [],
   "source": [
    "# read save parameters from input gds file\n",
    "gds = fit_manager.read_gds(gds_file, session)\n",
    "# show gsd group parameters in a spreadsheet\n",
    "this_sheet = fit_manager.show_gds(gds)\n",
    "# save gsd group parameters in a csv file\n",
    "fit_manager.save_gds(gds, gds_file)"
   ]
  },
  {
   "cell_type": "code",
   "execution_count": null,
   "metadata": {},
   "outputs": [],
   "source": [
    "#read the gds data and save it to the csv file\n",
    "gds = fit_manager.spreadsheet_to_gds(this_sheet, session)\n",
    "# save gsd group parameters in a csv file\n",
    "fit_manager.save_gds(gds, gds_file)"
   ]
  },
  {
   "cell_type": "markdown",
   "metadata": {},
   "source": [
    "## Select Paths\n",
    "The selection of scattering paths aims at obtaining a list of paths to be used for the fit. For Larch the list must contain specially built *FeffPathGroup* objects. The creation of the path list has been separated in three stages: \n",
    "1. **Show feff paths** and allow selecting the ones to be used\n",
    "2. Show selected paths **Assing parameters** and allow assigning parameters to them\n",
    "3. **Create selected paths list** contating *FeffPathGroup* objects from larch\n",
    "\n",
    "   The goal is to obtain a list of \n",
    "The first activity requires selecting paths from the FEFF directory. These paths are stored by feff in the files.dat\n",
    "\n",
    "Each scattering path is loaded while setting the amplitude, $\\Delta E_0$, $\\Delta R$ and $\\sigma^2$ parameters using the GDS parameters defined previously.\n",
    "\n",
    "The groups are then added to a list of paths to be used for the fit."
   ]
  },
  {
   "cell_type": "markdown",
   "metadata": {},
   "source": [
    "### 1 Show all FEFF paths \n",
    "\n",
    "To select a path change the value of the select column to 1 in the table displayed after running the cell below.\n"
   ]
  },
  {
   "cell_type": "code",
   "execution_count": null,
   "metadata": {
    "scrolled": true
   },
   "outputs": [],
   "source": [
    "path_sheet = fit_manager.show_feff_paths(crystal_files[0])#('FeS2.inp')\n",
    "display(path_sheet)"
   ]
  },
  {
   "cell_type": "markdown",
   "metadata": {},
   "source": [
    "### 2 Assing parameters to paths\n",
    "To define the parameters enter values like those presented in the table below into the spreadsheet that appears after running the code in the following cell. The values should correspond to those defined as GDS parameters previously.\n",
    "\n",
    "|file                  |label | s02 |e0   |sigma2 |deltar      |\n",
    "|----------------------|------|-----|-----|-------|------------|\n",
    "|FeS2_feff/feff0001.dat|S1    |amp  |enot |ss     |alpha\\*reff |\n",
    "|FeS2_feff/feff0002.dat|S2    |amp  |enot |ss2    |alpha\\*reff |\n",
    "|FeS2_feff/feff0003.dat|S3    |amp  |enot |ss3    |alpha\\*reff |\n",
    "|FeS2_feff/feff0004.dat|Fe    |amp  |enot |ssfe   |alpha\\*reff |\n",
    "\n",
    "\n",
    "**Note:** Labelling is used for reference only using Artemis-FEFF given names. Larch's FEFF does not label paths."
   ]
  },
  {
   "cell_type": "code",
   "execution_count": null,
   "metadata": {},
   "outputs": [],
   "source": [
    "sp_sheet = fit_manager.show_selected_paths(path_sheet)"
   ]
  },
  {
   "cell_type": "code",
   "execution_count": null,
   "metadata": {},
   "outputs": [],
   "source": [
    "#selected_paths = fit_manager.build_selected_paths_list(sp_sheet, session)\n",
    "#fit_manager.save_selected_paths_list(sp_sheet, spl_file)\n",
    "selected_paths = fit_manager.read_selected_paths_list(spl_file, session)\n"
   ]
  },
  {
   "cell_type": "markdown",
   "metadata": {},
   "source": [
    "## Run Fit\n",
    "\n",
    "XAS fitting is performed in three steps:\n",
    "1. Create a Transform group to hold the set of Fourier transform parameters, fitting ranges, and space in which the data and sum of paths are to be compared (R space)\n",
    "2. Create a Dataset group,consistaining of the three components required for fitting(data, paths, and transform group)\n",
    "3. FEFFIT is run with the list of parameters (gds) for the fit, and the dataset or list of datasets groups.\n"
   ]
  },
  {
   "cell_type": "code",
   "execution_count": null,
   "metadata": {},
   "outputs": [],
   "source": [
    "# run fit\n",
    "trans, dset, out = fit_manager.run_fit(data_group, gds, selected_paths, fit_vars, session)"
   ]
  },
  {
   "cell_type": "markdown",
   "metadata": {},
   "source": [
    "## Review fit results\n",
    "The results of the fit are stored in the dataset. These can be plotted and printed as follows.\n",
    "\n",
    "- The first view is the overlaped $\\chi(k)$ and $\\chi(R)$ plots (similar to Demeter's Rmr plot)\n",
    "- The second view presents separate $\\chi(k)$ and $\\chi(R)$ plots "
   ]
  },
  {
   "cell_type": "code",
   "execution_count": null,
   "metadata": {
    "scrolled": false
   },
   "outputs": [],
   "source": [
    "rmr_p = fit_manager.plot_rmr(dset,fit_vars['rmin'],fit_vars['rmax'])\n",
    "rmr_p.show()\n",
    "#print(vars(dset.data.fft_params))\n",
    "#print(vars(dset.data.bkg_params))\n",
    "#print(vars(dset.data.athena_params))\n",
    "#print(vars(dset.model))"
   ]
  },
  {
   "cell_type": "code",
   "execution_count": null,
   "metadata": {},
   "outputs": [],
   "source": [
    "chikr_p = fit_manager.plot_chikr(dset,fit_vars['rmin'],fit_vars['rmax'],fit_vars['kmin'],fit_vars['kmax'])\n",
    "chikr_p.show()"
   ]
  },
  {
   "cell_type": "code",
   "execution_count": null,
   "metadata": {
    "scrolled": true
   },
   "outputs": [],
   "source": [
    "fit_report = fit_manager.get_fit_report(out, session)\n",
    "\n",
    "print(fit_report)\n",
    "\n",
    "#save the fit report to a text file\n",
    "fit_manager.save_fit_report(out, \"r4co40_fit_rep.txt\", session)\n"
   ]
  },
  {
   "cell_type": "code",
   "execution_count": null,
   "metadata": {},
   "outputs": [],
   "source": []
  },
  {
   "cell_type": "code",
   "execution_count": null,
   "metadata": {},
   "outputs": [],
   "source": []
  }
 ],
 "metadata": {
  "kernelspec": {
   "display_name": "Python 3 (ipykernel)",
   "language": "python",
   "name": "python3"
  },
  "language_info": {
   "codemirror_mode": {
    "name": "ipython",
    "version": 3
   },
   "file_extension": ".py",
   "mimetype": "text/x-python",
   "name": "python",
   "nbconvert_exporter": "python",
   "pygments_lexer": "ipython3",
   "version": "3.9.2rc1"
  }
 },
 "nbformat": 4,
 "nbformat_minor": 4
}
