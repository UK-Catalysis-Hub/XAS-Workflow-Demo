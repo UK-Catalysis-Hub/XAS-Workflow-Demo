{
 "cells": [
  {
   "cell_type": "markdown",
   "metadata": {},
   "source": [
    "# XAS Workflow Task 2\n",
    "\n",
    "This notebook contains the second task of the XAS processing workflow. \n",
    "\n",
    "The break up of the task consist of the following steps \n",
    "\n",
    "|Task                            | Input                                         | Output\n",
    "|-------------                   |-------------                                  |-----  \n",
    "| Curve fitting||\n",
    "| 1. Import data                |File: FeS2_larch.prj                              |\n",
    "| 2. Import Crystal data        |File: FeS2.inp                                 |\n",
    "| 3. Calculate Paths(Atoms+FEFF)||\n",
    "| 4. Set path parameters        | Parameters:                                   |\n",
    "|                                 |    amp  = 1                                   |\n",
    "|                                 |    enot = 0                                   |\n",
    "|                                 |    delr = 0                                   |\n",
    "|                                 |    ss   = 0.003                               |\n",
    "| 5. Run Fit                    |                                               |\n",
    "| 6. Save project               ||\n",
    "| 7. Verify fit results         ||\n",
    "| 7.1 If not OK revise parameners and refit (go to 2.4)||\n",
    "| 7.2 If OK Save project and outputs|                                           |File: FeS2_01.fpj\n",
    "\n",
    "For more details about larch, see https://xraypy.github.io/xraylarch/xafs/\n"
   ]
  },
  {
   "cell_type": "code",
   "execution_count": 1,
   "metadata": {},
   "outputs": [],
   "source": [
    "# managing athena files\n",
    "from larch.io import create_athena, read_athena, extract_athenagroup\n",
    "\n",
    "project_name = 'FeS2_larch.prj'\n",
    "\n",
    "\n",
    "fes2_prj = read_athena(project_name)\n",
    "\n",
    "group_keys = list(fes2_prj._athena_groups.keys())\n",
    "\n",
    "group_names = {}\n",
    "\n",
    "for group_key in group_keys:\n",
    "    group_names[group_key] = group_key"
   ]
  },
  {
   "cell_type": "code",
   "execution_count": 10,
   "metadata": {
    "scrolled": false
   },
   "outputs": [
    {
     "name": "stdout",
     "output_type": "stream",
     "text": [
      "{'__name__': '0x1210be30', 'algorithm': 'autobk', 'cl': 0.0, 'clamp1': 0.0, 'clamp2': 24.0, 'delta_eshift': 0.0, 'dk': 1.0, 'e0': 7117.0, 'e0_fraction': 0.5, 'eshift': 0.0, 'fitted_step': 0.7269848206913032, 'fixstep': 0.0, 'flatten': 1.0, 'former_e0': 0.0, 'funnorm': 0.0, 'int': 7.0, 'kw': 1.0, 'kwindow': 'hanning', 'nc0': 0.0, 'nc1': 0.0, 'nc2': 0.0, 'nc3': 0.0, 'nclamp': 5.0, 'nnorm': 2.0, 'nor1': 285.0, 'nor2': 850.0, 'pre1': -117.0, 'pre2': -30.0, 'rbkg': 1.0, 'slope': 0.0, 'spl1': 0.0, 'spl1e': 0.0, 'spl2': 14.9562, 'spl2e': 852.247, 'stan': 'None', 'step': 0.7269848206913032, 'tie_e0': 0.0, 'z': 'Fe'}\n",
      "-117.0\n"
     ]
    },
    {
     "data": {
      "image/png": "[encoded data removed]",
      "text/plain": [
       "<Figure size 432x288 with 1 Axes>"
      ]
     },
     "metadata": {
      "needs_background": "light"
     },
     "output_type": "display_data"
    }
   ],
   "source": [
    "# required larch modules\n",
    "# calculate pre-edge and post edge for normalisation\n",
    "from larch.xafs import pre_edge\n",
    "# perform background removal\n",
    "from larch.xafs import autobk\n",
    "# calculate fourier transform\n",
    "from larch.xafs import xftf\n",
    "\n",
    "%matplotlib inline\n",
    "import matplotlib.pyplot as plt\n",
    "\n",
    " #######################################################\n",
    "# |         Athena recalculates everything so we      | #\n",
    "# |      need to create a function that calculates    | #\n",
    "# V               all for each new group              V #\n",
    " #######################################################\n",
    "\n",
    "def calc_with_defaults(xafs_group):\n",
    "    # calculate mu and normalise with background extraction\n",
    "    # should let the user specify the colums for i0, it, mu, iR. \n",
    "    if not hasattr(xafs_group, 'mu'):\n",
    "        xafs_group = get_mu(xafs_group)\n",
    "    # calculate pre-edge and post edge and add them to group\n",
    "    # need to read parameters for pre-edge before background calculation with  \n",
    "    # defaul values undo the work of previous step (setting pre-edge limits).\n",
    "    pre_edge(xafs_group, pre1=xafs_group.bkg_params.pre1, pre2=xafs_group.bkg_params.pre2)\n",
    "    #pre_edge(xafs_group)\n",
    "    # perform background removal\n",
    "    autobk(xafs_group) # using defaults so no additional parameters are passed\n",
    "    # calculate fourier transform\n",
    "    xftf(xafs_group)#, kweight=0.5, kmin=3.0, kmax=12.871, dk=1, kwindow='Hanning')\n",
    "    return xafs_group\n",
    "\n",
    "\n",
    " #######################################################\n",
    "# |       The code for plotting Nmu vs E repeats      | #\n",
    "# |   so it is useful to have a plotting function     | #\n",
    "# V            to reduce duplicated code              V #\n",
    " #######################################################\n",
    "# plot mu vs flat normalised mu for selected groups\n",
    "def plot_NxmuE_E_athena_prj(athena_project, group_keys, group_names,\n",
    "                            title = \"Normalised Mu vs E\", xlimits = None,\n",
    "                            ylimits = None):    \n",
    "    # plot mu vs flat normalised mu for selected groups\n",
    "    for group_key in group_keys:\n",
    "        gr_0 = extract_athenagroup(athena_project._athena_groups[group_key])\n",
    "        # recalculate normalisation\n",
    "        calc_with_defaults(gr_0)\n",
    "        plt.plot(gr_0.energy, gr_0.flat, label=group_names[group_key])\n",
    "\n",
    "    # set plot format\n",
    "    plt.xlabel(\"Energy\")\n",
    "    plt.ylabel(\"normalised xmuE\" )\n",
    "    plt.title(title)\n",
    "    plt.grid(linestyle=':', linewidth=1) #show and format grid\n",
    "    if xlimits != None:\n",
    "        plt.xlim(xlimits[0],xlimits[1])\n",
    "    if ylimits != None:\n",
    "        plt.ylim(ylimits[0],ylimits[1])\n",
    "    plt.legend()\n",
    "    return plt\n",
    "\n",
    "# plot normalised mu on energy\n",
    "# plot mu vs flat normalised mu for selected groups\n",
    "plt = plot_NxmuE_E_athena_prj(fes2_prj, group_keys, group_names)\n",
    "plt.show()\n"
   ]
  },
  {
   "cell_type": "code",
   "execution_count": 3,
   "metadata": {
    "scrolled": true
   },
   "outputs": [
    {
     "name": "stdout",
     "output_type": "stream",
     "text": [
      "Passed!\n",
      " : ======== running Feff module C:\\Users\\scman1\\Anaconda3\\envs\\python36\\lib\\site-packages\\larch\\bin\\win32\\feff6l.exe ========\n",
      " : Feff 6L.02\n",
      " : name:     Iron sulfide (pyrite)\n",
      " : formula:  FeS_2\n",
      " : refer1:   Elliot (1960) J.Chem. Phys. 33(3), 903.\n",
      " : Calculating potentials and phases...\n",
      " : free atom potential and density for atom type    0\n",
      " : free atom potential and density for atom type    1\n",
      " : free atom potential and density for atom type    2\n",
      " : overlapped potential and density for unique potential    0\n",
      " : overlapped potential and density for unique potential    1\n",
      " : overlapped potential and density for unique potential    2\n",
      " : muffin tin radii and interstitial parameters\n",
      " : phase shifts for unique potential    0\n",
      " : phase shifts for unique potential    1\n",
      " : phase shifts for unique potential    2\n",
      " : Preparing plane wave scattering amplitudes...\n",
      " : nncrit in prcrit       9\n",
      " : Searching for paths...\n",
      " : Rmax  6.0000  keep and heap limits   0.0000000   0.0000000\n",
      " : Preparing neighbor table\n",
      " : nfound  nheap  nheapx  nsc    r\n",
      " : 1000    353     410   5    5.6619\n",
      " : Paths found     1978   (nheapx, nbx     410   5)\n",
      " : Eliminating path degeneracies...\n",
      " : Plane wave chi amplitude filter   2.50%\n",
      " : Unique paths     63,  total paths     778\n",
      " : Calculating EXAFS parameters...\n",
      " : Curved wave chi amplitude ratio   4.00%\n",
      " : Discard feff.dat for paths with cw ratio <   2.67%\n",
      " : path  cw ratio     deg    nleg  reff\n",
      " : 1   100.000     6.000     2   2.2566\n",
      " : 2    34.004     6.000     2   3.4449\n",
      " : 3    10.152     2.000     2   3.5942\n",
      " : 4    55.217    12.000     2   3.8212\n",
      " : 5    13.922    12.000     3   3.9365\n",
      " : 6    29.341    24.000     3   4.1672\n",
      " : 7     4.320    12.000     3   4.3836\n",
      " : 8     3.785     6.000     4   4.4281\n",
      " : 9    17.345     6.000     2   4.4378\n",
      " : 10     4.564    12.000     3   4.4582\n",
      " : 11     3.287    12.000     3   4.5068\n",
      " : 12    10.009     6.000     3   4.5131\n",
      " : 13    11.378     6.000     4   4.5131\n",
      " : 14     4.293     6.000     4   4.5131\n",
      " : 15     7.912    12.000     4   4.5131\n",
      " : 16     4.031    24.000     3   4.7613\n",
      " : 17     6.903    24.000     3   4.7613\n",
      " : 18     3.626    12.000     3   4.8360\n",
      " : 19     7.595    12.000     3   4.8800\n",
      " : 20     5.450    12.000     3   5.0032\n",
      " : 21    11.486     6.000     2   5.1448\n",
      " : 22    21.733    12.000     2   5.2460\n",
      " : 23     2.703    12.000     3   5.2460\n",
      " : 24     7.163    24.000     3   5.2578\n",
      " : 25    26.479    12.000     3   5.2841\n",
      " : 26     2.154    12.000     4   5.3222 neglected\n",
      " : 27    16.901     6.000     4   5.3222\n",
      " : 28     3.264    12.000     3   5.3266\n",
      " : 29     2.126    24.000     3   5.3555 neglected\n",
      " : 30     8.407    12.000     3   5.3567\n",
      " : 31    11.212     6.000     2   5.4040\n",
      " : 32     9.856    12.000     3   5.4073\n",
      " : 33     2.107    12.000     3   5.4742 neglected\n",
      " : 34     3.203    12.000     3   5.5053\n",
      " : 35     5.637    12.000     3   5.5527\n",
      " : 36     9.096    12.000     3   5.5527\n",
      " : 37     9.453    12.000     3   5.5527\n",
      " : 38     2.023    12.000     4   5.5687 neglected\n",
      " : 39     2.870     6.000     4   5.5687\n",
      " : 40     1.798     6.000     4   5.5687 neglected\n",
      " : 41     2.366    12.000     3   5.6113 neglected\n",
      " : 42     4.102    24.000     3   5.6619\n",
      " : 43     5.025    24.000     3   5.6619\n",
      " : 44     3.248    12.000     4   5.7000\n",
      " : 45     1.880    12.000     4   5.7015 neglected\n",
      " : 46     0.649    12.000     4   5.7015 neglected\n",
      " : 47     2.754     6.000     4   5.7015\n",
      " : 48     1.829     6.000     4   5.7015 neglected\n",
      " : 49     1.361    12.000     4   5.7015 neglected\n",
      " : 50     1.179    12.000     4   5.7015 neglected\n",
      " : 51     8.397    12.000     4   5.7015\n",
      " : 52     3.144    48.000     3   5.7318\n",
      " : 53     2.757     2.000     2   5.7658\n",
      " : 54     8.856     4.000     3   5.7658\n",
      " : 55     7.847     2.000     4   5.7658\n",
      " : 56     2.531    12.000     3   5.8277 neglected\n",
      " : 57     0.686    12.000     4   5.8508 neglected\n",
      " : 58    15.808    12.000     2   5.8562\n",
      " : 59     2.304    12.000     3   5.8770 neglected\n",
      " : 60     2.795    12.000     3   5.8783\n",
      " : 61     2.237    12.000     3   5.9529 neglected\n",
      " : 62     8.219    24.000     3   5.9670\n",
      " : 63    10.657    24.000     3   5.9670\n",
      " : 48 paths kept,   63 examined.\n",
      " : Feff done.  Have a nice day.\n"
     ]
    },
    {
     "data": {
      "text/plain": [
       "<External Feff Group: ./fes2_feff\\fes2_feff.inp>"
      ]
     },
     "execution_count": 3,
     "metadata": {},
     "output_type": "execute_result"
    }
   ],
   "source": [
    "# larch does not include a means for running atoms\n",
    "# need to run atoms to get input for feff and then\n",
    "# calculate paths\n",
    "\n",
    "# currently the fastest option is to run Artemis to\n",
    "# obtain the input (.inp) file for feff from a '.cif'\n",
    "# or '.inp' file\n",
    "\n",
    "# get subprocess to run perl script\n",
    "import subprocess\n",
    "\n",
    "# get the input file\n",
    "var = \"FeS2.inp\"\n",
    "\n",
    "retcode = subprocess.call([\"perl\", \"feff_inp.pl\", var])\n",
    "if retcode == 0:\n",
    "    print(\"Passed!\")\n",
    "else:\n",
    "    print(\"Failed!\")\n",
    "\n",
    "# run feff and get the paths\n",
    "from larch.xafs.feffrunner import feff6l\n",
    "#feff6l(folder='.', feffinp='feff.inp', verbose=True)\n",
    "feff6l(folder = './fes2_feff',feffinp='fes2_feff.inp' )"
   ]
  },
  {
   "cell_type": "code",
   "execution_count": 4,
   "metadata": {},
   "outputs": [],
   "source": [
    "# set parameters "
   ]
  },
  {
   "cell_type": "code",
   "execution_count": 5,
   "metadata": {},
   "outputs": [],
   "source": [
    "# run fit"
   ]
  },
  {
   "cell_type": "code",
   "execution_count": 3,
   "metadata": {},
   "outputs": [
    {
     "ename": "AttributeError",
     "evalue": "'NoneType' object has no attribute 'symtable'",
     "output_type": "error",
     "traceback": [
      "\u001b[1;31m---------------------------------------------------------------------------\u001b[0m",
      "\u001b[1;31mAttributeError\u001b[0m                            Traceback (most recent call last)",
      "\u001b[1;32m<ipython-input-3-a0322693eafb>\u001b[0m in \u001b[0;36m<module>\u001b[1;34m\u001b[0m\n\u001b[0;32m     48\u001b[0m \u001b[0mdsets\u001b[0m\u001b[1;33m.\u001b[0m\u001b[0mappend\u001b[0m\u001b[1;33m(\u001b[0m\u001b[0mdset\u001b[0m\u001b[1;33m)\u001b[0m\u001b[1;33m\u001b[0m\u001b[1;33m\u001b[0m\u001b[0m\n\u001b[0;32m     49\u001b[0m \u001b[1;31m# perform fit!\u001b[0m\u001b[1;33m\u001b[0m\u001b[1;33m\u001b[0m\u001b[1;33m\u001b[0m\u001b[0m\n\u001b[1;32m---> 50\u001b[1;33m \u001b[0mout\u001b[0m \u001b[1;33m=\u001b[0m \u001b[0mfeffit\u001b[0m\u001b[1;33m(\u001b[0m\u001b[0mpars\u001b[0m\u001b[1;33m,\u001b[0m \u001b[0mdsets\u001b[0m\u001b[1;33m)\u001b[0m\u001b[1;33m\u001b[0m\u001b[1;33m\u001b[0m\u001b[0m\n\u001b[0m\u001b[0;32m     51\u001b[0m \u001b[0mprint\u001b[0m\u001b[1;33m(\u001b[0m\u001b[0mfeffit_report\u001b[0m\u001b[1;33m(\u001b[0m\u001b[0mout\u001b[0m\u001b[1;33m)\u001b[0m\u001b[1;33m)\u001b[0m\u001b[1;33m\u001b[0m\u001b[1;33m\u001b[0m\u001b[0m\n\u001b[0;32m     52\u001b[0m \u001b[1;33m\u001b[0m\u001b[0m\n",
      "\u001b[1;32m~\\Anaconda3\\envs\\python36\\lib\\site-packages\\larch\\xafs\\feffit.py\u001b[0m in \u001b[0;36mfeffit\u001b[1;34m(paramgroup, datasets, rmax_out, path_outputs, _larch, **kws)\u001b[0m\n\u001b[0;32m    534\u001b[0m             \u001b[0mprint\u001b[0m\u001b[1;33m(\u001b[0m \u001b[1;34m\"feffit needs a list of FeffitDataSets\"\u001b[0m\u001b[1;33m)\u001b[0m\u001b[1;33m\u001b[0m\u001b[1;33m\u001b[0m\u001b[0m\n\u001b[0;32m    535\u001b[0m             \u001b[1;32mreturn\u001b[0m\u001b[1;33m\u001b[0m\u001b[1;33m\u001b[0m\u001b[0m\n\u001b[1;32m--> 536\u001b[1;33m         \u001b[0mds\u001b[0m\u001b[1;33m.\u001b[0m\u001b[0mprepare_fit\u001b[0m\u001b[1;33m(\u001b[0m\u001b[1;33m)\u001b[0m\u001b[1;33m\u001b[0m\u001b[1;33m\u001b[0m\u001b[0m\n\u001b[0m\u001b[0;32m    537\u001b[0m \u001b[1;33m\u001b[0m\u001b[0m\n\u001b[0;32m    538\u001b[0m     fit = Minimizer(_resid, params,\n",
      "\u001b[1;32m~\\Anaconda3\\envs\\python36\\lib\\site-packages\\larch\\xafs\\feffit.py\u001b[0m in \u001b[0;36mprepare_fit\u001b[1;34m(self)\u001b[0m\n\u001b[0;32m    292\u001b[0m         \u001b[1;31m# use the current fiteval namespace\u001b[0m\u001b[1;33m\u001b[0m\u001b[1;33m\u001b[0m\u001b[1;33m\u001b[0m\u001b[0m\n\u001b[0;32m    293\u001b[0m         \u001b[1;32mfor\u001b[0m \u001b[0mpath\u001b[0m \u001b[1;32min\u001b[0m \u001b[0mself\u001b[0m\u001b[1;33m.\u001b[0m\u001b[0mpathlist\u001b[0m\u001b[1;33m:\u001b[0m\u001b[1;33m\u001b[0m\u001b[1;33m\u001b[0m\u001b[0m\n\u001b[1;32m--> 294\u001b[1;33m             \u001b[0mpath\u001b[0m\u001b[1;33m.\u001b[0m\u001b[0mcreate_path_params\u001b[0m\u001b[1;33m(\u001b[0m\u001b[1;33m)\u001b[0m\u001b[1;33m\u001b[0m\u001b[1;33m\u001b[0m\u001b[0m\n\u001b[0m\u001b[0;32m    295\u001b[0m             \u001b[1;32mif\u001b[0m \u001b[0mpath\u001b[0m\u001b[1;33m.\u001b[0m\u001b[0mspline_coefs\u001b[0m \u001b[1;32mis\u001b[0m \u001b[1;32mNone\u001b[0m\u001b[1;33m:\u001b[0m\u001b[1;33m\u001b[0m\u001b[1;33m\u001b[0m\u001b[0m\n\u001b[0;32m    296\u001b[0m                 \u001b[0mpath\u001b[0m\u001b[1;33m.\u001b[0m\u001b[0mcreate_spline_coefs\u001b[0m\u001b[1;33m(\u001b[0m\u001b[1;33m)\u001b[0m\u001b[1;33m\u001b[0m\u001b[1;33m\u001b[0m\u001b[0m\n",
      "\u001b[1;32m~\\Anaconda3\\envs\\python36\\lib\\site-packages\\larch\\xafs\\feffdat.py\u001b[0m in \u001b[0;36mcreate_path_params\u001b[1;34m(self)\u001b[0m\n\u001b[0;32m    254\u001b[0m         \u001b[0mcreate\u001b[0m \u001b[0mPath\u001b[0m \u001b[0mParameters\u001b[0m \u001b[0mwithin\u001b[0m \u001b[0mthe\u001b[0m \u001b[0mcurrent\u001b[0m \u001b[0mfiteval\u001b[0m\u001b[1;33m\u001b[0m\u001b[1;33m\u001b[0m\u001b[0m\n\u001b[0;32m    255\u001b[0m         \"\"\"\n\u001b[1;32m--> 256\u001b[1;33m         \u001b[0mself\u001b[0m\u001b[1;33m.\u001b[0m\u001b[0mparams\u001b[0m \u001b[1;33m=\u001b[0m \u001b[0mParameters\u001b[0m\u001b[1;33m(\u001b[0m\u001b[0masteval\u001b[0m\u001b[1;33m=\u001b[0m\u001b[0mself\u001b[0m\u001b[1;33m.\u001b[0m\u001b[0m_larch\u001b[0m\u001b[1;33m.\u001b[0m\u001b[0msymtable\u001b[0m\u001b[1;33m.\u001b[0m\u001b[0m_sys\u001b[0m\u001b[1;33m.\u001b[0m\u001b[0mfiteval\u001b[0m\u001b[1;33m)\u001b[0m\u001b[1;33m\u001b[0m\u001b[1;33m\u001b[0m\u001b[0m\n\u001b[0m\u001b[0;32m    257\u001b[0m         \u001b[1;32mif\u001b[0m \u001b[0mself\u001b[0m\u001b[1;33m.\u001b[0m\u001b[0mlabel\u001b[0m \u001b[1;32mis\u001b[0m \u001b[1;32mNone\u001b[0m\u001b[1;33m:\u001b[0m\u001b[1;33m\u001b[0m\u001b[1;33m\u001b[0m\u001b[0m\n\u001b[0;32m    258\u001b[0m             \u001b[0mself\u001b[0m\u001b[1;33m.\u001b[0m\u001b[0mlabel\u001b[0m \u001b[1;33m=\u001b[0m \u001b[0mself\u001b[0m\u001b[1;33m.\u001b[0m\u001b[0m__geom2label\u001b[0m\u001b[1;33m(\u001b[0m\u001b[1;33m)\u001b[0m\u001b[1;33m\u001b[0m\u001b[1;33m\u001b[0m\u001b[0m\n",
      "\u001b[1;31mAttributeError\u001b[0m: 'NoneType' object has no attribute 'symtable'"
     ]
    }
   ],
   "source": [
    "## examples/feffit/doc_feffit1.lar\n",
    "## https://xraypy.github.io/xraylarch/xafs/feffit.html#example-1-simple-fit-with-1-path\n",
    "# import needed for python:\n",
    "import larch\n",
    "from larch.io import read_ascii\n",
    "from larch.fitting import param, guess, param_group\n",
    "from larch.xafs import autobk, feffpath, feffit_transform, feffit_dataset, feffit, feffit_report\n",
    "from larch.wxlib.xafsplots import plot_chifit\n",
    "\n",
    "import lmfit\n",
    "# read data\n",
    "cu_data  = read_ascii('../xafsdata/cu_metal_rt.xdi')\n",
    "autobk(cu_data.energy, cu_data.mutrans, group=cu_data, rbkg=1.0, kw=2)\n",
    "\n",
    "# define fitting parameter group\n",
    "#pars = larch.fitting.ParameterGroup\n",
    "#setattr(pars, 'amp', param(1.0, vary=True))\n",
    "#setattr(pars, 'del_e0', param(0.0, vary=True))\n",
    "#setattr(pars, 'sig2', param(0.0, vary=True))\n",
    "#setattr(pars, 'del_r', guess(0.0, vary=True))\n",
    "\n",
    "pars = larch.fitting.ParameterGroup()\n",
    "lmg_pars = lmfit.parameter.Parameters()\n",
    "pars.__params__ = lmg_pars\n",
    "setattr(pars, 'amp', param(1.0, vary=True))\n",
    "pars.__params__.add('amp', value = 1.0, vary=True) \n",
    "setattr(pars, 'del_e0', param(0.0, vary=True))\n",
    "pars.__params__.add('del_e0', value = 0.0, vary=True) \n",
    "setattr(pars, 'sig2', param(0.0, vary=True))\n",
    "pars.__params__.add('sig2', value = 0.0, vary=True) \n",
    "setattr(pars, 'del_r', guess(0.0, vary=True))\n",
    "pars.__params__.add('del_r', value = 0.0) \n",
    "\n",
    "\n",
    "# define a Feff Path, give expressions for Path Parameters\n",
    "path1 = feffpath('feffcu01.dat',\n",
    "                 s02    = 'amp',\n",
    "                 e0     = 'del_e0',\n",
    "                 sigma2 = 'sig2',\n",
    "                 deltar = 'del_r')\n",
    "\n",
    "# set tranform / fit ranges\n",
    "trans = feffit_transform(kmin=3, kmax=17, kw=2, dk=4, window='kaiser', rmin=1.4, rmax=3.0)\n",
    "\n",
    "# define dataset to include data, pathlist, transform\n",
    "dset = feffit_dataset(data=cu_data, pathlist=[path1], transform=trans)\n",
    "dsets = list()\n",
    "dsets.append(dset)\n",
    "# perform fit!\n",
    "out = feffit(pars, dsets)\n",
    "print(feffit_report(out))\n",
    " \n",
    "try:\n",
    "    fout = open('doc_feffit1.out', 'w')\n",
    "    fout.write(\"%s\\n\" % feffit_report(out))\n",
    "    fout.close()\n",
    "except:\n",
    "    print('could not write doc_feffit1.out')\n",
    "#endtry\n",
    "# \n",
    "plot_chifit(dset)\n",
    "\n",
    "## end examples/feffit/doc_feffit1.lar"
   ]
  },
  {
   "cell_type": "code",
   "execution_count": 4,
   "metadata": {},
   "outputs": [
    {
     "data": {
      "text/plain": [
       "mappingproxy({'__module__': 'larch.fitting',\n",
       "              '__doc__': '\\n    Group for Fitting Parameters\\n    ',\n",
       "              '__init__': <function larch.fitting.ParameterGroup.__init__(self, name=None, _larch=None, **kws)>,\n",
       "              '__repr__': <function larch.fitting.ParameterGroup.__repr__(self)>,\n",
       "              '__setattr__': <function larch.fitting.ParameterGroup.__setattr__(self, name, val)>,\n",
       "              '_ParameterGroup__add': <function larch.fitting.ParameterGroup.__add(self, name, value=None, vary=True, min=-inf, max=inf, expr=None, stderr=None, correl=None, brute_step=None)>,\n",
       "              '__params__': Parameters([('amp',\n",
       "                           <Parameter 'amp', value=1.0, bounds=[-inf:inf]>),\n",
       "                          ('del_e0',\n",
       "                           <Parameter 'del_e0', value=0.0, bounds=[-inf:inf]>),\n",
       "                          ('sig2',\n",
       "                           <Parameter 'sig2', value=0.0, bounds=[-inf:inf]>),\n",
       "                          ('del_r',\n",
       "                           <Parameter 'del_r', value=0.0, bounds=[-inf:inf]>)]),\n",
       "              'amp': <Parameter '_tmp_param_', value=1.0, bounds=[-inf:inf]>,\n",
       "              'del_e0': <Parameter '_tmp_param_', value=0.0, bounds=[-inf:inf]>,\n",
       "              'sig2': <Parameter '_tmp_param_', value=0.0, bounds=[-inf:inf]>,\n",
       "              'del_r': <Parameter '_tmp_param_', value=0.0, bounds=[-inf:inf]>})"
      ]
     },
     "execution_count": 4,
     "metadata": {},
     "output_type": "execute_result"
    }
   ],
   "source": [
    "vars(pars)"
   ]
  },
  {
   "cell_type": "code",
   "execution_count": 172,
   "metadata": {},
   "outputs": [
    {
     "data": {
      "text/plain": [
       "{'__name__': 'FeffPath: feffcu01.dat',\n",
       " '_larch': None,\n",
       " 'filename': 'feffcu01.dat',\n",
       " 'params': None,\n",
       " 'label': 'pfh2ced6i',\n",
       " 'spline_coefs': {'pha': <scipy.interpolate.fitpack2.InterpolatedUnivariateSpline at 0x11fc3b10>,\n",
       "  'amp': <scipy.interpolate.fitpack2.InterpolatedUnivariateSpline at 0x11fc34b0>,\n",
       "  'rep': <scipy.interpolate.fitpack2.InterpolatedUnivariateSpline at 0x11fc3c50>,\n",
       "  'lam': <scipy.interpolate.fitpack2.InterpolatedUnivariateSpline at 0x11fc35b0>},\n",
       " '_feffdat': <Feff.dat File Group: feffcu01.dat>,\n",
       " 'geom': [('Cu', 29, 0, 63.546, 0.0, 0.0, 0.0),\n",
       "  ('Cu', 29, 1, 63.546, 0.0, -1.8016, 1.8016)],\n",
       " 'degen': 12.0,\n",
       " 's02': 'amp',\n",
       " 'e0': 'del_e0',\n",
       " 'ei': 0.0,\n",
       " 'deltar': 'del_r',\n",
       " 'sigma2': 'sig2',\n",
       " 'third': 0.0,\n",
       " 'fourth': 0.0,\n",
       " 'k': None,\n",
       " 'chi': None}"
      ]
     },
     "execution_count": 172,
     "metadata": {},
     "output_type": "execute_result"
    }
   ],
   "source": [
    "vars(path1)"
   ]
  },
  {
   "cell_type": "code",
   "execution_count": 173,
   "metadata": {},
   "outputs": [
    {
     "data": {
      "text/plain": [
       "{'__name__': '0x11fc30f0',\n",
       " 'kw': 2,\n",
       " 'kmin': 3,\n",
       " 'kmax': 17,\n",
       " 'kweight': 2,\n",
       " 'dk': 4,\n",
       " 'dk2': None,\n",
       " 'window': 'kaiser',\n",
       " 'rmin': 1.4,\n",
       " 'rmax': 3.0,\n",
       " 'dr': 0,\n",
       " 'dr2': 0,\n",
       " 'rwindow': 'hanning',\n",
       " '_TransformGroup__nfft': 2048,\n",
       " '_TransformGroup__kstep': 0.05,\n",
       " 'nfft': 2048,\n",
       " 'kstep': 0.05,\n",
       " 'rstep': 0.030679615757712823,\n",
       " 'fitspace': 'r',\n",
       " 'wavelet_mask': None,\n",
       " '_cauchymask': None,\n",
       " '_larch': None,\n",
       " 'kwin': array([0., 0., 0., ..., 0., 0., 0.]),\n",
       " 'rwin': None,\n",
       " 'k_': array([0.0000e+00, 5.0000e-02, 1.0000e-01, ..., 1.0225e+02, 1.0230e+02,\n",
       "        1.0235e+02]),\n",
       " 'r_': array([0.00000000e+00, 3.06796158e-02, 6.13592315e-02, ...,\n",
       "        6.27398142e+01, 6.27704938e+01, 6.28011735e+01])}"
      ]
     },
     "execution_count": 173,
     "metadata": {},
     "output_type": "execute_result"
    }
   ],
   "source": [
    "vars(trans)"
   ]
  },
  {
   "cell_type": "code",
   "execution_count": 174,
   "metadata": {},
   "outputs": [
    {
     "data": {
      "text/plain": [
       "{'_larch': None,\n",
       " '__name__': '0x11fc3df0',\n",
       " 'pathlist': [<FeffPath Group feffcu01.dat>],\n",
       " 'data': <Group ascii_file ../xafsdata/cu_metal_rt.xdi>,\n",
       " 'transform': <FeffitTransform Group: 0x11fc30f0>,\n",
       " 'model': <Group 0x11fc39d0>,\n",
       " '_FeffitDataSet__chi': array([ 7.52042530e-01,  6.83561606e-01,  6.23386214e-01,  5.70518167e-01,\n",
       "         5.23959279e-01,  4.82711362e-01,  4.45776227e-01,  4.12155689e-01,\n",
       "         3.80851559e-01,  3.50865650e-01,  3.21199775e-01,  2.90890576e-01,\n",
       "         2.59274162e-01,  2.25840524e-01,  1.90117111e-01,  1.51676311e-01,\n",
       "         1.10175034e-01,  6.56677652e-02,  2.05574007e-02, -2.24701811e-02,\n",
       "        -6.18109161e-02, -9.34889087e-02, -1.16074646e-01, -1.29702237e-01,\n",
       "        -1.35220985e-01, -1.42646883e-01, -1.49162073e-01, -1.54434171e-01,\n",
       "        -1.55461633e-01, -1.52846248e-01, -1.40534759e-01, -1.20336398e-01,\n",
       "        -9.05911799e-02, -5.55770211e-02, -9.47184808e-03,  3.29915040e-02,\n",
       "         7.71346441e-02,  1.15226862e-01,  1.38228219e-01,  1.40326832e-01,\n",
       "         1.21746133e-01,  9.01140362e-02,  5.33319254e-02,  2.11744373e-02,\n",
       "        -3.94313406e-03, -1.66396572e-02, -1.29375819e-02,  1.03975039e-02,\n",
       "         4.47008163e-02,  8.04278399e-02,  9.11511421e-02,  7.28834196e-02,\n",
       "         3.97242266e-02,  5.62001271e-03, -1.89591970e-02, -3.94330879e-02,\n",
       "        -6.03977348e-02, -7.76719591e-02, -8.48140499e-02, -8.30035449e-02,\n",
       "        -7.72670047e-02, -6.83490761e-02, -5.49917040e-02, -3.68764378e-02,\n",
       "        -1.53485622e-02,  6.19708516e-03,  2.61714536e-02,  4.44320254e-02,\n",
       "         6.26943625e-02,  7.61222614e-02,  7.87723611e-02,  6.76653411e-02,\n",
       "         4.70319116e-02,  2.33844950e-02, -1.70767537e-03, -2.17171613e-02,\n",
       "        -3.46237982e-02, -4.16502300e-02, -4.33047867e-02, -3.95539332e-02,\n",
       "        -3.23814420e-02, -2.66819878e-02, -2.58340945e-02, -2.92478097e-02,\n",
       "        -3.00113019e-02, -2.45882170e-02, -1.60270044e-02, -1.03534970e-02,\n",
       "        -9.67809204e-03, -9.44878604e-03, -4.71681785e-03,  5.33965061e-03,\n",
       "         1.63018140e-02,  2.47021067e-02,  3.10309038e-02,  3.79790102e-02,\n",
       "         4.70088090e-02,  5.82411155e-02,  6.81241659e-02,  7.12221695e-02,\n",
       "         6.57178576e-02,  5.18838790e-02,  3.33590072e-02,  1.56151736e-02,\n",
       "         5.19844807e-04, -1.31102389e-02, -2.36926475e-02, -2.84361891e-02,\n",
       "        -3.40148274e-02, -4.61675958e-02, -6.08032711e-02, -7.26374655e-02,\n",
       "        -7.70528030e-02, -7.25123497e-02, -6.08709556e-02, -4.51908630e-02,\n",
       "        -2.96346242e-02, -1.63076411e-02, -6.94380047e-03, -2.97485810e-03,\n",
       "        -2.63102751e-03, -2.18443171e-03,  3.49622509e-03,  1.81470971e-02,\n",
       "         4.30218507e-02,  6.85875975e-02,  8.33900317e-02,  8.67195458e-02,\n",
       "         8.23803423e-02,  7.47664359e-02,  6.38387961e-02,  4.76978773e-02,\n",
       "         2.69669673e-02,  3.75221771e-03, -2.17555228e-02, -4.70412472e-02,\n",
       "        -6.91834397e-02, -8.28238146e-02, -8.38560324e-02, -7.12879093e-02,\n",
       "        -5.03936915e-02, -2.69913992e-02, -8.42048246e-03,  2.91852527e-03,\n",
       "         8.19303425e-03,  7.87919919e-03,  4.98543802e-03,  3.29200336e-03,\n",
       "         3.59456859e-03,  2.50461910e-03, -5.59893232e-04, -3.18316700e-03,\n",
       "         2.73615478e-04,  1.22913069e-02,  2.91072893e-02,  4.16567387e-02,\n",
       "         4.54417285e-02,  4.42439407e-02,  4.09422569e-02,  3.43840968e-02,\n",
       "         2.22979456e-02,  7.00974741e-03, -7.17437564e-03, -2.02333730e-02,\n",
       "        -2.97366595e-02, -3.39588052e-02, -3.27228514e-02, -2.88338448e-02,\n",
       "        -2.56526473e-02, -2.35656924e-02, -2.13655943e-02, -1.86734726e-02,\n",
       "        -1.49431282e-02, -1.02756707e-02, -5.01203860e-03, -3.15404722e-04,\n",
       "         4.17225211e-03,  7.98877507e-03,  1.04670959e-02,  1.31369248e-02,\n",
       "         1.57870072e-02,  1.81983088e-02,  2.00444518e-02,  2.16320270e-02,\n",
       "         1.96790732e-02,  1.57549450e-02,  1.05703875e-02,  4.48107057e-03,\n",
       "         3.65535098e-04, -3.34146944e-03, -4.71581855e-03, -4.23923836e-03,\n",
       "        -3.90293260e-03, -5.63649148e-03, -9.47173199e-03, -1.37309543e-02,\n",
       "        -1.50100387e-02, -1.30897485e-02, -1.09540765e-02, -9.04898741e-03,\n",
       "        -7.26560796e-03, -4.79634693e-03, -2.27064539e-03, -2.37139723e-04,\n",
       "         1.98126509e-03,  3.68426851e-03,  6.08467556e-03,  7.17543086e-03,\n",
       "         8.68457825e-03,  9.82022926e-03,  1.01782665e-02,  9.52394480e-03,\n",
       "         7.38474182e-03,  5.07541302e-03,  1.90420375e-03, -4.22967978e-04,\n",
       "        -1.72268349e-03, -1.48333767e-03, -1.22160762e-03, -1.00944149e-03,\n",
       "        -9.75935076e-04, -1.28710739e-03, -2.62862996e-03, -4.29932560e-03,\n",
       "        -5.05740367e-03, -5.15914677e-03, -5.09958766e-03, -5.36831151e-03,\n",
       "        -5.27008908e-03, -4.27083468e-03, -3.23962213e-03, -1.67026290e-03,\n",
       "        -1.34863265e-04,  1.45632410e-03,  3.01868994e-03,  4.69699465e-03,\n",
       "         5.56073078e-03,  5.62992081e-03,  5.12537951e-03,  3.56418652e-03,\n",
       "         1.89408760e-03,  5.98549407e-04,  8.85360605e-06, -5.27001090e-04,\n",
       "        -7.22034699e-04, -8.95755473e-04, -5.54489737e-04, -5.73851404e-04,\n",
       "        -8.67682484e-04, -9.99823642e-04, -9.52539579e-04, -1.14381185e-03,\n",
       "        -1.74411412e-03, -1.87829815e-03, -1.78803448e-03, -1.52537742e-03,\n",
       "        -1.13231976e-03, -6.09084915e-04, -2.02474957e-04,  3.18810479e-04,\n",
       "         8.96592863e-04,  1.24517715e-03,  1.77454367e-03,  1.91512202e-03,\n",
       "         1.85195750e-03,  1.83293436e-03,  1.76523157e-03,  1.32757244e-03,\n",
       "         1.14127942e-03,  6.97994759e-04,  2.70923609e-04,  2.25114074e-04,\n",
       "        -6.60769596e-05, -3.17556460e-04, -7.61960327e-04, -8.77562274e-04,\n",
       "        -9.73619645e-04, -8.83646748e-04, -9.42415051e-04, -1.18723896e-03,\n",
       "        -1.44334579e-03, -1.31937532e-03, -1.28776727e-03, -1.42462532e-03,\n",
       "        -7.50969705e-04, -4.46356203e-04, -2.26280839e-04, -2.44732345e-04,\n",
       "         1.67972262e-04,  4.58635378e-04,  3.12061085e-04,  3.13355165e-04,\n",
       "         3.87944325e-04,  7.67793782e-04,  6.99775381e-04,  6.68452913e-04,\n",
       "         6.08421340e-04,  5.81169577e-04,  4.97472381e-04,  4.61755660e-04,\n",
       "         4.66939769e-04,  1.81562189e-04,  1.47780507e-04,  9.17252869e-05,\n",
       "        -9.99799143e-06,  1.52978297e-05,  3.31395627e-05, -1.42498343e-05,\n",
       "        -5.62429872e-05, -1.06184632e-04, -1.65463387e-04, -1.46696205e-04,\n",
       "        -6.09756728e-05,  2.32557315e-06,  9.40911953e-05,  1.35109582e-04,\n",
       "         5.93744286e-05,  2.09004549e-07, -6.32664409e-06, -2.05308861e-05,\n",
       "        -9.68595330e-05, -1.00614033e-04, -1.13012116e-04, -1.78216612e-04,\n",
       "        -5.75084621e-05, -8.13040505e-05, -4.54873539e-05, -6.64132588e-05,\n",
       "        -6.08535603e-05, -1.20865273e-04, -1.02215809e-04, -2.31584449e-04,\n",
       "        -2.87608215e-04, -2.99816172e-04, -2.29180277e-04, -1.01689472e-04,\n",
       "        -2.90713281e-05,  6.06564200e-05,  2.02406566e-05,  8.45694987e-05,\n",
       "         3.96175658e-05,  1.58170184e-05,  2.22740889e-05,  5.65574648e-05,\n",
       "         1.31139705e-04,  2.31336450e-04,  2.71510781e-04,  2.45713630e-04,\n",
       "         1.72150063e-04,  1.72435202e-04]),\n",
       " '_FeffitDataSet__prepared': False,\n",
       " 'n_idp': 15.260282901033824,\n",
       " 'epsilon_k': array([0.01159265, 0.01095002, 0.01033071, 0.00973432, 0.00916045,\n",
       "        0.0086087 , 0.00807868, 0.00756998, 0.00708222, 0.00661501,\n",
       "        0.00616795, 0.00574067, 0.00533277, 0.00494388, 0.00457363,\n",
       "        0.00422166, 0.00388759, 0.00357108, 0.0032718 , 0.0029894 ,\n",
       "        0.00272358, 0.00247405, 0.00224054, 0.0020228 , 0.00182063,\n",
       "        0.00163387, 0.00146239, 0.00130615, 0.00116512, 0.00103936,\n",
       "        0.00092893, 0.00083387, 0.0007541 , 0.00068927, 0.00063866,\n",
       "        0.00060103, 0.00057461, 0.00055725, 0.00054667, 0.00054063,\n",
       "        0.0005372 , 0.00053477, 0.00053213, 0.00052838, 0.00052293,\n",
       "        0.00051541, 0.00050563, 0.00049354, 0.00047923, 0.00046284,\n",
       "        0.00044463, 0.00042489, 0.00040399, 0.00038235, 0.00036041,\n",
       "        0.00033871, 0.00031777, 0.00029817, 0.0002805 , 0.00026526,\n",
       "        0.00025289, 0.00024361, 0.00023744, 0.00023408, 0.00023301,\n",
       "        0.00023354, 0.00023503, 0.00023692, 0.00023881, 0.00024041,\n",
       "        0.00024148, 0.0002419 , 0.00024159, 0.00024052, 0.00023869,\n",
       "        0.00023613, 0.00023292, 0.00022913, 0.00022485, 0.00022019,\n",
       "        0.00021528, 0.00021024, 0.00020519, 0.00020027, 0.0001956 ,\n",
       "        0.00019131, 0.0001875 , 0.00018424, 0.00018161, 0.00017963,\n",
       "        0.00017829, 0.00017755, 0.00017735, 0.00017759, 0.00017816,\n",
       "        0.00017891, 0.00017973, 0.0001805 , 0.00018114, 0.00018161,\n",
       "        0.00018187, 0.00018191, 0.00018172, 0.00018131, 0.00018068,\n",
       "        0.00017986, 0.00017888, 0.00017776, 0.00017653, 0.00017524,\n",
       "        0.00017391, 0.00017259, 0.0001713 , 0.00017007, 0.00016894,\n",
       "        0.00016792, 0.00016705, 0.00016632, 0.00016576, 0.00016536,\n",
       "        0.00016511, 0.00016502, 0.00016505, 0.00016519, 0.00016542,\n",
       "        0.0001657 , 0.00016601, 0.00016631, 0.00016657, 0.00016677,\n",
       "        0.0001669 , 0.00016694, 0.0001669 , 0.00016678, 0.00016659,\n",
       "        0.00016633, 0.00016601, 0.00016564, 0.00016523, 0.00016481,\n",
       "        0.00016437, 0.00016393, 0.0001635 , 0.00016309, 0.00016272,\n",
       "        0.00016238, 0.00016209, 0.00016186, 0.00016167, 0.00016154,\n",
       "        0.00016147, 0.00016144, 0.00016146, 0.00016152, 0.00016161,\n",
       "        0.00016172, 0.00016184, 0.00016197, 0.00016208, 0.00016218,\n",
       "        0.00016225, 0.00016228, 0.00016229, 0.00016226, 0.0001622 ,\n",
       "        0.00016212, 0.00016201, 0.00016187, 0.00016172, 0.00016156,\n",
       "        0.00016139, 0.00016122, 0.00016105, 0.00016089, 0.00016074,\n",
       "        0.0001606 , 0.00016047, 0.00016037, 0.00016028, 0.00016022,\n",
       "        0.00016018, 0.00016016, 0.00016016, 0.00016017, 0.0001602 ,\n",
       "        0.00016025, 0.0001603 , 0.00016036, 0.00016042, 0.00016047,\n",
       "        0.00016052, 0.00016055, 0.00016057, 0.00016058, 0.00016057,\n",
       "        0.00016055, 0.00016051, 0.00016046, 0.0001604 , 0.00016033,\n",
       "        0.00016026, 0.00016018, 0.0001601 , 0.00016002, 0.00015995,\n",
       "        0.00015988, 0.00015981, 0.00015976, 0.00015971, 0.00015967,\n",
       "        0.00015964, 0.00015962, 0.00015961, 0.00015961, 0.00015962,\n",
       "        0.00015964, 0.00015966, 0.00015969, 0.00015972, 0.00015975,\n",
       "        0.00015978, 0.00015981, 0.00015983, 0.00015985, 0.00015986,\n",
       "        0.00015985, 0.00015985, 0.00015983, 0.00015981, 0.00015978,\n",
       "        0.00015974, 0.0001597 , 0.00015966, 0.00015962, 0.00015958,\n",
       "        0.00015954, 0.00015951, 0.00015947, 0.00015944, 0.00015941,\n",
       "        0.00015939, 0.00015938, 0.00015937, 0.00015936, 0.00015936,\n",
       "        0.00015936, 0.00015937, 0.00015939, 0.0001594 , 0.00015942,\n",
       "        0.00015944, 0.00015946, 0.00015948, 0.00015949, 0.0001595 ,\n",
       "        0.00015951, 0.00015951, 0.00015951, 0.0001595 , 0.00015949,\n",
       "        0.00015947, 0.00015946, 0.00015943, 0.00015941, 0.00015939,\n",
       "        0.00015936, 0.00015934, 0.00015932, 0.0001593 , 0.00015928,\n",
       "        0.00015926, 0.00015925, 0.00015924, 0.00015923, 0.00015923,\n",
       "        0.00015923, 0.00015923, 0.00015923, 0.00015924, 0.00015925,\n",
       "        0.00015926, 0.00015927, 0.00015929, 0.0001593 , 0.00015931,\n",
       "        0.00015932, 0.00015932, 0.00015932, 0.00015933, 0.00015932,\n",
       "        0.00015932, 0.00015931, 0.0001593 , 0.00015929, 0.00015927,\n",
       "        0.00015926, 0.00015925, 0.00015923, 0.00015922, 0.00015921,\n",
       "        0.00015919, 0.00015918, 0.00015917, 0.00015917, 0.00015916,\n",
       "        0.00015916, 0.00015916, 0.00015916, 0.00015917, 0.00015917,\n",
       "        0.00015918, 0.00015919, 0.0001592 , 0.00015921, 0.00015922,\n",
       "        0.00015924, 0.00015925, 0.00015926, 0.00015927, 0.00015928,\n",
       "        0.00015929, 0.00015929, 0.0001593 , 0.0001593 , 0.00015929,\n",
       "        0.00015929, 0.00015928, 0.00015927, 0.00015925, 0.00015924,\n",
       "        0.00015922, 0.00015921, 0.00015919, 0.00015918, 0.00015917,\n",
       "        0.00015917, 0.00015918, 0.0001592 , 0.00015924, 0.00015929,\n",
       "        0.00015937, 0.00015948, 0.00015962, 0.0001598 , 0.00016003,\n",
       "        0.00016031, 0.00016066, 0.00016107, 0.00016156, 0.00016213]),\n",
       " 'epsilon_r': 0.020789565085424032}"
      ]
     },
     "execution_count": 174,
     "metadata": {},
     "output_type": "execute_result"
    }
   ],
   "source": [
    "vars(dset)"
   ]
  },
  {
   "cell_type": "code",
   "execution_count": 114,
   "metadata": {},
   "outputs": [
    {
     "ename": "AttributeError",
     "evalue": "'NoneType' object has no attribute 'symtable'",
     "output_type": "error",
     "traceback": [
      "\u001b[1;31m---------------------------------------------------------------------------\u001b[0m",
      "\u001b[1;31mAttributeError\u001b[0m                            Traceback (most recent call last)",
      "\u001b[1;32m<ipython-input-114-f0ba2a59bb5c>\u001b[0m in \u001b[0;36m<module>\u001b[1;34m\u001b[0m\n\u001b[1;32m----> 1\u001b[1;33m \u001b[0mout\u001b[0m \u001b[1;33m=\u001b[0m \u001b[0mfeffit\u001b[0m\u001b[1;33m(\u001b[0m\u001b[0mpars\u001b[0m\u001b[1;33m,\u001b[0m \u001b[0mdset\u001b[0m\u001b[1;33m)\u001b[0m\u001b[1;33m\u001b[0m\u001b[1;33m\u001b[0m\u001b[0m\n\u001b[0m",
      "\u001b[1;32m~\\Anaconda3\\envs\\python36\\lib\\site-packages\\larch\\xafs\\feffit.py\u001b[0m in \u001b[0;36mfeffit\u001b[1;34m(paramgroup, datasets, rmax_out, path_outputs, _larch, **kws)\u001b[0m\n\u001b[0;32m    534\u001b[0m             \u001b[0mprint\u001b[0m\u001b[1;33m(\u001b[0m \u001b[1;34m\"feffit needs a list of FeffitDataSets\"\u001b[0m\u001b[1;33m)\u001b[0m\u001b[1;33m\u001b[0m\u001b[1;33m\u001b[0m\u001b[0m\n\u001b[0;32m    535\u001b[0m             \u001b[1;32mreturn\u001b[0m\u001b[1;33m\u001b[0m\u001b[1;33m\u001b[0m\u001b[0m\n\u001b[1;32m--> 536\u001b[1;33m         \u001b[0mds\u001b[0m\u001b[1;33m.\u001b[0m\u001b[0mprepare_fit\u001b[0m\u001b[1;33m(\u001b[0m\u001b[1;33m)\u001b[0m\u001b[1;33m\u001b[0m\u001b[1;33m\u001b[0m\u001b[0m\n\u001b[0m\u001b[0;32m    537\u001b[0m \u001b[1;33m\u001b[0m\u001b[0m\n\u001b[0;32m    538\u001b[0m     fit = Minimizer(_resid, params,\n",
      "\u001b[1;32m~\\Anaconda3\\envs\\python36\\lib\\site-packages\\larch\\xafs\\feffit.py\u001b[0m in \u001b[0;36mprepare_fit\u001b[1;34m(self)\u001b[0m\n\u001b[0;32m    292\u001b[0m         \u001b[1;31m# use the current fiteval namespace\u001b[0m\u001b[1;33m\u001b[0m\u001b[1;33m\u001b[0m\u001b[1;33m\u001b[0m\u001b[0m\n\u001b[0;32m    293\u001b[0m         \u001b[1;32mfor\u001b[0m \u001b[0mpath\u001b[0m \u001b[1;32min\u001b[0m \u001b[0mself\u001b[0m\u001b[1;33m.\u001b[0m\u001b[0mpathlist\u001b[0m\u001b[1;33m:\u001b[0m\u001b[1;33m\u001b[0m\u001b[1;33m\u001b[0m\u001b[0m\n\u001b[1;32m--> 294\u001b[1;33m             \u001b[0mpath\u001b[0m\u001b[1;33m.\u001b[0m\u001b[0mcreate_path_params\u001b[0m\u001b[1;33m(\u001b[0m\u001b[1;33m)\u001b[0m\u001b[1;33m\u001b[0m\u001b[1;33m\u001b[0m\u001b[0m\n\u001b[0m\u001b[0;32m    295\u001b[0m             \u001b[1;32mif\u001b[0m \u001b[0mpath\u001b[0m\u001b[1;33m.\u001b[0m\u001b[0mspline_coefs\u001b[0m \u001b[1;32mis\u001b[0m \u001b[1;32mNone\u001b[0m\u001b[1;33m:\u001b[0m\u001b[1;33m\u001b[0m\u001b[1;33m\u001b[0m\u001b[0m\n\u001b[0;32m    296\u001b[0m                 \u001b[0mpath\u001b[0m\u001b[1;33m.\u001b[0m\u001b[0mcreate_spline_coefs\u001b[0m\u001b[1;33m(\u001b[0m\u001b[1;33m)\u001b[0m\u001b[1;33m\u001b[0m\u001b[1;33m\u001b[0m\u001b[0m\n",
      "\u001b[1;32m~\\Anaconda3\\envs\\python36\\lib\\site-packages\\larch\\xafs\\feffdat.py\u001b[0m in \u001b[0;36mcreate_path_params\u001b[1;34m(self)\u001b[0m\n\u001b[0;32m    254\u001b[0m         \u001b[0mcreate\u001b[0m \u001b[0mPath\u001b[0m \u001b[0mParameters\u001b[0m \u001b[0mwithin\u001b[0m \u001b[0mthe\u001b[0m \u001b[0mcurrent\u001b[0m \u001b[0mfiteval\u001b[0m\u001b[1;33m\u001b[0m\u001b[1;33m\u001b[0m\u001b[0m\n\u001b[0;32m    255\u001b[0m         \"\"\"\n\u001b[1;32m--> 256\u001b[1;33m         \u001b[0mself\u001b[0m\u001b[1;33m.\u001b[0m\u001b[0mparams\u001b[0m \u001b[1;33m=\u001b[0m \u001b[0mParameters\u001b[0m\u001b[1;33m(\u001b[0m\u001b[0masteval\u001b[0m\u001b[1;33m=\u001b[0m\u001b[0mself\u001b[0m\u001b[1;33m.\u001b[0m\u001b[0m_larch\u001b[0m\u001b[1;33m.\u001b[0m\u001b[0msymtable\u001b[0m\u001b[1;33m.\u001b[0m\u001b[0m_sys\u001b[0m\u001b[1;33m.\u001b[0m\u001b[0mfiteval\u001b[0m\u001b[1;33m)\u001b[0m\u001b[1;33m\u001b[0m\u001b[1;33m\u001b[0m\u001b[0m\n\u001b[0m\u001b[0;32m    257\u001b[0m         \u001b[1;32mif\u001b[0m \u001b[0mself\u001b[0m\u001b[1;33m.\u001b[0m\u001b[0mlabel\u001b[0m \u001b[1;32mis\u001b[0m \u001b[1;32mNone\u001b[0m\u001b[1;33m:\u001b[0m\u001b[1;33m\u001b[0m\u001b[1;33m\u001b[0m\u001b[0m\n\u001b[0;32m    258\u001b[0m             \u001b[0mself\u001b[0m\u001b[1;33m.\u001b[0m\u001b[0mlabel\u001b[0m \u001b[1;33m=\u001b[0m \u001b[0mself\u001b[0m\u001b[1;33m.\u001b[0m\u001b[0m__geom2label\u001b[0m\u001b[1;33m(\u001b[0m\u001b[1;33m)\u001b[0m\u001b[1;33m\u001b[0m\u001b[1;33m\u001b[0m\u001b[0m\n",
      "\u001b[1;31mAttributeError\u001b[0m: 'NoneType' object has no attribute 'symtable'"
     ]
    }
   ],
   "source": [
    "out = feffit(pars, dset)"
   ]
  },
  {
   "cell_type": "code",
   "execution_count": 121,
   "metadata": {},
   "outputs": [],
   "source": [
    "pg = ParameterGroup()"
   ]
  },
  {
   "cell_type": "code",
   "execution_count": 77,
   "metadata": {},
   "outputs": [
    {
     "ename": "AttributeError",
     "evalue": "'NoneType' object has no attribute 'add'",
     "output_type": "error",
     "traceback": [
      "\u001b[1;31m---------------------------------------------------------------------------\u001b[0m",
      "\u001b[1;31mAttributeError\u001b[0m                            Traceback (most recent call last)",
      "\u001b[1;32m<ipython-input-77-fb332dabd135>\u001b[0m in \u001b[0;36m<module>\u001b[1;34m\u001b[0m\n\u001b[0;32m      2\u001b[0m                  \u001b[0mdel_e0\u001b[0m \u001b[1;33m=\u001b[0m \u001b[0mparam\u001b[0m\u001b[1;33m(\u001b[0m\u001b[1;36m0.0\u001b[0m\u001b[1;33m,\u001b[0m \u001b[0mvary\u001b[0m\u001b[1;33m=\u001b[0m\u001b[1;32mTrue\u001b[0m\u001b[1;33m)\u001b[0m\u001b[1;33m,\u001b[0m\u001b[1;33m\u001b[0m\u001b[1;33m\u001b[0m\u001b[0m\n\u001b[0;32m      3\u001b[0m                  \u001b[0msig2\u001b[0m   \u001b[1;33m=\u001b[0m \u001b[0mparam\u001b[0m\u001b[1;33m(\u001b[0m\u001b[1;36m0.0\u001b[0m\u001b[1;33m,\u001b[0m \u001b[0mvary\u001b[0m\u001b[1;33m=\u001b[0m\u001b[1;32mTrue\u001b[0m\u001b[1;33m)\u001b[0m\u001b[1;33m,\u001b[0m\u001b[1;33m\u001b[0m\u001b[1;33m\u001b[0m\u001b[0m\n\u001b[1;32m----> 4\u001b[1;33m                  del_r  = param(0.0, vary=True))\n\u001b[0m",
      "\u001b[1;32m~\\Anaconda3\\envs\\python36\\lib\\site-packages\\larch\\fitting\\__init__.py\u001b[0m in \u001b[0;36mparam_group\u001b[1;34m(_larch, **kws)\u001b[0m\n\u001b[0;32m    103\u001b[0m \u001b[1;32mdef\u001b[0m \u001b[0mparam_group\u001b[0m\u001b[1;33m(\u001b[0m\u001b[0m_larch\u001b[0m\u001b[1;33m=\u001b[0m\u001b[1;32mNone\u001b[0m\u001b[1;33m,\u001b[0m \u001b[1;33m**\u001b[0m\u001b[0mkws\u001b[0m\u001b[1;33m)\u001b[0m\u001b[1;33m:\u001b[0m\u001b[1;33m\u001b[0m\u001b[1;33m\u001b[0m\u001b[0m\n\u001b[0;32m    104\u001b[0m     \u001b[1;34m\"create a parameter group\"\u001b[0m\u001b[1;33m\u001b[0m\u001b[1;33m\u001b[0m\u001b[0m\n\u001b[1;32m--> 105\u001b[1;33m     \u001b[1;32mreturn\u001b[0m \u001b[0mParameterGroup\u001b[0m\u001b[1;33m(\u001b[0m\u001b[0m_larch\u001b[0m\u001b[1;33m=\u001b[0m\u001b[0m_larch\u001b[0m\u001b[1;33m,\u001b[0m \u001b[1;33m**\u001b[0m\u001b[0mkws\u001b[0m\u001b[1;33m)\u001b[0m\u001b[1;33m\u001b[0m\u001b[1;33m\u001b[0m\u001b[0m\n\u001b[0m\u001b[0;32m    106\u001b[0m \u001b[1;33m\u001b[0m\u001b[0m\n\u001b[0;32m    107\u001b[0m \u001b[1;32mdef\u001b[0m \u001b[0mparam\u001b[0m\u001b[1;33m(\u001b[0m\u001b[1;33m*\u001b[0m\u001b[0margs\u001b[0m\u001b[1;33m,\u001b[0m \u001b[1;33m**\u001b[0m\u001b[0mkws\u001b[0m\u001b[1;33m)\u001b[0m\u001b[1;33m:\u001b[0m\u001b[1;33m\u001b[0m\u001b[1;33m\u001b[0m\u001b[0m\n",
      "\u001b[1;32m~\\Anaconda3\\envs\\python36\\lib\\site-packages\\larch\\fitting\\__init__.py\u001b[0m in \u001b[0;36m__init__\u001b[1;34m(self, name, _larch, **kws)\u001b[0m\n\u001b[0;32m     63\u001b[0m                 \u001b[0mself\u001b[0m\u001b[1;33m.\u001b[0m\u001b[0m__exprsave__\u001b[0m\u001b[1;33m[\u001b[0m\u001b[0mkey\u001b[0m\u001b[1;33m]\u001b[0m \u001b[1;33m=\u001b[0m  \u001b[0mexpr\u001b[0m\u001b[1;33m\u001b[0m\u001b[1;33m\u001b[0m\u001b[0m\n\u001b[0;32m     64\u001b[0m                 \u001b[0mval\u001b[0m\u001b[1;33m.\u001b[0m\u001b[0mexpr\u001b[0m \u001b[1;33m=\u001b[0m \u001b[1;32mNone\u001b[0m\u001b[1;33m\u001b[0m\u001b[1;33m\u001b[0m\u001b[0m\n\u001b[1;32m---> 65\u001b[1;33m             \u001b[0msetattr\u001b[0m\u001b[1;33m(\u001b[0m\u001b[0mself\u001b[0m\u001b[1;33m,\u001b[0m \u001b[0mkey\u001b[0m\u001b[1;33m,\u001b[0m \u001b[0mval\u001b[0m\u001b[1;33m)\u001b[0m\u001b[1;33m\u001b[0m\u001b[1;33m\u001b[0m\u001b[0m\n\u001b[0m\u001b[0;32m     66\u001b[0m \u001b[1;33m\u001b[0m\u001b[0m\n\u001b[0;32m     67\u001b[0m         \u001b[1;32mfor\u001b[0m \u001b[0mkey\u001b[0m\u001b[1;33m,\u001b[0m \u001b[0mval\u001b[0m \u001b[1;32min\u001b[0m \u001b[0mself\u001b[0m\u001b[1;33m.\u001b[0m\u001b[0m__exprsave__\u001b[0m\u001b[1;33m.\u001b[0m\u001b[0mitems\u001b[0m\u001b[1;33m(\u001b[0m\u001b[1;33m)\u001b[0m\u001b[1;33m:\u001b[0m\u001b[1;33m\u001b[0m\u001b[1;33m\u001b[0m\u001b[0m\n",
      "\u001b[1;32m~\\Anaconda3\\envs\\python36\\lib\\site-packages\\larch\\fitting\\__init__.py\u001b[0m in \u001b[0;36m__setattr__\u001b[1;34m(self, name, val)\u001b[0m\n\u001b[0;32m     83\u001b[0m                 \u001b[1;32mif\u001b[0m \u001b[0mnval\u001b[0m \u001b[1;32mis\u001b[0m \u001b[1;32mnot\u001b[0m \u001b[1;32mNone\u001b[0m\u001b[1;33m:\u001b[0m\u001b[1;33m\u001b[0m\u001b[1;33m\u001b[0m\u001b[0m\n\u001b[0;32m     84\u001b[0m                     \u001b[0mval\u001b[0m\u001b[1;33m.\u001b[0m\u001b[0mvalue\u001b[0m \u001b[1;33m=\u001b[0m \u001b[0mnval\u001b[0m\u001b[1;33m\u001b[0m\u001b[1;33m\u001b[0m\u001b[0m\n\u001b[1;32m---> 85\u001b[1;33m             self.__params__.add(name, value=val.value, vary=val.vary, min=val.min,\n\u001b[0m\u001b[0;32m     86\u001b[0m                               max=val.max, expr=val.expr, brute_step=val.brute_step)\n\u001b[0;32m     87\u001b[0m             \u001b[0mval\u001b[0m \u001b[1;33m=\u001b[0m \u001b[0mself\u001b[0m\u001b[1;33m.\u001b[0m\u001b[0m__params__\u001b[0m\u001b[1;33m[\u001b[0m\u001b[0mname\u001b[0m\u001b[1;33m]\u001b[0m\u001b[1;33m\u001b[0m\u001b[1;33m\u001b[0m\u001b[0m\n",
      "\u001b[1;31mAttributeError\u001b[0m: 'NoneType' object has no attribute 'add'"
     ]
    }
   ],
   "source": [
    "pg = param_group(amp = param(1.0, vary=True),\n",
    "                 del_e0 = param(0.0, vary=True),\n",
    "                 sig2   = param(0.0, vary=True),\n",
    "                 del_r  = param(0.0, vary=True))"
   ]
  },
  {
   "cell_type": "code",
   "execution_count": 41,
   "metadata": {},
   "outputs": [],
   "source": [
    "amp = param(1.0, vary=True)\n",
    "del_e0 = param(0.0, vary=True)\n",
    "sig2   = param(0.0, vary=True)\n",
    "del_r  = guess(0.0, vary=True)"
   ]
  },
  {
   "cell_type": "code",
   "execution_count": 122,
   "metadata": {},
   "outputs": [
    {
     "ename": "TypeError",
     "evalue": "param_group() takes from 0 to 1 positional arguments but 2 were given",
     "output_type": "error",
     "traceback": [
      "\u001b[1;31m---------------------------------------------------------------------------\u001b[0m",
      "\u001b[1;31mTypeError\u001b[0m                                 Traceback (most recent call last)",
      "\u001b[1;32m<ipython-input-122-f026f1f88f19>\u001b[0m in \u001b[0;36m<module>\u001b[1;34m\u001b[0m\n\u001b[1;32m----> 1\u001b[1;33m \u001b[0mparam_group\u001b[0m\u001b[1;33m(\u001b[0m\u001b[0mamp\u001b[0m\u001b[1;33m,\u001b[0m \u001b[0mdel_e0\u001b[0m\u001b[1;33m)\u001b[0m\u001b[1;33m\u001b[0m\u001b[1;33m\u001b[0m\u001b[0m\n\u001b[0m",
      "\u001b[1;31mTypeError\u001b[0m: param_group() takes from 0 to 1 positional arguments but 2 were given"
     ]
    }
   ],
   "source": [
    "param_group(amp, del_e0)"
   ]
  },
  {
   "cell_type": "code",
   "execution_count": 13,
   "metadata": {},
   "outputs": [
    {
     "ename": "NameError",
     "evalue": "name 'ParameterGroup' is not defined",
     "output_type": "error",
     "traceback": [
      "\u001b[1;31m---------------------------------------------------------------------------\u001b[0m",
      "\u001b[1;31mNameError\u001b[0m                                 Traceback (most recent call last)",
      "\u001b[1;32m<ipython-input-13-0f839bd155fe>\u001b[0m in \u001b[0;36m<module>\u001b[1;34m\u001b[0m\n\u001b[0;32m      1\u001b[0m \u001b[1;32mimport\u001b[0m \u001b[0mlarch\u001b[0m\u001b[1;33m\u001b[0m\u001b[1;33m\u001b[0m\u001b[0m\n\u001b[1;32m----> 2\u001b[1;33m \u001b[0mpars\u001b[0m \u001b[1;33m=\u001b[0m \u001b[0mParameterGroup\u001b[0m\u001b[1;33m\u001b[0m\u001b[1;33m\u001b[0m\u001b[0m\n\u001b[0m\u001b[0;32m      3\u001b[0m \u001b[0msetattr\u001b[0m\u001b[1;33m(\u001b[0m\u001b[0mpars\u001b[0m\u001b[1;33m,\u001b[0m \u001b[1;34m'amp'\u001b[0m\u001b[1;33m,\u001b[0m \u001b[0mparam\u001b[0m\u001b[1;33m(\u001b[0m\u001b[1;36m1.0\u001b[0m\u001b[1;33m,\u001b[0m \u001b[0mvary\u001b[0m\u001b[1;33m=\u001b[0m\u001b[1;32mTrue\u001b[0m\u001b[1;33m)\u001b[0m\u001b[1;33m)\u001b[0m\u001b[1;33m\u001b[0m\u001b[1;33m\u001b[0m\u001b[0m\n\u001b[0;32m      4\u001b[0m \u001b[0msetattr\u001b[0m\u001b[1;33m(\u001b[0m\u001b[0mpars\u001b[0m\u001b[1;33m,\u001b[0m \u001b[1;34m'del_e0'\u001b[0m\u001b[1;33m,\u001b[0m \u001b[0mparam\u001b[0m\u001b[1;33m(\u001b[0m\u001b[1;36m0.0\u001b[0m\u001b[1;33m,\u001b[0m \u001b[0mvary\u001b[0m\u001b[1;33m=\u001b[0m\u001b[1;32mTrue\u001b[0m\u001b[1;33m)\u001b[0m\u001b[1;33m)\u001b[0m\u001b[1;33m\u001b[0m\u001b[1;33m\u001b[0m\u001b[0m\n\u001b[0;32m      5\u001b[0m \u001b[0msetattr\u001b[0m\u001b[1;33m(\u001b[0m\u001b[0mpars\u001b[0m\u001b[1;33m,\u001b[0m \u001b[1;34m'sig2'\u001b[0m\u001b[1;33m,\u001b[0m \u001b[0mparam\u001b[0m\u001b[1;33m(\u001b[0m\u001b[1;36m0.0\u001b[0m\u001b[1;33m,\u001b[0m \u001b[0mvary\u001b[0m\u001b[1;33m=\u001b[0m\u001b[1;32mTrue\u001b[0m\u001b[1;33m)\u001b[0m\u001b[1;33m)\u001b[0m\u001b[1;33m\u001b[0m\u001b[1;33m\u001b[0m\u001b[0m\n",
      "\u001b[1;31mNameError\u001b[0m: name 'ParameterGroup' is not defined"
     ]
    }
   ],
   "source": [
    "import larch\n",
    "pars = ParameterGroup\n",
    "setattr(pars, 'amp', param(1.0, vary=True))\n",
    "setattr(pars, 'del_e0', param(0.0, vary=True))\n",
    "setattr(pars, 'sig2', param(0.0, vary=True))\n",
    "setattr(pars, 'del_r', guess(0.0, vary=True))\n",
    "vars(pars)"
   ]
  },
  {
   "cell_type": "code",
   "execution_count": null,
   "metadata": {},
   "outputs": [],
   "source": []
  },
  {
   "cell_type": "code",
   "execution_count": 19,
   "metadata": {},
   "outputs": [
    {
     "ename": "TypeError",
     "evalue": "'mappingproxy' object does not support item assignment",
     "output_type": "error",
     "traceback": [
      "\u001b[1;31m---------------------------------------------------------------------------\u001b[0m",
      "\u001b[1;31mTypeError\u001b[0m                                 Traceback (most recent call last)",
      "\u001b[1;32m<ipython-input-19-296237412d0b>\u001b[0m in \u001b[0;36m<module>\u001b[1;34m\u001b[0m\n\u001b[0;32m      1\u001b[0m \u001b[0mpars\u001b[0m \u001b[1;33m=\u001b[0m \u001b[0mlarch\u001b[0m\u001b[1;33m.\u001b[0m\u001b[0mfitting\u001b[0m\u001b[1;33m.\u001b[0m\u001b[0mParameterGroup\u001b[0m\u001b[1;33m\u001b[0m\u001b[1;33m\u001b[0m\u001b[0m\n\u001b[1;32m----> 2\u001b[1;33m \u001b[0mpars\u001b[0m\u001b[1;33m.\u001b[0m\u001b[0m_ParameterGroup__add\u001b[0m\u001b[1;33m(\u001b[0m\u001b[0mpars\u001b[0m\u001b[1;33m,\u001b[0m \u001b[0mname\u001b[0m\u001b[1;33m=\u001b[0m\u001b[1;34m'amp'\u001b[0m\u001b[1;33m,\u001b[0m \u001b[0mvalue\u001b[0m \u001b[1;33m=\u001b[0m \u001b[1;36m1.0\u001b[0m\u001b[1;33m,\u001b[0m \u001b[0mvary\u001b[0m\u001b[1;33m=\u001b[0m\u001b[1;32mTrue\u001b[0m\u001b[1;33m)\u001b[0m\u001b[1;33m\u001b[0m\u001b[1;33m\u001b[0m\u001b[0m\n\u001b[0m",
      "\u001b[1;32m~\\Anaconda3\\envs\\python36\\lib\\site-packages\\larch\\fitting\\__init__.py\u001b[0m in \u001b[0;36m__add\u001b[1;34m(self, name, value, vary, min, max, expr, stderr, correl, brute_step)\u001b[0m\n\u001b[0;32m     98\u001b[0m             \u001b[0mself\u001b[0m\u001b[1;33m.\u001b[0m\u001b[0m__params__\u001b[0m\u001b[1;33m[\u001b[0m\u001b[0mname\u001b[0m\u001b[1;33m]\u001b[0m\u001b[1;33m.\u001b[0m\u001b[0mstderr\u001b[0m \u001b[1;33m=\u001b[0m \u001b[0mstderr\u001b[0m\u001b[1;33m\u001b[0m\u001b[1;33m\u001b[0m\u001b[0m\n\u001b[0;32m     99\u001b[0m             \u001b[0mself\u001b[0m\u001b[1;33m.\u001b[0m\u001b[0m__params__\u001b[0m\u001b[1;33m[\u001b[0m\u001b[0mname\u001b[0m\u001b[1;33m]\u001b[0m\u001b[1;33m.\u001b[0m\u001b[0mcorrel\u001b[0m \u001b[1;33m=\u001b[0m \u001b[0mcorrel\u001b[0m\u001b[1;33m\u001b[0m\u001b[1;33m\u001b[0m\u001b[0m\n\u001b[1;32m--> 100\u001b[1;33m             \u001b[0mself\u001b[0m\u001b[1;33m.\u001b[0m\u001b[0m__dict__\u001b[0m\u001b[1;33m[\u001b[0m\u001b[0mname\u001b[0m\u001b[1;33m]\u001b[0m \u001b[1;33m=\u001b[0m \u001b[0mself\u001b[0m\u001b[1;33m.\u001b[0m\u001b[0m__params__\u001b[0m\u001b[1;33m[\u001b[0m\u001b[0mname\u001b[0m\u001b[1;33m]\u001b[0m\u001b[1;33m\u001b[0m\u001b[1;33m\u001b[0m\u001b[0m\n\u001b[0m\u001b[0;32m    101\u001b[0m \u001b[1;33m\u001b[0m\u001b[0m\n\u001b[0;32m    102\u001b[0m \u001b[1;33m\u001b[0m\u001b[0m\n",
      "\u001b[1;31mTypeError\u001b[0m: 'mappingproxy' object does not support item assignment"
     ]
    }
   ],
   "source": [
    "pars = larch.fitting.ParameterGroup\n",
    "pars._ParameterGroup__add(pars, name='amp', value = 1.0, vary=True)"
   ]
  },
  {
   "cell_type": "code",
   "execution_count": 12,
   "metadata": {},
   "outputs": [
    {
     "data": {
      "text/plain": [
       "{'_larch': None,\n",
       " '__params__': None,\n",
       " '__name__': '0x5fc6d90',\n",
       " '__exprsave__': {}}"
      ]
     },
     "execution_count": 12,
     "metadata": {},
     "output_type": "execute_result"
    }
   ],
   "source": [
    "vars(pars)"
   ]
  },
  {
   "cell_type": "code",
   "execution_count": 98,
   "metadata": {},
   "outputs": [],
   "source": [
    "gds.amp = param(1.0, vary=True)\n",
    "setattr(gds,'del_e0',param(0.0, vary=True))"
   ]
  },
  {
   "cell_type": "code",
   "execution_count": 136,
   "metadata": {},
   "outputs": [
    {
     "ename": "SyntaxError",
     "evalue": "invalid syntax (<ipython-input-136-dc659c56ed46>, line 1)",
     "output_type": "error",
     "traceback": [
      "\u001b[1;36m  File \u001b[1;32m\"<ipython-input-136-dc659c56ed46>\"\u001b[1;36m, line \u001b[1;32m1\u001b[0m\n\u001b[1;33m    type([('amp', <Parameter 'amp', value=0.9275719344151796 +/- 0.039, bounds=[-inf:inf]>), ('del_e0', <Parameter 'del_e0', value=4.357767809115902 +/- 0.511, bounds=[-inf:inf]>), ('sig2', <Parameter 'sig2', value=0.008669688108863994 +/- 0.000308, bounds=[-inf:inf]>), ('del_r', <Parameter 'del_r', value=-0.006016656955359656 +/- 0.00261, bounds=[-inf:inf]>)]), '__name__': '0x106453f0', '__exprsave__': {}, 'amp': <Parameter 'amp', value=0.9275719344151796 +/- 0.039, bounds=[-inf:inf]>, 'del_e0': <Parameter 'del_e0', value=4.357767809115902 +/- 0.511, bounds=[-inf:inf]>, 'sig2': <Parameter 'sig2', value=0.008669688108863994 +/- 0.000308, bounds=[-inf:inf]>, 'del_r': <Parameter 'del_r', value=-0.006016656955359656 +/- 0.00261, bounds=[-inf:inf]>])\u001b[0m\n\u001b[1;37m                  ^\u001b[0m\n\u001b[1;31mSyntaxError\u001b[0m\u001b[1;31m:\u001b[0m invalid syntax\n"
     ]
    }
   ],
   "source": [
    "type([('amp', <Parameter 'amp', value=0.9275719344151796 +/- 0.039, bounds=[-inf:inf]>), ('del_e0', <Parameter 'del_e0', value=4.357767809115902 +/- 0.511, bounds=[-inf:inf]>), ('sig2', <Parameter 'sig2', value=0.008669688108863994 +/- 0.000308, bounds=[-inf:inf]>), ('del_r', <Parameter 'del_r', value=-0.006016656955359656 +/- 0.00261, bounds=[-inf:inf]>)]), '__name__': '0x106453f0', '__exprsave__': {}, 'amp': <Parameter 'amp', value=0.9275719344151796 +/- 0.039, bounds=[-inf:inf]>, 'del_e0': <Parameter 'del_e0', value=4.357767809115902 +/- 0.511, bounds=[-inf:inf]>, 'sig2': <Parameter 'sig2', value=0.008669688108863994 +/- 0.000308, bounds=[-inf:inf]>, 'del_r': <Parameter 'del_r', value=-0.006016656955359656 +/- 0.00261, bounds=[-inf:inf]>])\n",
    "                         '__params__': Parameters([('amp', <Parameter 'amp', value=0.9275719344151796 +/- 0.039, bounds=[-inf:inf]>), ('del_e0', <Parameter 'del_e0', value=4.357767809115902 +/- 0.511, bounds=[-inf:inf]>), ('sig2', <Parameter 'sig2', value=0.008669688108863994 +/- 0.000308, bounds=[-inf:inf]>), ('del_r', <Parameter 'del_r', value=-0.006016656955359656 +/- 0.00261, bounds=[-inf:inf]>)]), '__name__': '0x106453f0', '__exprsave__': {}, 'amp': <Parameter 'amp', value=0.9275719344151796 +/- 0.039, bounds=[-inf:inf]>, 'del_e0': <Parameter 'del_e0', value=4.357767809115902 +/- 0.511, bounds=[-inf:inf]>, 'sig2': <Parameter 'sig2', value=0.008669688108863994 +/- 0.000308, bounds=[-inf:inf]>, 'del_r': <Parameter 'del_r', value=-0.006016656955359656 +/- 0.00261, bounds=[-inf:inf]>"
   ]
  },
  {
   "cell_type": "code",
   "execution_count": 138,
   "metadata": {},
   "outputs": [],
   "source": [
    "import lmfit"
   ]
  },
  {
   "cell_type": "code",
   "execution_count": 142,
   "metadata": {},
   "outputs": [
    {
     "name": "stdout",
     "output_type": "stream",
     "text": [
      "{'__module__': 'lmfit.parameter', '__doc__': 'An ordered dictionary of all the Parameter objects required to\\n    specify a fit model. All minimization and Model fitting routines in\\n    lmfit will use exactly one Parameters object, typically given as the\\n    first argument to the objective function.\\n\\n    All keys of a Parameters() instance must be strings and valid Python\\n    symbol names, so that the name must match ``[a-z_][a-z0-9_]*`` and\\n    cannot be a Python reserved word.\\n\\n    All values of a Parameters() instance must be Parameter objects.\\n\\n    A Parameters() instance includes an asteval interpreter used for\\n    evaluation of constrained Parameters.\\n\\n    Parameters() support copying and pickling, and have methods to convert\\n    to and from serializations using json strings.\\n\\n    ', '__init__': <function Parameters.__init__ at 0x0B5474B0>, 'copy': <function Parameters.copy at 0x0B5474F8>, 'update': <function Parameters.update at 0x0B547540>, '__copy__': <function Parameters.__copy__ at 0x0B547588>, '__deepcopy__': <function Parameters.__deepcopy__ at 0x0B5475D0>, '__setitem__': <function Parameters.__setitem__ at 0x0B547618>, '__add__': <function Parameters.__add__ at 0x0B547660>, '__iadd__': <function Parameters.__iadd__ at 0x0B5476A8>, '__array__': <function Parameters.__array__ at 0x0B5476F0>, '__reduce__': <function Parameters.__reduce__ at 0x0B547738>, '__setstate__': <function Parameters.__setstate__ at 0x0B547780>, 'eval': <function Parameters.eval at 0x0B5477C8>, 'update_constraints': <function Parameters.update_constraints at 0x0B547810>, 'pretty_repr': <function Parameters.pretty_repr at 0x0B547858>, 'pretty_print': <function Parameters.pretty_print at 0x0B5478A0>, '_repr_html_': <function Parameters._repr_html_ at 0x0B5478E8>, 'add': <function Parameters.add at 0x0B547930>, 'add_many': <function Parameters.add_many at 0x0B547978>, 'valuesdict': <function Parameters.valuesdict at 0x0B5479C0>, 'dumps': <function Parameters.dumps at 0x0B547A08>, 'loads': <function Parameters.loads at 0x0B547A50>, 'dump': <function Parameters.dump at 0x0B547A98>, 'load': <function Parameters.load at 0x0B547AE0>}\n"
     ]
    }
   ],
   "source": [
    "print(vars(lmfit.parameter.Parameters))"
   ]
  },
  {
   "cell_type": "code",
   "execution_count": 159,
   "metadata": {},
   "outputs": [],
   "source": [
    "lmg_pars = lmfit.parameter.Parameters()\n"
   ]
  },
  {
   "cell_type": "code",
   "execution_count": 160,
   "metadata": {},
   "outputs": [],
   "source": [
    "lmg_pars.add('amp', param(1.0, vary=True))"
   ]
  },
  {
   "cell_type": "code",
   "execution_count": 156,
   "metadata": {},
   "outputs": [
    {
     "ename": "TypeError",
     "evalue": "unsupported format string passed to Parameter.__format__",
     "output_type": "error",
     "traceback": [
      "\u001b[1;31m---------------------------------------------------------------------------\u001b[0m",
      "\u001b[1;31mTypeError\u001b[0m                                 Traceback (most recent call last)",
      "\u001b[1;32m~\\Anaconda3\\envs\\python36\\lib\\site-packages\\IPython\\core\\formatters.py\u001b[0m in \u001b[0;36m__call__\u001b[1;34m(self, obj)\u001b[0m\n\u001b[0;32m    343\u001b[0m             \u001b[0mmethod\u001b[0m \u001b[1;33m=\u001b[0m \u001b[0mget_real_method\u001b[0m\u001b[1;33m(\u001b[0m\u001b[0mobj\u001b[0m\u001b[1;33m,\u001b[0m \u001b[0mself\u001b[0m\u001b[1;33m.\u001b[0m\u001b[0mprint_method\u001b[0m\u001b[1;33m)\u001b[0m\u001b[1;33m\u001b[0m\u001b[1;33m\u001b[0m\u001b[0m\n\u001b[0;32m    344\u001b[0m             \u001b[1;32mif\u001b[0m \u001b[0mmethod\u001b[0m \u001b[1;32mis\u001b[0m \u001b[1;32mnot\u001b[0m \u001b[1;32mNone\u001b[0m\u001b[1;33m:\u001b[0m\u001b[1;33m\u001b[0m\u001b[1;33m\u001b[0m\u001b[0m\n\u001b[1;32m--> 345\u001b[1;33m                 \u001b[1;32mreturn\u001b[0m \u001b[0mmethod\u001b[0m\u001b[1;33m(\u001b[0m\u001b[1;33m)\u001b[0m\u001b[1;33m\u001b[0m\u001b[1;33m\u001b[0m\u001b[0m\n\u001b[0m\u001b[0;32m    346\u001b[0m             \u001b[1;32mreturn\u001b[0m \u001b[1;32mNone\u001b[0m\u001b[1;33m\u001b[0m\u001b[1;33m\u001b[0m\u001b[0m\n\u001b[0;32m    347\u001b[0m         \u001b[1;32melse\u001b[0m\u001b[1;33m:\u001b[0m\u001b[1;33m\u001b[0m\u001b[1;33m\u001b[0m\u001b[0m\n",
      "\u001b[1;32m~\\Anaconda3\\envs\\python36\\lib\\site-packages\\lmfit\\parameter.py\u001b[0m in \u001b[0;36m_repr_html_\u001b[1;34m(self)\u001b[0m\n\u001b[0;32m    325\u001b[0m     \u001b[1;32mdef\u001b[0m \u001b[0m_repr_html_\u001b[0m\u001b[1;33m(\u001b[0m\u001b[0mself\u001b[0m\u001b[1;33m)\u001b[0m\u001b[1;33m:\u001b[0m\u001b[1;33m\u001b[0m\u001b[1;33m\u001b[0m\u001b[0m\n\u001b[0;32m    326\u001b[0m         \u001b[1;34m\"\"\"Returns a HTML representation of parameters data.\"\"\"\u001b[0m\u001b[1;33m\u001b[0m\u001b[1;33m\u001b[0m\u001b[0m\n\u001b[1;32m--> 327\u001b[1;33m         \u001b[1;32mreturn\u001b[0m \u001b[0mparams_html_table\u001b[0m\u001b[1;33m(\u001b[0m\u001b[0mself\u001b[0m\u001b[1;33m)\u001b[0m\u001b[1;33m\u001b[0m\u001b[1;33m\u001b[0m\u001b[0m\n\u001b[0m\u001b[0;32m    328\u001b[0m \u001b[1;33m\u001b[0m\u001b[0m\n\u001b[0;32m    329\u001b[0m     def add(self, name, value=None, vary=True, min=-inf, max=inf, expr=None,\n",
      "\u001b[1;32m~\\Anaconda3\\envs\\python36\\lib\\site-packages\\lmfit\\printfuncs.py\u001b[0m in \u001b[0;36mparams_html_table\u001b[1;34m(params)\u001b[0m\n\u001b[0;32m    283\u001b[0m \u001b[1;33m\u001b[0m\u001b[0m\n\u001b[0;32m    284\u001b[0m     \u001b[1;32mfor\u001b[0m \u001b[0mpar\u001b[0m \u001b[1;32min\u001b[0m \u001b[0mparams\u001b[0m\u001b[1;33m.\u001b[0m\u001b[0mvalues\u001b[0m\u001b[1;33m(\u001b[0m\u001b[1;33m)\u001b[0m\u001b[1;33m:\u001b[0m\u001b[1;33m\u001b[0m\u001b[1;33m\u001b[0m\u001b[0m\n\u001b[1;32m--> 285\u001b[1;33m         \u001b[0mrows\u001b[0m \u001b[1;33m=\u001b[0m \u001b[1;33m[\u001b[0m\u001b[0mpar\u001b[0m\u001b[1;33m.\u001b[0m\u001b[0mname\u001b[0m\u001b[1;33m,\u001b[0m \u001b[0mgformat\u001b[0m\u001b[1;33m(\u001b[0m\u001b[0mpar\u001b[0m\u001b[1;33m.\u001b[0m\u001b[0mvalue\u001b[0m\u001b[1;33m)\u001b[0m\u001b[1;33m]\u001b[0m\u001b[1;33m\u001b[0m\u001b[1;33m\u001b[0m\u001b[0m\n\u001b[0m\u001b[0;32m    286\u001b[0m         \u001b[1;32mif\u001b[0m \u001b[0mhas_err\u001b[0m\u001b[1;33m:\u001b[0m\u001b[1;33m\u001b[0m\u001b[1;33m\u001b[0m\u001b[0m\n\u001b[0;32m    287\u001b[0m             \u001b[0mserr\u001b[0m \u001b[1;33m=\u001b[0m \u001b[1;34m''\u001b[0m\u001b[1;33m\u001b[0m\u001b[1;33m\u001b[0m\u001b[0m\n",
      "\u001b[1;32m~\\Anaconda3\\envs\\python36\\lib\\site-packages\\lmfit\\printfuncs.py\u001b[0m in \u001b[0;36mgformat\u001b[1;34m(val, length)\u001b[0m\n\u001b[0;32m     75\u001b[0m             \u001b[0mprec\u001b[0m \u001b[1;33m-=\u001b[0m \u001b[0mexpon\u001b[0m\u001b[1;33m\u001b[0m\u001b[1;33m\u001b[0m\u001b[0m\n\u001b[0;32m     76\u001b[0m     \u001b[0mfmt\u001b[0m \u001b[1;33m=\u001b[0m \u001b[1;34m'{0: %i.%i%s}'\u001b[0m \u001b[1;33m%\u001b[0m \u001b[1;33m(\u001b[0m\u001b[0mlength\u001b[0m\u001b[1;33m,\u001b[0m \u001b[0mprec\u001b[0m\u001b[1;33m,\u001b[0m \u001b[0mform\u001b[0m\u001b[1;33m)\u001b[0m\u001b[1;33m\u001b[0m\u001b[1;33m\u001b[0m\u001b[0m\n\u001b[1;32m---> 77\u001b[1;33m     \u001b[1;32mreturn\u001b[0m \u001b[0mfmt\u001b[0m\u001b[1;33m.\u001b[0m\u001b[0mformat\u001b[0m\u001b[1;33m(\u001b[0m\u001b[0mval\u001b[0m\u001b[1;33m)\u001b[0m\u001b[1;33m[\u001b[0m\u001b[1;33m:\u001b[0m\u001b[0mlength\u001b[0m\u001b[1;33m]\u001b[0m\u001b[1;33m\u001b[0m\u001b[1;33m\u001b[0m\u001b[0m\n\u001b[0m\u001b[0;32m     78\u001b[0m \u001b[1;33m\u001b[0m\u001b[0m\n\u001b[0;32m     79\u001b[0m \u001b[1;33m\u001b[0m\u001b[0m\n",
      "\u001b[1;31mTypeError\u001b[0m: unsupported format string passed to Parameter.__format__"
     ]
    },
    {
     "data": {
      "text/plain": [
       "Parameters([('alpha', <Parameter 'alpha', value=-inf, bounds=[-inf:inf]>),\n",
       "            ('amp',\n",
       "             <Parameter 'amp', value=<Parameter '_tmp_param_', value=1.0, bounds=[-inf:inf]>, bounds=[-inf:inf]>)])"
      ]
     },
     "execution_count": 156,
     "metadata": {},
     "output_type": "execute_result"
    }
   ],
   "source": [
    "lmg_pars"
   ]
  },
  {
   "cell_type": "code",
   "execution_count": 161,
   "metadata": {},
   "outputs": [],
   "source": [
    "pars.__params__ = lmg_pars"
   ]
  },
  {
   "cell_type": "code",
   "execution_count": 162,
   "metadata": {},
   "outputs": [
    {
     "ename": "TypeError",
     "evalue": "unsupported format string passed to Parameter.__format__",
     "output_type": "error",
     "traceback": [
      "\u001b[1;31m---------------------------------------------------------------------------\u001b[0m",
      "\u001b[1;31mTypeError\u001b[0m                                 Traceback (most recent call last)",
      "\u001b[1;32m~\\Anaconda3\\envs\\python36\\lib\\site-packages\\IPython\\core\\formatters.py\u001b[0m in \u001b[0;36m__call__\u001b[1;34m(self, obj)\u001b[0m\n\u001b[0;32m    343\u001b[0m             \u001b[0mmethod\u001b[0m \u001b[1;33m=\u001b[0m \u001b[0mget_real_method\u001b[0m\u001b[1;33m(\u001b[0m\u001b[0mobj\u001b[0m\u001b[1;33m,\u001b[0m \u001b[0mself\u001b[0m\u001b[1;33m.\u001b[0m\u001b[0mprint_method\u001b[0m\u001b[1;33m)\u001b[0m\u001b[1;33m\u001b[0m\u001b[1;33m\u001b[0m\u001b[0m\n\u001b[0;32m    344\u001b[0m             \u001b[1;32mif\u001b[0m \u001b[0mmethod\u001b[0m \u001b[1;32mis\u001b[0m \u001b[1;32mnot\u001b[0m \u001b[1;32mNone\u001b[0m\u001b[1;33m:\u001b[0m\u001b[1;33m\u001b[0m\u001b[1;33m\u001b[0m\u001b[0m\n\u001b[1;32m--> 345\u001b[1;33m                 \u001b[1;32mreturn\u001b[0m \u001b[0mmethod\u001b[0m\u001b[1;33m(\u001b[0m\u001b[1;33m)\u001b[0m\u001b[1;33m\u001b[0m\u001b[1;33m\u001b[0m\u001b[0m\n\u001b[0m\u001b[0;32m    346\u001b[0m             \u001b[1;32mreturn\u001b[0m \u001b[1;32mNone\u001b[0m\u001b[1;33m\u001b[0m\u001b[1;33m\u001b[0m\u001b[0m\n\u001b[0;32m    347\u001b[0m         \u001b[1;32melse\u001b[0m\u001b[1;33m:\u001b[0m\u001b[1;33m\u001b[0m\u001b[1;33m\u001b[0m\u001b[0m\n",
      "\u001b[1;32m~\\Anaconda3\\envs\\python36\\lib\\site-packages\\lmfit\\parameter.py\u001b[0m in \u001b[0;36m_repr_html_\u001b[1;34m(self)\u001b[0m\n\u001b[0;32m    325\u001b[0m     \u001b[1;32mdef\u001b[0m \u001b[0m_repr_html_\u001b[0m\u001b[1;33m(\u001b[0m\u001b[0mself\u001b[0m\u001b[1;33m)\u001b[0m\u001b[1;33m:\u001b[0m\u001b[1;33m\u001b[0m\u001b[1;33m\u001b[0m\u001b[0m\n\u001b[0;32m    326\u001b[0m         \u001b[1;34m\"\"\"Returns a HTML representation of parameters data.\"\"\"\u001b[0m\u001b[1;33m\u001b[0m\u001b[1;33m\u001b[0m\u001b[0m\n\u001b[1;32m--> 327\u001b[1;33m         \u001b[1;32mreturn\u001b[0m \u001b[0mparams_html_table\u001b[0m\u001b[1;33m(\u001b[0m\u001b[0mself\u001b[0m\u001b[1;33m)\u001b[0m\u001b[1;33m\u001b[0m\u001b[1;33m\u001b[0m\u001b[0m\n\u001b[0m\u001b[0;32m    328\u001b[0m \u001b[1;33m\u001b[0m\u001b[0m\n\u001b[0;32m    329\u001b[0m     def add(self, name, value=None, vary=True, min=-inf, max=inf, expr=None,\n",
      "\u001b[1;32m~\\Anaconda3\\envs\\python36\\lib\\site-packages\\lmfit\\printfuncs.py\u001b[0m in \u001b[0;36mparams_html_table\u001b[1;34m(params)\u001b[0m\n\u001b[0;32m    283\u001b[0m \u001b[1;33m\u001b[0m\u001b[0m\n\u001b[0;32m    284\u001b[0m     \u001b[1;32mfor\u001b[0m \u001b[0mpar\u001b[0m \u001b[1;32min\u001b[0m \u001b[0mparams\u001b[0m\u001b[1;33m.\u001b[0m\u001b[0mvalues\u001b[0m\u001b[1;33m(\u001b[0m\u001b[1;33m)\u001b[0m\u001b[1;33m:\u001b[0m\u001b[1;33m\u001b[0m\u001b[1;33m\u001b[0m\u001b[0m\n\u001b[1;32m--> 285\u001b[1;33m         \u001b[0mrows\u001b[0m \u001b[1;33m=\u001b[0m \u001b[1;33m[\u001b[0m\u001b[0mpar\u001b[0m\u001b[1;33m.\u001b[0m\u001b[0mname\u001b[0m\u001b[1;33m,\u001b[0m \u001b[0mgformat\u001b[0m\u001b[1;33m(\u001b[0m\u001b[0mpar\u001b[0m\u001b[1;33m.\u001b[0m\u001b[0mvalue\u001b[0m\u001b[1;33m)\u001b[0m\u001b[1;33m]\u001b[0m\u001b[1;33m\u001b[0m\u001b[1;33m\u001b[0m\u001b[0m\n\u001b[0m\u001b[0;32m    286\u001b[0m         \u001b[1;32mif\u001b[0m \u001b[0mhas_err\u001b[0m\u001b[1;33m:\u001b[0m\u001b[1;33m\u001b[0m\u001b[1;33m\u001b[0m\u001b[0m\n\u001b[0;32m    287\u001b[0m             \u001b[0mserr\u001b[0m \u001b[1;33m=\u001b[0m \u001b[1;34m''\u001b[0m\u001b[1;33m\u001b[0m\u001b[1;33m\u001b[0m\u001b[0m\n",
      "\u001b[1;32m~\\Anaconda3\\envs\\python36\\lib\\site-packages\\lmfit\\printfuncs.py\u001b[0m in \u001b[0;36mgformat\u001b[1;34m(val, length)\u001b[0m\n\u001b[0;32m     75\u001b[0m             \u001b[0mprec\u001b[0m \u001b[1;33m-=\u001b[0m \u001b[0mexpon\u001b[0m\u001b[1;33m\u001b[0m\u001b[1;33m\u001b[0m\u001b[0m\n\u001b[0;32m     76\u001b[0m     \u001b[0mfmt\u001b[0m \u001b[1;33m=\u001b[0m \u001b[1;34m'{0: %i.%i%s}'\u001b[0m \u001b[1;33m%\u001b[0m \u001b[1;33m(\u001b[0m\u001b[0mlength\u001b[0m\u001b[1;33m,\u001b[0m \u001b[0mprec\u001b[0m\u001b[1;33m,\u001b[0m \u001b[0mform\u001b[0m\u001b[1;33m)\u001b[0m\u001b[1;33m\u001b[0m\u001b[1;33m\u001b[0m\u001b[0m\n\u001b[1;32m---> 77\u001b[1;33m     \u001b[1;32mreturn\u001b[0m \u001b[0mfmt\u001b[0m\u001b[1;33m.\u001b[0m\u001b[0mformat\u001b[0m\u001b[1;33m(\u001b[0m\u001b[0mval\u001b[0m\u001b[1;33m)\u001b[0m\u001b[1;33m[\u001b[0m\u001b[1;33m:\u001b[0m\u001b[0mlength\u001b[0m\u001b[1;33m]\u001b[0m\u001b[1;33m\u001b[0m\u001b[1;33m\u001b[0m\u001b[0m\n\u001b[0m\u001b[0;32m     78\u001b[0m \u001b[1;33m\u001b[0m\u001b[0m\n\u001b[0;32m     79\u001b[0m \u001b[1;33m\u001b[0m\u001b[0m\n",
      "\u001b[1;31mTypeError\u001b[0m: unsupported format string passed to Parameter.__format__"
     ]
    },
    {
     "data": {
      "text/plain": [
       "Parameters([('amp',\n",
       "             <Parameter 'amp', value=<Parameter '_tmp_param_', value=1.0, bounds=[-inf:inf]>, bounds=[-inf:inf]>)])"
      ]
     },
     "execution_count": 162,
     "metadata": {},
     "output_type": "execute_result"
    }
   ],
   "source": [
    "pars.__params__"
   ]
  },
  {
   "cell_type": "code",
   "execution_count": 168,
   "metadata": {},
   "outputs": [
    {
     "data": {
      "text/plain": [
       "{'_larch': None,\n",
       " '__params__': Parameters([('amp',\n",
       "              <Parameter 'amp', value=1.0, bounds=[-inf:inf]>),\n",
       "             ('del_e0', <Parameter 'del_e0', value=0.0, bounds=[-inf:inf]>),\n",
       "             ('sig2', <Parameter 'sig2', value=0.0, bounds=[-inf:inf]>),\n",
       "             ('del_r', <Parameter 'del_r', value=0.0, bounds=[-inf:inf]>)]),\n",
       " '__name__': '0xf1e110',\n",
       " '__exprsave__': {},\n",
       " 'amp': <Parameter 'amp', value=1.0, bounds=[-inf:inf]>,\n",
       " 'del_e0': <Parameter 'del_e0', value=0.0, bounds=[-inf:inf]>,\n",
       " 'sig2': <Parameter 'sig2', value=0.0, bounds=[-inf:inf]>,\n",
       " 'del_r': <Parameter 'del_r', value=0.0, bounds=[-inf:inf]>}"
      ]
     },
     "execution_count": 168,
     "metadata": {},
     "output_type": "execute_result"
    }
   ],
   "source": [
    "pars = ParameterGroup()\n",
    "lmg_pars = lmfit.parameter.Parameters()\n",
    "pars.__params__ = lmg_pars\n",
    "setattr(pars, 'amp', param(1.0, vary=True))\n",
    "pars.__params__.add('amp', value = 1.0, vary=True) \n",
    "setattr(pars, 'del_e0', param(0.0, vary=True))\n",
    "pars.__params__.add('del_e0', value = 0.0, vary=True) \n",
    "setattr(pars, 'sig2', param(0.0, vary=True))\n",
    "pars.__params__.add('sig2', value = 0.0, vary=True) \n",
    "setattr(pars, 'del_r', guess(0.0, vary=True))\n",
    "pars.__params__.add('del_r', value = 0.0) \n",
    "vars(pars)"
   ]
  },
  {
   "cell_type": "code",
   "execution_count": null,
   "metadata": {},
   "outputs": [],
   "source": []
  }
 ],
 "metadata": {
  "kernelspec": {
   "display_name": "Python 3",
   "language": "python",
   "name": "python3"
  },
  "language_info": {
   "codemirror_mode": {
    "name": "ipython",
    "version": 3
   },
   "file_extension": ".py",
   "mimetype": "text/x-python",
   "name": "python",
   "nbconvert_exporter": "python",
   "pygments_lexer": "ipython3",
   "version": "3.6.10"
  }
 },
 "nbformat": 4,
 "nbformat_minor": 4
}
