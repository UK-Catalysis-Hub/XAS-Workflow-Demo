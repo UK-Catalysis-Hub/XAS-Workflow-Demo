{
 "cells": [
  {
   "cell_type": "markdown",
   "metadata": {},
   "source": [
    "# XAS Workflow Task 2\n",
    "\n",
    "This notebook contains the second task of the XAS processing workflow. \n",
    "\n",
    "The break up of the task consist of the following steps \n",
    "\n",
    "|Task                            | Input                                         | Output\n",
    "|-------------                   |-------------                                  |-----  \n",
    "| Curve fitting||\n",
    "| 1. Import data                |File: FeS2_larch.prj                              |\n",
    "| 2. Import Crystal data        |File: FeS2.inp                                 |\n",
    "| 3. Calculate Paths(Atoms+FEFF)||\n",
    "| 4. Set path parameters        | Parameters:                                   |\n",
    "|                                 |    amp  = 1                                   |\n",
    "|                                 |    enot = 0                                   |\n",
    "|                                 |    delr = 0                                   |\n",
    "|                                 |    ss   = 0.003                               |\n",
    "| 5. Run Fit                    |                                               |\n",
    "| 6. Save project               ||\n",
    "| 7. Verify fit results         ||\n",
    "| 7.1 If not OK revise parameners and refit (go to 2.4)||\n",
    "| 7.2 If OK Save project and outputs|                                           |File: FeS2_01.fpj\n",
    "\n",
    "For more details about larch, see https://xraypy.github.io/xraylarch/xafs/\n"
   ]
  },
  {
   "cell_type": "code",
   "execution_count": 1,
   "metadata": {},
   "outputs": [],
   "source": [
    "# managing athena files\n",
    "from larch.io import create_athena, read_athena, extract_athenagroup\n",
    "\n",
    "project_name = 'FeS2_larch.prj'\n",
    "\n",
    "\n",
    "fes2_prj = read_athena(project_name)\n",
    "\n",
    "group_keys = list(fes2_prj._athena_groups.keys())\n",
    "\n",
    "group_names = {}\n",
    "\n",
    "for group_key in group_keys:\n",
    "    group_names[group_key] = group_key"
   ]
  },
  {
   "cell_type": "code",
   "execution_count": 2,
   "metadata": {},
   "outputs": [
    {
     "data": {
      "image/png": "[encoded data removed]",
      "text/plain": [
       "<Figure size 432x288 with 1 Axes>"
      ]
     },
     "metadata": {
      "needs_background": "light"
     },
     "output_type": "display_data"
    }
   ],
   "source": [
    "# required larch modules\n",
    "# calculate pre-edge and post edge for normalisation\n",
    "from larch.xafs import pre_edge\n",
    "# perform background removal\n",
    "from larch.xafs import autobk\n",
    "# calculate fourier transform\n",
    "from larch.xafs import xftf\n",
    "\n",
    "%matplotlib inline\n",
    "import matplotlib.pyplot as plt\n",
    "\n",
    " #######################################################\n",
    "# |         Athena recalculates everything so we      | #\n",
    "# |      need to create a function that calculates    | #\n",
    "# V               all for each new group              V #\n",
    " #######################################################\n",
    "\n",
    "def calc_with_defaults(xafs_group):\n",
    "    # calculate mu and normalise with background extraction\n",
    "    # should let the user specify the colums for i0, it, mu, iR. \n",
    "    if not hasattr(xafs_group, 'mu'):\n",
    "        xafs_group = get_mu(xafs_group)    \n",
    "    # calculate pre-edge and post edge and add them to group\n",
    "    pre_edge(xafs_group)\n",
    "    # perform background removal\n",
    "    autobk(xafs_group) # using defaults so no additional parameters are passed\n",
    "    # calculate fourier transform\n",
    "    xftf(xafs_group, kweight=0.5, kmin=3.0, kmax=12.871, dk=1, kwindow='Hanning')\n",
    "    return xafs_group\n",
    "\n",
    "\n",
    " #######################################################\n",
    "# |       The code for plotting Nmu vs E repeats      | #\n",
    "# |   so it is useful to have a plotting function     | #\n",
    "# V            to reduce duplicated code              V #\n",
    " #######################################################\n",
    "# plot mu vs flat normalised mu for selected groups\n",
    "def plot_NxmuE_E_athena_prj(athena_project, group_keys, group_names,\n",
    "                            title = \"Normalised Mu vs E\", xlimits = None,\n",
    "                            ylimits = None):    \n",
    "    # plot mu vs flat normalised mu for selected groups\n",
    "    for group_key in group_keys:\n",
    "        gr_0 = extract_athenagroup(athena_project._athena_groups[group_key])\n",
    "        # recalculate normalisation\n",
    "        calc_with_defaults(gr_0)\n",
    "        plt.plot(gr_0.energy, gr_0.flat, label=group_names[group_key])\n",
    "\n",
    "    # set plot format\n",
    "    plt.xlabel(\"Energy\")\n",
    "    plt.ylabel(\"normalised xmuE\" )\n",
    "    plt.title(title)\n",
    "    plt.grid(linestyle=':', linewidth=1) #show and format grid\n",
    "    if xlimits != None:\n",
    "        plt.xlim(xlimits[0],xlimits[1])\n",
    "    if ylimits != None:\n",
    "        plt.ylim(ylimits[0],ylimits[1])\n",
    "    plt.legend()\n",
    "    return plt\n",
    "\n",
    "# plot normalised mu on energy\n",
    "# plot mu vs flat normalised mu for selected groups\n",
    "plt = plot_NxmuE_E_athena_prj(fes2_prj, group_keys, group_names)\n",
    "plt.show()\n",
    "# need to read parameters for pre-edge and background the calculating with  \n",
    "# defaul values undoes the work of previous step (setting pre-edge limits)."
   ]
  },
  {
   "cell_type": "code",
   "execution_count": 3,
   "metadata": {
    "scrolled": true
   },
   "outputs": [
    {
     "name": "stdout",
     "output_type": "stream",
     "text": [
      "Passed!\n",
      " : ======== running Feff module C:\\Users\\scman1\\Anaconda3\\envs\\python36\\lib\\site-packages\\larch\\bin\\win32\\feff6l.exe ========\n",
      " : Feff 6L.02\n",
      " : name:     Iron sulfide (pyrite)\n",
      " : formula:  FeS_2\n",
      " : refer1:   Elliot (1960) J.Chem. Phys. 33(3), 903.\n",
      " : Calculating potentials and phases...\n",
      " : free atom potential and density for atom type    0\n",
      " : free atom potential and density for atom type    1\n",
      " : free atom potential and density for atom type    2\n",
      " : overlapped potential and density for unique potential    0\n",
      " : overlapped potential and density for unique potential    1\n",
      " : overlapped potential and density for unique potential    2\n",
      " : muffin tin radii and interstitial parameters\n",
      " : phase shifts for unique potential    0\n",
      " : phase shifts for unique potential    1\n",
      " : phase shifts for unique potential    2\n",
      " : Preparing plane wave scattering amplitudes...\n",
      " : nncrit in prcrit       9\n",
      " : Searching for paths...\n",
      " : Rmax  6.0000  keep and heap limits   0.0000000   0.0000000\n",
      " : Preparing neighbor table\n",
      " : nfound  nheap  nheapx  nsc    r\n",
      " : 1000    353     410   5    5.6619\n",
      " : Paths found     1978   (nheapx, nbx     410   5)\n",
      " : Eliminating path degeneracies...\n",
      " : Plane wave chi amplitude filter   2.50%\n",
      " : Unique paths     63,  total paths     778\n",
      " : Calculating EXAFS parameters...\n",
      " : Curved wave chi amplitude ratio   4.00%\n",
      " : Discard feff.dat for paths with cw ratio <   2.67%\n",
      " : path  cw ratio     deg    nleg  reff\n",
      " : 1   100.000     6.000     2   2.2566\n",
      " : 2    34.004     6.000     2   3.4449\n",
      " : 3    10.152     2.000     2   3.5942\n",
      " : 4    55.217    12.000     2   3.8212\n",
      " : 5    13.922    12.000     3   3.9365\n",
      " : 6    29.341    24.000     3   4.1672\n",
      " : 7     4.320    12.000     3   4.3836\n",
      " : 8     3.785     6.000     4   4.4281\n",
      " : 9    17.345     6.000     2   4.4378\n",
      " : 10     4.564    12.000     3   4.4582\n",
      " : 11     3.287    12.000     3   4.5068\n",
      " : 12    10.009     6.000     3   4.5131\n",
      " : 13    11.378     6.000     4   4.5131\n",
      " : 14     4.293     6.000     4   4.5131\n",
      " : 15     7.912    12.000     4   4.5131\n",
      " : 16     4.031    24.000     3   4.7613\n",
      " : 17     6.903    24.000     3   4.7613\n",
      " : 18     3.626    12.000     3   4.8360\n",
      " : 19     7.595    12.000     3   4.8800\n",
      " : 20     5.450    12.000     3   5.0032\n",
      " : 21    11.486     6.000     2   5.1448\n",
      " : 22    21.733    12.000     2   5.2460\n",
      " : 23     2.703    12.000     3   5.2460\n",
      " : 24     7.163    24.000     3   5.2578\n",
      " : 25    26.479    12.000     3   5.2841\n",
      " : 26     2.154    12.000     4   5.3222 neglected\n",
      " : 27    16.901     6.000     4   5.3222\n",
      " : 28     3.264    12.000     3   5.3266\n",
      " : 29     2.126    24.000     3   5.3555 neglected\n",
      " : 30     8.407    12.000     3   5.3567\n",
      " : 31    11.212     6.000     2   5.4040\n",
      " : 32     9.856    12.000     3   5.4073\n",
      " : 33     2.107    12.000     3   5.4742 neglected\n",
      " : 34     3.203    12.000     3   5.5053\n",
      " : 35     5.637    12.000     3   5.5527\n",
      " : 36     9.096    12.000     3   5.5527\n",
      " : 37     9.453    12.000     3   5.5527\n",
      " : 38     2.023    12.000     4   5.5687 neglected\n",
      " : 39     2.870     6.000     4   5.5687\n",
      " : 40     1.798     6.000     4   5.5687 neglected\n",
      " : 41     2.366    12.000     3   5.6113 neglected\n",
      " : 42     4.102    24.000     3   5.6619\n",
      " : 43     5.025    24.000     3   5.6619\n",
      " : 44     3.248    12.000     4   5.7000\n",
      " : 45     1.880    12.000     4   5.7015 neglected\n",
      " : 46     0.649    12.000     4   5.7015 neglected\n",
      " : 47     2.754     6.000     4   5.7015\n",
      " : 48     1.829     6.000     4   5.7015 neglected\n",
      " : 49     1.361    12.000     4   5.7015 neglected\n",
      " : 50     1.179    12.000     4   5.7015 neglected\n",
      " : 51     8.397    12.000     4   5.7015\n",
      " : 52     3.144    48.000     3   5.7318\n",
      " : 53     2.757     2.000     2   5.7658\n",
      " : 54     8.856     4.000     3   5.7658\n",
      " : 55     7.847     2.000     4   5.7658\n",
      " : 56     2.531    12.000     3   5.8277 neglected\n",
      " : 57     0.686    12.000     4   5.8508 neglected\n",
      " : 58    15.808    12.000     2   5.8562\n",
      " : 59     2.304    12.000     3   5.8770 neglected\n",
      " : 60     2.795    12.000     3   5.8783\n",
      " : 61     2.237    12.000     3   5.9529 neglected\n",
      " : 62     8.219    24.000     3   5.9670\n",
      " : 63    10.657    24.000     3   5.9670\n",
      " : 48 paths kept,   63 examined.\n",
      " : Feff done.  Have a nice day.\n"
     ]
    },
    {
     "data": {
      "text/plain": [
       "<External Feff Group: ./fes2_feff\\fes2_feff.inp>"
      ]
     },
     "execution_count": 3,
     "metadata": {},
     "output_type": "execute_result"
    }
   ],
   "source": [
    "# larch does not include a means for running atoms\n",
    "# need to run atoms to get input for feff and then\n",
    "# calculate paths\n",
    "\n",
    "# currently the fastest option is to run Artemis to\n",
    "# obtain the input (.inp) file for feff from a '.cif'\n",
    "# or '.inp' file\n",
    "\n",
    "# get subprocess to run perl script\n",
    "import subprocess\n",
    "\n",
    "# get the input file\n",
    "var = \"FeS2.inp\"\n",
    "\n",
    "retcode = subprocess.call([\"perl\", \"feff_inp.pl\", var])\n",
    "if retcode == 0:\n",
    "    print(\"Passed!\")\n",
    "else:\n",
    "    print(\"Failed!\")\n",
    "    \n",
    "# run feff and get the paths\n",
    "from larch.xafs.feffrunner import feff6l\n",
    "#feff6l(folder='.', feffinp='feff.inp', verbose=True)\n",
    "feff6l(folder = './fes2_feff',feffinp='fes2_feff.inp' )"
   ]
  },
  {
   "cell_type": "code",
   "execution_count": 4,
   "metadata": {},
   "outputs": [
    {
     "name": "stdout",
     "output_type": "stream",
     "text": [
      "Passed!\n"
     ]
    }
   ],
   "source": [
    "import subprocess\n",
    "var = \"FeS2.inp\"\n",
    "retcode = subprocess.call([\"perl\", \"feff_inp.pl\", var])\n",
    "if retcode == 0:\n",
    "    print(\"Passed!\")\n",
    "else:\n",
    "    print(\"Failed!\")"
   ]
  },
  {
   "cell_type": "code",
   "execution_count": 5,
   "metadata": {},
   "outputs": [
    {
     "data": {
      "text/plain": [
       "CompletedProcess(args=['perl', './feff_inp.pl', 'FeS2_cry.inp'], returncode=0)"
      ]
     },
     "execution_count": 5,
     "metadata": {},
     "output_type": "execute_result"
    }
   ],
   "source": [
    "import subprocess\n",
    "var = \"FeS2_cry.inp\"\n",
    "spr = subprocess.run([\"perl\", \"./feff_inp.pl\", var])\n",
    "spr"
   ]
  },
  {
   "cell_type": "code",
   "execution_count": 6,
   "metadata": {
    "scrolled": false
   },
   "outputs": [
    {
     "name": "stdout",
     "output_type": "stream",
     "text": [
      " Volume in drive C has no label.\n",
      " Volume Serial Number is CAE1-D2E5\n",
      "\n",
      " Directory of C:\\harwell\\XAS-Workflow-Demo\\larch_workflow\n",
      "\n",
      "17/02/2021  22:52    <DIR>          .\n",
      "17/02/2021  22:52    <DIR>          ..\n",
      "15/02/2021  17:22    <DIR>          .ipynb_checkpoints\n",
      "17/02/2021  21:55             1,109 feff_inp.pl\n",
      "26/01/2021  18:03               403 FeS2.inp\n",
      "26/01/2021  18:03               403 FeS2_cry.inp\n",
      "17/02/2021  22:52    <DIR>          fes2_cry_feff\n",
      "17/02/2021  22:52    <DIR>          fes2_feff\n",
      "15/02/2021  18:11             5,369 fes2_larch.prj\n",
      "26/01/2021  18:05            17,050 fes2_rt01_mar02.xmu\n",
      "15/02/2021  18:11            97,265 larch_task01.ipynb\n",
      "17/02/2021  22:51            41,776 larch_task02.ipynb\n",
      "               7 File(s)        163,375 bytes\n",
      "               5 Dir(s)  38,996,119,552 bytes free\n",
      "Done.\n"
     ]
    }
   ],
   "source": [
    "import os, string\n",
    "my_cmd = \"dir\"\n",
    "my_cmd_output = os.popen(my_cmd)\n",
    "for line in my_cmd_output:\n",
    "  print(line.rstrip())\n",
    "print(\"Done.\") "
   ]
  },
  {
   "cell_type": "code",
   "execution_count": 7,
   "metadata": {},
   "outputs": [
    {
     "data": {
      "text/plain": [
       "'C:\\\\harwell\\\\XAS-Workflow-Demo\\\\larch_workflow'"
      ]
     },
     "execution_count": 7,
     "metadata": {},
     "output_type": "execute_result"
    }
   ],
   "source": [
    "os.getcwd()"
   ]
  }
 ],
 "metadata": {
  "kernelspec": {
   "display_name": "Python 3",
   "language": "python",
   "name": "python3"
  },
  "language_info": {
   "codemirror_mode": {
    "name": "ipython",
    "version": 3
   },
   "file_extension": ".py",
   "mimetype": "text/x-python",
   "name": "python",
   "nbconvert_exporter": "python",
   "pygments_lexer": "ipython3",
   "version": "3.6.10"
  }
 },
 "nbformat": 4,
 "nbformat_minor": 4
}
