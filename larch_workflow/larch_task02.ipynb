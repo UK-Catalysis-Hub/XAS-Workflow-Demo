{
 "cells": [
  {
   "cell_type": "markdown",
   "metadata": {},
   "source": [
    "# XAS Workflow Task 2\n",
    "\n",
    "This notebook contains the second task of the XAS processing workflow. \n",
    "\n",
    "The break up of the task consist of the following steps \n",
    "\n",
    "|Task                            | Input                                         | Output\n",
    "|-------------                   |-------------                                  |-----  \n",
    "| Curve fitting||\n",
    "| 1. Import data                |File: FeS2_larch.prj                              |\n",
    "| 2. Import Crystal data        |File: FeS2.inp                                 |\n",
    "| 3. Calculate Paths(Atoms+FEFF)||\n",
    "| 4. Set path parameters        | Parameters:                                   |\n",
    "|                                 |    amp  = 1                                   |\n",
    "|                                 |    enot = 0                                   |\n",
    "|                                 |    delr = 0                                   |\n",
    "|                                 |    ss   = 0.003                               |\n",
    "| 5. Select paths                 |                                               |\n",
    "| 6. Run Fit                    |                                               |\n",
    "| 7. Save project               ||\n",
    "| 8. Verify fit results         ||\n",
    "| 8.1 If not OK revise parameners and refit (go to 2.4)||\n",
    "| 8.2 If OK Save project and outputs|                                           |File: FeS2_01.fpj\n",
    "\n",
    "For more details about larch, see https://xraypy.github.io/xraylarch/xafs/\n"
   ]
  },
  {
   "cell_type": "markdown",
   "metadata": {},
   "source": [
    "## Workflow Setup\n",
    "The workflow setuo requires specifying the libraries containing the functions to be used and defining the inputs to use\n",
    "### Libraries\n",
    "The first step requires importing the required libraries to perform the workflow tasks\n",
    "- Manage Athena Files\n",
    "- Run Atoms and FEFF\n",
    "- Fit preparation and execution"
   ]
  },
  {
   "cell_type": "code",
   "execution_count": 1,
   "metadata": {},
   "outputs": [],
   "source": [
    "# Library with the functions that handle athena files\n",
    "import lib.manage_athena as athenamgr  \n",
    "\n",
    "# Library with the functions that execute \n",
    "# Atoms and FEFF to generate scattering paths\n",
    "import lib.atoms_feff as feff_runner     \n",
    "\n",
    "# Set parameters          \n",
    "# library containign functions tho manage fit, at read, write \n",
    "# GDS parameters, and scattering paths. \n",
    "import lib.manage_fit as fit_manager  \n",
    "\n",
    "from larch import Interpreter\n",
    "\n",
    "session = Interpreter()\n",
    "\n",
    "# Additional setup\n",
    "# direct plotting to the results after running the cells\n",
    "%matplotlib inline"
   ]
  },
  {
   "cell_type": "markdown",
   "metadata": {},
   "source": [
    "### Inputs\n",
    "The second step requires defining the input data to be used. in this case the athena and cif files to be used. The variables can be changed to process different datasets."
   ]
  },
  {
   "cell_type": "code",
   "execution_count": 2,
   "metadata": {},
   "outputs": [],
   "source": [
    "# variables that can be changed to process different datasets\n",
    "# define the name of the input file\n",
    "athena_file = \"rh4co40/rh4co40000000.prj\" #'FeS2_larch.prj'\n",
    "\n",
    "# provide the input files as a list so more than one \n",
    "# crystal file can be used in fitting\n",
    "crystal_files = [\"..\\\\cif_files\\\\C12O12Rh4.cif\"]#[\"FeS2.inp\"]# or [\"FeS2.inp\",\"FeS.inp\"]\n",
    "\n",
    "show_graph = True # False to prevent showing graphs\n",
    "\n",
    "# GSD parameters and scattering paths are saved to csv files.\n",
    "# provide the name of the gds file\n",
    "gds_file = 'rh4co40_gds.csv'#'FeS2_gds.csv'\n",
    "spl_file = 'rh4co40_sp.csv'#'FeS2_sp.csv'\n",
    "# variables for fit\n",
    "fit_vars = {}\n",
    "fit_vars['fitspace']='r'\n",
    "fit_vars['kmin']=3 \n",
    "fit_vars['kmax']=14\n",
    "fit_vars['kw']=2 \n",
    "fit_vars['dk']=1\n",
    "fit_vars['window']='hanning'\n",
    "fit_vars['rmin']=1.4\n",
    "fit_vars['rmax']=3.0"
   ]
  },
  {
   "cell_type": "code",
   "execution_count": 3,
   "metadata": {
    "scrolled": false
   },
   "outputs": [],
   "source": [
    "# read the input file \n",
    "athena_prj = athenamgr.read_project(athena_file)\n",
    "\n",
    "athena_groups = athenamgr.get_groups(athena_prj)\n",
    "\n",
    "group_names = []\n",
    "for a_group in athena_groups:\n",
    "    group_names.append(a_group.label)\n",
    "    \n",
    "group_names\n",
    "\n",
    "# recalculate norm, background removal and fourier transform \n",
    "# with defaults\n",
    "data_group = athenamgr.calc_with_defaults(athena_groups[0])"
   ]
  },
  {
   "cell_type": "code",
   "execution_count": 4,
   "metadata": {
    "scrolled": false
   },
   "outputs": [
    {
     "data": {
      "image/png": "[encoded data removed]",
      "text/plain": [
       "<Figure size 432x288 with 1 Axes>"
      ]
     },
     "metadata": {
      "needs_background": "light"
     },
     "output_type": "display_data"
    }
   ],
   "source": [
    "# plot normalised mu on energy\n",
    "# plot mu vs flat normalised mu for selected groups\n",
    "for a_group in athena_groups:\n",
    "    athenamgr.plot_normalised(a_group)\n"
   ]
  },
  {
   "cell_type": "markdown",
   "metadata": {},
   "source": [
    "## Atoms and FEFF \n",
    "\n",
    "Larch does larch does not include a means for running atoms. Atoms is needed to get input for feff and calculate paths. Currently, the fastest option is to run Artemis to obtain the input (.inp) file for feff from a crystal file ('.cif' or '.inp')\n",
    "\n",
    "The code below shows how subprocess can be used to call perl, execute a small perl script that runs Artemis Atoms, and saves the output file ('inp') in a new directory.\n",
    "\n",
    "The file can then be used to run FEFF from Larch to calculate scattering paths."
   ]
  },
  {
   "cell_type": "code",
   "execution_count": 5,
   "metadata": {
    "scrolled": true
   },
   "outputs": [
    {
     "name": "stdout",
     "output_type": "stream",
     "text": [
      " : ======== running Feff module C:\\Users\\scman1\\Anaconda3\\envs\\python36\\lib\\site-packages\\larch\\bin\\win32\\feff6l.exe ========\n",
      " : Feff 6L.02\n",
      " : Rh4 (C O)12\n",
      " : Wei, C.H.\n",
      " : Structural analyses of tetracobalt dodecacarbonyl and tetrarhodium\n",
      " : dodecacarbonyl. crystallographic treatments of a disordered structure and\n",
      " : a twinned composite\n",
      " : Calculating potentials and phases...\n",
      " : free atom potential and density for atom type    0\n",
      " : free atom potential and density for atom type    1\n",
      " : free atom potential and density for atom type    2\n",
      " : free atom potential and density for atom type    3\n",
      " : overlapped potential and density for unique potential    0\n",
      " : overlapped potential and density for unique potential    1\n",
      " : overlapped potential and density for unique potential    2\n",
      " : overlapped potential and density for unique potential    3\n",
      " : muffin tin radii and interstitial parameters\n",
      " : phase shifts for unique potential    0\n",
      " : phase shifts for unique potential    1\n",
      " : phase shifts for unique potential    2\n",
      " : phase shifts for unique potential    3\n",
      " : Preparing plane wave scattering amplitudes...\n",
      " : nncrit in prcrit       9\n",
      " : Searching for paths...\n",
      " : Rmax  5.0000  keep and heap limits   0.0000000   0.0000000\n",
      " : Preparing neighbor table\n",
      " : nfound  nheap  nheapx  nsc    r\n",
      " : Paths found      403   (nheapx, nbx      99   8)\n",
      " : Eliminating path degeneracies...\n",
      " : Plane wave chi amplitude filter   2.50%\n",
      " : Unique paths    115,  total paths     177\n",
      " : Calculating EXAFS parameters...\n",
      " : Curved wave chi amplitude ratio   4.00%\n",
      " : Discard feff.dat for paths with cw ratio <   2.67%\n",
      " : path  cw ratio     deg    nleg  reff\n",
      " : 1   100.000     1.000     2   1.9149\n",
      " : 2    91.295     1.000     2   1.9854\n",
      " : 3    83.637     1.000     2   2.0550\n",
      " : 4    79.929     1.000     2   2.0917\n",
      " : 5    89.367     1.000     2   2.7050\n",
      " : 6    86.941     1.000     2   2.7337\n",
      " : 7    81.971     1.000     2   2.7957\n",
      " : 8    37.159     1.000     2   3.0163\n",
      " : 9   100.000     2.000     3   3.0167\n",
      " : 10    76.145     1.000     4   3.0170\n",
      " : 11    32.597     1.000     2   3.0220\n",
      " : 12    29.179     1.000     2   3.1366\n",
      " : 13    25.921     2.000     3   3.1653\n",
      " : 14    27.950     1.000     2   3.1819\n",
      " : 15    58.926     2.000     3   3.2132\n",
      " : 16    32.939     1.000     4   3.2445\n",
      " : 17    21.901     2.000     3   3.2875\n",
      " : 18     7.728     1.000     4   3.3087\n",
      " : 19     5.677     2.000     3   3.3214\n",
      " : 20     5.763     2.000     3   3.3260\n",
      " : 21     6.231     1.000     4   3.4384\n",
      " : 22     2.425     2.000     3   3.4558 neglected\n",
      " : 23    16.232     1.000     2   3.5372\n",
      " : 24     3.728     2.000     3   3.5425\n",
      " : 25    15.819     1.000     2   3.5671\n",
      " : 26     3.312     2.000     3   3.5939\n",
      " : 27     4.223     2.000     3   3.6181\n",
      " : 28     2.572     2.000     3   3.6489 neglected\n",
      " : 29    14.227     1.000     2   3.6920\n",
      " : 30    11.517     2.000     3   3.8220\n",
      " : 31     4.455     1.000     4   3.8297\n",
      " : 32    12.091     1.000     2   3.8888\n",
      " : 33    15.264     2.000     4   3.9003\n",
      " : 34    14.184     1.000     2   3.9535\n",
      " : 35     3.684     1.000     4   3.9708\n",
      " : 36    10.240     1.000     4   3.9783\n",
      " : 37    32.052     2.000     5   3.9787\n",
      " : 38    25.210     1.000     6   3.9790\n",
      " : 39    11.124     1.000     2   3.9920\n",
      " : 40    13.715     1.000     2   3.9945\n",
      " : 41     8.332     2.000     3   4.0838\n",
      " : 42     3.048     2.000     3   4.0890\n",
      " : 43     3.260     2.000     3   4.1013\n",
      " : 44     3.073     1.000     4   4.1100\n",
      " : 45     7.914     2.000     3   4.1209\n",
      " : 46     3.206     2.000     3   4.1223\n",
      " : 47     2.799     1.000     4   4.1834\n",
      " : 48     7.874     2.000     3   4.1912\n",
      " : 49     1.425     2.000     3   4.2145 neglected\n",
      " : 50     8.949     1.000     2   4.2696\n",
      " : 51    10.748     1.000     2   4.3002\n",
      " : 52    10.714     1.000     2   4.3043\n",
      " : 53    10.621     1.000     2   4.3155\n",
      " : 54     7.182     2.000     3   4.3251\n",
      " : 55     5.235     1.000     4   4.3347\n",
      " : 56     1.577     2.000     3   4.3415 neglected\n",
      " : 57     3.558     1.000     4   4.3452\n",
      " : 58     8.350     1.000     2   4.3603\n",
      " : 59    12.514     2.000     5   4.3660\n",
      " : 60    16.294     2.000     3   4.3787\n",
      " : 61     1.866     2.000     3   4.3964 neglected\n",
      " : 62     7.648     1.000     6   4.3972\n",
      " : 63     6.643     2.000     3   4.4001\n",
      " : 64    13.337     2.000     3   4.4055\n",
      " : 65     2.179     2.000     4   4.4289 neglected\n",
      " : 66     5.926     2.000     3   4.4541\n",
      " : 67     1.929     2.000     4   4.4805 neglected\n",
      " : 68     9.336     1.000     2   4.4832\n",
      " : 69     7.222     1.000     4   4.4878\n",
      " : 70     4.653     2.000     5   4.4886\n",
      " : 71    12.751     2.000     3   4.4927\n",
      " : 72     5.932     1.000     4   4.4955\n",
      " : 73     2.547     2.000     5   4.5045 neglected\n",
      " : 74     2.232     2.000     4   4.5397 neglected\n",
      " : 75     2.262     2.000     5   4.5559 neglected\n",
      " : 76     1.888     2.000     3   4.5571 neglected\n",
      " : 77     1.544     2.000     3   4.5599 neglected\n",
      " : 78     3.284     2.000     3   4.5615\n",
      " : 79     2.902     2.000     3   4.5732\n",
      " : 80     3.436     2.000     3   4.6064\n",
      " : 81     4.653     1.000     4   4.6251\n",
      " : 82     6.854     2.000     3   4.6311\n",
      " : 83     6.727     1.000     2   4.6507\n",
      " : 84     8.204     1.000     2   4.6551\n",
      " : 85     2.780     2.000     3   4.6567\n",
      " : 86     2.354     1.000     4   4.6601 neglected\n",
      " : 87     3.264     2.000     3   4.6645\n",
      " : 88     6.619     1.000     2   4.6730\n",
      " : 89     3.068     2.000     4   4.6823\n",
      " : 90     1.803     2.000     4   4.7108 neglected\n",
      " : 91    18.587     2.000     3   4.7211\n",
      " : 92    13.756     1.000     4   4.7692\n",
      " : 93     2.182     1.000     4   4.7791 neglected\n",
      " : 94     6.951     2.000     3   4.7831\n",
      " : 95     6.102     2.000     3   4.7842\n",
      " : 96     2.095     2.000     4   4.7887 neglected\n",
      " : 97     2.457     2.000     4   4.7891 neglected\n",
      " : 98    10.393     2.000     4   4.7967\n",
      " : 99     2.759     2.000     5   4.8110\n",
      " : 100     0.984     2.000     3   4.8201 neglected\n",
      " : 101     1.949     2.000     4   4.8507 neglected\n",
      " : 102     7.049     1.000     2   4.8622\n",
      " : 103     2.435     2.000     3   4.8868 neglected\n",
      " : 104     6.792     1.000     2   4.9136\n",
      " : 105     5.690     2.000     3   4.9161\n",
      " : 106     2.369     1.000     4   4.9155 neglected\n",
      " : 107    11.074     2.000     3   4.9167\n",
      " : 108    10.137     2.000     4   4.9368\n",
      " : 109     5.170     1.000     6   4.9403\n",
      " : 110    16.546     2.000     7   4.9407\n",
      " : 111    13.280     1.000     8   4.9410\n",
      " : 112     3.562     2.000     3   4.9549\n",
      " : 113     5.689     2.000     4   4.9593\n",
      " : 114     5.096     1.000     4   4.9712\n",
      " : 115     6.492     1.000     2   4.9766\n",
      " : 94 paths kept,  115 examined.\n",
      " : Feff done.  Have a nice day.\n"
     ]
    }
   ],
   "source": [
    "# run feff and get a list of feff dirs\n",
    "feff_dirs = feff_runner.run_feff(crystal_files)"
   ]
  },
  {
   "cell_type": "markdown",
   "metadata": {},
   "source": [
    "## Set Parameters\n",
    "The code for managing the parameters group (GDS in Artemis) is stored in lib/manage_gds.py. \n",
    "\n",
    "The following two cells show how the functions of manage_gds.py are used to read GDS parameters from a file, display the parameters and save them after they have been modified\n",
    "\n",
    "The parameter values are the same used in [Bruce Ravel's example](https://github.com/bruceravel/demeter/tree/master/examples/recipes/FeS2)."
   ]
  },
  {
   "cell_type": "code",
   "execution_count": 6,
   "metadata": {},
   "outputs": [
    {
     "data": {
      "application/vnd.jupyter.widget-view+json": {
       "model_id": "c8493898f8a64a60b08be18774b93af8",
       "version_major": 2,
       "version_minor": 0
      },
      "text/plain": [
       "Sheet(cells=(Cell(column_start=0, row_end=17, row_start=0, squeeze_column=False, squeeze_row=False, value=[['i…"
      ]
     },
     "metadata": {},
     "output_type": "display_data"
    }
   ],
   "source": [
    "# read save parameters from input gds file\n",
    "gds = fit_manager.read_gds(gds_file, session)\n",
    "# show gsd group parameters in a spreadsheet\n",
    "this_sheet = fit_manager.show_gds(gds)\n",
    "# save gsd group parameters in a csv file\n",
    "fit_manager.save_gds(gds, gds_file)"
   ]
  },
  {
   "cell_type": "code",
   "execution_count": 15,
   "metadata": {},
   "outputs": [],
   "source": [
    "#read the gds data and save it to the csv file\n",
    "gds = fit_manager.spreadsheet_to_gds(this_sheet, session)\n",
    "# save gsd group parameters in a csv file\n",
    "fit_manager.save_gds(gds, gds_file)"
   ]
  },
  {
   "cell_type": "markdown",
   "metadata": {},
   "source": [
    "## Select Paths\n",
    "The selection of scattering paths aims at obtaining a list of paths to be used for the fit. For Larch the list must contain specially built *FeffPathGroup* objects. The creation of the path list has been separated in three stages: \n",
    "1. **Show feff paths** and allow selecting the ones to be used\n",
    "2. Show selected paths **Assing parameters** and allow assigning parameters to them\n",
    "3. **Create selected paths list** contating *FeffPathGroup* objects from larch\n",
    "\n",
    "   The goal is to obtain a list of \n",
    "The first activity requires selecting paths from the FEFF directory. These paths are stored by feff in the files.dat\n",
    "\n",
    "Each scattering path is loaded while setting the amplitude, $\\Delta E_0$, $\\Delta R$ and $\\sigma^2$ parameters using the GDS parameters defined previously.\n",
    "\n",
    "The groups are then added to a list of paths to be used for the fit."
   ]
  },
  {
   "cell_type": "markdown",
   "metadata": {},
   "source": [
    "### 1 Show all FEFF paths \n",
    "\n",
    "To select a path change the value of the select column to 1 in the table displayed after running the cell below.\n"
   ]
  },
  {
   "cell_type": "code",
   "execution_count": 8,
   "metadata": {
    "scrolled": false
   },
   "outputs": [
    {
     "name": "stderr",
     "output_type": "stream",
     "text": [
      "[root] INFO : C12O12Rh4_feff path and C12O12Rh4_feff\\files.dat found\n",
      "[root] INFO : Reading from: C12O12Rh4_feff\\files.dat\n",
      "[root] INFO : 1: Rh4 (C O)12                                            Feff 6L.02  potph 4.12\n",
      "[root] INFO : 2: Wei, C.H.\n",
      "[root] INFO : 3: Structural analyses of tetracobalt dodecacarbonyl and tetrarhodium\n",
      "[root] INFO : 4: dodecacarbonyl. crystallographic treatments of a disordered structure and\n",
      "[root] INFO : 5: a twinned composite\n",
      "[root] INFO : 6: Abs   Z=45 Rmt= 1.102 Rnm= 1.365 K shell\n",
      "[root] INFO : 7: Pot 1 Z=45 Rmt= 1.134 Rnm= 1.445\n",
      "[root] INFO : 8: Pot 2 Z= 8 Rmt= 0.429 Rnm= 0.897\n",
      "[root] INFO : 9: Pot 3 Z= 6 Rmt= 0.851 Rnm= 1.116\n",
      "[root] INFO : 10: Gam_ch=7.071E+00 H-L exch\n",
      "[root] INFO : 11: Mu= 1.317E+00 kf=2.915E+00 Vint=-3.106E+01 Rs_int= 1.244\n",
      "[root] INFO : 12: -------------------------------------------------------------------------------\n",
      "[root] INFO : headers:['file', 'sig2', 'amp_rati', 'deg', 'nlegs', 'r_effective']\n"
     ]
    },
    {
     "data": {
      "application/vnd.jupyter.widget-view+json": {
       "model_id": "27b1e469b1244e57812c2785963eb87a",
       "version_major": 2,
       "version_minor": 0
      },
      "text/plain": [
       "Sheet(cells=(Cell(column_end=6, column_start=0, row_end=94, row_start=0, squeeze_column=False, squeeze_row=Fal…"
      ]
     },
     "metadata": {},
     "output_type": "display_data"
    }
   ],
   "source": [
    "path_sheet = fit_manager.show_feff_paths(crystal_files[0])#('FeS2.inp')\n",
    "display(path_sheet)\n"
   ]
  },
  {
   "cell_type": "markdown",
   "metadata": {},
   "source": [
    "### 2 Assing parameters to paths\n",
    "To define the parameters enter values like those presented in the table below into the spreadsheet that appears after running the code in the following cell. The values should correspond to those defined as GDS parameters previously.\n",
    "\n",
    "|file                  |label | s02 |e0   |sigma2 |deltar      |\n",
    "|----------------------|------|-----|-----|-------|------------|\n",
    "|FeS2_feff/feff0001.dat|S1    |amp  |enot |ss     |alpha\\*reff |\n",
    "|FeS2_feff/feff0002.dat|S2    |amp  |enot |ss2    |alpha\\*reff |\n",
    "|FeS2_feff/feff0003.dat|S3    |amp  |enot |ss3    |alpha\\*reff |\n",
    "|FeS2_feff/feff0004.dat|Fe    |amp  |enot |ssfe   |alpha\\*reff |\n",
    "\n",
    "\n",
    "**Note:** Labelling is used for reference only using Artemis-FEFF given names. Larch's FEFF does not label paths."
   ]
  },
  {
   "cell_type": "code",
   "execution_count": 9,
   "metadata": {},
   "outputs": [
    {
     "data": {
      "application/vnd.jupyter.widget-view+json": {
       "model_id": "597724a578ef4e6f8db9a10f49ece18f",
       "version_major": 2,
       "version_minor": 0
      },
      "text/plain": [
       "Sheet(cells=(Cell(column_end=5, column_start=0, row_end=8, row_start=0, squeeze_column=False, squeeze_row=Fals…"
      ]
     },
     "metadata": {},
     "output_type": "display_data"
    }
   ],
   "source": [
    "sp_sheet = fit_manager.show_selected_paths(path_sheet)\n"
   ]
  },
  {
   "cell_type": "code",
   "execution_count": 17,
   "metadata": {},
   "outputs": [],
   "source": [
    "selected_paths = fit_manager.build_selected_paths_list(sp_sheet, session)\n",
    "fit_manager.save_selected_paths_list(sp_sheet, spl_file)\n",
    "#selected_paths = fit_manager.read_selected_paths_list(spl_file, session)"
   ]
  },
  {
   "cell_type": "markdown",
   "metadata": {},
   "source": [
    "## Run Fit\n",
    "\n",
    "XAS fitting is performed in three steps:\n",
    "1. Create a Transform group to holds the set of Fourier transform parameters, fitting ranges, and space in which the data and sum of paths are to be compared (R space)\n",
    "2. Create a Dataset group,consistaining of the three components required for fitting(data, paths, and transform group)\n",
    "3. FEFFIT is run with the list of parameters (gds) for the fit, and the dataset or list of datasets groups.\n"
   ]
  },
  {
   "cell_type": "code",
   "execution_count": 18,
   "metadata": {},
   "outputs": [],
   "source": [
    "# run fit\n",
    "fit_vars = {}\n",
    "fit_vars['fitspace']='r'\n",
    "fit_vars['kmin']=3 \n",
    "fit_vars['kmax']=14\n",
    "fit_vars['kw']=2 \n",
    "fit_vars['dk']=1\n",
    "fit_vars['window']='hanning'\n",
    "fit_vars['rmin']=1.4\n",
    "fit_vars['rmax']=3.0\n",
    "\n",
    "trans, dset, out = fit_manager.run_fit(data_group, gds, selected_paths, fit_vars, session)"
   ]
  },
  {
   "cell_type": "markdown",
   "metadata": {},
   "source": [
    "## Review fit results\n",
    "The results of the fit are stored in the dataset. These can be plotted and printed as follows.\n",
    "\n",
    "- The first plot is the overlaped $\\chi(k)$ and $\\chi(R)$ plots (similar to Demeter's Rmr plot)\n",
    "- The second view presents separate $\\chi(k)$ and $\\chi(R)$ plots "
   ]
  },
  {
   "cell_type": "code",
   "execution_count": 19,
   "metadata": {
    "scrolled": false
   },
   "outputs": [
    {
     "data": {
      "image/png": "[encoded data removed]",
      "text/plain": [
       "<Figure size 432x288 with 1 Axes>"
      ]
     },
     "metadata": {
      "needs_background": "light"
     },
     "output_type": "display_data"
    }
   ],
   "source": [
    "rmr_p = fit_manager.plot_rmr(dset,fit_vars['rmin'],fit_vars['rmax'])\n",
    "rmr_p.show()\n",
    "#print(vars(dset.data.fft_params))\n",
    "#print(vars(dset.data.bkg_params))\n",
    "#print(vars(dset.data.athena_params))\n",
    "#print(vars(dset.model))"
   ]
  },
  {
   "cell_type": "code",
   "execution_count": 20,
   "metadata": {},
   "outputs": [
    {
     "data": {
      "image/png": "[encoded data removed]",
      "text/plain": [
       "<Figure size 1152x288 with 2 Axes>"
      ]
     },
     "metadata": {
      "needs_background": "light"
     },
     "output_type": "display_data"
    }
   ],
   "source": [
    "chikr_p = fit_manager.plot_chikr(dset,fit_vars['rmin'],fit_vars['rmax'],fit_vars['kmin'],fit_vars['kmax'])\n",
    "chikr_p.show()"
   ]
  },
  {
   "cell_type": "code",
   "execution_count": 21,
   "metadata": {
    "scrolled": false
   },
   "outputs": [
    {
     "name": "stdout",
     "output_type": "stream",
     "text": [
      "=================== FEFFIT RESULTS ====================\n",
      "[[Statistics]]\n",
      "   nvarys, npts       =  11, 104\n",
      "   n_independent      =  12.205\n",
      "   chi_square         =  746.096576\n",
      "   reduced chi_square =  619.420195\n",
      "   r-factor           =  0.09835739\n",
      "   Akaike info crit   =  72.1977474\n",
      "   Bayesian info crit =  77.7176067\n",
      " \n",
      "[[Data]]\n",
      "   fit space          = 'r'\n",
      "   r-range            = 1.400, 3.000\n",
      "   k-range            = 3.000, 14.000\n",
      "   k window, dk       = 'hanning', 1.000\n",
      "   paths used in fit  = ['C12O12Rh4_feff/feff0001.dat', 'C12O12Rh4_feff/feff0002.dat', 'C12O12Rh4_feff/feff0003.dat', 'C12O12Rh4_feff/feff0004.dat', 'C12O12Rh4_feff/feff0005.dat', 'C12O12Rh4_feff/feff0006.dat', 'C12O12Rh4_feff/feff0007.dat', 'C12O12Rh4_feff/feff0008.dat']\n",
      "   k-weight           = 2\n",
      "   epsilon_k          = Array(mean=0.00242845, std=5.7099e-04)\n",
      "   epsilon_r          = 0.05022810\n",
      "   n_independent      = 12.205\n",
      " \n",
      "[[Variables]]\n",
      "   amp            =  2.37561199 +/- 10.7183951   (init=  1.00000000)\n",
      "   enot           =  5.17697304 +/- 20.1018384   (init=  0.00000000)\n",
      "   delr           = -0.01919705 +/- 0.03457598   (init=  0.00000000)\n",
      "   ssc1           = -2.4720e-05 +/- 0.01486987   (init=  0.00300000)\n",
      "   ssc2           =  0.28488599 +/- 33617.1312   (init=  0.00300000)\n",
      "   ssc3           =  0.28058637 +/- 30775.2904   (init=  0.00300000)\n",
      "   ssc4           = -0.00200080 +/- 0.01524789   (init=  0.00300000)\n",
      "   ssr1           = -6.8939e-04 +/- 0.01138374   (init=  0.00300000)\n",
      "   ssr2           =  0.01108564 +/- 0.15758260   (init=  0.00300000)\n",
      "   ssr3           =  0.19392895 +/- 3834.52624   (init=  0.00300000)\n",
      "   sso1           =  0.07792607 +/- 22.9273601   (init=  0.00300000)\n",
      " \n",
      "[[Correlations]]    (unreported correlations are <  0.100)\n",
      "   amp, ssr1            =  0.984\n",
      "   amp, ssr2            =  0.973\n",
      "   ssc3, ssr3           = -0.972\n",
      "   ssr3, sso1           =  0.951\n",
      "   ssc2, ssr3           = -0.934\n",
      "   ssr1, ssr2           =  0.926\n",
      "   ssc2, sso1           = -0.922\n",
      "   ssc3, sso1           = -0.881\n",
      "   ssc4, ssr2           =  0.880\n",
      "   amp, ssc4            =  0.870\n",
      "   ssc2, ssc3           =  0.868\n",
      "   ssc4, ssr1           =  0.815\n",
      "   enot, ssr2           = -0.794\n",
      "   ssc1, ssc4           =  0.784\n",
      "   amp, ssc2            = -0.760\n",
      "   amp, enot            = -0.756\n",
      "   ssc2, ssr1           = -0.756\n",
      "   enot, ssc4           = -0.730\n",
      "   ssc2, ssr2           = -0.730\n",
      "   ssc1, ssr2           =  0.717\n",
      "   enot, ssr1           = -0.711\n",
      "   amp, ssc1            =  0.688\n",
      "   ssr1, ssr3           =  0.631\n",
      "   ssc2, ssc4           = -0.630\n",
      "   enot, ssc2           =  0.628\n",
      "   amp, ssr3            =  0.627\n",
      "   ssc1, ssr1           =  0.623\n",
      "   enot, delr           =  0.598\n",
      "   ssc3, ssr1           = -0.587\n",
      "   amp, ssc3            = -0.586\n",
      "   ssr2, ssr3           =  0.585\n",
      "   ssc3, ssr2           = -0.549\n",
      "   ssr1, sso1           =  0.517\n",
      "   amp, sso1            =  0.517\n",
      "   ssc4, ssr3           =  0.498\n",
      "   ssr2, sso1           =  0.492\n",
      "   enot, ssc1           = -0.491\n",
      "   ssc3, ssc4           = -0.472\n",
      "   ssc1, ssc2           = -0.422\n",
      "   enot, sso1           = -0.420\n",
      "   enot, ssr3           = -0.419\n",
      "   ssc4, sso1           =  0.417\n",
      "   enot, ssc3           =  0.391\n",
      "   ssc1, ssc3           = -0.362\n",
      "   ssc1, ssr3           =  0.345\n",
      "   ssc1, sso1           =  0.236\n",
      "   delr, ssc4           = -0.126\n",
      " \n",
      "[[Paths]]\n",
      "   Path c1, Feff.dat file = C12O12Rh4_feff/feff0001.dat\n",
      "     atom      x        y        z       ipot\n",
      "      Rh       0.0000,  0.0000,  0.0000  0 (absorber)\n",
      "       C      -0.7410,  0.2885, -1.7419  3\n",
      "     reff   =  1.91490000\n",
      "     degen  =  1.00000000\n",
      "     n*s02  =  2.37561199 +/- 10.7183951  'amp'\n",
      "     e0     =  5.17697304 +/- 20.1018384  'enot'\n",
      "     r      =  1.89570295 +/- 0.03457598  'reff + delr'\n",
      "     deltar = -0.01919705 +/- 0.03457598  'delr'\n",
      "     sigma2 = -2.4720e-05 +/- 0.01486987  'ssc1'\n",
      "\n",
      "   Path c2, Feff.dat file = C12O12Rh4_feff/feff0002.dat\n",
      "     atom      x        y        z       ipot\n",
      "      Rh       0.0000,  0.0000,  0.0000  0 (absorber)\n",
      "       C       1.4414,  0.4279,  1.2965  3\n",
      "     reff   =  1.98540000\n",
      "     degen  =  1.00000000\n",
      "     n*s02  =  2.37561199 +/- 10.7183951  'amp'\n",
      "     e0     =  5.17697304 +/- 20.1018384  'enot'\n",
      "     r      =  1.96620295 +/- 0.03457598  'reff + delr'\n",
      "     deltar = -0.01919705 +/- 0.03457598  'delr'\n",
      "     sigma2 =  0.28488599 +/- 33617.1311  'ssc2'\n",
      "\n",
      "   Path c3, Feff.dat file = C12O12Rh4_feff/feff0003.dat\n",
      "     atom      x        y        z       ipot\n",
      "      Rh       0.0000,  0.0000,  0.0000  0 (absorber)\n",
      "       C      -1.6586, -0.1094,  1.2084  3\n",
      "     reff   =  2.05500000\n",
      "     degen  =  1.00000000\n",
      "     n*s02  =  2.37561199 +/- 10.7183951  'amp'\n",
      "     e0     =  5.17697304 +/- 20.1018384  'enot'\n",
      "     r      =  2.03580295 +/- 0.03457598  'reff + delr'\n",
      "     deltar = -0.01919705 +/- 0.03457598  'delr'\n",
      "     sigma2 =  0.28058637 +/- 30775.2904  'ssc3'\n",
      "\n",
      "   Path c4, Feff.dat file = C12O12Rh4_feff/feff0004.dat\n",
      "     atom      x        y        z       ipot\n",
      "      Rh       0.0000,  0.0000,  0.0000  0 (absorber)\n",
      "       C       0.6043, -2.0001,  0.0975  3\n",
      "     reff   =  2.09170000\n",
      "     degen  =  1.00000000\n",
      "     n*s02  =  2.37561199 +/- 10.7183951  'amp'\n",
      "     e0     =  5.17697304 +/- 20.1018384  'enot'\n",
      "     r      =  2.07250295 +/- 0.03457598  'reff + delr'\n",
      "     deltar = -0.01919705 +/- 0.03457598  'delr'\n",
      "     sigma2 = -0.00200080 +/- 0.01524789  'ssc4'\n",
      "\n",
      "   Path rh1, Feff.dat file = C12O12Rh4_feff/feff0005.dat\n",
      "     atom      x        y        z       ipot\n",
      "      Rh       0.0000,  0.0000,  0.0000  0 (absorber)\n",
      "      Rh      -0.2476,  2.6937, -0.0035  1\n",
      "     reff   =  2.70500000\n",
      "     degen  =  1.00000000\n",
      "     n*s02  =  2.37561199 +/- 10.7183951  'amp'\n",
      "     e0     =  5.17697304 +/- 20.1018384  'enot'\n",
      "     r      =  2.68580295 +/- 0.03457598  'reff + delr'\n",
      "     deltar = -0.01919705 +/- 0.03457598  'delr'\n",
      "     sigma2 = -6.8939e-04 +/- 0.01138374  'ssr1'\n",
      "\n",
      "   Path rh2, Feff.dat file = C12O12Rh4_feff/feff0006.dat\n",
      "     atom      x        y        z       ipot\n",
      "      Rh       0.0000,  0.0000,  0.0000  0 (absorber)\n",
      "      Rh       2.2453,  1.5590, -0.0359  1\n",
      "     reff   =  2.73370000\n",
      "     degen  =  1.00000000\n",
      "     n*s02  =  2.37561199 +/- 10.7183951  'amp'\n",
      "     e0     =  5.17697304 +/- 20.1018384  'enot'\n",
      "     r      =  2.71450295 +/- 0.03457598  'reff + delr'\n",
      "     deltar = -0.01919705 +/- 0.03457598  'delr'\n",
      "     sigma2 =  0.01108564 +/- 0.15758260  'ssr2'\n",
      "\n",
      "   Path rh3, Feff.dat file = C12O12Rh4_feff/feff0007.dat\n",
      "     atom      x        y        z       ipot\n",
      "      Rh       0.0000,  0.0000,  0.0000  0 (absorber)\n",
      "      Rh       0.6764,  1.5133, -2.2513  1\n",
      "     reff   =  2.79570000\n",
      "     degen  =  1.00000000\n",
      "     n*s02  =  2.37561199 +/- 10.7183951  'amp'\n",
      "     e0     =  5.17697304 +/- 20.1018384  'enot'\n",
      "     r      =  2.77650295 +/- 0.03457598  'reff + delr'\n",
      "     deltar = -0.01919705 +/- 0.03457598  'delr'\n",
      "     sigma2 =  0.19392895 +/- 3834.52623  'ssr3'\n",
      "\n",
      "   Path o1, Feff.dat file = C12O12Rh4_feff/feff0008.dat\n",
      "     atom      x        y        z       ipot\n",
      "      Rh       0.0000,  0.0000,  0.0000  0 (absorber)\n",
      "       O      -2.4384, -0.2031,  1.7638  2\n",
      "     reff   =  3.01630000\n",
      "     degen  =  1.00000000\n",
      "     n*s02  =  2.37561199 +/- 10.7183951  'amp'\n",
      "     e0     =  5.17697304 +/- 20.1018384  'enot'\n",
      "     r      =  2.99710295 +/- 0.03457598  'reff + delr'\n",
      "     deltar = -0.01919705 +/- 0.03457598  'delr'\n",
      "     sigma2 =  0.07792607 +/- 22.9273601  'sso1'\n",
      "\n",
      "=======================================================\n"
     ]
    }
   ],
   "source": [
    "fit_report = fit_manager.get_fit_report(out, session)\n",
    "\n",
    "print(fit_report)\n",
    "\n",
    "#save the fit report to a text file\n",
    "fit_manager.save_fit_report(out, \"FeS2_fit_rep.txt\", session)\n"
   ]
  },
  {
   "cell_type": "code",
   "execution_count": null,
   "metadata": {},
   "outputs": [],
   "source": []
  }
 ],
 "metadata": {
  "kernelspec": {
   "display_name": "Python 3",
   "language": "python",
   "name": "python3"
  },
  "language_info": {
   "codemirror_mode": {
    "name": "ipython",
    "version": 3
   },
   "file_extension": ".py",
   "mimetype": "text/x-python",
   "name": "python",
   "nbconvert_exporter": "python",
   "pygments_lexer": "ipython3",
   "version": "3.6.10"
  }
 },
 "nbformat": 4,
 "nbformat_minor": 4
}
